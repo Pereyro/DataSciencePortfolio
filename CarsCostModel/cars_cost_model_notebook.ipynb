{
 "cells": [
  {
   "cell_type": "markdown",
   "metadata": {},
   "source": [
    "# Спринт 9. Проект: Определение стоимости автомобилей"
   ]
  },
  {
   "cell_type": "markdown",
   "metadata": {},
   "source": [
    "## СОДЕРЖАНИЕ\n",
    "<a id=\"title\"></a>"
   ]
  },
  {
   "cell_type": "markdown",
   "metadata": {},
   "source": [
    "* [План проекта](#plan)\n",
    "    * [Описание проекта](#task_description)\n",
    "    * [Инструкция по выполнению проекта](#task_rules)\n",
    "    * [Описание данных](#data_description)    \n",
    "    * [Как будут проверять мой проект?](#how_will_chech) \n",
    "* [Загрузка библиотек](#import_libs)  \n",
    "* [Загрузка данных](#import_data)\n",
    "    * [Первое впечатление](#first_impression)\n",
    "* [Подготовка данных](#preparation_data)\n",
    "    * [Предобработка данных](#data_preprocessing)\n",
    "    * [Разделим на выборки](#split)\n",
    "* [Обучение моделей](#model_training)\n",
    "    * [LightGBM](#lightgbm)\n",
    "    * [Логистическая регрессия](#linreg)\n",
    "    * [Случайный лес](#randomforest)\n",
    "* [Анализ моделей](#model_analysis)\n",
    "    * [Качество моделей](#model_quality)\n",
    "    * [Время обучения](#training_time)\n",
    "    * [Время предсказания](#prediction_time)\n",
    "    * [Краткие выводы](#short_resume)\n",
    "* [Резюме](#resume)\n",
    "* [Чеклист](#check_list)"
   ]
  },
  {
   "cell_type": "markdown",
   "metadata": {},
   "source": [
    "## ПЛАН ПРОЕКТА\n",
    "<a id=\"plan\"></a>\n",
    "[go to the title](#title)"
   ]
  },
  {
   "cell_type": "markdown",
   "metadata": {},
   "source": [
    "### Описание проекта\n",
    "<a id=\"task_description\"></a>\n",
    "[go to the title](#title)"
   ]
  },
  {
   "cell_type": "markdown",
   "metadata": {},
   "source": [
    "Сервис по продаже автомобилей с пробегом «Не бит, не крашен» разрабатывает приложение, чтобы привлечь новых клиентов. В нём можно будет узнать рыночную стоимость своего автомобиля. \n",
    "\n",
    "Постройте модель, которая умеет её определять. В вашем распоряжении данные о технических характеристиках, комплектации и ценах других автомобилей.\n",
    "\n",
    "Критерии, которые важны заказчику:\n",
    "- качество предсказания;\n",
    "- время обучения модели;\n",
    "- время предсказания модели."
   ]
  },
  {
   "cell_type": "markdown",
   "metadata": {},
   "source": [
    "### Инструкция по выполнению проекта\n",
    "<a id=\"task_rules\"></a>\n",
    "[go to the title](#title)"
   ]
  },
  {
   "cell_type": "markdown",
   "metadata": {},
   "source": [
    "Чтобы усилить исследование, не ограничивайтесь градиентным бустингом. Попробуйте более простые модели — иногда они работают лучше. Эти редкие случаи легко пропустить, если всегда применять только бустинг. \n",
    "Поэкспериментируйте и сравните характеристики моделей: время обучения, время предсказания, точность результата.\n",
    "\n",
    "#### Основные шаги:\n",
    "\n",
    "1. Загрузите данные, путь к файлу:  /datasets/autos.csv.\n",
    "2. Изучите данные. Заполните пропущенные значения и обработайте аномалии в столбцах. Если среди признаков имеются неинформативные, удалите их.\n",
    "3. Подготовьте выборки для обучения моделей.\n",
    "4. Обучите разные модели, одна из которых — LightGBM, как минимум одна — не бустинг. Для каждой модели попробуйте разные гиперпараметры.\n",
    "5. Проанализируйте время обучения, время предсказания и качество моделей.\n",
    "6. Опираясь на критерии заказчика, выберете лучшую модель, проверьте её качество на тестовой выборке.\n",
    "\n",
    "Примечания:\n",
    "\n",
    "- Для оценки качества моделей применяйте метрику RMSE.\n",
    "- Значение метрики RMSE должно быть меньше 2500.\n",
    "- Самостоятельно освойте библиотеку LightGBM и её средствами постройте модели градиентного бустинга.\n",
    "- Время выполнения ячейки кода Jupyter Notebook можно получить специальной командой. Найдите её.\n",
    "- Модель градиентного бустинга может долго обучаться, поэтому измените у неё только два-три параметра.\n",
    "- Если перестанет работать Jupyter Notebook, удалите лишние переменные оператором del."
   ]
  },
  {
   "cell_type": "markdown",
   "metadata": {},
   "source": [
    "### Описание данных\n",
    "<a id=\"data_description\"></a>\n",
    "[go to the title](#title)"
   ]
  },
  {
   "cell_type": "markdown",
   "metadata": {},
   "source": [
    "#### Признаки\n",
    "\n",
    "- DateCrawled — дата скачивания анкеты из базы\n",
    "- VehicleType — тип автомобильного кузова\n",
    "- RegistrationYear — год регистрации автомобиля\n",
    "- Gearbox — тип коробки передач\n",
    "- Power — мощность (л. с.)\n",
    "- Model — модель автомобиля\n",
    "- Kilometer — пробег (км)\n",
    "- RegistrationMonth — месяц регистрации автомобиля\n",
    "- FuelType — тип топлива\n",
    "- Brand — марка автомобиля\n",
    "- Repaired — была машина в ремонте или нет\n",
    "- DateCreated — дата создания анкеты\n",
    "- NumberOfPictures — количество фотографий автомобиля\n",
    "- PostalCode — почтовый индекс владельца анкеты (пользователя)\n",
    "- LastSeen — дата последней активности пользователя\n",
    "\n",
    "#### Целевой признак\n",
    "Price — цена (евро)"
   ]
  },
  {
   "cell_type": "markdown",
   "metadata": {},
   "source": [
    "### Как будут проверять проект?\n",
    "<a id=\"how_will_chech\"></a>\n",
    "[go to the title](#title)"
   ]
  },
  {
   "cell_type": "markdown",
   "metadata": {},
   "source": [
    "На что обращают внимание ревьюеры, проверяя проект:\n",
    "\n",
    "- Все ли шаги инструкции были выполнены?\n",
    "- Как вы готовите данные?\n",
    "- Какие модели и гиперпараметры вы рассматриваете?\n",
    "- Не дублируете ли вы код?\n",
    "- Какие выводы вы делаете?\n",
    "- Следите ли вы за структурой проекта?\n",
    "- Поддерживаете ли вы аккуратность кода?"
   ]
  },
  {
   "cell_type": "markdown",
   "metadata": {},
   "source": [
    "## Загрузка библиотек\n",
    "<a id=\"import_libs\"></a>\n",
    "[go to the title](#title)"
   ]
  },
  {
   "cell_type": "code",
   "execution_count": 1,
   "metadata": {},
   "outputs": [],
   "source": [
    "# импорт необходимых библиотек\n",
    "import numpy as np\n",
    "import scipy as sc\n",
    "import pandas as pd\n",
    "\n",
    "from sklearn.linear_model import LinearRegression\n",
    "from sklearn.ensemble import RandomForestRegressor\n",
    "import lightgbm as lgb\n",
    "\n",
    "from sklearn.preprocessing import OrdinalEncoder\n",
    "from sklearn.model_selection import train_test_split\n",
    "from sklearn.metrics import r2_score\n",
    "from sklearn.metrics import mean_squared_error\n",
    "\n",
    "import matplotlib.pyplot as plt\n",
    "import seaborn as sb"
   ]
  },
  {
   "cell_type": "markdown",
   "metadata": {},
   "source": [
    "## Загрузка данных\n",
    "<a id=\"import_data\"></a>\n",
    "[go to the title](#title)"
   ]
  },
  {
   "cell_type": "code",
   "execution_count": 2,
   "metadata": {},
   "outputs": [],
   "source": [
    "# Загрузим датасет\n",
    "try:\n",
    "    autos = pd.read_csv('/datasets/autos.csv')\n",
    "except:\n",
    "    autos = pd.read_csv('autos.csv')"
   ]
  },
  {
   "cell_type": "markdown",
   "metadata": {},
   "source": [
    "### Первое впечатление\n",
    "<a id=\"first_impression\"></a>\n",
    "[go to the title](#title)"
   ]
  },
  {
   "cell_type": "code",
   "execution_count": 3,
   "metadata": {},
   "outputs": [
    {
     "name": "stdout",
     "output_type": "stream",
     "text": [
      "<class 'pandas.core.frame.DataFrame'>\n",
      "RangeIndex: 354369 entries, 0 to 354368\n",
      "Data columns (total 16 columns):\n",
      " #   Column             Non-Null Count   Dtype \n",
      "---  ------             --------------   ----- \n",
      " 0   DateCrawled        354369 non-null  object\n",
      " 1   Price              354369 non-null  int64 \n",
      " 2   VehicleType        316879 non-null  object\n",
      " 3   RegistrationYear   354369 non-null  int64 \n",
      " 4   Gearbox            334536 non-null  object\n",
      " 5   Power              354369 non-null  int64 \n",
      " 6   Model              334664 non-null  object\n",
      " 7   Kilometer          354369 non-null  int64 \n",
      " 8   RegistrationMonth  354369 non-null  int64 \n",
      " 9   FuelType           321474 non-null  object\n",
      " 10  Brand              354369 non-null  object\n",
      " 11  Repaired           283215 non-null  object\n",
      " 12  DateCreated        354369 non-null  object\n",
      " 13  NumberOfPictures   354369 non-null  int64 \n",
      " 14  PostalCode         354369 non-null  int64 \n",
      " 15  LastSeen           354369 non-null  object\n",
      "dtypes: int64(7), object(9)\n",
      "memory usage: 43.3+ MB\n",
      "None\n"
     ]
    }
   ],
   "source": [
    "# инфо по датасету:\n",
    "print(autos.info())"
   ]
  },
  {
   "cell_type": "code",
   "execution_count": 4,
   "metadata": {},
   "outputs": [
    {
     "data": {
      "text/html": [
       "<div>\n",
       "<style scoped>\n",
       "    .dataframe tbody tr th:only-of-type {\n",
       "        vertical-align: middle;\n",
       "    }\n",
       "\n",
       "    .dataframe tbody tr th {\n",
       "        vertical-align: top;\n",
       "    }\n",
       "\n",
       "    .dataframe thead th {\n",
       "        text-align: right;\n",
       "    }\n",
       "</style>\n",
       "<table border=\"1\" class=\"dataframe\">\n",
       "  <thead>\n",
       "    <tr style=\"text-align: right;\">\n",
       "      <th></th>\n",
       "      <th>DateCrawled</th>\n",
       "      <th>Price</th>\n",
       "      <th>VehicleType</th>\n",
       "      <th>RegistrationYear</th>\n",
       "      <th>Gearbox</th>\n",
       "      <th>Power</th>\n",
       "      <th>Model</th>\n",
       "      <th>Kilometer</th>\n",
       "      <th>RegistrationMonth</th>\n",
       "      <th>FuelType</th>\n",
       "      <th>Brand</th>\n",
       "      <th>Repaired</th>\n",
       "      <th>DateCreated</th>\n",
       "      <th>NumberOfPictures</th>\n",
       "      <th>PostalCode</th>\n",
       "      <th>LastSeen</th>\n",
       "    </tr>\n",
       "  </thead>\n",
       "  <tbody>\n",
       "    <tr>\n",
       "      <th>0</th>\n",
       "      <td>2016-03-24 11:52:17</td>\n",
       "      <td>480</td>\n",
       "      <td>NaN</td>\n",
       "      <td>1993</td>\n",
       "      <td>manual</td>\n",
       "      <td>0</td>\n",
       "      <td>golf</td>\n",
       "      <td>150000</td>\n",
       "      <td>0</td>\n",
       "      <td>petrol</td>\n",
       "      <td>volkswagen</td>\n",
       "      <td>NaN</td>\n",
       "      <td>2016-03-24 00:00:00</td>\n",
       "      <td>0</td>\n",
       "      <td>70435</td>\n",
       "      <td>2016-04-07 03:16:57</td>\n",
       "    </tr>\n",
       "    <tr>\n",
       "      <th>1</th>\n",
       "      <td>2016-03-24 10:58:45</td>\n",
       "      <td>18300</td>\n",
       "      <td>coupe</td>\n",
       "      <td>2011</td>\n",
       "      <td>manual</td>\n",
       "      <td>190</td>\n",
       "      <td>NaN</td>\n",
       "      <td>125000</td>\n",
       "      <td>5</td>\n",
       "      <td>gasoline</td>\n",
       "      <td>audi</td>\n",
       "      <td>yes</td>\n",
       "      <td>2016-03-24 00:00:00</td>\n",
       "      <td>0</td>\n",
       "      <td>66954</td>\n",
       "      <td>2016-04-07 01:46:50</td>\n",
       "    </tr>\n",
       "    <tr>\n",
       "      <th>2</th>\n",
       "      <td>2016-03-14 12:52:21</td>\n",
       "      <td>9800</td>\n",
       "      <td>suv</td>\n",
       "      <td>2004</td>\n",
       "      <td>auto</td>\n",
       "      <td>163</td>\n",
       "      <td>grand</td>\n",
       "      <td>125000</td>\n",
       "      <td>8</td>\n",
       "      <td>gasoline</td>\n",
       "      <td>jeep</td>\n",
       "      <td>NaN</td>\n",
       "      <td>2016-03-14 00:00:00</td>\n",
       "      <td>0</td>\n",
       "      <td>90480</td>\n",
       "      <td>2016-04-05 12:47:46</td>\n",
       "    </tr>\n",
       "    <tr>\n",
       "      <th>3</th>\n",
       "      <td>2016-03-17 16:54:04</td>\n",
       "      <td>1500</td>\n",
       "      <td>small</td>\n",
       "      <td>2001</td>\n",
       "      <td>manual</td>\n",
       "      <td>75</td>\n",
       "      <td>golf</td>\n",
       "      <td>150000</td>\n",
       "      <td>6</td>\n",
       "      <td>petrol</td>\n",
       "      <td>volkswagen</td>\n",
       "      <td>no</td>\n",
       "      <td>2016-03-17 00:00:00</td>\n",
       "      <td>0</td>\n",
       "      <td>91074</td>\n",
       "      <td>2016-03-17 17:40:17</td>\n",
       "    </tr>\n",
       "    <tr>\n",
       "      <th>4</th>\n",
       "      <td>2016-03-31 17:25:20</td>\n",
       "      <td>3600</td>\n",
       "      <td>small</td>\n",
       "      <td>2008</td>\n",
       "      <td>manual</td>\n",
       "      <td>69</td>\n",
       "      <td>fabia</td>\n",
       "      <td>90000</td>\n",
       "      <td>7</td>\n",
       "      <td>gasoline</td>\n",
       "      <td>skoda</td>\n",
       "      <td>no</td>\n",
       "      <td>2016-03-31 00:00:00</td>\n",
       "      <td>0</td>\n",
       "      <td>60437</td>\n",
       "      <td>2016-04-06 10:17:21</td>\n",
       "    </tr>\n",
       "  </tbody>\n",
       "</table>\n",
       "</div>"
      ],
      "text/plain": [
       "           DateCrawled  Price VehicleType  RegistrationYear Gearbox  Power  \\\n",
       "0  2016-03-24 11:52:17    480         NaN              1993  manual      0   \n",
       "1  2016-03-24 10:58:45  18300       coupe              2011  manual    190   \n",
       "2  2016-03-14 12:52:21   9800         suv              2004    auto    163   \n",
       "3  2016-03-17 16:54:04   1500       small              2001  manual     75   \n",
       "4  2016-03-31 17:25:20   3600       small              2008  manual     69   \n",
       "\n",
       "   Model  Kilometer  RegistrationMonth  FuelType       Brand Repaired  \\\n",
       "0   golf     150000                  0    petrol  volkswagen      NaN   \n",
       "1    NaN     125000                  5  gasoline        audi      yes   \n",
       "2  grand     125000                  8  gasoline        jeep      NaN   \n",
       "3   golf     150000                  6    petrol  volkswagen       no   \n",
       "4  fabia      90000                  7  gasoline       skoda       no   \n",
       "\n",
       "           DateCreated  NumberOfPictures  PostalCode             LastSeen  \n",
       "0  2016-03-24 00:00:00                 0       70435  2016-04-07 03:16:57  \n",
       "1  2016-03-24 00:00:00                 0       66954  2016-04-07 01:46:50  \n",
       "2  2016-03-14 00:00:00                 0       90480  2016-04-05 12:47:46  \n",
       "3  2016-03-17 00:00:00                 0       91074  2016-03-17 17:40:17  \n",
       "4  2016-03-31 00:00:00                 0       60437  2016-04-06 10:17:21  "
      ]
     },
     "metadata": {},
     "output_type": "display_data"
    }
   ],
   "source": [
    "# Посмотрим на первые 5 строк\n",
    "display(autos.head())"
   ]
  },
  {
   "cell_type": "code",
   "execution_count": 5,
   "metadata": {},
   "outputs": [
    {
     "data": {
      "text/html": [
       "<div>\n",
       "<style scoped>\n",
       "    .dataframe tbody tr th:only-of-type {\n",
       "        vertical-align: middle;\n",
       "    }\n",
       "\n",
       "    .dataframe tbody tr th {\n",
       "        vertical-align: top;\n",
       "    }\n",
       "\n",
       "    .dataframe thead th {\n",
       "        text-align: right;\n",
       "    }\n",
       "</style>\n",
       "<table border=\"1\" class=\"dataframe\">\n",
       "  <thead>\n",
       "    <tr style=\"text-align: right;\">\n",
       "      <th></th>\n",
       "      <th>Price</th>\n",
       "      <th>RegistrationYear</th>\n",
       "      <th>Power</th>\n",
       "      <th>Kilometer</th>\n",
       "      <th>RegistrationMonth</th>\n",
       "      <th>NumberOfPictures</th>\n",
       "      <th>PostalCode</th>\n",
       "    </tr>\n",
       "  </thead>\n",
       "  <tbody>\n",
       "    <tr>\n",
       "      <th>count</th>\n",
       "      <td>354369.000000</td>\n",
       "      <td>354369.000000</td>\n",
       "      <td>354369.000000</td>\n",
       "      <td>354369.000000</td>\n",
       "      <td>354369.000000</td>\n",
       "      <td>354369.0</td>\n",
       "      <td>354369.000000</td>\n",
       "    </tr>\n",
       "    <tr>\n",
       "      <th>mean</th>\n",
       "      <td>4416.656776</td>\n",
       "      <td>2004.234448</td>\n",
       "      <td>110.094337</td>\n",
       "      <td>128211.172535</td>\n",
       "      <td>5.714645</td>\n",
       "      <td>0.0</td>\n",
       "      <td>50508.689087</td>\n",
       "    </tr>\n",
       "    <tr>\n",
       "      <th>std</th>\n",
       "      <td>4514.158514</td>\n",
       "      <td>90.227958</td>\n",
       "      <td>189.850405</td>\n",
       "      <td>37905.341530</td>\n",
       "      <td>3.726421</td>\n",
       "      <td>0.0</td>\n",
       "      <td>25783.096248</td>\n",
       "    </tr>\n",
       "    <tr>\n",
       "      <th>min</th>\n",
       "      <td>0.000000</td>\n",
       "      <td>1000.000000</td>\n",
       "      <td>0.000000</td>\n",
       "      <td>5000.000000</td>\n",
       "      <td>0.000000</td>\n",
       "      <td>0.0</td>\n",
       "      <td>1067.000000</td>\n",
       "    </tr>\n",
       "    <tr>\n",
       "      <th>25%</th>\n",
       "      <td>1050.000000</td>\n",
       "      <td>1999.000000</td>\n",
       "      <td>69.000000</td>\n",
       "      <td>125000.000000</td>\n",
       "      <td>3.000000</td>\n",
       "      <td>0.0</td>\n",
       "      <td>30165.000000</td>\n",
       "    </tr>\n",
       "    <tr>\n",
       "      <th>50%</th>\n",
       "      <td>2700.000000</td>\n",
       "      <td>2003.000000</td>\n",
       "      <td>105.000000</td>\n",
       "      <td>150000.000000</td>\n",
       "      <td>6.000000</td>\n",
       "      <td>0.0</td>\n",
       "      <td>49413.000000</td>\n",
       "    </tr>\n",
       "    <tr>\n",
       "      <th>75%</th>\n",
       "      <td>6400.000000</td>\n",
       "      <td>2008.000000</td>\n",
       "      <td>143.000000</td>\n",
       "      <td>150000.000000</td>\n",
       "      <td>9.000000</td>\n",
       "      <td>0.0</td>\n",
       "      <td>71083.000000</td>\n",
       "    </tr>\n",
       "    <tr>\n",
       "      <th>max</th>\n",
       "      <td>20000.000000</td>\n",
       "      <td>9999.000000</td>\n",
       "      <td>20000.000000</td>\n",
       "      <td>150000.000000</td>\n",
       "      <td>12.000000</td>\n",
       "      <td>0.0</td>\n",
       "      <td>99998.000000</td>\n",
       "    </tr>\n",
       "  </tbody>\n",
       "</table>\n",
       "</div>"
      ],
      "text/plain": [
       "               Price  RegistrationYear          Power      Kilometer  \\\n",
       "count  354369.000000     354369.000000  354369.000000  354369.000000   \n",
       "mean     4416.656776       2004.234448     110.094337  128211.172535   \n",
       "std      4514.158514         90.227958     189.850405   37905.341530   \n",
       "min         0.000000       1000.000000       0.000000    5000.000000   \n",
       "25%      1050.000000       1999.000000      69.000000  125000.000000   \n",
       "50%      2700.000000       2003.000000     105.000000  150000.000000   \n",
       "75%      6400.000000       2008.000000     143.000000  150000.000000   \n",
       "max     20000.000000       9999.000000   20000.000000  150000.000000   \n",
       "\n",
       "       RegistrationMonth  NumberOfPictures     PostalCode  \n",
       "count      354369.000000          354369.0  354369.000000  \n",
       "mean            5.714645               0.0   50508.689087  \n",
       "std             3.726421               0.0   25783.096248  \n",
       "min             0.000000               0.0    1067.000000  \n",
       "25%             3.000000               0.0   30165.000000  \n",
       "50%             6.000000               0.0   49413.000000  \n",
       "75%             9.000000               0.0   71083.000000  \n",
       "max            12.000000               0.0   99998.000000  "
      ]
     },
     "execution_count": 5,
     "metadata": {},
     "output_type": "execute_result"
    }
   ],
   "source": [
    "# посмотрим на распределения в числовых данных\n",
    "autos.describe()"
   ]
  },
  {
   "cell_type": "code",
   "execution_count": 6,
   "metadata": {},
   "outputs": [
    {
     "name": "stdout",
     "output_type": "stream",
     "text": [
      "4\n"
     ]
    }
   ],
   "source": [
    "# Количество полных дубликатов\n",
    "print(autos.duplicated().sum()) "
   ]
  },
  {
   "cell_type": "markdown",
   "metadata": {},
   "source": [
    "количество дубликатов небольшое, ничего с ним делать не будем"
   ]
  },
  {
   "cell_type": "code",
   "execution_count": 7,
   "metadata": {},
   "outputs": [
    {
     "name": "stdout",
     "output_type": "stream",
     "text": [
      "Уникальные значения для столбца: VehicleType\n",
      "sedan          91457\n",
      "small          79831\n",
      "wagon          65166\n",
      "bus            28775\n",
      "convertible    20203\n",
      "coupe          16163\n",
      "suv            11996\n",
      "other           3288\n",
      "Name: VehicleType, dtype: int64\n",
      "количество пустых значений: 37490\n",
      "\n",
      "Уникальные значения для столбца: Gearbox\n",
      "manual    268251\n",
      "auto       66285\n",
      "Name: Gearbox, dtype: int64\n",
      "количество пустых значений: 19833\n",
      "\n",
      "Уникальные значения для столбца: Model\n",
      "golf                  29232\n",
      "other                 24421\n",
      "3er                   19761\n",
      "polo                  13066\n",
      "corsa                 12570\n",
      "                      ...  \n",
      "serie_2                   8\n",
      "serie_3                   4\n",
      "rangerover                4\n",
      "serie_1                   2\n",
      "range_rover_evoque        2\n",
      "Name: Model, Length: 250, dtype: int64\n",
      "количество пустых значений: 19705\n",
      "\n",
      "Уникальные значения для столбца: FuelType\n",
      "petrol      216352\n",
      "gasoline     98720\n",
      "lpg           5310\n",
      "cng            565\n",
      "hybrid         233\n",
      "other          204\n",
      "electric        90\n",
      "Name: FuelType, dtype: int64\n",
      "количество пустых значений: 32895\n",
      "\n",
      "Уникальные значения для столбца: Brand\n",
      "volkswagen        77013\n",
      "opel              39931\n",
      "bmw               36914\n",
      "mercedes_benz     32046\n",
      "audi              29456\n",
      "ford              25179\n",
      "renault           17927\n",
      "peugeot           10998\n",
      "fiat               9643\n",
      "seat               6907\n",
      "mazda              5615\n",
      "skoda              5500\n",
      "smart              5246\n",
      "citroen            5148\n",
      "nissan             4941\n",
      "toyota             4606\n",
      "hyundai            3587\n",
      "sonstige_autos     3374\n",
      "volvo              3210\n",
      "mini               3202\n",
      "mitsubishi         3022\n",
      "honda              2817\n",
      "kia                2465\n",
      "suzuki             2323\n",
      "alfa_romeo         2314\n",
      "chevrolet          1754\n",
      "chrysler           1439\n",
      "dacia               900\n",
      "daihatsu            806\n",
      "subaru              762\n",
      "porsche             758\n",
      "jeep                677\n",
      "trabant             589\n",
      "land_rover          545\n",
      "daewoo              542\n",
      "saab                526\n",
      "jaguar              505\n",
      "rover               486\n",
      "lancia              471\n",
      "lada                225\n",
      "Name: Brand, dtype: int64\n",
      "количество пустых значений: 0\n",
      "\n",
      "Уникальные значения для столбца: Repaired\n",
      "no     247161\n",
      "yes     36054\n",
      "Name: Repaired, dtype: int64\n",
      "количество пустых значений: 71154\n",
      "\n"
     ]
    }
   ],
   "source": [
    "# уникальные значения для категориальных переменных\n",
    "categ_columns = ['VehicleType', 'Gearbox', 'Model', 'FuelType', 'Brand', 'Repaired']\n",
    "for column in categ_columns:\n",
    "    print(f'Уникальные значения для столбца: {column}')\n",
    "    print(autos[column].value_counts())\n",
    "    print('количество пустых значений:', autos[column].isnull().sum(), end='\\n\\n')"
   ]
  },
  {
   "cell_type": "markdown",
   "metadata": {},
   "source": [
    "кажется скрытых дубликатов нет"
   ]
  },
  {
   "cell_type": "code",
   "execution_count": 8,
   "metadata": {},
   "outputs": [
    {
     "name": "stdout",
     "output_type": "stream",
     "text": [
      "Вес исходного датасета: 43.26 MB\n"
     ]
    }
   ],
   "source": [
    "# Посмотрим сколько весит датасет\n",
    "autos_mem = autos.memory_usage().sum() / 1024**2\n",
    "print('Вес исходного датасета: {:.2f} MB'.format(autos_mem))"
   ]
  },
  {
   "cell_type": "markdown",
   "metadata": {},
   "source": [
    "## Подготовка данных\n",
    "<a id=\"preparation_data\"></a>\n",
    "[go to the title](#title)"
   ]
  },
  {
   "cell_type": "markdown",
   "metadata": {},
   "source": [
    "### Предобработка данных\n",
    "<a id=\"data_preprocessing\"></a>\n",
    "[go to the title](#title)"
   ]
  },
  {
   "cell_type": "code",
   "execution_count": 9,
   "metadata": {},
   "outputs": [],
   "source": [
    "# сделаем копию исходного датасета и удалим лишние столбцы\n",
    "df = autos.copy()\n",
    "# df = df.drop(['DateCrawled', 'LastSeen', 'NumberOfPictures', 'DateCreated', 'PostalCode'], axis=1)"
   ]
  },
  {
   "cell_type": "markdown",
   "metadata": {},
   "source": [
    "#### заполняем Repaired"
   ]
  },
  {
   "cell_type": "code",
   "execution_count": 10,
   "metadata": {},
   "outputs": [],
   "source": [
    "# заполним информацию о ремонте третьим типом: неизвестно\n",
    "df['Repaired'] = df['Repaired'].fillna('unknown')"
   ]
  },
  {
   "cell_type": "markdown",
   "metadata": {},
   "source": [
    "#### заполним Brand, VehicleType и Model"
   ]
  },
  {
   "cell_type": "code",
   "execution_count": 11,
   "metadata": {},
   "outputs": [
    {
     "name": "stdout",
     "output_type": "stream",
     "text": [
      "VehicleType is null & Model is null: 6828\n",
      "VehicleType is null & Model is not null: 30662\n",
      "VehicleType is not null & Model is null: 12877\n"
     ]
    }
   ],
   "source": [
    "# сколько всего пропущеных значений\n",
    "print('VehicleType is null & Model is null:', len(df[(df['VehicleType'].isnull()) & (df['Model'].isnull())]))\n",
    "print('VehicleType is null & Model is not null:', len(df[(df['VehicleType'].isnull()) & ~(df['Model'].isnull())]))\n",
    "print('VehicleType is not null & Model is null:', len(df[~(df['VehicleType'].isnull()) & (df['Model'].isnull())]))"
   ]
  },
  {
   "cell_type": "code",
   "execution_count": 12,
   "metadata": {},
   "outputs": [],
   "source": [
    "# сделаем табличку с самыми частыми сочетаниями Brand, VehicleType и Model\n",
    "d1 = df[['Brand', 'VehicleType', 'Model']].value_counts().reset_index().rename({0: 'count'}, axis=1)\n",
    "# display(d1.head())"
   ]
  },
  {
   "cell_type": "code",
   "execution_count": 13,
   "metadata": {},
   "outputs": [
    {
     "data": {
      "text/html": [
       "<div>\n",
       "<style scoped>\n",
       "    .dataframe tbody tr th:only-of-type {\n",
       "        vertical-align: middle;\n",
       "    }\n",
       "\n",
       "    .dataframe tbody tr th {\n",
       "        vertical-align: top;\n",
       "    }\n",
       "\n",
       "    .dataframe thead th {\n",
       "        text-align: right;\n",
       "    }\n",
       "</style>\n",
       "<table border=\"1\" class=\"dataframe\">\n",
       "  <thead>\n",
       "    <tr style=\"text-align: right;\">\n",
       "      <th></th>\n",
       "      <th>Brand</th>\n",
       "      <th>Model</th>\n",
       "      <th>missing_vehicle_type</th>\n",
       "    </tr>\n",
       "  </thead>\n",
       "  <tbody>\n",
       "    <tr>\n",
       "      <th>0</th>\n",
       "      <td>alfa_romeo</td>\n",
       "      <td>145</td>\n",
       "      <td>small</td>\n",
       "    </tr>\n",
       "    <tr>\n",
       "      <th>1</th>\n",
       "      <td>alfa_romeo</td>\n",
       "      <td>147</td>\n",
       "      <td>sedan</td>\n",
       "    </tr>\n",
       "    <tr>\n",
       "      <th>2</th>\n",
       "      <td>alfa_romeo</td>\n",
       "      <td>156</td>\n",
       "      <td>wagon</td>\n",
       "    </tr>\n",
       "    <tr>\n",
       "      <th>3</th>\n",
       "      <td>alfa_romeo</td>\n",
       "      <td>159</td>\n",
       "      <td>wagon</td>\n",
       "    </tr>\n",
       "    <tr>\n",
       "      <th>4</th>\n",
       "      <td>alfa_romeo</td>\n",
       "      <td>other</td>\n",
       "      <td>sedan</td>\n",
       "    </tr>\n",
       "  </tbody>\n",
       "</table>\n",
       "</div>"
      ],
      "text/plain": [
       "        Brand  Model missing_vehicle_type\n",
       "0  alfa_romeo    145                small\n",
       "1  alfa_romeo    147                sedan\n",
       "2  alfa_romeo    156                wagon\n",
       "3  alfa_romeo    159                wagon\n",
       "4  alfa_romeo  other                sedan"
      ]
     },
     "metadata": {},
     "output_type": "display_data"
    },
    {
     "name": "stdout",
     "output_type": "stream",
     "text": [
      "<class 'pandas.core.frame.DataFrame'>\n",
      "Int64Index: 354369 entries, 0 to 354368\n",
      "Data columns (total 16 columns):\n",
      " #   Column             Non-Null Count   Dtype \n",
      "---  ------             --------------   ----- \n",
      " 0   DateCrawled        354369 non-null  object\n",
      " 1   Price              354369 non-null  int64 \n",
      " 2   VehicleType        347541 non-null  object\n",
      " 3   RegistrationYear   354369 non-null  int64 \n",
      " 4   Gearbox            334536 non-null  object\n",
      " 5   Power              354369 non-null  int64 \n",
      " 6   Model              334664 non-null  object\n",
      " 7   Kilometer          354369 non-null  int64 \n",
      " 8   RegistrationMonth  354369 non-null  int64 \n",
      " 9   FuelType           321474 non-null  object\n",
      " 10  Brand              354369 non-null  object\n",
      " 11  Repaired           354369 non-null  object\n",
      " 12  DateCreated        354369 non-null  object\n",
      " 13  NumberOfPictures   354369 non-null  int64 \n",
      " 14  PostalCode         354369 non-null  int64 \n",
      " 15  LastSeen           354369 non-null  object\n",
      "dtypes: int64(7), object(9)\n",
      "memory usage: 46.0+ MB\n",
      "None\n"
     ]
    }
   ],
   "source": [
    "# \n",
    "dv2 = d1.pivot_table(index=['Brand', 'Model'], aggfunc='max', values='count').reset_index()\n",
    "# display(d2.head())\n",
    "\n",
    "dv3 = dv2.merge(d1, on=['Brand', 'Model', 'count']).drop('count', axis=1).rename({'VehicleType': 'missing_vehicle_type'}, axis=1)\n",
    "# display(d3.head())\n",
    "\n",
    "dv4 = dv3.pivot_table(index=['Brand', 'Model'], aggfunc='first', values='missing_vehicle_type').reset_index()\n",
    "display(dv4.head())\n",
    "\n",
    "df = df.merge(dv4, on=['Brand', 'Model'], how='left')\n",
    "# display(df.head(20))\n",
    "df['VehicleType'] = df['VehicleType'].fillna(df['missing_vehicle_type'])\n",
    "df = df.drop(['missing_vehicle_type'], axis=1)\n",
    "# display(df.head(20))\n",
    "print(df.info())"
   ]
  },
  {
   "cell_type": "code",
   "execution_count": 14,
   "metadata": {},
   "outputs": [
    {
     "name": "stdout",
     "output_type": "stream",
     "text": [
      "VehicleType is null & Model is null: 6828\n",
      "VehicleType is null & Model is not null: 0\n",
      "VehicleType is not null & Model is null: 12877\n"
     ]
    }
   ],
   "source": [
    "# сколько всего пропущеных значений\n",
    "print('VehicleType is null & Model is null:', len(df[(df['VehicleType'].isnull()) & (df['Model'].isnull())]))\n",
    "print('VehicleType is null & Model is not null:', len(df[(df['VehicleType'].isnull()) & ~(df['Model'].isnull())]))\n",
    "print('VehicleType is not null & Model is null:', len(df[~(df['VehicleType'].isnull()) & (df['Model'].isnull())]))"
   ]
  },
  {
   "cell_type": "markdown",
   "metadata": {},
   "source": [
    "уже лучше)"
   ]
  },
  {
   "cell_type": "code",
   "execution_count": 15,
   "metadata": {
    "scrolled": true
   },
   "outputs": [
    {
     "data": {
      "text/html": [
       "<div>\n",
       "<style scoped>\n",
       "    .dataframe tbody tr th:only-of-type {\n",
       "        vertical-align: middle;\n",
       "    }\n",
       "\n",
       "    .dataframe tbody tr th {\n",
       "        vertical-align: top;\n",
       "    }\n",
       "\n",
       "    .dataframe thead th {\n",
       "        text-align: right;\n",
       "    }\n",
       "</style>\n",
       "<table border=\"1\" class=\"dataframe\">\n",
       "  <thead>\n",
       "    <tr style=\"text-align: right;\">\n",
       "      <th></th>\n",
       "      <th>Brand</th>\n",
       "      <th>VehicleType</th>\n",
       "      <th>missing_model</th>\n",
       "    </tr>\n",
       "  </thead>\n",
       "  <tbody>\n",
       "    <tr>\n",
       "      <th>0</th>\n",
       "      <td>alfa_romeo</td>\n",
       "      <td>convertible</td>\n",
       "      <td>spider</td>\n",
       "    </tr>\n",
       "    <tr>\n",
       "      <th>1</th>\n",
       "      <td>alfa_romeo</td>\n",
       "      <td>coupe</td>\n",
       "      <td>other</td>\n",
       "    </tr>\n",
       "    <tr>\n",
       "      <th>2</th>\n",
       "      <td>alfa_romeo</td>\n",
       "      <td>other</td>\n",
       "      <td>147</td>\n",
       "    </tr>\n",
       "    <tr>\n",
       "      <th>3</th>\n",
       "      <td>alfa_romeo</td>\n",
       "      <td>sedan</td>\n",
       "      <td>147</td>\n",
       "    </tr>\n",
       "    <tr>\n",
       "      <th>4</th>\n",
       "      <td>alfa_romeo</td>\n",
       "      <td>small</td>\n",
       "      <td>other</td>\n",
       "    </tr>\n",
       "  </tbody>\n",
       "</table>\n",
       "</div>"
      ],
      "text/plain": [
       "        Brand  VehicleType missing_model\n",
       "0  alfa_romeo  convertible        spider\n",
       "1  alfa_romeo        coupe         other\n",
       "2  alfa_romeo        other           147\n",
       "3  alfa_romeo        sedan           147\n",
       "4  alfa_romeo        small         other"
      ]
     },
     "metadata": {},
     "output_type": "display_data"
    },
    {
     "name": "stdout",
     "output_type": "stream",
     "text": [
      "<class 'pandas.core.frame.DataFrame'>\n",
      "Int64Index: 354369 entries, 0 to 354368\n",
      "Data columns (total 16 columns):\n",
      " #   Column             Non-Null Count   Dtype \n",
      "---  ------             --------------   ----- \n",
      " 0   DateCrawled        354369 non-null  object\n",
      " 1   Price              354369 non-null  int64 \n",
      " 2   VehicleType        347541 non-null  object\n",
      " 3   RegistrationYear   354369 non-null  int64 \n",
      " 4   Gearbox            334536 non-null  object\n",
      " 5   Power              354369 non-null  int64 \n",
      " 6   Model              345206 non-null  object\n",
      " 7   Kilometer          354369 non-null  int64 \n",
      " 8   RegistrationMonth  354369 non-null  int64 \n",
      " 9   FuelType           321474 non-null  object\n",
      " 10  Brand              354369 non-null  object\n",
      " 11  Repaired           354369 non-null  object\n",
      " 12  DateCreated        354369 non-null  object\n",
      " 13  NumberOfPictures   354369 non-null  int64 \n",
      " 14  PostalCode         354369 non-null  int64 \n",
      " 15  LastSeen           354369 non-null  object\n",
      "dtypes: int64(7), object(9)\n",
      "memory usage: 46.0+ MB\n",
      "None\n"
     ]
    }
   ],
   "source": [
    "# \n",
    "dm2 = d1.pivot_table(index=['Brand', 'VehicleType'], aggfunc='max', values='count').reset_index()\n",
    "# display(d2.head())\n",
    "\n",
    "dm3 = dm2.merge(d1, on=['Brand', 'VehicleType', 'count']).drop('count', axis=1).rename({'Model': 'missing_model'}, axis=1)\n",
    "# display(d3.head())\n",
    "\n",
    "dm4 = dm3.pivot_table(index=['Brand', 'VehicleType'], aggfunc='first', values='missing_model').reset_index()\n",
    "display(dm4.head())\n",
    "\n",
    "# соединим \n",
    "\n",
    "df = df.merge(dm4, on=['Brand', 'VehicleType'], how='left')\n",
    "# display(df[~(df['VehicleType'].isnull()) & (df['Model'].isnull())].head(20))\n",
    "df['Model'] = df['Model'].fillna(df['missing_model'])\n",
    "df = df.drop(['missing_model'], axis=1)\n",
    "# display(df[~(df['VehicleType'].isnull()) & (df['Model'].isnull())].head(20))\n",
    "print(df.info())"
   ]
  },
  {
   "cell_type": "code",
   "execution_count": 16,
   "metadata": {},
   "outputs": [
    {
     "name": "stdout",
     "output_type": "stream",
     "text": [
      "VehicleType is null & Model is null: 6828\n",
      "VehicleType is null & Model is not null: 0\n",
      "VehicleType is not null & Model is null: 2335\n"
     ]
    }
   ],
   "source": [
    "# сколько всего пропущеных значений. Проверим еще раз\n",
    "print('VehicleType is null & Model is null:', len(df[(df['VehicleType'].isnull()) & (df['Model'].isnull())]))\n",
    "print('VehicleType is null & Model is not null:', len(df[(df['VehicleType'].isnull()) & ~(df['Model'].isnull())]))\n",
    "print('VehicleType is not null & Model is null:', len(df[~(df['VehicleType'].isnull()) & (df['Model'].isnull())]))"
   ]
  },
  {
   "cell_type": "markdown",
   "metadata": {},
   "source": [
    "#### Заполним FuelType"
   ]
  },
  {
   "cell_type": "code",
   "execution_count": 17,
   "metadata": {},
   "outputs": [],
   "source": [
    "df['FuelType'] = df['FuelType'].replace({'gasoline': 'petrol', 'cng': 'lpg'})"
   ]
  },
  {
   "cell_type": "code",
   "execution_count": 18,
   "metadata": {},
   "outputs": [
    {
     "name": "stdout",
     "output_type": "stream",
     "text": [
      "petrol      315072\n",
      "lpg           5875\n",
      "hybrid         233\n",
      "other          204\n",
      "electric        90\n",
      "Name: FuelType, dtype: int64\n"
     ]
    }
   ],
   "source": [
    "print(df['FuelType'].value_counts())"
   ]
  },
  {
   "cell_type": "code",
   "execution_count": 19,
   "metadata": {},
   "outputs": [
    {
     "data": {
      "text/html": [
       "<div>\n",
       "<style scoped>\n",
       "    .dataframe tbody tr th:only-of-type {\n",
       "        vertical-align: middle;\n",
       "    }\n",
       "\n",
       "    .dataframe tbody tr th {\n",
       "        vertical-align: top;\n",
       "    }\n",
       "\n",
       "    .dataframe thead th {\n",
       "        text-align: right;\n",
       "    }\n",
       "</style>\n",
       "<table border=\"1\" class=\"dataframe\">\n",
       "  <thead>\n",
       "    <tr style=\"text-align: right;\">\n",
       "      <th></th>\n",
       "      <th>Brand</th>\n",
       "      <th>VehicleType</th>\n",
       "      <th>Model</th>\n",
       "      <th>missing_fuel</th>\n",
       "    </tr>\n",
       "  </thead>\n",
       "  <tbody>\n",
       "    <tr>\n",
       "      <th>0</th>\n",
       "      <td>alfa_romeo</td>\n",
       "      <td>convertible</td>\n",
       "      <td>other</td>\n",
       "      <td>petrol</td>\n",
       "    </tr>\n",
       "    <tr>\n",
       "      <th>1</th>\n",
       "      <td>alfa_romeo</td>\n",
       "      <td>convertible</td>\n",
       "      <td>spider</td>\n",
       "      <td>petrol</td>\n",
       "    </tr>\n",
       "    <tr>\n",
       "      <th>2</th>\n",
       "      <td>alfa_romeo</td>\n",
       "      <td>coupe</td>\n",
       "      <td>145</td>\n",
       "      <td>petrol</td>\n",
       "    </tr>\n",
       "    <tr>\n",
       "      <th>3</th>\n",
       "      <td>alfa_romeo</td>\n",
       "      <td>coupe</td>\n",
       "      <td>147</td>\n",
       "      <td>petrol</td>\n",
       "    </tr>\n",
       "    <tr>\n",
       "      <th>4</th>\n",
       "      <td>alfa_romeo</td>\n",
       "      <td>coupe</td>\n",
       "      <td>156</td>\n",
       "      <td>petrol</td>\n",
       "    </tr>\n",
       "  </tbody>\n",
       "</table>\n",
       "</div>"
      ],
      "text/plain": [
       "        Brand  VehicleType   Model missing_fuel\n",
       "0  alfa_romeo  convertible   other       petrol\n",
       "1  alfa_romeo  convertible  spider       petrol\n",
       "2  alfa_romeo        coupe     145       petrol\n",
       "3  alfa_romeo        coupe     147       petrol\n",
       "4  alfa_romeo        coupe     156       petrol"
      ]
     },
     "metadata": {},
     "output_type": "display_data"
    }
   ],
   "source": [
    "d1 = df[['Brand', 'VehicleType', 'Model', 'FuelType']].value_counts().reset_index().rename({0: 'count'}, axis=1)\n",
    "d_fu2 = d1.pivot_table(index=['Brand', 'VehicleType', 'Model'], aggfunc='max', values='count').reset_index()\n",
    "d_fu3 = d_fu2.merge(d1, on=['Brand', 'VehicleType', 'Model', 'count']).drop('count', axis=1).rename({'FuelType': 'missing_fuel'}, axis=1)\n",
    "d_fu4 = d_fu3.pivot_table(index=['Brand', 'VehicleType', 'Model'], aggfunc='first', values='missing_fuel').reset_index()\n",
    "display(d_fu4.head())\n",
    "\n",
    "df = df.merge(d_fu4, on=['Brand', 'VehicleType', 'Model'], how='left')\n",
    "# display(df[~(df['VehicleType'].isnull()) & (df['Model'].isnull())].head(20))\n",
    "df['FuelType'] = df['FuelType'].fillna(df['missing_fuel'])\n",
    "df = df.drop(['missing_fuel'], axis=1)"
   ]
  },
  {
   "cell_type": "markdown",
   "metadata": {},
   "source": [
    "#### Заполним Gearbox"
   ]
  },
  {
   "cell_type": "code",
   "execution_count": 20,
   "metadata": {
    "scrolled": true
   },
   "outputs": [
    {
     "data": {
      "text/html": [
       "<div>\n",
       "<style scoped>\n",
       "    .dataframe tbody tr th:only-of-type {\n",
       "        vertical-align: middle;\n",
       "    }\n",
       "\n",
       "    .dataframe tbody tr th {\n",
       "        vertical-align: top;\n",
       "    }\n",
       "\n",
       "    .dataframe thead th {\n",
       "        text-align: right;\n",
       "    }\n",
       "</style>\n",
       "<table border=\"1\" class=\"dataframe\">\n",
       "  <thead>\n",
       "    <tr style=\"text-align: right;\">\n",
       "      <th></th>\n",
       "      <th>Brand</th>\n",
       "      <th>VehicleType</th>\n",
       "      <th>Model</th>\n",
       "      <th>missing_gearbox</th>\n",
       "    </tr>\n",
       "  </thead>\n",
       "  <tbody>\n",
       "    <tr>\n",
       "      <th>0</th>\n",
       "      <td>alfa_romeo</td>\n",
       "      <td>convertible</td>\n",
       "      <td>other</td>\n",
       "      <td>manual</td>\n",
       "    </tr>\n",
       "    <tr>\n",
       "      <th>1</th>\n",
       "      <td>alfa_romeo</td>\n",
       "      <td>convertible</td>\n",
       "      <td>spider</td>\n",
       "      <td>manual</td>\n",
       "    </tr>\n",
       "    <tr>\n",
       "      <th>2</th>\n",
       "      <td>alfa_romeo</td>\n",
       "      <td>coupe</td>\n",
       "      <td>145</td>\n",
       "      <td>manual</td>\n",
       "    </tr>\n",
       "    <tr>\n",
       "      <th>3</th>\n",
       "      <td>alfa_romeo</td>\n",
       "      <td>coupe</td>\n",
       "      <td>147</td>\n",
       "      <td>manual</td>\n",
       "    </tr>\n",
       "    <tr>\n",
       "      <th>4</th>\n",
       "      <td>alfa_romeo</td>\n",
       "      <td>coupe</td>\n",
       "      <td>156</td>\n",
       "      <td>manual</td>\n",
       "    </tr>\n",
       "  </tbody>\n",
       "</table>\n",
       "</div>"
      ],
      "text/plain": [
       "        Brand  VehicleType   Model missing_gearbox\n",
       "0  alfa_romeo  convertible   other          manual\n",
       "1  alfa_romeo  convertible  spider          manual\n",
       "2  alfa_romeo        coupe     145          manual\n",
       "3  alfa_romeo        coupe     147          manual\n",
       "4  alfa_romeo        coupe     156          manual"
      ]
     },
     "metadata": {},
     "output_type": "display_data"
    }
   ],
   "source": [
    "d1 = df[['Brand', 'VehicleType', 'Model', 'Gearbox']].value_counts().reset_index().rename({0: 'count'}, axis=1)\n",
    "d_fu2 = d1.pivot_table(index=['Brand', 'VehicleType', 'Model'], aggfunc='max', values='count').reset_index()\n",
    "d_fu3 = d_fu2.merge(d1, on=['Brand', 'VehicleType', 'Model', 'count']).drop('count', axis=1).rename({'Gearbox': 'missing_gearbox'}, axis=1)\n",
    "d_fu4 = d_fu3.pivot_table(index=['Brand', 'VehicleType', 'Model'], aggfunc='first', values='missing_gearbox').reset_index()\n",
    "display(d_fu4.head())\n",
    "\n",
    "df = df.merge(d_fu4, on=['Brand', 'VehicleType', 'Model'], how='left')\n",
    "# display(df[~(df['VehicleType'].isnull()) & (df['Model'].isnull())].head(20))\n",
    "df['Gearbox'] = df['Gearbox'].fillna(df['missing_gearbox'])\n",
    "df = df.drop(['missing_gearbox'], axis=1)"
   ]
  },
  {
   "cell_type": "markdown",
   "metadata": {},
   "source": [
    "#### Удалим лишние датасеты"
   ]
  },
  {
   "cell_type": "code",
   "execution_count": 21,
   "metadata": {},
   "outputs": [],
   "source": [
    "del d1\n",
    "del dv2\n",
    "del dv3\n",
    "del dv4\n",
    "del dm2\n",
    "del dm3\n",
    "del dm4\n",
    "del d_fu2\n",
    "del d_fu3\n",
    "del d_fu4"
   ]
  },
  {
   "cell_type": "markdown",
   "metadata": {},
   "source": [
    "#### Посмотрим на распределение некоторых параметров"
   ]
  },
  {
   "cell_type": "code",
   "execution_count": 22,
   "metadata": {
    "scrolled": true
   },
   "outputs": [
    {
     "data": {
      "text/plain": [
       "<AxesSubplot:xlabel='RegistrationYear', ylabel='Density'>"
      ]
     },
     "execution_count": 22,
     "metadata": {},
     "output_type": "execute_result"
    },
    {
     "data": {
      "image/png": "[encoded data removed]",
      "text/plain": [
       "<Figure size 864x432 with 1 Axes>"
      ]
     },
     "metadata": {
      "needs_background": "light"
     },
     "output_type": "display_data"
    }
   ],
   "source": [
    "# Годы регистрации авто:\n",
    "f, ax = plt.subplots(figsize=(12, 6))\n",
    "sb.kdeplot(df['RegistrationYear']\n",
    "           , gridsize=500\n",
    "#            , legend=True\n",
    "           , bw_adjust=1\n",
    "           , common_grid=True\n",
    "           , fill=True\n",
    "           , alpha=0.5\n",
    "           , label='train')"
   ]
  },
  {
   "cell_type": "code",
   "execution_count": 23,
   "metadata": {},
   "outputs": [],
   "source": [
    "# Заменим тип со строкового на дату и построим распределение для даты выгрузки анкет:\n",
    "df['DateCrawled'] = df['DateCrawled'].astype('datetime64')"
   ]
  },
  {
   "cell_type": "code",
   "execution_count": 24,
   "metadata": {
    "scrolled": true
   },
   "outputs": [
    {
     "data": {
      "text/plain": [
       "<AxesSubplot:xlabel='DateCrawled', ylabel='Density'>"
      ]
     },
     "execution_count": 24,
     "metadata": {},
     "output_type": "execute_result"
    },
    {
     "data": {
      "image/png": "[encoded data removed]",
      "text/plain": [
       "<Figure size 864x432 with 1 Axes>"
      ]
     },
     "metadata": {
      "needs_background": "light"
     },
     "output_type": "display_data"
    }
   ],
   "source": [
    "f, ax = plt.subplots(figsize=(12, 6))\n",
    "sb.kdeplot(df['DateCrawled']\n",
    "           , gridsize=500\n",
    "#            , legend=True\n",
    "           , bw_adjust=1\n",
    "           , common_grid=True\n",
    "           , fill=True\n",
    "           , alpha=0.5\n",
    "           , label='train')"
   ]
  },
  {
   "cell_type": "code",
   "execution_count": 25,
   "metadata": {},
   "outputs": [
    {
     "name": "stdout",
     "output_type": "stream",
     "text": [
      "4089\n",
      "1338\n"
     ]
    }
   ],
   "source": [
    "print(len(df[(df['RegistrationYear'] > 2017)]))\n",
    "print(len(df[(df['RegistrationYear'] < 1970)]))"
   ]
  },
  {
   "cell_type": "code",
   "execution_count": 26,
   "metadata": {},
   "outputs": [],
   "source": [
    "df = df[(df['RegistrationYear'] < 2017)]"
   ]
  },
  {
   "cell_type": "code",
   "execution_count": 27,
   "metadata": {
    "scrolled": true
   },
   "outputs": [
    {
     "data": {
      "text/plain": [
       "<AxesSubplot:xlabel='RegistrationYear', ylabel='Density'>"
      ]
     },
     "execution_count": 27,
     "metadata": {},
     "output_type": "execute_result"
    },
    {
     "data": {
      "image/png": "[encoded data removed]",
      "text/plain": [
       "<Figure size 864x432 with 1 Axes>"
      ]
     },
     "metadata": {
      "needs_background": "light"
     },
     "output_type": "display_data"
    }
   ],
   "source": [
    "f, ax = plt.subplots(figsize=(12, 6))\n",
    "sb.kdeplot(df['RegistrationYear']\n",
    "           , gridsize=500\n",
    "#            , legend=True\n",
    "           , bw_adjust=1\n",
    "           , common_grid=True\n",
    "           , fill=True\n",
    "           , alpha=0.5\n",
    "           , label='train')"
   ]
  },
  {
   "cell_type": "code",
   "execution_count": 28,
   "metadata": {},
   "outputs": [],
   "source": [
    "df = df[(df['RegistrationYear'] > 1970)]"
   ]
  },
  {
   "cell_type": "code",
   "execution_count": 29,
   "metadata": {
    "scrolled": true
   },
   "outputs": [
    {
     "data": {
      "text/plain": [
       "<AxesSubplot:xlabel='RegistrationYear', ylabel='Density'>"
      ]
     },
     "execution_count": 29,
     "metadata": {},
     "output_type": "execute_result"
    },
    {
     "data": {
      "image/png": "[encoded data removed]",
      "text/plain": [
       "<Figure size 864x432 with 1 Axes>"
      ]
     },
     "metadata": {
      "needs_background": "light"
     },
     "output_type": "display_data"
    }
   ],
   "source": [
    "f, ax = plt.subplots(figsize=(12, 6))\n",
    "sb.kdeplot(df['RegistrationYear']\n",
    "           , gridsize=500\n",
    "#            , legend=True\n",
    "           , bw_adjust=1\n",
    "           , common_grid=True\n",
    "           , fill=True\n",
    "           , alpha=0.5\n",
    "           , label='train')"
   ]
  },
  {
   "cell_type": "code",
   "execution_count": 30,
   "metadata": {
    "scrolled": true
   },
   "outputs": [
    {
     "data": {
      "text/plain": [
       "<AxesSubplot:xlabel='Power', ylabel='Density'>"
      ]
     },
     "execution_count": 30,
     "metadata": {},
     "output_type": "execute_result"
    },
    {
     "data": {
      "image/png": "[encoded data removed]",
      "text/plain": [
       "<Figure size 864x432 with 1 Axes>"
      ]
     },
     "metadata": {
      "needs_background": "light"
     },
     "output_type": "display_data"
    }
   ],
   "source": [
    "f, ax = plt.subplots(figsize=(12, 6))\n",
    "sb.kdeplot(df['Power']\n",
    "           , gridsize=500\n",
    "#            , legend=True\n",
    "           , bw_adjust=1\n",
    "           , common_grid=True\n",
    "           , fill=True\n",
    "           , alpha=0.5\n",
    "           , label='train')"
   ]
  },
  {
   "cell_type": "code",
   "execution_count": 31,
   "metadata": {
    "scrolled": true
   },
   "outputs": [
    {
     "data": {
      "text/plain": [
       "<AxesSubplot:xlabel='Power', ylabel='Density'>"
      ]
     },
     "execution_count": 31,
     "metadata": {},
     "output_type": "execute_result"
    },
    {
     "data": {
      "image/png": "[encoded data removed]",
      "text/plain": [
       "<Figure size 864x432 with 1 Axes>"
      ]
     },
     "metadata": {
      "needs_background": "light"
     },
     "output_type": "display_data"
    }
   ],
   "source": [
    "df = df[(df['Power'] < 500)]\n",
    "f, ax = plt.subplots(figsize=(12, 6))\n",
    "sb.kdeplot(df['Power']\n",
    "           , gridsize=500\n",
    "#            , legend=True\n",
    "           , bw_adjust=1\n",
    "           , common_grid=True\n",
    "           , fill=True\n",
    "           , alpha=0.5\n",
    "           , label='train')"
   ]
  },
  {
   "cell_type": "code",
   "execution_count": 32,
   "metadata": {
    "scrolled": true
   },
   "outputs": [
    {
     "data": {
      "text/plain": [
       "<AxesSubplot:xlabel='Power', ylabel='Density'>"
      ]
     },
     "execution_count": 32,
     "metadata": {},
     "output_type": "execute_result"
    },
    {
     "data": {
      "image/png": "[encoded data removed]",
      "text/plain": [
       "<Figure size 864x432 with 1 Axes>"
      ]
     },
     "metadata": {
      "needs_background": "light"
     },
     "output_type": "display_data"
    }
   ],
   "source": [
    "df = df[(df['Power'] < 350)]\n",
    "df = df[(df['Power'] > 20)]\n",
    "f, ax = plt.subplots(figsize=(12, 6))\n",
    "sb.kdeplot(df['Power']\n",
    "           , gridsize=500\n",
    "#            , legend=True\n",
    "           , bw_adjust=1\n",
    "           , common_grid=True\n",
    "           , fill=True\n",
    "           , alpha=0.5\n",
    "           , label='train')"
   ]
  },
  {
   "cell_type": "code",
   "execution_count": 33,
   "metadata": {
    "scrolled": true
   },
   "outputs": [
    {
     "data": {
      "text/plain": [
       "<AxesSubplot:xlabel='Price', ylabel='Density'>"
      ]
     },
     "execution_count": 33,
     "metadata": {},
     "output_type": "execute_result"
    },
    {
     "data": {
      "image/png": "[encoded data removed]",
      "text/plain": [
       "<Figure size 864x432 with 1 Axes>"
      ]
     },
     "metadata": {
      "needs_background": "light"
     },
     "output_type": "display_data"
    }
   ],
   "source": [
    "f, ax = plt.subplots(figsize=(12, 6))\n",
    "sb.kdeplot(df['Price']\n",
    "           , gridsize=500\n",
    "#            , legend=True\n",
    "           , bw_adjust=1\n",
    "           , common_grid=True\n",
    "           , fill=True\n",
    "           , alpha=0.5\n",
    "           , label='train')"
   ]
  },
  {
   "cell_type": "code",
   "execution_count": 34,
   "metadata": {},
   "outputs": [],
   "source": [
    "df['Price'] = df['Price'].abs()"
   ]
  },
  {
   "cell_type": "code",
   "execution_count": 35,
   "metadata": {},
   "outputs": [
    {
     "data": {
      "text/html": [
       "<div>\n",
       "<style scoped>\n",
       "    .dataframe tbody tr th:only-of-type {\n",
       "        vertical-align: middle;\n",
       "    }\n",
       "\n",
       "    .dataframe tbody tr th {\n",
       "        vertical-align: top;\n",
       "    }\n",
       "\n",
       "    .dataframe thead th {\n",
       "        text-align: right;\n",
       "    }\n",
       "</style>\n",
       "<table border=\"1\" class=\"dataframe\">\n",
       "  <thead>\n",
       "    <tr style=\"text-align: right;\">\n",
       "      <th></th>\n",
       "      <th>DateCrawled</th>\n",
       "      <th>Price</th>\n",
       "      <th>VehicleType</th>\n",
       "      <th>RegistrationYear</th>\n",
       "      <th>Gearbox</th>\n",
       "      <th>Power</th>\n",
       "      <th>Model</th>\n",
       "      <th>Kilometer</th>\n",
       "      <th>RegistrationMonth</th>\n",
       "      <th>FuelType</th>\n",
       "      <th>Brand</th>\n",
       "      <th>Repaired</th>\n",
       "      <th>DateCreated</th>\n",
       "      <th>NumberOfPictures</th>\n",
       "      <th>PostalCode</th>\n",
       "      <th>LastSeen</th>\n",
       "    </tr>\n",
       "  </thead>\n",
       "  <tbody>\n",
       "  </tbody>\n",
       "</table>\n",
       "</div>"
      ],
      "text/plain": [
       "Empty DataFrame\n",
       "Columns: [DateCrawled, Price, VehicleType, RegistrationYear, Gearbox, Power, Model, Kilometer, RegistrationMonth, FuelType, Brand, Repaired, DateCreated, NumberOfPictures, PostalCode, LastSeen]\n",
       "Index: []"
      ]
     },
     "execution_count": 35,
     "metadata": {},
     "output_type": "execute_result"
    }
   ],
   "source": [
    "df[df['Price'] < 0]"
   ]
  },
  {
   "cell_type": "code",
   "execution_count": 36,
   "metadata": {
    "scrolled": false
   },
   "outputs": [
    {
     "data": {
      "text/plain": [
       "<AxesSubplot:xlabel='Price', ylabel='Density'>"
      ]
     },
     "execution_count": 36,
     "metadata": {},
     "output_type": "execute_result"
    },
    {
     "data": {
      "image/png": "[encoded data removed]",
      "text/plain": [
       "<Figure size 864x432 with 1 Axes>"
      ]
     },
     "metadata": {
      "needs_background": "light"
     },
     "output_type": "display_data"
    }
   ],
   "source": [
    "f, ax = plt.subplots(figsize=(12, 6))\n",
    "sb.kdeplot(df[df['Price'] < 100]['Price']\n",
    "           , gridsize=1000\n",
    "#            , legend=True\n",
    "           , bw_adjust=1\n",
    "           , common_grid=True\n",
    "           , fill=True\n",
    "           , alpha=0.5\n",
    "           , label='train')"
   ]
  },
  {
   "cell_type": "code",
   "execution_count": 37,
   "metadata": {},
   "outputs": [
    {
     "data": {
      "text/plain": [
       "<AxesSubplot:xlabel='Price', ylabel='Density'>"
      ]
     },
     "execution_count": 37,
     "metadata": {},
     "output_type": "execute_result"
    },
    {
     "data": {
      "image/png": "[encoded data removed]",
      "text/plain": [
       "<Figure size 864x432 with 1 Axes>"
      ]
     },
     "metadata": {
      "needs_background": "light"
     },
     "output_type": "display_data"
    }
   ],
   "source": [
    "df = df[(df['Price'] > 200)]\n",
    "f, ax = plt.subplots(figsize=(12, 6))\n",
    "sb.kdeplot(df['Price']\n",
    "           , gridsize=500\n",
    "#            , legend=True\n",
    "           , bw_adjust=1\n",
    "           , common_grid=True\n",
    "           , fill=True\n",
    "           , alpha=0.5\n",
    "           , label='train')"
   ]
  },
  {
   "cell_type": "markdown",
   "metadata": {},
   "source": [
    "#### Удалим всё остальное"
   ]
  },
  {
   "cell_type": "code",
   "execution_count": 38,
   "metadata": {
    "scrolled": false
   },
   "outputs": [
    {
     "name": "stdout",
     "output_type": "stream",
     "text": [
      "<class 'pandas.core.frame.DataFrame'>\n",
      "RangeIndex: 286586 entries, 0 to 286585\n",
      "Data columns (total 12 columns):\n",
      " #   Column             Non-Null Count   Dtype \n",
      "---  ------             --------------   ----- \n",
      " 0   index              286586 non-null  int64 \n",
      " 1   Price              286586 non-null  int64 \n",
      " 2   VehicleType        286586 non-null  object\n",
      " 3   RegistrationYear   286586 non-null  int64 \n",
      " 4   Gearbox            286586 non-null  object\n",
      " 5   Power              286586 non-null  int64 \n",
      " 6   Model              286586 non-null  object\n",
      " 7   Kilometer          286586 non-null  int64 \n",
      " 8   RegistrationMonth  286586 non-null  int64 \n",
      " 9   FuelType           286586 non-null  object\n",
      " 10  Brand              286586 non-null  object\n",
      " 11  Repaired           286586 non-null  object\n",
      "dtypes: int64(6), object(6)\n",
      "memory usage: 26.2+ MB\n",
      "None\n"
     ]
    }
   ],
   "source": [
    "df = df.drop(['DateCrawled', 'LastSeen', 'NumberOfPictures', 'DateCreated', 'PostalCode'], axis=1)\n",
    "df = df.dropna().reset_index()\n",
    "print(df.info())"
   ]
  },
  {
   "cell_type": "markdown",
   "metadata": {},
   "source": [
    "### Разделим на выборки\n",
    "<a id=\"split\"></a>\n",
    "[go to the title](#title)"
   ]
  },
  {
   "cell_type": "code",
   "execution_count": 39,
   "metadata": {},
   "outputs": [
    {
     "name": "stdout",
     "output_type": "stream",
     "text": [
      "Размер тренировочной выборки: (171951, 11) (171951,)\n",
      "Размер валидационной выборки: (57317, 11) (57317,)\n",
      "Размер тестовой выборки: (57318, 11) (57318,)\n"
     ]
    }
   ],
   "source": [
    "# зададим параметр случайности выборки\n",
    "random_state = 12345\n",
    "\n",
    "\n",
    "# Создадим два массива features и target. \n",
    "features = df.drop(['Price'], axis=1)\n",
    "\n",
    "target = df['Price']\n",
    "\n",
    "\n",
    "# Для начала выделим из общего массива общий кусок 40% валидационной и тестовой выборки в сумме\n",
    "features_train, features_valid, target_train, target_valid = train_test_split(features\n",
    "                                                                              , target\n",
    "                                                                              , test_size=0.4\n",
    "                                                                              , random_state=random_state) \n",
    "\n",
    "# Разделим этот кусок пополам на тестовую и валидационную выборку\n",
    "features_valid, features_test, target_valid, target_test = train_test_split(features_valid\n",
    "                                                                            , target_valid\n",
    "                                                                            , test_size=0.5\n",
    "                                                                            , random_state=random_state)\n",
    "\n",
    "# Размеры 3:1:1 \n",
    "print('Размер тренировочной выборки:', features_train.shape, target_train.shape)\n",
    "print('Размер валидационной выборки:', features_valid.shape, target_valid.shape)\n",
    "print('Размер тестовой выборки:', features_test.shape, target_test.shape)"
   ]
  },
  {
   "cell_type": "markdown",
   "metadata": {},
   "source": [
    "### Преобразовываем категориальные признаки\n",
    "<a id=\"data_preprocessing\"></a>\n",
    "[go to the title](#title)"
   ]
  },
  {
   "cell_type": "code",
   "execution_count": 40,
   "metadata": {},
   "outputs": [
    {
     "name": "stdout",
     "output_type": "stream",
     "text": [
      "Requirement already satisfied: category_encoders in /opt/conda/lib/python3.9/site-packages (2.6.0)\n",
      "Requirement already satisfied: scipy>=1.0.0 in /opt/conda/lib/python3.9/site-packages (from category_encoders) (1.9.1)\n",
      "Requirement already satisfied: numpy>=1.14.0 in /opt/conda/lib/python3.9/site-packages (from category_encoders) (1.21.1)\n",
      "Requirement already satisfied: pandas>=1.0.5 in /opt/conda/lib/python3.9/site-packages (from category_encoders) (1.2.4)\n",
      "Requirement already satisfied: statsmodels>=0.9.0 in /opt/conda/lib/python3.9/site-packages (from category_encoders) (0.13.2)\n",
      "Requirement already satisfied: scikit-learn>=0.20.0 in /opt/conda/lib/python3.9/site-packages (from category_encoders) (0.24.1)\n",
      "Requirement already satisfied: patsy>=0.5.1 in /opt/conda/lib/python3.9/site-packages (from category_encoders) (0.5.2)\n",
      "Requirement already satisfied: python-dateutil>=2.7.3 in /opt/conda/lib/python3.9/site-packages (from pandas>=1.0.5->category_encoders) (2.8.1)\n",
      "Requirement already satisfied: pytz>=2017.3 in /opt/conda/lib/python3.9/site-packages (from pandas>=1.0.5->category_encoders) (2021.1)\n",
      "Requirement already satisfied: six in /opt/conda/lib/python3.9/site-packages (from patsy>=0.5.1->category_encoders) (1.16.0)\n",
      "Requirement already satisfied: joblib>=0.11 in /opt/conda/lib/python3.9/site-packages (from scikit-learn>=0.20.0->category_encoders) (1.1.0)\n",
      "Requirement already satisfied: threadpoolctl>=2.0.0 in /opt/conda/lib/python3.9/site-packages (from scikit-learn>=0.20.0->category_encoders) (3.1.0)\n",
      "Requirement already satisfied: packaging>=21.3 in /opt/conda/lib/python3.9/site-packages (from statsmodels>=0.9.0->category_encoders) (21.3)\n",
      "Requirement already satisfied: pyparsing!=3.0.5,>=2.0.2 in /opt/conda/lib/python3.9/site-packages (from packaging>=21.3->statsmodels>=0.9.0->category_encoders) (2.4.7)\n",
      "Note: you may need to restart the kernel to use updated packages.\n"
     ]
    }
   ],
   "source": [
    "pip install category_encoders"
   ]
  },
  {
   "cell_type": "code",
   "execution_count": 41,
   "metadata": {},
   "outputs": [],
   "source": [
    "from category_encoders import BinaryEncoder"
   ]
  },
  {
   "cell_type": "code",
   "execution_count": 42,
   "metadata": {},
   "outputs": [],
   "source": [
    "encoder = BinaryEncoder(cols=categ_columns)\n",
    "features_train = encoder.fit_transform(features_train)\n",
    "features_valid = encoder.transform(features_valid)\n",
    "features_test = encoder.transform(features_test)"
   ]
  },
  {
   "cell_type": "code",
   "execution_count": 44,
   "metadata": {
    "scrolled": true
   },
   "outputs": [
    {
     "data": {
      "text/html": [
       "<div>\n",
       "<style scoped>\n",
       "    .dataframe tbody tr th:only-of-type {\n",
       "        vertical-align: middle;\n",
       "    }\n",
       "\n",
       "    .dataframe tbody tr th {\n",
       "        vertical-align: top;\n",
       "    }\n",
       "\n",
       "    .dataframe thead th {\n",
       "        text-align: right;\n",
       "    }\n",
       "</style>\n",
       "<table border=\"1\" class=\"dataframe\">\n",
       "  <thead>\n",
       "    <tr style=\"text-align: right;\">\n",
       "      <th></th>\n",
       "      <th>index</th>\n",
       "      <th>Price</th>\n",
       "      <th>RegistrationYear</th>\n",
       "      <th>Power</th>\n",
       "      <th>Kilometer</th>\n",
       "      <th>RegistrationMonth</th>\n",
       "    </tr>\n",
       "  </thead>\n",
       "  <tbody>\n",
       "    <tr>\n",
       "      <th>count</th>\n",
       "      <td>286586.000000</td>\n",
       "      <td>286586.000000</td>\n",
       "      <td>286586.000000</td>\n",
       "      <td>286586.000000</td>\n",
       "      <td>286586.000000</td>\n",
       "      <td>286586.000000</td>\n",
       "    </tr>\n",
       "    <tr>\n",
       "      <th>mean</th>\n",
       "      <td>177194.136350</td>\n",
       "      <td>4903.788999</td>\n",
       "      <td>2003.009006</td>\n",
       "      <td>120.538983</td>\n",
       "      <td>128405.120976</td>\n",
       "      <td>6.032336</td>\n",
       "    </tr>\n",
       "    <tr>\n",
       "      <th>std</th>\n",
       "      <td>102257.691719</td>\n",
       "      <td>4575.323549</td>\n",
       "      <td>6.076220</td>\n",
       "      <td>51.182731</td>\n",
       "      <td>36494.037113</td>\n",
       "      <td>3.568934</td>\n",
       "    </tr>\n",
       "    <tr>\n",
       "      <th>min</th>\n",
       "      <td>1.000000</td>\n",
       "      <td>202.000000</td>\n",
       "      <td>1971.000000</td>\n",
       "      <td>21.000000</td>\n",
       "      <td>5000.000000</td>\n",
       "      <td>0.000000</td>\n",
       "    </tr>\n",
       "    <tr>\n",
       "      <th>25%</th>\n",
       "      <td>88560.250000</td>\n",
       "      <td>1400.000000</td>\n",
       "      <td>1999.000000</td>\n",
       "      <td>80.000000</td>\n",
       "      <td>125000.000000</td>\n",
       "      <td>3.000000</td>\n",
       "    </tr>\n",
       "    <tr>\n",
       "      <th>50%</th>\n",
       "      <td>177254.500000</td>\n",
       "      <td>3250.000000</td>\n",
       "      <td>2003.000000</td>\n",
       "      <td>113.000000</td>\n",
       "      <td>150000.000000</td>\n",
       "      <td>6.000000</td>\n",
       "    </tr>\n",
       "    <tr>\n",
       "      <th>75%</th>\n",
       "      <td>265731.750000</td>\n",
       "      <td>6999.000000</td>\n",
       "      <td>2007.000000</td>\n",
       "      <td>150.000000</td>\n",
       "      <td>150000.000000</td>\n",
       "      <td>9.000000</td>\n",
       "    </tr>\n",
       "    <tr>\n",
       "      <th>max</th>\n",
       "      <td>354368.000000</td>\n",
       "      <td>20000.000000</td>\n",
       "      <td>2016.000000</td>\n",
       "      <td>349.000000</td>\n",
       "      <td>150000.000000</td>\n",
       "      <td>12.000000</td>\n",
       "    </tr>\n",
       "  </tbody>\n",
       "</table>\n",
       "</div>"
      ],
      "text/plain": [
       "               index          Price  RegistrationYear          Power  \\\n",
       "count  286586.000000  286586.000000     286586.000000  286586.000000   \n",
       "mean   177194.136350    4903.788999       2003.009006     120.538983   \n",
       "std    102257.691719    4575.323549          6.076220      51.182731   \n",
       "min         1.000000     202.000000       1971.000000      21.000000   \n",
       "25%     88560.250000    1400.000000       1999.000000      80.000000   \n",
       "50%    177254.500000    3250.000000       2003.000000     113.000000   \n",
       "75%    265731.750000    6999.000000       2007.000000     150.000000   \n",
       "max    354368.000000   20000.000000       2016.000000     349.000000   \n",
       "\n",
       "           Kilometer  RegistrationMonth  \n",
       "count  286586.000000      286586.000000  \n",
       "mean   128405.120976           6.032336  \n",
       "std     36494.037113           3.568934  \n",
       "min      5000.000000           0.000000  \n",
       "25%    125000.000000           3.000000  \n",
       "50%    150000.000000           6.000000  \n",
       "75%    150000.000000           9.000000  \n",
       "max    150000.000000          12.000000  "
      ]
     },
     "execution_count": 44,
     "metadata": {},
     "output_type": "execute_result"
    }
   ],
   "source": [
    "df.describe()"
   ]
  },
  {
   "cell_type": "code",
   "execution_count": 45,
   "metadata": {},
   "outputs": [
    {
     "data": {
      "text/html": [
       "<div>\n",
       "<style scoped>\n",
       "    .dataframe tbody tr th:only-of-type {\n",
       "        vertical-align: middle;\n",
       "    }\n",
       "\n",
       "    .dataframe tbody tr th {\n",
       "        vertical-align: top;\n",
       "    }\n",
       "\n",
       "    .dataframe thead th {\n",
       "        text-align: right;\n",
       "    }\n",
       "</style>\n",
       "<table border=\"1\" class=\"dataframe\">\n",
       "  <thead>\n",
       "    <tr style=\"text-align: right;\">\n",
       "      <th></th>\n",
       "      <th>Price</th>\n",
       "      <th>VehicleType</th>\n",
       "      <th>RegistrationYear</th>\n",
       "      <th>Gearbox</th>\n",
       "      <th>Power</th>\n",
       "      <th>Model</th>\n",
       "      <th>Kilometer</th>\n",
       "      <th>RegistrationMonth</th>\n",
       "      <th>FuelType</th>\n",
       "      <th>Brand</th>\n",
       "      <th>Repaired</th>\n",
       "    </tr>\n",
       "  </thead>\n",
       "  <tbody>\n",
       "    <tr>\n",
       "      <th>0</th>\n",
       "      <td>18300</td>\n",
       "      <td>coupe</td>\n",
       "      <td>2011</td>\n",
       "      <td>manual</td>\n",
       "      <td>190</td>\n",
       "      <td>tt</td>\n",
       "      <td>125000</td>\n",
       "      <td>5</td>\n",
       "      <td>petrol</td>\n",
       "      <td>audi</td>\n",
       "      <td>yes</td>\n",
       "    </tr>\n",
       "    <tr>\n",
       "      <th>1</th>\n",
       "      <td>9800</td>\n",
       "      <td>suv</td>\n",
       "      <td>2004</td>\n",
       "      <td>auto</td>\n",
       "      <td>163</td>\n",
       "      <td>grand</td>\n",
       "      <td>125000</td>\n",
       "      <td>8</td>\n",
       "      <td>petrol</td>\n",
       "      <td>jeep</td>\n",
       "      <td>unknown</td>\n",
       "    </tr>\n",
       "    <tr>\n",
       "      <th>2</th>\n",
       "      <td>1500</td>\n",
       "      <td>small</td>\n",
       "      <td>2001</td>\n",
       "      <td>manual</td>\n",
       "      <td>75</td>\n",
       "      <td>golf</td>\n",
       "      <td>150000</td>\n",
       "      <td>6</td>\n",
       "      <td>petrol</td>\n",
       "      <td>volkswagen</td>\n",
       "      <td>no</td>\n",
       "    </tr>\n",
       "    <tr>\n",
       "      <th>3</th>\n",
       "      <td>3600</td>\n",
       "      <td>small</td>\n",
       "      <td>2008</td>\n",
       "      <td>manual</td>\n",
       "      <td>69</td>\n",
       "      <td>fabia</td>\n",
       "      <td>90000</td>\n",
       "      <td>7</td>\n",
       "      <td>petrol</td>\n",
       "      <td>skoda</td>\n",
       "      <td>no</td>\n",
       "    </tr>\n",
       "    <tr>\n",
       "      <th>4</th>\n",
       "      <td>650</td>\n",
       "      <td>sedan</td>\n",
       "      <td>1995</td>\n",
       "      <td>manual</td>\n",
       "      <td>102</td>\n",
       "      <td>3er</td>\n",
       "      <td>150000</td>\n",
       "      <td>10</td>\n",
       "      <td>petrol</td>\n",
       "      <td>bmw</td>\n",
       "      <td>yes</td>\n",
       "    </tr>\n",
       "  </tbody>\n",
       "</table>\n",
       "</div>"
      ],
      "text/plain": [
       "   Price VehicleType  RegistrationYear Gearbox  Power  Model  Kilometer  \\\n",
       "0  18300       coupe              2011  manual    190     tt     125000   \n",
       "1   9800         suv              2004    auto    163  grand     125000   \n",
       "2   1500       small              2001  manual     75   golf     150000   \n",
       "3   3600       small              2008  manual     69  fabia      90000   \n",
       "4    650       sedan              1995  manual    102    3er     150000   \n",
       "\n",
       "   RegistrationMonth FuelType       Brand Repaired  \n",
       "0                  5   petrol        audi      yes  \n",
       "1                  8   petrol        jeep  unknown  \n",
       "2                  6   petrol  volkswagen       no  \n",
       "3                  7   petrol       skoda       no  \n",
       "4                 10   petrol         bmw      yes  "
      ]
     },
     "metadata": {},
     "output_type": "display_data"
    },
    {
     "name": "stdout",
     "output_type": "stream",
     "text": [
      "Вес нового датасета: 24.05 MB\n"
     ]
    }
   ],
   "source": [
    "df = df.drop(['index'], axis=1)\n",
    "# df = df.astype('int32')\n",
    "display(df.head())\n",
    "df_mem = df.memory_usage().sum() / 1024**2\n",
    "print('Вес нового датасета: {:.2f} MB'.format(df_mem))"
   ]
  },
  {
   "cell_type": "markdown",
   "metadata": {},
   "source": [
    "## Обучение моделей\n",
    "<a id=\"model_training\"></a>\n",
    "[go to the title](#title)"
   ]
  },
  {
   "cell_type": "markdown",
   "metadata": {},
   "source": [
    "### Линейная регрессия\n",
    "<a id=\"linreg\"></a>\n",
    "[go to the title](#title)"
   ]
  },
  {
   "cell_type": "code",
   "execution_count": 46,
   "metadata": {},
   "outputs": [
    {
     "name": "stdout",
     "output_type": "stream",
     "text": [
      "CPU times: user 258 ms, sys: 234 ms, total: 492 ms\n",
      "Wall time: 498 ms\n"
     ]
    },
    {
     "data": {
      "text/plain": [
       "LinearRegression()"
      ]
     },
     "execution_count": 46,
     "metadata": {},
     "output_type": "execute_result"
    }
   ],
   "source": [
    "%%time\n",
    "# Обучим модель линейной регрессии\n",
    "linreg = LinearRegression() \n",
    "linreg.fit(features_train, target_train)"
   ]
  },
  {
   "cell_type": "code",
   "execution_count": 47,
   "metadata": {},
   "outputs": [
    {
     "name": "stdout",
     "output_type": "stream",
     "text": [
      "CPU times: user 30.8 ms, sys: 87.4 ms, total: 118 ms\n",
      "Wall time: 98.1 ms\n"
     ]
    }
   ],
   "source": [
    "%%time\n",
    "predicted_valid = linreg.predict(features_valid)"
   ]
  },
  {
   "cell_type": "code",
   "execution_count": 48,
   "metadata": {},
   "outputs": [
    {
     "name": "stdout",
     "output_type": "stream",
     "text": [
      "Среднеквадратичное отклонение: 2821.8\n"
     ]
    }
   ],
   "source": [
    "# RMSE \n",
    "mse_linreg = mean_squared_error(target_valid, predicted_valid)\n",
    "rmse_linreg = (mse_linreg) ** 0.5\n",
    "\n",
    "\n",
    "print('Среднеквадратичное отклонение:',round(rmse_linreg, 2))"
   ]
  },
  {
   "cell_type": "markdown",
   "metadata": {},
   "source": [
    "### Случайный лес\n",
    "<a id=\"randomforest\"></a>\n",
    "[go to the title](#title)"
   ]
  },
  {
   "cell_type": "code",
   "execution_count": 49,
   "metadata": {},
   "outputs": [
    {
     "name": "stdout",
     "output_type": "stream",
     "text": [
      "Количество деревьев: 20 | глубина: 6 | RMSE: 2194.68\n",
      "Количество деревьев: 20 | глубина: 8 | RMSE: 2013.9\n",
      "Количество деревьев: 20 | глубина: 10 | RMSE: 1862.75\n",
      "Количество деревьев: 20 | глубина: 12 | RMSE: 1729.43\n",
      "Количество деревьев: 20 | глубина: 14 | RMSE: 1641.29\n",
      "Количество деревьев: 20 | глубина: 16 | RMSE: 1604.82\n",
      "Количество деревьев: 20 | глубина: 18 | RMSE: 1596.76\n",
      "Количество деревьев: 20 | глубина: 20 | RMSE: 1598.91\n",
      "CPU times: user 1min 53s, sys: 763 ms, total: 1min 54s\n",
      "Wall time: 1min 54s\n"
     ]
    }
   ],
   "source": [
    "%%time\n",
    "#\n",
    "estimantors = 20\n",
    "for depth in range(6, 21, 2):\n",
    "    rfr_n = RandomForestRegressor(random_state=random_state, n_estimators=estimantors, max_depth=depth)\n",
    "    rfr_n.fit(features_train, target_train)\n",
    "    predicted_valid = rfr_n.predict(features_valid)\n",
    "    mse_rfr_n = mean_squared_error(target_valid, predicted_valid)\n",
    "    rmse_rfr_n = (mse_rfr_n) ** 0.5\n",
    "\n",
    "    print('Количество деревьев:', estimantors, '|', 'глубина:', depth, '|', 'RMSE:', round(rmse_rfr_n,2))"
   ]
  },
  {
   "cell_type": "code",
   "execution_count": 66,
   "metadata": {},
   "outputs": [
    {
     "name": "stdout",
     "output_type": "stream",
     "text": [
      "Количество деревьев: 40 | глубина: 18 | RMSE: 1578.66\n",
      "Количество деревьев: 60 | глубина: 18 | RMSE: 1571.74\n",
      "Количество деревьев: 80 | глубина: 18 | RMSE: 1568.88\n",
      "Количество деревьев: 100 | глубина: 18 | RMSE: 1568.48\n",
      "CPU times: user 4min 16s, sys: 2.47 s, total: 4min 19s\n",
      "Wall time: 4min 20s\n"
     ]
    }
   ],
   "source": [
    "%%time\n",
    "depth = 18\n",
    "for estimantors in range(40, 120, 20):\n",
    "    rfr_n = RandomForestRegressor(random_state=random_state, n_estimators=estimantors, max_depth=depth)\n",
    "    rfr_n.fit(features_train, target_train)\n",
    "    predicted_valid = rfr_n.predict(features_valid)\n",
    "    mse_rfr_n = mean_squared_error(target_valid, predicted_valid)\n",
    "    rmse_rfr_n = (mse_rfr_n) ** 0.5\n",
    "\n",
    "    print('Количество деревьев:', estimantors, '|', 'глубина:', depth, '|', 'RMSE:', round(rmse_rfr_n,2))"
   ]
  },
  {
   "cell_type": "markdown",
   "metadata": {},
   "source": [
    "### LightGBM\n",
    "<a id=\"lightgbm\"></a>\n",
    "[go to the title](#title)"
   ]
  },
  {
   "cell_type": "code",
   "execution_count": 51,
   "metadata": {},
   "outputs": [
    {
     "name": "stdout",
     "output_type": "stream",
     "text": [
      "Максимальное количество итераций: 20 Среднеквадратичное отклонение: 1667.35\n",
      "CPU times: user 5min 49s, sys: 2.88 s, total: 5min 52s\n",
      "Wall time: 5min 55s\n"
     ]
    }
   ],
   "source": [
    "%%time\n",
    "model_lightgbm = lgb.LGBMRegressor(learning_rate=0.1)\n",
    "model_lightgbm.fit(features_train, target_train)\n",
    "predicted_valid = model_lightgbm.predict(features_valid)\n",
    "\n",
    "mse_lightgbm = mean_squared_error(target_valid, predicted_valid)\n",
    "rmse_lightgbm = (mse_lightgbm) ** 0.5\n",
    "\n",
    "print('Максимальное количество итераций:', 20,'Среднеквадратичное отклонение:', round(rmse_lightgbm,2))"
   ]
  },
  {
   "cell_type": "code",
   "execution_count": 52,
   "metadata": {},
   "outputs": [
    {
     "name": "stdout",
     "output_type": "stream",
     "text": [
      "Среднеквадратичное отклонение: 1693.25\n",
      "CPU times: user 3min 6s, sys: 1.35 s, total: 3min 8s\n",
      "Wall time: 3min 9s\n"
     ]
    }
   ],
   "source": [
    "%%time\n",
    "model_lightgbm = lgb.LGBMRegressor(learning_rate=1)\n",
    "model_lightgbm.fit(features_train, target_train)\n",
    "predicted_valid = model_lightgbm.predict(features_valid)\n",
    "\n",
    "mse_lightgbm = mean_squared_error(target_valid, predicted_valid)\n",
    "rmse_lightgbm = (mse_lightgbm) ** 0.5\n",
    "\n",
    "print('Среднеквадратичное отклонение:', round(rmse_lightgbm,2))"
   ]
  },
  {
   "cell_type": "code",
   "execution_count": 53,
   "metadata": {},
   "outputs": [
    {
     "name": "stdout",
     "output_type": "stream",
     "text": [
      "Среднеквадратичное отклонение: 1718.15\n",
      "CPU times: user 44.1 s, sys: 394 ms, total: 44.5 s\n",
      "Wall time: 44.8 s\n"
     ]
    }
   ],
   "source": [
    "%%time\n",
    "model_lightgbm = lgb.LGBMRegressor(learning_rate=0.5, max_depth=10, n_estimators=20)\n",
    "model_lightgbm.fit(features_train, target_train)\n",
    "predicted_valid = model_lightgbm.predict(features_valid)\n",
    "\n",
    "mse_lightgbm = mean_squared_error(target_valid, predicted_valid)\n",
    "rmse_lightgbm = (mse_lightgbm) ** 0.5\n",
    "\n",
    "print('Среднеквадратичное отклонение:', round(rmse_lightgbm,2))"
   ]
  },
  {
   "cell_type": "code",
   "execution_count": 54,
   "metadata": {},
   "outputs": [
    {
     "name": "stdout",
     "output_type": "stream",
     "text": [
      "Среднеквадратичное отклонение: 1722.34\n",
      "CPU times: user 58.7 s, sys: 620 ms, total: 59.3 s\n",
      "Wall time: 59.9 s\n"
     ]
    }
   ],
   "source": [
    "%%time\n",
    "model_lightgbm = lgb.LGBMRegressor(learning_rate=0.5, max_depth=20, n_estimators=20)\n",
    "model_lightgbm.fit(features_train, target_train)\n",
    "predicted_valid = model_lightgbm.predict(features_valid)\n",
    "\n",
    "mse_lightgbm = mean_squared_error(target_valid, predicted_valid)\n",
    "rmse_lightgbm = (mse_lightgbm) ** 0.5\n",
    "\n",
    "print('Среднеквадратичное отклонение:', round(rmse_lightgbm,2))"
   ]
  },
  {
   "cell_type": "code",
   "execution_count": 55,
   "metadata": {},
   "outputs": [
    {
     "name": "stdout",
     "output_type": "stream",
     "text": [
      "Среднеквадратичное отклонение: 1602.32\n",
      "CPU times: user 4min 15s, sys: 2.37 s, total: 4min 17s\n",
      "Wall time: 4min 19s\n"
     ]
    }
   ],
   "source": [
    "%%time\n",
    "model_lightgbm = lgb.LGBMRegressor(learning_rate=0.5, max_depth=20, n_estimators=100)\n",
    "model_lightgbm.fit(features_train, target_train)\n",
    "predicted_valid = model_lightgbm.predict(features_valid)\n",
    "\n",
    "mse_lightgbm = mean_squared_error(target_valid, predicted_valid)\n",
    "rmse_lightgbm = (mse_lightgbm) ** 0.5\n",
    "\n",
    "print('Среднеквадратичное отклонение:', round(rmse_lightgbm,2))"
   ]
  },
  {
   "cell_type": "code",
   "execution_count": 56,
   "metadata": {},
   "outputs": [
    {
     "name": "stdout",
     "output_type": "stream",
     "text": [
      "Среднеквадратичное отклонение: 1754.8\n",
      "CPU times: user 46.3 s, sys: 412 ms, total: 46.8 s\n",
      "Wall time: 47.1 s\n"
     ]
    }
   ],
   "source": [
    "%%time\n",
    "model_lightgbm = lgb.LGBMRegressor(learning_rate=0.5, max_depth=6, n_estimators=20)\n",
    "model_lightgbm.fit(features_train, target_train)\n",
    "predicted_valid = model_lightgbm.predict(features_valid)\n",
    "\n",
    "mse_lightgbm = mean_squared_error(target_valid, predicted_valid)\n",
    "rmse_lightgbm = (mse_lightgbm) ** 0.5\n",
    "\n",
    "print('Среднеквадратичное отклонение:', round(rmse_lightgbm,2))"
   ]
  },
  {
   "cell_type": "code",
   "execution_count": 57,
   "metadata": {},
   "outputs": [
    {
     "name": "stdout",
     "output_type": "stream",
     "text": [
      "Depth: 5 Среднеквадратичное отклонение: 1783.37\n",
      "Depth: 6 Среднеквадратичное отклонение: 1754.8\n",
      "Depth: 9 Среднеквадратичное отклонение: 1730.08\n",
      "Depth: 10 Среднеквадратичное отклонение: 1718.15\n",
      "Depth: 12 Среднеквадратичное отклонение: 1719.66\n",
      "Depth: 13 Среднеквадратичное отклонение: 1722.34\n",
      "Depth: 14 Среднеквадратичное отклонение: 1722.34\n",
      "Depth: 15 Среднеквадратичное отклонение: 1722.34\n",
      "CPU times: user 11min 59s, sys: 9.3 s, total: 12min 8s\n",
      "Wall time: 12min 13s\n"
     ]
    }
   ],
   "source": [
    "%%time\n",
    "for depth in range(5, 16, 1):\n",
    "    model_lightgbm = lgb.LGBMRegressor(learning_rate=0.5, max_depth=depth, n_estimators=20)\n",
    "    model_lightgbm.fit(features_train, target_train)\n",
    "    predicted_valid = model_lightgbm.predict(features_valid)\n",
    "\n",
    "    mse_lightgbm = mean_squared_error(target_valid, predicted_valid)\n",
    "    rmse_lightgbm = (mse_lightgbm) ** 0.5\n",
    "\n",
    "    print('Depth:', depth, 'Среднеквадратичное отклонение:', round(rmse_lightgbm,2))"
   ]
  },
  {
   "cell_type": "markdown",
   "metadata": {},
   "source": [
    "## Анализ моделей\n",
    "<a id=\"model_analysis\"></a>\n",
    "[go to the title](#title)"
   ]
  },
  {
   "cell_type": "markdown",
   "metadata": {},
   "source": [
    "### Время обучения\n",
    "<a id=\"training_time\"></a>\n",
    "[go to the title](#title)"
   ]
  },
  {
   "cell_type": "code",
   "execution_count": 58,
   "metadata": {},
   "outputs": [
    {
     "name": "stdout",
     "output_type": "stream",
     "text": [
      "CPU times: user 228 ms, sys: 232 ms, total: 459 ms\n",
      "Wall time: 485 ms\n"
     ]
    },
    {
     "data": {
      "text/plain": [
       "LinearRegression()"
      ]
     },
     "execution_count": 58,
     "metadata": {},
     "output_type": "execute_result"
    }
   ],
   "source": [
    "%%time\n",
    "# Обучим модель линейной регрессии\n",
    "linreg = LinearRegression() \n",
    "linreg.fit(features_train, target_train)"
   ]
  },
  {
   "cell_type": "code",
   "execution_count": 67,
   "metadata": {},
   "outputs": [
    {
     "name": "stdout",
     "output_type": "stream",
     "text": [
      "CPU times: user 1min 15s, sys: 580 ms, total: 1min 16s\n",
      "Wall time: 1min 16s\n"
     ]
    },
    {
     "data": {
      "text/plain": [
       "RandomForestRegressor(max_depth=18, n_estimators=80, random_state=12345)"
      ]
     },
     "execution_count": 67,
     "metadata": {},
     "output_type": "execute_result"
    }
   ],
   "source": [
    "%%time\n",
    "# \n",
    "rfr_n = RandomForestRegressor(random_state=random_state, n_estimators=80, max_depth=18)\n",
    "rfr_n.fit(features_train, target_train)"
   ]
  },
  {
   "cell_type": "code",
   "execution_count": 60,
   "metadata": {
    "scrolled": true
   },
   "outputs": [
    {
     "name": "stdout",
     "output_type": "stream",
     "text": [
      "CPU times: user 5min 31s, sys: 2.78 s, total: 5min 34s\n",
      "Wall time: 5min 37s\n"
     ]
    },
    {
     "data": {
      "text/plain": [
       "LGBMRegressor(learning_rate=0.5, max_depth=20)"
      ]
     },
     "execution_count": 60,
     "metadata": {},
     "output_type": "execute_result"
    }
   ],
   "source": [
    "%%time\n",
    "#\n",
    "model_lightgbm = lgb.LGBMRegressor(learning_rate=0.5, max_depth=20, n_estimators=100)\n",
    "model_lightgbm.fit(features_train, target_train)"
   ]
  },
  {
   "cell_type": "markdown",
   "metadata": {},
   "source": [
    "Время обучения: Модель линейной регрессии справилась примерно за 500 мили секунд, Случайный лес обучался около минуты, Градиентный бустинг за 5,5 минут."
   ]
  },
  {
   "cell_type": "markdown",
   "metadata": {},
   "source": [
    "### Время предсказания\n",
    "<a id=\"prediction_time\"></a>\n",
    "[go to the title](#title)"
   ]
  },
  {
   "cell_type": "code",
   "execution_count": 61,
   "metadata": {},
   "outputs": [
    {
     "name": "stdout",
     "output_type": "stream",
     "text": [
      "CPU times: user 37.4 ms, sys: 107 ms, total: 145 ms\n",
      "Wall time: 104 ms\n"
     ]
    }
   ],
   "source": [
    "%%time\n",
    "predicted_valid_linreg = linreg.predict(features_valid)"
   ]
  },
  {
   "cell_type": "code",
   "execution_count": 68,
   "metadata": {},
   "outputs": [
    {
     "name": "stdout",
     "output_type": "stream",
     "text": [
      "CPU times: user 1.5 s, sys: 8.25 ms, total: 1.51 s\n",
      "Wall time: 1.51 s\n"
     ]
    }
   ],
   "source": [
    "%%time\n",
    "predicted_valid_rfr = rfr_n.predict(features_valid)"
   ]
  },
  {
   "cell_type": "code",
   "execution_count": 63,
   "metadata": {},
   "outputs": [
    {
     "name": "stdout",
     "output_type": "stream",
     "text": [
      "CPU times: user 297 ms, sys: 7.34 ms, total: 304 ms\n",
      "Wall time: 300 ms\n"
     ]
    }
   ],
   "source": [
    "%%time\n",
    "predicted_valid_lightgbm = model_lightgbm.predict(features_valid)"
   ]
  },
  {
   "cell_type": "markdown",
   "metadata": {},
   "source": [
    "Самое маленькое время предсказания у модели линейной регрессии, составляет примерно 100 мили секунд, в три раза больше время предсказания у модели градиентного бустинга и самое большое время у случайного леса - примерно 1.5 секунды, в пать раз превышает время градиентного бустинга."
   ]
  },
  {
   "cell_type": "markdown",
   "metadata": {},
   "source": [
    "### Качество моделей\n",
    "<a id=\"model_quality\"></a>\n",
    "[go to the title](#title)"
   ]
  },
  {
   "cell_type": "code",
   "execution_count": 69,
   "metadata": {},
   "outputs": [
    {
     "name": "stdout",
     "output_type": "stream",
     "text": [
      "RMSE линейной регрессии: 2821.8\n",
      "RMSE случайного леса: 1568.88\n",
      "RMSE градиентного бустинга: 1602.32\n"
     ]
    }
   ],
   "source": [
    "mse_linreg = mean_squared_error(target_valid, predicted_valid_linreg)\n",
    "rmse_linreg = (mse_linreg) ** 0.5\n",
    "\n",
    "print('RMSE линейной регрессии:', round(rmse_linreg, 2))\n",
    "\n",
    "\n",
    "mse_rfr = mean_squared_error(target_valid, predicted_valid_rfr)\n",
    "rmse_rfr = (mse_rfr) ** 0.5\n",
    "\n",
    "print('RMSE случайного леса:', round(rmse_rfr,2))\n",
    "\n",
    "mse_lightgbm = mean_squared_error(target_valid, predicted_valid_lightgbm)\n",
    "rmse_lightgbm = (mse_lightgbm) ** 0.5\n",
    "\n",
    "print('RMSE градиентного бустинга:', round(rmse_lightgbm,2))\n",
    "    \n",
    "    \n"
   ]
  },
  {
   "cell_type": "markdown",
   "metadata": {},
   "source": [
    "### Краткие выводы\n",
    "<a id=\"short_resume\"></a>\n",
    "[go to the title](#title)"
   ]
  },
  {
   "cell_type": "markdown",
   "metadata": {},
   "source": [
    "На два или даже три порядка быстрее всех модель линенйной регрессии, но точность у данной модели низкая и не подходит заказчику. \n",
    "\n",
    "На втором месте по скорости и по точности оказалась модель случайного леса. \n",
    "\n",
    "И самой долгой в обучении и в точности немного проигрывающей Случайному лесу оказалась модель градиентного бустинга. Плюсом данной модели служит меньшее время предсказания в сравнении с моделью Случайный лес."
   ]
  },
  {
   "cell_type": "markdown",
   "metadata": {},
   "source": [
    "## Вывод\n",
    "<a id=\"resume\"></a>\n",
    "[go to the title](#title)"
   ]
  },
  {
   "cell_type": "markdown",
   "metadata": {},
   "source": [
    "Была произведена очистка данных:\n",
    "- Заполнены пропуски в ряде столбцов\n",
    "- Удалены лишние параметры\n",
    "- Удалены аномалии в данных\n",
    "\n",
    "Было протестировано три типа моделей:\n",
    "- Линейная регрессия\n",
    "- Случайный лес\n",
    "- Градиентный бустинг\n",
    "\n",
    "По результатам лиейная регрессия не подходит по точности предсказания, а Случайный лес и Градиентный бустинг дают необходимую точность. \n",
    "\n",
    "В качестве модели для заказчика предлагается модель случайный лес."
   ]
  },
  {
   "cell_type": "code",
   "execution_count": 70,
   "metadata": {},
   "outputs": [
    {
     "name": "stdout",
     "output_type": "stream",
     "text": [
      "RMSE случайного леса: 1570.66\n",
      "CPU times: user 1.47 s, sys: 4.36 ms, total: 1.47 s\n",
      "Wall time: 1.47 s\n"
     ]
    }
   ],
   "source": [
    "%%time\n",
    "predicted_test = rfr_n.predict(features_test)\n",
    "\n",
    "mse_rfr = mean_squared_error(target_test, predicted_test)\n",
    "rmse_rfr = (mse_rfr) ** 0.5\n",
    "\n",
    "print('RMSE случайного леса:', round(rmse_rfr,2))"
   ]
  },
  {
   "cell_type": "markdown",
   "metadata": {},
   "source": [
    "## Чек-лист проверки"
   ]
  },
  {
   "cell_type": "markdown",
   "metadata": {},
   "source": [
    "- [x]  Jupyter Notebook открыт\n",
    "- [x]  Весь код выполняется без ошибок\n",
    "- [x]  Ячейки с кодом расположены в порядке исполнения\n",
    "- [x]  Выполнена загрузка и подготовка данных\n",
    "- [x]  Выполнено обучение моделей\n",
    "- [x]  Есть анализ скорости работы и качества моделей"
   ]
  }
 ],
 "metadata": {
  "ExecuteTimeLog": [
   {
    "duration": 2179,
    "start_time": "2023-05-02T11:03:24.893Z"
   },
   {
    "duration": 120,
    "start_time": "2023-05-02T11:10:07.102Z"
   },
   {
    "duration": 2748,
    "start_time": "2023-05-02T11:10:11.209Z"
   },
   {
    "duration": 124,
    "start_time": "2023-05-02T11:10:16.956Z"
   },
   {
    "duration": 17,
    "start_time": "2023-05-02T11:10:22.122Z"
   },
   {
    "duration": 119,
    "start_time": "2023-05-02T11:10:24.779Z"
   },
   {
    "duration": 399,
    "start_time": "2023-05-02T11:10:27.809Z"
   },
   {
    "duration": 242,
    "start_time": "2023-05-02T11:10:32.232Z"
   },
   {
    "duration": 4,
    "start_time": "2023-05-02T11:10:41.509Z"
   },
   {
    "duration": 73,
    "start_time": "2023-05-02T11:30:54.422Z"
   },
   {
    "duration": 23,
    "start_time": "2023-05-02T11:30:56.480Z"
   },
   {
    "duration": 80,
    "start_time": "2023-05-02T11:30:58.745Z"
   },
   {
    "duration": 99,
    "start_time": "2023-05-02T11:31:02.260Z"
   },
   {
    "duration": 348,
    "start_time": "2023-05-02T11:31:04.052Z"
   },
   {
    "duration": 77,
    "start_time": "2023-05-02T11:31:07.220Z"
   },
   {
    "duration": 289,
    "start_time": "2023-05-02T11:31:09.228Z"
   },
   {
    "duration": 75,
    "start_time": "2023-05-02T11:31:11.361Z"
   },
   {
    "duration": 448,
    "start_time": "2023-05-02T11:31:15.527Z"
   },
   {
    "duration": 422,
    "start_time": "2023-05-02T11:31:18.511Z"
   },
   {
    "duration": 195,
    "start_time": "2023-05-02T11:31:24.145Z"
   },
   {
    "duration": 566,
    "start_time": "2023-05-02T11:59:50.878Z"
   },
   {
    "duration": 17,
    "start_time": "2023-05-02T11:59:54.623Z"
   },
   {
    "duration": 125,
    "start_time": "2023-05-02T11:59:57.270Z"
   },
   {
    "duration": 48,
    "start_time": "2023-05-02T12:00:06.481Z"
   },
   {
    "duration": 125,
    "start_time": "2023-05-02T13:34:09.427Z"
   },
   {
    "duration": 10325,
    "start_time": "2023-05-02T13:35:08.113Z"
   },
   {
    "duration": 343,
    "start_time": "2023-05-02T14:25:19.045Z"
   },
   {
    "duration": 4,
    "start_time": "2023-05-02T14:25:22.195Z"
   },
   {
    "duration": 5,
    "start_time": "2023-05-02T14:25:53.238Z"
   },
   {
    "duration": 7,
    "start_time": "2023-05-02T14:27:18.270Z"
   },
   {
    "duration": 4,
    "start_time": "2023-05-02T14:27:19.205Z"
   },
   {
    "duration": 7,
    "start_time": "2023-05-02T14:27:34.804Z"
   },
   {
    "duration": 5,
    "start_time": "2023-05-02T14:27:36.850Z"
   },
   {
    "duration": 5,
    "start_time": "2023-05-02T14:27:51.802Z"
   },
   {
    "duration": 4,
    "start_time": "2023-05-02T14:27:56.973Z"
   },
   {
    "duration": 2028,
    "start_time": "2023-05-02T14:38:44.978Z"
   },
   {
    "duration": 131,
    "start_time": "2023-05-02T14:39:01.462Z"
   },
   {
    "duration": 51870,
    "start_time": "2023-05-02T14:39:23.504Z"
   },
   {
    "duration": 184785,
    "start_time": "2023-05-02T14:41:25.751Z"
   },
   {
    "duration": 801163,
    "start_time": "2023-05-02T14:46:47.412Z"
   },
   {
    "duration": 1490,
    "start_time": "2023-05-02T15:01:06.586Z"
   },
   {
    "duration": 769,
    "start_time": "2023-05-02T15:01:08.078Z"
   },
   {
    "duration": 115,
    "start_time": "2023-05-02T15:01:08.848Z"
   },
   {
    "duration": 15,
    "start_time": "2023-05-02T15:01:08.966Z"
   },
   {
    "duration": 116,
    "start_time": "2023-05-02T15:01:08.982Z"
   },
   {
    "duration": 399,
    "start_time": "2023-05-02T15:01:09.100Z"
   },
   {
    "duration": 249,
    "start_time": "2023-05-02T15:01:09.500Z"
   },
   {
    "duration": 6,
    "start_time": "2023-05-02T15:01:09.750Z"
   },
   {
    "duration": 99,
    "start_time": "2023-05-02T15:01:09.757Z"
   },
   {
    "duration": 20,
    "start_time": "2023-05-02T15:01:09.858Z"
   },
   {
    "duration": 88,
    "start_time": "2023-05-02T15:01:09.880Z"
   },
   {
    "duration": 99,
    "start_time": "2023-05-02T15:01:09.969Z"
   },
   {
    "duration": 356,
    "start_time": "2023-05-02T15:01:10.069Z"
   },
   {
    "duration": 80,
    "start_time": "2023-05-02T15:01:10.427Z"
   },
   {
    "duration": 387,
    "start_time": "2023-05-02T15:01:10.508Z"
   },
   {
    "duration": 78,
    "start_time": "2023-05-02T15:01:10.897Z"
   },
   {
    "duration": 416,
    "start_time": "2023-05-02T15:01:10.977Z"
   },
   {
    "duration": 432,
    "start_time": "2023-05-02T15:01:11.394Z"
   },
   {
    "duration": 209,
    "start_time": "2023-05-02T15:01:11.828Z"
   },
   {
    "duration": 574,
    "start_time": "2023-05-02T15:01:12.039Z"
   },
   {
    "duration": 18,
    "start_time": "2023-05-02T15:01:12.615Z"
   },
   {
    "duration": 149,
    "start_time": "2023-05-02T15:01:12.635Z"
   },
   {
    "duration": 47,
    "start_time": "2023-05-02T15:01:12.785Z"
   },
   {
    "duration": 63,
    "start_time": "2023-05-02T15:01:12.833Z"
   },
   {
    "duration": 64,
    "start_time": "2023-05-02T15:01:12.897Z"
   },
   {
    "duration": 6,
    "start_time": "2023-05-02T15:01:13.049Z"
   },
   {
    "duration": 10666,
    "start_time": "2023-05-02T15:01:13.056Z"
   },
   {
    "duration": 346,
    "start_time": "2023-05-02T15:01:23.725Z"
   },
   {
    "duration": 5,
    "start_time": "2023-05-02T15:01:24.072Z"
   },
   {
    "duration": 184847,
    "start_time": "2023-05-02T15:01:24.078Z"
   },
   {
    "duration": 244085,
    "start_time": "2023-05-02T15:04:28.926Z"
   },
   {
    "duration": 137,
    "start_time": "2023-05-02T15:08:33.012Z"
   },
   {
    "duration": 0,
    "start_time": "2023-05-02T15:08:33.151Z"
   },
   {
    "duration": 0,
    "start_time": "2023-05-02T15:08:33.152Z"
   },
   {
    "duration": 0,
    "start_time": "2023-05-02T15:08:33.153Z"
   },
   {
    "duration": 34550,
    "start_time": "2023-05-02T15:58:42.810Z"
   },
   {
    "duration": 1551,
    "start_time": "2023-05-02T15:59:20.547Z"
   },
   {
    "duration": 863,
    "start_time": "2023-05-02T15:59:22.100Z"
   },
   {
    "duration": 146,
    "start_time": "2023-05-02T15:59:22.968Z"
   },
   {
    "duration": 22,
    "start_time": "2023-05-02T15:59:23.116Z"
   },
   {
    "duration": 133,
    "start_time": "2023-05-02T15:59:23.149Z"
   },
   {
    "duration": 505,
    "start_time": "2023-05-02T15:59:23.284Z"
   },
   {
    "duration": 290,
    "start_time": "2023-05-02T15:59:23.790Z"
   },
   {
    "duration": 7,
    "start_time": "2023-05-02T15:59:24.082Z"
   },
   {
    "duration": 104,
    "start_time": "2023-05-02T15:59:24.091Z"
   },
   {
    "duration": 27,
    "start_time": "2023-05-02T15:59:24.197Z"
   },
   {
    "duration": 150,
    "start_time": "2023-05-02T15:59:24.226Z"
   },
   {
    "duration": 135,
    "start_time": "2023-05-02T15:59:24.377Z"
   },
   {
    "duration": 488,
    "start_time": "2023-05-02T15:59:24.513Z"
   },
   {
    "duration": 142,
    "start_time": "2023-05-02T15:59:25.006Z"
   },
   {
    "duration": 356,
    "start_time": "2023-05-02T15:59:25.151Z"
   },
   {
    "duration": 103,
    "start_time": "2023-05-02T15:59:25.509Z"
   },
   {
    "duration": 445,
    "start_time": "2023-05-02T15:59:25.614Z"
   },
   {
    "duration": 460,
    "start_time": "2023-05-02T15:59:26.060Z"
   },
   {
    "duration": 301,
    "start_time": "2023-05-02T15:59:26.524Z"
   },
   {
    "duration": 654,
    "start_time": "2023-05-02T15:59:26.827Z"
   },
   {
    "duration": 21,
    "start_time": "2023-05-02T15:59:27.483Z"
   },
   {
    "duration": 172,
    "start_time": "2023-05-02T15:59:27.507Z"
   },
   {
    "duration": 75,
    "start_time": "2023-05-02T15:59:27.681Z"
   },
   {
    "duration": 87,
    "start_time": "2023-05-02T15:59:27.763Z"
   },
   {
    "duration": 203,
    "start_time": "2023-05-02T15:59:27.852Z"
   },
   {
    "duration": 6,
    "start_time": "2023-05-02T15:59:28.057Z"
   },
   {
    "duration": 11429,
    "start_time": "2023-05-02T15:59:28.065Z"
   },
   {
    "duration": 398,
    "start_time": "2023-05-02T15:59:39.495Z"
   },
   {
    "duration": 5,
    "start_time": "2023-05-02T15:59:39.897Z"
   },
   {
    "duration": 194647,
    "start_time": "2023-05-02T15:59:39.908Z"
   },
   {
    "duration": 245793,
    "start_time": "2023-05-02T16:02:54.566Z"
   },
   {
    "duration": 128112,
    "start_time": "2023-05-02T16:07:00.361Z"
   },
   {
    "duration": 26493,
    "start_time": "2023-05-02T16:10:52.461Z"
   },
   {
    "duration": 34736,
    "start_time": "2023-05-02T16:13:22.029Z"
   },
   {
    "duration": 48434,
    "start_time": "2023-05-02T16:14:48.917Z"
   },
   {
    "duration": 7,
    "start_time": "2023-05-02T16:18:15.227Z"
   },
   {
    "duration": 4,
    "start_time": "2023-05-02T16:18:17.099Z"
   },
   {
    "duration": 1703,
    "start_time": "2023-05-02T16:18:21.514Z"
   },
   {
    "duration": 903,
    "start_time": "2023-05-02T16:18:26.056Z"
   },
   {
    "duration": 53,
    "start_time": "2023-05-02T16:25:45.123Z"
   },
   {
    "duration": 78418,
    "start_time": "2023-05-02T16:25:47.021Z"
   },
   {
    "duration": 27373,
    "start_time": "2023-05-02T16:27:43.881Z"
   },
   {
    "duration": 2873,
    "start_time": "2023-05-02T16:35:26.401Z"
   },
   {
    "duration": 6,
    "start_time": "2023-05-02T16:37:21.814Z"
   },
   {
    "duration": 126,
    "start_time": "2023-05-02T16:37:27.778Z"
   },
   {
    "duration": 78,
    "start_time": "2023-05-02T16:37:35.304Z"
   },
   {
    "duration": 6,
    "start_time": "2023-05-02T16:37:43.447Z"
   },
   {
    "duration": 13,
    "start_time": "2023-05-02T16:37:56.110Z"
   },
   {
    "duration": 6,
    "start_time": "2023-05-02T16:38:12.249Z"
   },
   {
    "duration": 7,
    "start_time": "2023-05-02T16:38:19.775Z"
   },
   {
    "duration": 6,
    "start_time": "2023-05-02T16:40:20.730Z"
   },
   {
    "duration": 6,
    "start_time": "2023-05-02T16:40:25.802Z"
   },
   {
    "duration": 12,
    "start_time": "2023-05-02T16:40:54.787Z"
   },
   {
    "duration": 2677,
    "start_time": "2023-05-02T16:41:03.036Z"
   },
   {
    "duration": 11,
    "start_time": "2023-05-02T16:41:34.056Z"
   },
   {
    "duration": 2944,
    "start_time": "2023-05-02T16:41:43.925Z"
   },
   {
    "duration": 1454,
    "start_time": "2023-05-02T16:41:59.601Z"
   },
   {
    "duration": 785,
    "start_time": "2023-05-02T16:42:01.057Z"
   },
   {
    "duration": 118,
    "start_time": "2023-05-02T16:42:01.844Z"
   },
   {
    "duration": 36,
    "start_time": "2023-05-02T16:42:01.964Z"
   },
   {
    "duration": 172,
    "start_time": "2023-05-02T16:42:02.002Z"
   },
   {
    "duration": 456,
    "start_time": "2023-05-02T16:42:02.175Z"
   },
   {
    "duration": 234,
    "start_time": "2023-05-02T16:42:02.632Z"
   },
   {
    "duration": 4,
    "start_time": "2023-05-02T16:42:02.868Z"
   },
   {
    "duration": 99,
    "start_time": "2023-05-02T16:42:02.873Z"
   },
   {
    "duration": 20,
    "start_time": "2023-05-02T16:42:02.973Z"
   },
   {
    "duration": 92,
    "start_time": "2023-05-02T16:42:02.995Z"
   },
   {
    "duration": 100,
    "start_time": "2023-05-02T16:42:03.089Z"
   },
   {
    "duration": 367,
    "start_time": "2023-05-02T16:42:03.190Z"
   },
   {
    "duration": 74,
    "start_time": "2023-05-02T16:42:03.560Z"
   },
   {
    "duration": 307,
    "start_time": "2023-05-02T16:42:03.636Z"
   },
   {
    "duration": 75,
    "start_time": "2023-05-02T16:42:03.944Z"
   },
   {
    "duration": 430,
    "start_time": "2023-05-02T16:42:04.020Z"
   },
   {
    "duration": 438,
    "start_time": "2023-05-02T16:42:04.452Z"
   },
   {
    "duration": 2793,
    "start_time": "2023-05-02T16:42:04.893Z"
   },
   {
    "duration": 6,
    "start_time": "2023-05-02T16:42:07.688Z"
   },
   {
    "duration": 39,
    "start_time": "2023-05-02T16:42:07.695Z"
   },
   {
    "duration": 2706,
    "start_time": "2023-05-02T16:42:07.736Z"
   },
   {
    "duration": 33,
    "start_time": "2023-05-02T16:42:10.448Z"
   },
   {
    "duration": 2946,
    "start_time": "2023-05-02T16:42:10.483Z"
   },
   {
    "duration": 202,
    "start_time": "2023-05-02T16:42:13.431Z"
   },
   {
    "duration": 545,
    "start_time": "2023-05-02T16:42:13.635Z"
   },
   {
    "duration": 18,
    "start_time": "2023-05-02T16:42:14.181Z"
   },
   {
    "duration": 194,
    "start_time": "2023-05-02T16:42:14.200Z"
   },
   {
    "duration": 55,
    "start_time": "2023-05-02T16:42:14.395Z"
   },
   {
    "duration": 98,
    "start_time": "2023-05-02T16:42:14.452Z"
   },
   {
    "duration": 100,
    "start_time": "2023-05-02T16:42:14.552Z"
   },
   {
    "duration": 100,
    "start_time": "2023-05-02T16:42:14.654Z"
   },
   {
    "duration": 10181,
    "start_time": "2023-05-02T16:42:14.755Z"
   },
   {
    "duration": 355,
    "start_time": "2023-05-02T16:42:24.937Z"
   },
   {
    "duration": 5,
    "start_time": "2023-05-02T16:42:25.293Z"
   },
   {
    "duration": 96342,
    "start_time": "2023-05-02T16:42:25.299Z"
   },
   {
    "duration": 1562,
    "start_time": "2023-05-02T16:56:15.821Z"
   },
   {
    "duration": 796,
    "start_time": "2023-05-02T16:56:17.385Z"
   },
   {
    "duration": 115,
    "start_time": "2023-05-02T16:56:18.182Z"
   },
   {
    "duration": 14,
    "start_time": "2023-05-02T16:56:18.299Z"
   },
   {
    "duration": 108,
    "start_time": "2023-05-02T16:56:18.314Z"
   },
   {
    "duration": 416,
    "start_time": "2023-05-02T16:56:18.424Z"
   },
   {
    "duration": 255,
    "start_time": "2023-05-02T16:56:18.842Z"
   },
   {
    "duration": 4,
    "start_time": "2023-05-02T16:56:19.098Z"
   },
   {
    "duration": 94,
    "start_time": "2023-05-02T16:56:19.104Z"
   },
   {
    "duration": 20,
    "start_time": "2023-05-02T16:56:19.201Z"
   },
   {
    "duration": 97,
    "start_time": "2023-05-02T16:56:19.222Z"
   },
   {
    "duration": 109,
    "start_time": "2023-05-02T16:56:19.320Z"
   },
   {
    "duration": 400,
    "start_time": "2023-05-02T16:56:19.431Z"
   },
   {
    "duration": 86,
    "start_time": "2023-05-02T16:56:19.833Z"
   },
   {
    "duration": 342,
    "start_time": "2023-05-02T16:56:19.921Z"
   },
   {
    "duration": 74,
    "start_time": "2023-05-02T16:56:20.265Z"
   },
   {
    "duration": 440,
    "start_time": "2023-05-02T16:56:20.341Z"
   },
   {
    "duration": 439,
    "start_time": "2023-05-02T16:56:20.783Z"
   },
   {
    "duration": 2868,
    "start_time": "2023-05-02T16:56:21.224Z"
   },
   {
    "duration": 6,
    "start_time": "2023-05-02T16:56:24.093Z"
   },
   {
    "duration": 27,
    "start_time": "2023-05-02T16:56:24.100Z"
   },
   {
    "duration": 2941,
    "start_time": "2023-05-02T16:56:24.129Z"
   },
   {
    "duration": 30,
    "start_time": "2023-05-02T16:56:27.071Z"
   },
   {
    "duration": 3140,
    "start_time": "2023-05-02T16:56:27.102Z"
   },
   {
    "duration": 212,
    "start_time": "2023-05-02T16:56:30.251Z"
   },
   {
    "duration": 624,
    "start_time": "2023-05-02T16:56:30.466Z"
   },
   {
    "duration": 22,
    "start_time": "2023-05-02T16:56:31.092Z"
   },
   {
    "duration": 163,
    "start_time": "2023-05-02T16:56:31.119Z"
   },
   {
    "duration": 55,
    "start_time": "2023-05-02T16:56:31.284Z"
   },
   {
    "duration": 111,
    "start_time": "2023-05-02T16:56:31.349Z"
   },
   {
    "duration": 93,
    "start_time": "2023-05-02T16:56:31.462Z"
   },
   {
    "duration": 117,
    "start_time": "2023-05-02T16:56:31.558Z"
   },
   {
    "duration": 10724,
    "start_time": "2023-05-02T16:56:31.677Z"
   },
   {
    "duration": 363,
    "start_time": "2023-05-02T16:56:42.403Z"
   },
   {
    "duration": 5,
    "start_time": "2023-05-02T16:56:42.768Z"
   },
   {
    "duration": 101357,
    "start_time": "2023-05-02T16:56:42.775Z"
   },
   {
    "duration": 235945,
    "start_time": "2023-05-02T16:58:24.134Z"
   },
   {
    "duration": 1671,
    "start_time": "2023-05-02T17:28:22.567Z"
   },
   {
    "duration": 957,
    "start_time": "2023-05-02T17:28:24.241Z"
   },
   {
    "duration": 163,
    "start_time": "2023-05-02T17:28:25.200Z"
   },
   {
    "duration": 39,
    "start_time": "2023-05-02T17:28:25.368Z"
   },
   {
    "duration": 93,
    "start_time": "2023-05-02T17:28:25.409Z"
   },
   {
    "duration": 477,
    "start_time": "2023-05-02T17:28:25.503Z"
   },
   {
    "duration": 311,
    "start_time": "2023-05-02T17:28:25.981Z"
   },
   {
    "duration": 5,
    "start_time": "2023-05-02T17:28:26.294Z"
   },
   {
    "duration": 91,
    "start_time": "2023-05-02T17:28:26.301Z"
   },
   {
    "duration": 23,
    "start_time": "2023-05-02T17:28:26.394Z"
   },
   {
    "duration": 123,
    "start_time": "2023-05-02T17:28:26.419Z"
   },
   {
    "duration": 105,
    "start_time": "2023-05-02T17:28:26.544Z"
   },
   {
    "duration": 425,
    "start_time": "2023-05-02T17:28:26.650Z"
   },
   {
    "duration": 96,
    "start_time": "2023-05-02T17:28:27.085Z"
   },
   {
    "duration": 361,
    "start_time": "2023-05-02T17:28:27.183Z"
   },
   {
    "duration": 84,
    "start_time": "2023-05-02T17:28:27.553Z"
   },
   {
    "duration": 436,
    "start_time": "2023-05-02T17:28:27.639Z"
   },
   {
    "duration": 458,
    "start_time": "2023-05-02T17:28:28.078Z"
   },
   {
    "duration": 3337,
    "start_time": "2023-05-02T17:28:28.538Z"
   },
   {
    "duration": 8,
    "start_time": "2023-05-02T17:28:31.877Z"
   },
   {
    "duration": 55,
    "start_time": "2023-05-02T17:28:31.887Z"
   },
   {
    "duration": 3579,
    "start_time": "2023-05-02T17:28:31.944Z"
   },
   {
    "duration": 35,
    "start_time": "2023-05-02T17:28:35.525Z"
   },
   {
    "duration": 3835,
    "start_time": "2023-05-02T17:28:35.561Z"
   },
   {
    "duration": 239,
    "start_time": "2023-05-02T17:28:39.398Z"
   },
   {
    "duration": 663,
    "start_time": "2023-05-02T17:28:39.638Z"
   },
   {
    "duration": 20,
    "start_time": "2023-05-02T17:28:40.303Z"
   },
   {
    "duration": 224,
    "start_time": "2023-05-02T17:28:40.325Z"
   },
   {
    "duration": 63,
    "start_time": "2023-05-02T17:28:40.550Z"
   },
   {
    "duration": 78,
    "start_time": "2023-05-02T17:28:40.615Z"
   },
   {
    "duration": 67,
    "start_time": "2023-05-02T17:28:40.695Z"
   },
   {
    "duration": 127,
    "start_time": "2023-05-02T17:28:40.764Z"
   },
   {
    "duration": 103290,
    "start_time": "2023-05-02T17:28:40.892Z"
   },
   {
    "duration": 233409,
    "start_time": "2023-05-02T17:30:24.184Z"
   },
   {
    "duration": 1456,
    "start_time": "2023-05-02T17:51:17.615Z"
   },
   {
    "duration": 896,
    "start_time": "2023-05-02T17:51:19.080Z"
   },
   {
    "duration": 130,
    "start_time": "2023-05-02T17:51:19.980Z"
   },
   {
    "duration": 17,
    "start_time": "2023-05-02T17:51:20.112Z"
   },
   {
    "duration": 118,
    "start_time": "2023-05-02T17:51:20.130Z"
   },
   {
    "duration": 452,
    "start_time": "2023-05-02T17:51:20.263Z"
   },
   {
    "duration": 312,
    "start_time": "2023-05-02T17:51:20.717Z"
   },
   {
    "duration": 5,
    "start_time": "2023-05-02T17:51:21.031Z"
   },
   {
    "duration": 133,
    "start_time": "2023-05-02T17:51:21.037Z"
   },
   {
    "duration": 22,
    "start_time": "2023-05-02T17:51:21.178Z"
   },
   {
    "duration": 111,
    "start_time": "2023-05-02T17:51:21.202Z"
   },
   {
    "duration": 109,
    "start_time": "2023-05-02T17:51:21.314Z"
   },
   {
    "duration": 402,
    "start_time": "2023-05-02T17:51:21.425Z"
   },
   {
    "duration": 96,
    "start_time": "2023-05-02T17:51:21.828Z"
   },
   {
    "duration": 350,
    "start_time": "2023-05-02T17:51:21.925Z"
   },
   {
    "duration": 91,
    "start_time": "2023-05-02T17:51:22.280Z"
   },
   {
    "duration": 423,
    "start_time": "2023-05-02T17:51:22.376Z"
   },
   {
    "duration": 441,
    "start_time": "2023-05-02T17:51:22.801Z"
   },
   {
    "duration": 3240,
    "start_time": "2023-05-02T17:51:23.244Z"
   },
   {
    "duration": 7,
    "start_time": "2023-05-02T17:51:26.485Z"
   },
   {
    "duration": 36,
    "start_time": "2023-05-02T17:51:26.493Z"
   },
   {
    "duration": 3145,
    "start_time": "2023-05-02T17:51:26.530Z"
   },
   {
    "duration": 28,
    "start_time": "2023-05-02T17:51:29.677Z"
   },
   {
    "duration": 3298,
    "start_time": "2023-05-02T17:51:29.707Z"
   },
   {
    "duration": 235,
    "start_time": "2023-05-02T17:51:33.007Z"
   },
   {
    "duration": 623,
    "start_time": "2023-05-02T17:51:33.243Z"
   },
   {
    "duration": 245,
    "start_time": "2023-05-02T17:51:33.876Z"
   },
   {
    "duration": 51,
    "start_time": "2023-05-02T17:51:34.124Z"
   },
   {
    "duration": 55,
    "start_time": "2023-05-02T17:51:34.177Z"
   },
   {
    "duration": 55,
    "start_time": "2023-05-02T17:51:34.234Z"
   },
   {
    "duration": 165,
    "start_time": "2023-05-02T17:51:34.290Z"
   },
   {
    "duration": 19,
    "start_time": "2023-05-02T17:51:34.466Z"
   },
   {
    "duration": 67562,
    "start_time": "2023-05-02T17:51:34.486Z"
   },
   {
    "duration": 157625,
    "start_time": "2023-05-02T17:52:42.053Z"
   },
   {
    "duration": 1536,
    "start_time": "2023-05-02T18:06:14.999Z"
   },
   {
    "duration": 932,
    "start_time": "2023-05-02T18:06:16.537Z"
   },
   {
    "duration": 141,
    "start_time": "2023-05-02T18:06:17.477Z"
   },
   {
    "duration": 14,
    "start_time": "2023-05-02T18:06:17.621Z"
   },
   {
    "duration": 103,
    "start_time": "2023-05-02T18:06:17.637Z"
   },
   {
    "duration": 485,
    "start_time": "2023-05-02T18:06:17.742Z"
   },
   {
    "duration": 295,
    "start_time": "2023-05-02T18:06:18.228Z"
   },
   {
    "duration": 5,
    "start_time": "2023-05-02T18:06:18.525Z"
   },
   {
    "duration": 88,
    "start_time": "2023-05-02T18:06:18.532Z"
   },
   {
    "duration": 21,
    "start_time": "2023-05-02T18:06:18.622Z"
   },
   {
    "duration": 128,
    "start_time": "2023-05-02T18:06:18.648Z"
   },
   {
    "duration": 114,
    "start_time": "2023-05-02T18:06:18.778Z"
   },
   {
    "duration": 433,
    "start_time": "2023-05-02T18:06:18.893Z"
   },
   {
    "duration": 95,
    "start_time": "2023-05-02T18:06:19.328Z"
   },
   {
    "duration": 342,
    "start_time": "2023-05-02T18:06:19.425Z"
   },
   {
    "duration": 111,
    "start_time": "2023-05-02T18:06:19.775Z"
   },
   {
    "duration": 447,
    "start_time": "2023-05-02T18:06:19.887Z"
   },
   {
    "duration": 447,
    "start_time": "2023-05-02T18:06:20.336Z"
   },
   {
    "duration": 3094,
    "start_time": "2023-05-02T18:06:20.785Z"
   },
   {
    "duration": 7,
    "start_time": "2023-05-02T18:06:23.880Z"
   },
   {
    "duration": 32,
    "start_time": "2023-05-02T18:06:23.888Z"
   },
   {
    "duration": 3169,
    "start_time": "2023-05-02T18:06:23.921Z"
   },
   {
    "duration": 31,
    "start_time": "2023-05-02T18:06:27.091Z"
   },
   {
    "duration": 3341,
    "start_time": "2023-05-02T18:06:27.124Z"
   },
   {
    "duration": 242,
    "start_time": "2023-05-02T18:06:30.467Z"
   },
   {
    "duration": 672,
    "start_time": "2023-05-02T18:06:30.711Z"
   },
   {
    "duration": 289,
    "start_time": "2023-05-02T18:06:31.386Z"
   },
   {
    "duration": 31,
    "start_time": "2023-05-02T18:06:31.685Z"
   },
   {
    "duration": 83,
    "start_time": "2023-05-02T18:06:31.718Z"
   },
   {
    "duration": 59,
    "start_time": "2023-05-02T18:06:31.803Z"
   },
   {
    "duration": 95,
    "start_time": "2023-05-02T18:06:31.863Z"
   },
   {
    "duration": 84,
    "start_time": "2023-05-02T18:06:31.970Z"
   },
   {
    "duration": 67236,
    "start_time": "2023-05-02T18:06:32.058Z"
   },
   {
    "duration": 156697,
    "start_time": "2023-05-02T18:07:39.296Z"
   },
   {
    "duration": 1536,
    "start_time": "2023-05-02T18:21:22.543Z"
   },
   {
    "duration": 914,
    "start_time": "2023-05-02T18:21:24.083Z"
   },
   {
    "duration": 137,
    "start_time": "2023-05-02T18:21:24.999Z"
   },
   {
    "duration": 43,
    "start_time": "2023-05-02T18:21:25.138Z"
   },
   {
    "duration": 111,
    "start_time": "2023-05-02T18:21:25.184Z"
   },
   {
    "duration": 451,
    "start_time": "2023-05-02T18:21:25.296Z"
   },
   {
    "duration": 319,
    "start_time": "2023-05-02T18:21:25.756Z"
   },
   {
    "duration": 5,
    "start_time": "2023-05-02T18:21:26.084Z"
   },
   {
    "duration": 84,
    "start_time": "2023-05-02T18:21:26.091Z"
   },
   {
    "duration": 20,
    "start_time": "2023-05-02T18:21:26.177Z"
   },
   {
    "duration": 99,
    "start_time": "2023-05-02T18:21:26.199Z"
   },
   {
    "duration": 121,
    "start_time": "2023-05-02T18:21:26.299Z"
   },
   {
    "duration": 400,
    "start_time": "2023-05-02T18:21:26.421Z"
   },
   {
    "duration": 99,
    "start_time": "2023-05-02T18:21:26.824Z"
   },
   {
    "duration": 339,
    "start_time": "2023-05-02T18:21:26.924Z"
   },
   {
    "duration": 81,
    "start_time": "2023-05-02T18:21:27.264Z"
   },
   {
    "duration": 458,
    "start_time": "2023-05-02T18:21:27.355Z"
   },
   {
    "duration": 449,
    "start_time": "2023-05-02T18:21:27.815Z"
   },
   {
    "duration": 8,
    "start_time": "2023-05-02T18:21:28.270Z"
   },
   {
    "duration": 3398,
    "start_time": "2023-05-02T18:21:28.280Z"
   },
   {
    "duration": 8,
    "start_time": "2023-05-02T18:21:31.679Z"
   },
   {
    "duration": 56,
    "start_time": "2023-05-02T18:21:31.689Z"
   },
   {
    "duration": 3139,
    "start_time": "2023-05-02T18:21:31.747Z"
   },
   {
    "duration": 33,
    "start_time": "2023-05-02T18:21:34.888Z"
   },
   {
    "duration": 3423,
    "start_time": "2023-05-02T18:21:34.923Z"
   },
   {
    "duration": 231,
    "start_time": "2023-05-02T18:21:38.348Z"
   },
   {
    "duration": 664,
    "start_time": "2023-05-02T18:21:38.582Z"
   },
   {
    "duration": 238,
    "start_time": "2023-05-02T18:21:39.255Z"
   },
   {
    "duration": 27,
    "start_time": "2023-05-02T18:21:39.495Z"
   },
   {
    "duration": 82,
    "start_time": "2023-05-02T18:21:39.523Z"
   },
   {
    "duration": 64,
    "start_time": "2023-05-02T18:21:39.607Z"
   },
   {
    "duration": 18,
    "start_time": "2023-05-02T18:21:39.672Z"
   },
   {
    "duration": 66,
    "start_time": "2023-05-02T18:21:39.691Z"
   },
   {
    "duration": 68723,
    "start_time": "2023-05-02T18:21:39.758Z"
   },
   {
    "duration": 156638,
    "start_time": "2023-05-02T18:22:48.483Z"
   },
   {
    "duration": 520545,
    "start_time": "2023-05-02T18:25:25.123Z"
   },
   {
    "duration": 87,
    "start_time": "2023-05-02T18:34:05.670Z"
   },
   {
    "duration": 57,
    "start_time": "2023-05-02T18:34:05.759Z"
   },
   {
    "duration": 53354,
    "start_time": "2023-05-02T18:34:05.856Z"
   },
   {
    "duration": 2,
    "start_time": "2023-05-02T18:34:59.212Z"
   },
   {
    "duration": 42,
    "start_time": "2023-05-02T18:34:59.217Z"
   },
   {
    "duration": 2043,
    "start_time": "2023-05-02T18:34:59.269Z"
   },
   {
    "duration": 3,
    "start_time": "2023-05-02T18:35:01.314Z"
   },
   {
    "duration": 46,
    "start_time": "2023-05-02T18:35:01.318Z"
   },
   {
    "duration": 264,
    "start_time": "2023-05-02T18:42:47.932Z"
   },
   {
    "duration": 96,
    "start_time": "2023-05-02T18:43:37.743Z"
   },
   {
    "duration": 333443,
    "start_time": "2023-05-02T18:44:11.180Z"
   },
   {
    "duration": 1527,
    "start_time": "2023-05-02T18:49:52.678Z"
   },
   {
    "duration": 873,
    "start_time": "2023-05-02T18:49:54.207Z"
   },
   {
    "duration": 156,
    "start_time": "2023-05-02T18:49:55.083Z"
   },
   {
    "duration": 39,
    "start_time": "2023-05-02T18:49:55.241Z"
   },
   {
    "duration": 111,
    "start_time": "2023-05-02T18:49:55.284Z"
   },
   {
    "duration": 426,
    "start_time": "2023-05-02T18:49:55.396Z"
   },
   {
    "duration": 286,
    "start_time": "2023-05-02T18:49:55.824Z"
   },
   {
    "duration": 4,
    "start_time": "2023-05-02T18:49:56.112Z"
   },
   {
    "duration": 94,
    "start_time": "2023-05-02T18:49:56.117Z"
   },
   {
    "duration": 28,
    "start_time": "2023-05-02T18:49:56.213Z"
   },
   {
    "duration": 124,
    "start_time": "2023-05-02T18:49:56.242Z"
   },
   {
    "duration": 100,
    "start_time": "2023-05-02T18:49:56.376Z"
   },
   {
    "duration": 397,
    "start_time": "2023-05-02T18:49:56.478Z"
   },
   {
    "duration": 91,
    "start_time": "2023-05-02T18:49:56.881Z"
   },
   {
    "duration": 355,
    "start_time": "2023-05-02T18:49:56.976Z"
   },
   {
    "duration": 96,
    "start_time": "2023-05-02T18:49:57.333Z"
   },
   {
    "duration": 452,
    "start_time": "2023-05-02T18:49:57.431Z"
   },
   {
    "duration": 442,
    "start_time": "2023-05-02T18:49:57.885Z"
   },
   {
    "duration": 3,
    "start_time": "2023-05-02T18:49:58.329Z"
   },
   {
    "duration": 3389,
    "start_time": "2023-05-02T18:49:58.333Z"
   },
   {
    "duration": 6,
    "start_time": "2023-05-02T18:50:01.724Z"
   },
   {
    "duration": 79,
    "start_time": "2023-05-02T18:50:01.731Z"
   },
   {
    "duration": 3326,
    "start_time": "2023-05-02T18:50:01.812Z"
   },
   {
    "duration": 41,
    "start_time": "2023-05-02T18:50:05.140Z"
   },
   {
    "duration": 3417,
    "start_time": "2023-05-02T18:50:05.183Z"
   },
   {
    "duration": 232,
    "start_time": "2023-05-02T18:50:08.601Z"
   },
   {
    "duration": 654,
    "start_time": "2023-05-02T18:50:08.835Z"
   },
   {
    "duration": 251,
    "start_time": "2023-05-02T18:50:09.490Z"
   },
   {
    "duration": 42,
    "start_time": "2023-05-02T18:50:09.743Z"
   },
   {
    "duration": 95,
    "start_time": "2023-05-02T18:50:09.786Z"
   },
   {
    "duration": 84,
    "start_time": "2023-05-02T18:50:09.883Z"
   },
   {
    "duration": 13,
    "start_time": "2023-05-02T18:50:09.976Z"
   },
   {
    "duration": 109,
    "start_time": "2023-05-02T18:50:10.050Z"
   },
   {
    "duration": 68815,
    "start_time": "2023-05-02T18:50:10.160Z"
   },
   {
    "duration": 158769,
    "start_time": "2023-05-02T18:51:18.977Z"
   },
   {
    "duration": 800834,
    "start_time": "2023-05-02T18:53:57.749Z"
   },
   {
    "duration": 185300,
    "start_time": "2023-05-02T19:07:18.663Z"
   },
   {
    "duration": 49,
    "start_time": "2023-05-02T19:10:23.965Z"
   },
   {
    "duration": 57148,
    "start_time": "2023-05-02T19:10:24.063Z"
   },
   {
    "duration": 2,
    "start_time": "2023-05-02T19:11:21.213Z"
   },
   {
    "duration": 43,
    "start_time": "2023-05-02T19:11:21.219Z"
   },
   {
    "duration": 1912,
    "start_time": "2023-05-02T19:11:21.264Z"
   },
   {
    "duration": 3,
    "start_time": "2023-05-02T19:11:23.181Z"
   },
   {
    "duration": 12,
    "start_time": "2023-05-02T19:11:23.186Z"
   },
   {
    "duration": 1693,
    "start_time": "2023-05-02T19:12:15.347Z"
   },
   {
    "duration": 896,
    "start_time": "2023-05-02T19:12:17.042Z"
   },
   {
    "duration": 146,
    "start_time": "2023-05-02T19:12:17.940Z"
   },
   {
    "duration": 129,
    "start_time": "2023-05-02T19:12:18.088Z"
   },
   {
    "duration": 94,
    "start_time": "2023-05-02T19:12:18.218Z"
   },
   {
    "duration": 465,
    "start_time": "2023-05-02T19:12:18.314Z"
   },
   {
    "duration": 297,
    "start_time": "2023-05-02T19:12:18.781Z"
   },
   {
    "duration": 17,
    "start_time": "2023-05-02T19:12:19.079Z"
   },
   {
    "duration": 112,
    "start_time": "2023-05-02T19:12:19.097Z"
   },
   {
    "duration": 22,
    "start_time": "2023-05-02T19:12:19.212Z"
   },
   {
    "duration": 99,
    "start_time": "2023-05-02T19:12:19.235Z"
   },
   {
    "duration": 127,
    "start_time": "2023-05-02T19:12:19.336Z"
   },
   {
    "duration": 449,
    "start_time": "2023-05-02T19:12:19.464Z"
   },
   {
    "duration": 98,
    "start_time": "2023-05-02T19:12:19.915Z"
   },
   {
    "duration": 360,
    "start_time": "2023-05-02T19:12:20.015Z"
   },
   {
    "duration": 92,
    "start_time": "2023-05-02T19:12:20.380Z"
   },
   {
    "duration": 452,
    "start_time": "2023-05-02T19:12:20.474Z"
   },
   {
    "duration": 469,
    "start_time": "2023-05-02T19:12:20.928Z"
   },
   {
    "duration": 3,
    "start_time": "2023-05-02T19:12:21.399Z"
   },
   {
    "duration": 3719,
    "start_time": "2023-05-02T19:12:21.404Z"
   },
   {
    "duration": 7,
    "start_time": "2023-05-02T19:12:25.125Z"
   },
   {
    "duration": 41,
    "start_time": "2023-05-02T19:12:25.133Z"
   },
   {
    "duration": 3348,
    "start_time": "2023-05-02T19:12:25.176Z"
   },
   {
    "duration": 52,
    "start_time": "2023-05-02T19:12:28.526Z"
   },
   {
    "duration": 3684,
    "start_time": "2023-05-02T19:12:28.579Z"
   },
   {
    "duration": 299,
    "start_time": "2023-05-02T19:12:32.272Z"
   },
   {
    "duration": 641,
    "start_time": "2023-05-02T19:12:32.574Z"
   },
   {
    "duration": 180,
    "start_time": "2023-05-02T19:12:33.218Z"
   },
   {
    "duration": 31,
    "start_time": "2023-05-02T19:12:33.400Z"
   },
   {
    "duration": 71,
    "start_time": "2023-05-02T19:12:33.433Z"
   },
   {
    "duration": 82,
    "start_time": "2023-05-02T19:12:33.505Z"
   },
   {
    "duration": 167,
    "start_time": "2023-05-02T19:12:33.589Z"
   },
   {
    "duration": 24,
    "start_time": "2023-05-02T19:12:33.762Z"
   },
   {
    "duration": 69131,
    "start_time": "2023-05-02T19:12:33.788Z"
   },
   {
    "duration": 160491,
    "start_time": "2023-05-02T19:13:42.920Z"
   },
   {
    "duration": 3,
    "start_time": "2023-05-02T19:16:23.412Z"
   },
   {
    "duration": 123567,
    "start_time": "2023-05-02T19:16:23.416Z"
   },
   {
    "duration": 4,
    "start_time": "2023-05-02T19:18:26.984Z"
   },
   {
    "duration": 111,
    "start_time": "2023-05-02T19:18:27.060Z"
   },
   {
    "duration": 54132,
    "start_time": "2023-05-02T19:18:27.172Z"
   },
   {
    "duration": 3,
    "start_time": "2023-05-02T19:19:21.305Z"
   },
   {
    "duration": 50,
    "start_time": "2023-05-02T19:19:21.309Z"
   },
   {
    "duration": 1897,
    "start_time": "2023-05-02T19:19:21.362Z"
   },
   {
    "duration": 4,
    "start_time": "2023-05-02T19:19:23.263Z"
   },
   {
    "duration": 24,
    "start_time": "2023-05-02T19:19:23.272Z"
   },
   {
    "duration": 800111,
    "start_time": "2023-05-02T19:20:00.444Z"
   },
   {
    "duration": 750403,
    "start_time": "2023-05-02T19:39:02.382Z"
   },
   {
    "duration": 212751,
    "start_time": "2023-05-02T19:53:34.024Z"
   },
   {
    "duration": 216171,
    "start_time": "2023-05-02T19:58:26.585Z"
   },
   {
    "duration": 622766,
    "start_time": "2023-05-02T20:03:35.885Z"
   },
   {
    "duration": 679719,
    "start_time": "2023-05-02T20:23:29.738Z"
   },
   {
    "duration": 500,
    "start_time": "2023-05-02T20:35:32.363Z"
   },
   {
    "duration": 14,
    "start_time": "2023-05-02T20:35:52.771Z"
   },
   {
    "duration": 2027,
    "start_time": "2023-05-02T21:23:28.272Z"
   },
   {
    "duration": 438,
    "start_time": "2023-05-02T21:24:26.622Z"
   },
   {
    "duration": 2167,
    "start_time": "2023-05-02T21:25:20.501Z"
   },
   {
    "duration": 1625,
    "start_time": "2023-05-04T10:49:28.417Z"
   },
   {
    "duration": 1233,
    "start_time": "2023-05-04T10:49:32.763Z"
   },
   {
    "duration": 133,
    "start_time": "2023-05-04T10:49:36.714Z"
   },
   {
    "duration": 23,
    "start_time": "2023-05-04T10:55:38.522Z"
   },
   {
    "duration": 97,
    "start_time": "2023-05-04T10:55:42.296Z"
   },
   {
    "duration": 468,
    "start_time": "2023-05-04T10:55:46.416Z"
   },
   {
    "duration": 275,
    "start_time": "2023-05-04T10:55:54.638Z"
   },
   {
    "duration": 7,
    "start_time": "2023-05-04T11:27:18.300Z"
   },
   {
    "duration": 86,
    "start_time": "2023-05-04T11:27:31.123Z"
   },
   {
    "duration": 23,
    "start_time": "2023-05-04T11:27:36.576Z"
   },
   {
    "duration": 106,
    "start_time": "2023-05-04T11:27:39.644Z"
   },
   {
    "duration": 90,
    "start_time": "2023-05-04T11:27:40.924Z"
   },
   {
    "duration": 372,
    "start_time": "2023-05-04T11:27:43.134Z"
   },
   {
    "duration": 93,
    "start_time": "2023-05-04T11:27:47.140Z"
   },
   {
    "duration": 376,
    "start_time": "2023-05-04T11:27:49.710Z"
   },
   {
    "duration": 90,
    "start_time": "2023-05-04T11:27:52.923Z"
   },
   {
    "duration": 118,
    "start_time": "2023-05-04T11:28:16.042Z"
   },
   {
    "duration": 36,
    "start_time": "2023-05-04T11:28:26.592Z"
   },
   {
    "duration": 35,
    "start_time": "2023-05-04T11:28:52.559Z"
   },
   {
    "duration": 38,
    "start_time": "2023-05-04T11:29:06.284Z"
   },
   {
    "duration": 33,
    "start_time": "2023-05-04T11:29:07.547Z"
   },
   {
    "duration": 1416,
    "start_time": "2023-05-04T11:29:43.927Z"
   },
   {
    "duration": 910,
    "start_time": "2023-05-04T11:29:48.649Z"
   },
   {
    "duration": 139,
    "start_time": "2023-05-04T11:29:51.081Z"
   },
   {
    "duration": 16,
    "start_time": "2023-05-04T11:29:54.518Z"
   },
   {
    "duration": 90,
    "start_time": "2023-05-04T11:29:55.501Z"
   },
   {
    "duration": 475,
    "start_time": "2023-05-04T11:29:57.984Z"
   },
   {
    "duration": 281,
    "start_time": "2023-05-04T11:29:59.860Z"
   },
   {
    "duration": 5,
    "start_time": "2023-05-04T11:30:08.159Z"
   },
   {
    "duration": 84,
    "start_time": "2023-05-04T11:30:13.416Z"
   },
   {
    "duration": 23,
    "start_time": "2023-05-04T11:30:16.105Z"
   },
   {
    "duration": 102,
    "start_time": "2023-05-04T11:30:17.737Z"
   },
   {
    "duration": 105,
    "start_time": "2023-05-04T11:30:19.575Z"
   },
   {
    "duration": 402,
    "start_time": "2023-05-04T11:30:20.628Z"
   },
   {
    "duration": 92,
    "start_time": "2023-05-04T11:30:24.223Z"
   },
   {
    "duration": 324,
    "start_time": "2023-05-04T11:30:26.194Z"
   },
   {
    "duration": 95,
    "start_time": "2023-05-04T11:30:28.354Z"
   },
   {
    "duration": 39,
    "start_time": "2023-05-04T11:30:31.436Z"
   },
   {
    "duration": 35,
    "start_time": "2023-05-04T11:30:34.419Z"
   },
   {
    "duration": 465,
    "start_time": "2023-05-04T11:30:43.478Z"
   },
   {
    "duration": 433,
    "start_time": "2023-05-04T11:31:29.748Z"
   },
   {
    "duration": 3,
    "start_time": "2023-05-04T11:31:36.643Z"
   },
   {
    "duration": 3043,
    "start_time": "2023-05-04T11:31:41.132Z"
   },
   {
    "duration": 82,
    "start_time": "2023-05-04T11:33:34.474Z"
   },
   {
    "duration": 22,
    "start_time": "2023-05-04T11:33:37.952Z"
   },
   {
    "duration": 110,
    "start_time": "2023-05-04T11:33:39.421Z"
   },
   {
    "duration": 88,
    "start_time": "2023-05-04T11:33:40.086Z"
   },
   {
    "duration": 438,
    "start_time": "2023-05-04T11:33:40.854Z"
   },
   {
    "duration": 115,
    "start_time": "2023-05-04T11:33:41.596Z"
   },
   {
    "duration": 500,
    "start_time": "2023-05-04T11:33:43.330Z"
   },
   {
    "duration": 97,
    "start_time": "2023-05-04T11:33:48.375Z"
   },
   {
    "duration": 40,
    "start_time": "2023-05-04T11:33:50.485Z"
   },
   {
    "duration": 34,
    "start_time": "2023-05-04T11:33:51.288Z"
   },
   {
    "duration": 526,
    "start_time": "2023-05-04T11:33:53.535Z"
   },
   {
    "duration": 511,
    "start_time": "2023-05-04T11:33:55.915Z"
   },
   {
    "duration": 3,
    "start_time": "2023-05-04T11:34:01.293Z"
   },
   {
    "duration": 2935,
    "start_time": "2023-05-04T11:34:02.118Z"
   },
   {
    "duration": 304,
    "start_time": "2023-05-04T11:34:39.897Z"
   },
   {
    "duration": 96,
    "start_time": "2023-05-04T11:35:55.773Z"
   },
   {
    "duration": 3423,
    "start_time": "2023-05-04T11:35:57.755Z"
   },
   {
    "duration": 82,
    "start_time": "2023-05-04T11:42:26.611Z"
   },
   {
    "duration": 48,
    "start_time": "2023-05-04T11:42:58.276Z"
   },
   {
    "duration": 1962,
    "start_time": "2023-05-04T18:13:49.604Z"
   },
   {
    "duration": 3397,
    "start_time": "2023-05-04T18:13:54.088Z"
   },
   {
    "duration": 137,
    "start_time": "2023-05-04T18:13:59.021Z"
   },
   {
    "duration": 19,
    "start_time": "2023-05-04T18:14:01.106Z"
   },
   {
    "duration": 116,
    "start_time": "2023-05-04T18:14:03.064Z"
   },
   {
    "duration": 556,
    "start_time": "2023-05-04T18:14:04.819Z"
   },
   {
    "duration": 267,
    "start_time": "2023-05-04T18:14:07.690Z"
   },
   {
    "duration": 6,
    "start_time": "2023-05-04T18:14:14.399Z"
   },
   {
    "duration": 50,
    "start_time": "2023-05-04T18:14:23.585Z"
   },
   {
    "duration": 23,
    "start_time": "2023-05-04T18:14:27.029Z"
   },
   {
    "duration": 113,
    "start_time": "2023-05-04T18:14:31.518Z"
   },
   {
    "duration": 112,
    "start_time": "2023-05-04T18:14:33.992Z"
   },
   {
    "duration": 770,
    "start_time": "2023-05-04T18:14:37.596Z"
   },
   {
    "duration": 95,
    "start_time": "2023-05-04T18:14:42.422Z"
   },
   {
    "duration": 763,
    "start_time": "2023-05-04T18:14:46.312Z"
   },
   {
    "duration": 91,
    "start_time": "2023-05-04T18:14:48.405Z"
   },
   {
    "duration": 47,
    "start_time": "2023-05-04T18:14:58.235Z"
   },
   {
    "duration": 37,
    "start_time": "2023-05-04T18:15:00.857Z"
   },
   {
    "duration": 772,
    "start_time": "2023-05-04T18:15:12.224Z"
   },
   {
    "duration": 716,
    "start_time": "2023-05-04T18:15:33.955Z"
   },
   {
    "duration": 3,
    "start_time": "2023-05-04T18:15:38.988Z"
   },
   {
    "duration": 2964,
    "start_time": "2023-05-04T18:16:46.197Z"
   },
   {
    "duration": 110,
    "start_time": "2023-05-04T18:17:02.596Z"
   },
   {
    "duration": 3463,
    "start_time": "2023-05-04T18:17:04.504Z"
   },
   {
    "duration": 17,
    "start_time": "2023-05-04T18:27:35.796Z"
   },
   {
    "duration": 52,
    "start_time": "2023-05-04T18:28:54.664Z"
   },
   {
    "duration": 2805,
    "start_time": "2023-05-04T18:28:57.059Z"
   },
   {
    "duration": 61,
    "start_time": "2023-05-04T18:29:04.123Z"
   },
   {
    "duration": 3132,
    "start_time": "2023-05-04T18:29:08.790Z"
   },
   {
    "duration": 2874,
    "start_time": "2023-05-04T18:31:25.633Z"
   },
   {
    "duration": 3107,
    "start_time": "2023-05-04T18:34:27.552Z"
   },
   {
    "duration": 3145,
    "start_time": "2023-05-04T18:37:30.453Z"
   },
   {
    "duration": 115,
    "start_time": "2023-05-04T18:39:37.231Z"
   },
   {
    "duration": 3597,
    "start_time": "2023-05-04T18:40:08.037Z"
   },
   {
    "duration": 6,
    "start_time": "2023-05-04T18:42:59.233Z"
   },
   {
    "duration": 3270,
    "start_time": "2023-05-04T18:43:11.509Z"
   },
   {
    "duration": 3876,
    "start_time": "2023-05-04T18:44:19.370Z"
   },
   {
    "duration": 18,
    "start_time": "2023-05-04T18:45:44.732Z"
   },
   {
    "duration": 5,
    "start_time": "2023-05-04T18:56:07.982Z"
   },
   {
    "duration": 20,
    "start_time": "2023-05-04T18:56:15.253Z"
   },
   {
    "duration": 3306,
    "start_time": "2023-05-04T18:56:21.330Z"
   },
   {
    "duration": 6352,
    "start_time": "2023-05-04T18:56:42.870Z"
   },
   {
    "duration": 384,
    "start_time": "2023-05-04T18:57:42.422Z"
   },
   {
    "duration": 3743,
    "start_time": "2023-05-04T19:00:35.068Z"
   },
   {
    "duration": 3141,
    "start_time": "2023-05-04T19:02:20.544Z"
   },
   {
    "duration": 265,
    "start_time": "2023-05-04T19:02:47.822Z"
   },
   {
    "duration": 193,
    "start_time": "2023-05-04T19:06:03.034Z"
   },
   {
    "duration": 187,
    "start_time": "2023-05-04T19:39:00.489Z"
   },
   {
    "duration": 18,
    "start_time": "2023-05-04T19:45:44.012Z"
   },
   {
    "duration": 803,
    "start_time": "2023-05-04T19:46:16.431Z"
   },
   {
    "duration": 32,
    "start_time": "2023-05-04T19:49:02.774Z"
   },
   {
    "duration": 19,
    "start_time": "2023-05-04T19:49:31.975Z"
   },
   {
    "duration": 10,
    "start_time": "2023-05-04T19:52:31.122Z"
   },
   {
    "duration": 3532,
    "start_time": "2023-05-04T19:52:52.635Z"
   },
   {
    "duration": 86,
    "start_time": "2023-05-04T19:53:03.472Z"
   },
   {
    "duration": 3,
    "start_time": "2023-05-04T20:00:39.403Z"
   },
   {
    "duration": 205,
    "start_time": "2023-05-04T20:00:50.630Z"
   },
   {
    "duration": 2879,
    "start_time": "2023-05-04T20:00:54.610Z"
   },
   {
    "duration": 114,
    "start_time": "2023-05-04T20:01:06.080Z"
   },
   {
    "duration": 751,
    "start_time": "2023-05-04T20:01:10.969Z"
   },
   {
    "duration": 23,
    "start_time": "2023-05-04T20:01:25.299Z"
   },
   {
    "duration": 25,
    "start_time": "2023-05-04T20:01:34.285Z"
   },
   {
    "duration": 731,
    "start_time": "2023-05-04T20:01:48.051Z"
   },
   {
    "duration": 37,
    "start_time": "2023-05-04T20:01:50.932Z"
   },
   {
    "duration": 7,
    "start_time": "2023-05-04T20:01:54.571Z"
   },
   {
    "duration": 144617,
    "start_time": "2023-05-04T20:01:58.068Z"
   },
   {
    "duration": 339170,
    "start_time": "2023-05-04T20:05:11.567Z"
   },
   {
    "duration": 134164,
    "start_time": "2023-05-04T20:13:38.313Z"
   },
   {
    "duration": 1748,
    "start_time": "2023-05-04T20:19:00.045Z"
   },
   {
    "duration": 1003,
    "start_time": "2023-05-04T20:19:01.796Z"
   },
   {
    "duration": 143,
    "start_time": "2023-05-04T20:19:02.801Z"
   },
   {
    "duration": 35,
    "start_time": "2023-05-04T20:19:02.946Z"
   },
   {
    "duration": 111,
    "start_time": "2023-05-04T20:19:02.984Z"
   },
   {
    "duration": 609,
    "start_time": "2023-05-04T20:19:03.097Z"
   },
   {
    "duration": 283,
    "start_time": "2023-05-04T20:19:03.709Z"
   },
   {
    "duration": 5,
    "start_time": "2023-05-04T20:19:03.994Z"
   },
   {
    "duration": 78,
    "start_time": "2023-05-04T20:19:04.001Z"
   },
   {
    "duration": 28,
    "start_time": "2023-05-04T20:19:04.081Z"
   },
   {
    "duration": 176,
    "start_time": "2023-05-04T20:19:04.111Z"
   },
   {
    "duration": 126,
    "start_time": "2023-05-04T20:19:04.289Z"
   },
   {
    "duration": 899,
    "start_time": "2023-05-04T20:19:04.417Z"
   },
   {
    "duration": 134,
    "start_time": "2023-05-04T20:19:05.321Z"
   },
   {
    "duration": 870,
    "start_time": "2023-05-04T20:19:05.460Z"
   },
   {
    "duration": 117,
    "start_time": "2023-05-04T20:19:06.332Z"
   },
   {
    "duration": 51,
    "start_time": "2023-05-04T20:19:06.460Z"
   },
   {
    "duration": 42,
    "start_time": "2023-05-04T20:19:06.513Z"
   },
   {
    "duration": 885,
    "start_time": "2023-05-04T20:19:06.561Z"
   },
   {
    "duration": 809,
    "start_time": "2023-05-04T20:19:07.449Z"
   },
   {
    "duration": 4,
    "start_time": "2023-05-04T20:19:08.262Z"
   },
   {
    "duration": 3026,
    "start_time": "2023-05-04T20:19:08.269Z"
   },
   {
    "duration": 120,
    "start_time": "2023-05-04T20:19:11.298Z"
   },
   {
    "duration": 3437,
    "start_time": "2023-05-04T20:19:11.420Z"
   },
   {
    "duration": 19,
    "start_time": "2023-05-04T20:19:14.860Z"
   },
   {
    "duration": 80,
    "start_time": "2023-05-04T20:19:14.882Z"
   },
   {
    "duration": 3152,
    "start_time": "2023-05-04T20:19:14.964Z"
   },
   {
    "duration": 60,
    "start_time": "2023-05-04T20:19:18.118Z"
   },
   {
    "duration": 3250,
    "start_time": "2023-05-04T20:19:18.180Z"
   },
   {
    "duration": 2975,
    "start_time": "2023-05-04T20:19:21.432Z"
   },
   {
    "duration": 3437,
    "start_time": "2023-05-04T20:19:24.409Z"
   },
   {
    "duration": 3055,
    "start_time": "2023-05-04T20:19:27.848Z"
   },
   {
    "duration": 3065,
    "start_time": "2023-05-04T20:19:30.905Z"
   },
   {
    "duration": 5,
    "start_time": "2023-05-04T20:19:33.972Z"
   },
   {
    "duration": 23,
    "start_time": "2023-05-04T20:19:33.979Z"
   },
   {
    "duration": 327,
    "start_time": "2023-05-04T20:19:34.004Z"
   },
   {
    "duration": 3232,
    "start_time": "2023-05-04T20:19:34.333Z"
   },
   {
    "duration": 222,
    "start_time": "2023-05-04T20:19:37.567Z"
   },
   {
    "duration": 149,
    "start_time": "2023-05-04T20:19:37.791Z"
   },
   {
    "duration": 2627,
    "start_time": "2023-05-04T20:19:37.944Z"
   },
   {
    "duration": 86,
    "start_time": "2023-05-04T20:19:40.577Z"
   },
   {
    "duration": 2836,
    "start_time": "2023-05-04T20:19:40.666Z"
   },
   {
    "duration": 4,
    "start_time": "2023-05-04T20:19:43.505Z"
   },
   {
    "duration": 113,
    "start_time": "2023-05-04T20:19:43.511Z"
   },
   {
    "duration": 52,
    "start_time": "2023-05-04T20:19:43.626Z"
   },
   {
    "duration": 789,
    "start_time": "2023-05-04T20:19:43.680Z"
   },
   {
    "duration": 102,
    "start_time": "2023-05-04T20:19:44.471Z"
   },
   {
    "duration": 70,
    "start_time": "2023-05-04T20:19:44.575Z"
   },
   {
    "duration": 141559,
    "start_time": "2023-05-04T20:19:44.647Z"
   },
   {
    "duration": 137857,
    "start_time": "2023-05-04T20:22:06.208Z"
   },
   {
    "duration": 479701,
    "start_time": "2023-05-04T20:24:24.067Z"
   },
   {
    "duration": 40894,
    "start_time": "2023-05-04T20:32:23.770Z"
   },
   {
    "duration": 12691,
    "start_time": "2023-05-04T20:33:04.666Z"
   },
   {
    "duration": 10987,
    "start_time": "2023-05-04T20:33:17.359Z"
   },
   {
    "duration": 42706,
    "start_time": "2023-05-04T20:33:28.352Z"
   },
   {
    "duration": 686,
    "start_time": "2023-05-04T20:34:11.060Z"
   },
   {
    "duration": 104347,
    "start_time": "2023-05-04T20:34:11.754Z"
   },
   {
    "duration": 33940,
    "start_time": "2023-05-04T20:35:56.103Z"
   },
   {
    "duration": 16,
    "start_time": "2023-05-04T20:36:30.048Z"
   },
   {
    "duration": 2055,
    "start_time": "2023-05-04T20:36:30.066Z"
   },
   {
    "duration": 334,
    "start_time": "2023-05-04T20:36:32.123Z"
   },
   {
    "duration": 7,
    "start_time": "2023-05-04T20:36:32.460Z"
   },
   {
    "duration": 2058,
    "start_time": "2023-05-04T20:36:32.469Z"
   },
   {
    "duration": 2279,
    "start_time": "2023-05-04T20:38:04.771Z"
   },
   {
    "duration": 8166,
    "start_time": "2023-05-04T20:42:15.216Z"
   },
   {
    "duration": 68,
    "start_time": "2023-05-04T20:45:24.137Z"
   },
   {
    "duration": 717398,
    "start_time": "2023-05-04T20:52:10.345Z"
   },
   {
    "duration": 8,
    "start_time": "2023-05-04T21:06:44.714Z"
   },
   {
    "duration": 7852,
    "start_time": "2023-05-04T21:07:03.050Z"
   },
   {
    "duration": 8,
    "start_time": "2023-05-04T21:07:36.977Z"
   },
   {
    "duration": 69,
    "start_time": "2023-05-04T21:10:26.636Z"
   },
   {
    "duration": 10,
    "start_time": "2023-05-04T21:11:00.950Z"
   },
   {
    "duration": 62,
    "start_time": "2023-05-04T21:11:24.353Z"
   },
   {
    "duration": 3534,
    "start_time": "2023-05-05T15:02:59.951Z"
   },
   {
    "duration": 804,
    "start_time": "2023-05-05T15:03:03.487Z"
   },
   {
    "duration": 108,
    "start_time": "2023-05-05T15:03:04.293Z"
   },
   {
    "duration": 21,
    "start_time": "2023-05-05T15:03:04.403Z"
   },
   {
    "duration": 114,
    "start_time": "2023-05-05T15:03:04.426Z"
   },
   {
    "duration": 464,
    "start_time": "2023-05-05T15:03:04.542Z"
   },
   {
    "duration": 234,
    "start_time": "2023-05-05T15:03:05.007Z"
   },
   {
    "duration": 16,
    "start_time": "2023-05-05T15:03:05.243Z"
   },
   {
    "duration": 58,
    "start_time": "2023-05-05T15:03:05.260Z"
   },
   {
    "duration": 19,
    "start_time": "2023-05-05T15:03:05.320Z"
   },
   {
    "duration": 110,
    "start_time": "2023-05-05T15:03:05.341Z"
   },
   {
    "duration": 108,
    "start_time": "2023-05-05T15:03:05.452Z"
   },
   {
    "duration": 632,
    "start_time": "2023-05-05T15:03:05.561Z"
   },
   {
    "duration": 89,
    "start_time": "2023-05-05T15:03:06.196Z"
   },
   {
    "duration": 610,
    "start_time": "2023-05-05T15:03:06.287Z"
   },
   {
    "duration": 83,
    "start_time": "2023-05-05T15:03:06.899Z"
   },
   {
    "duration": 33,
    "start_time": "2023-05-05T15:03:06.984Z"
   },
   {
    "duration": 37,
    "start_time": "2023-05-05T15:03:07.019Z"
   },
   {
    "duration": 620,
    "start_time": "2023-05-05T15:03:07.058Z"
   },
   {
    "duration": 616,
    "start_time": "2023-05-05T15:03:07.681Z"
   },
   {
    "duration": 3,
    "start_time": "2023-05-05T15:03:08.299Z"
   },
   {
    "duration": 2501,
    "start_time": "2023-05-05T15:03:08.304Z"
   },
   {
    "duration": 87,
    "start_time": "2023-05-05T15:03:10.806Z"
   },
   {
    "duration": 2870,
    "start_time": "2023-05-05T15:03:10.894Z"
   },
   {
    "duration": 12,
    "start_time": "2023-05-05T15:03:13.765Z"
   },
   {
    "duration": 44,
    "start_time": "2023-05-05T15:03:13.779Z"
   },
   {
    "duration": 2710,
    "start_time": "2023-05-05T15:03:13.825Z"
   },
   {
    "duration": 46,
    "start_time": "2023-05-05T15:03:16.537Z"
   },
   {
    "duration": 2937,
    "start_time": "2023-05-05T15:03:16.585Z"
   },
   {
    "duration": 2382,
    "start_time": "2023-05-05T15:03:19.524Z"
   },
   {
    "duration": 2688,
    "start_time": "2023-05-05T15:03:21.907Z"
   },
   {
    "duration": 2499,
    "start_time": "2023-05-05T15:03:24.596Z"
   },
   {
    "duration": 2693,
    "start_time": "2023-05-05T15:03:27.097Z"
   },
   {
    "duration": 5,
    "start_time": "2023-05-05T15:03:29.792Z"
   },
   {
    "duration": 16,
    "start_time": "2023-05-05T15:03:29.800Z"
   },
   {
    "duration": 361,
    "start_time": "2023-05-05T15:03:29.818Z"
   },
   {
    "duration": 2709,
    "start_time": "2023-05-05T15:03:30.181Z"
   },
   {
    "duration": 200,
    "start_time": "2023-05-05T15:03:32.892Z"
   },
   {
    "duration": 133,
    "start_time": "2023-05-05T15:03:33.094Z"
   },
   {
    "duration": 3345,
    "start_time": "2023-05-05T15:03:33.229Z"
   },
   {
    "duration": 123,
    "start_time": "2023-05-05T15:03:36.579Z"
   },
   {
    "duration": 2198,
    "start_time": "2023-05-05T15:03:36.704Z"
   },
   {
    "duration": 2,
    "start_time": "2023-05-05T15:03:38.904Z"
   },
   {
    "duration": 69,
    "start_time": "2023-05-05T15:03:38.907Z"
   },
   {
    "duration": 25,
    "start_time": "2023-05-05T15:03:38.978Z"
   },
   {
    "duration": 456,
    "start_time": "2023-05-05T15:03:39.005Z"
   },
   {
    "duration": 97,
    "start_time": "2023-05-05T15:03:39.462Z"
   },
   {
    "duration": 95,
    "start_time": "2023-05-05T15:03:39.561Z"
   },
   {
    "duration": 110286,
    "start_time": "2023-05-05T15:03:39.658Z"
   },
   {
    "duration": 106590,
    "start_time": "2023-05-05T15:05:29.947Z"
   },
   {
    "duration": 8832,
    "start_time": "2023-05-05T15:07:16.538Z"
   },
   {
    "duration": 4795,
    "start_time": "2023-05-05T15:07:25.372Z"
   },
   {
    "duration": 2201,
    "start_time": "2023-05-05T15:07:30.169Z"
   },
   {
    "duration": 2093,
    "start_time": "2023-05-05T15:07:32.372Z"
   },
   {
    "duration": 7403,
    "start_time": "2023-05-05T15:07:34.467Z"
   },
   {
    "duration": 2287,
    "start_time": "2023-05-05T15:07:41.872Z"
   },
   {
    "duration": 24511,
    "start_time": "2023-05-05T15:07:44.161Z"
   },
   {
    "duration": 585,
    "start_time": "2023-05-05T15:08:08.673Z"
   },
   {
    "duration": 7777,
    "start_time": "2023-05-05T15:08:09.260Z"
   },
   {
    "duration": 4431,
    "start_time": "2023-05-05T15:08:17.038Z"
   },
   {
    "duration": 93,
    "start_time": "2023-05-05T15:08:21.471Z"
   },
   {
    "duration": 216,
    "start_time": "2023-05-05T15:08:21.566Z"
   },
   {
    "duration": 279,
    "start_time": "2023-05-05T15:08:21.785Z"
   },
   {
    "duration": 7,
    "start_time": "2023-05-05T15:08:22.066Z"
   },
   {
    "duration": 103,
    "start_time": "2023-05-05T15:08:22.074Z"
   },
   {
    "duration": 129,
    "start_time": "2023-05-05T15:47:29.736Z"
   },
   {
    "duration": 106,
    "start_time": "2023-05-05T15:47:32.787Z"
   },
   {
    "duration": 1676,
    "start_time": "2023-05-05T15:47:35.343Z"
   },
   {
    "duration": 4747,
    "start_time": "2023-05-05T15:47:49.012Z"
   },
   {
    "duration": 303,
    "start_time": "2023-05-05T15:47:53.760Z"
   },
   {
    "duration": 8,
    "start_time": "2023-05-05T15:47:55.629Z"
   },
   {
    "duration": 1666,
    "start_time": "2023-05-05T17:52:19.970Z"
   },
   {
    "duration": 1031,
    "start_time": "2023-05-05T17:52:21.639Z"
   },
   {
    "duration": 102,
    "start_time": "2023-05-05T17:52:22.671Z"
   },
   {
    "duration": 17,
    "start_time": "2023-05-05T17:52:22.774Z"
   },
   {
    "duration": 110,
    "start_time": "2023-05-05T17:52:22.793Z"
   },
   {
    "duration": 420,
    "start_time": "2023-05-05T17:52:22.906Z"
   },
   {
    "duration": 240,
    "start_time": "2023-05-05T17:52:23.328Z"
   },
   {
    "duration": 5,
    "start_time": "2023-05-05T17:52:23.570Z"
   },
   {
    "duration": 48,
    "start_time": "2023-05-05T17:52:23.577Z"
   },
   {
    "duration": 34,
    "start_time": "2023-05-05T17:52:23.627Z"
   },
   {
    "duration": 95,
    "start_time": "2023-05-05T17:52:23.663Z"
   },
   {
    "duration": 85,
    "start_time": "2023-05-05T17:52:23.760Z"
   },
   {
    "duration": 690,
    "start_time": "2023-05-05T17:52:23.857Z"
   },
   {
    "duration": 78,
    "start_time": "2023-05-05T17:52:24.555Z"
   },
   {
    "duration": 579,
    "start_time": "2023-05-05T17:52:24.635Z"
   },
   {
    "duration": 79,
    "start_time": "2023-05-05T17:52:25.216Z"
   },
   {
    "duration": 35,
    "start_time": "2023-05-05T17:52:25.297Z"
   },
   {
    "duration": 47,
    "start_time": "2023-05-05T17:52:25.334Z"
   },
   {
    "duration": 588,
    "start_time": "2023-05-05T17:52:25.382Z"
   },
   {
    "duration": 607,
    "start_time": "2023-05-05T17:52:25.972Z"
   },
   {
    "duration": 3,
    "start_time": "2023-05-05T17:52:26.581Z"
   },
   {
    "duration": 2575,
    "start_time": "2023-05-05T17:52:26.586Z"
   },
   {
    "duration": 100,
    "start_time": "2023-05-05T17:52:29.163Z"
   },
   {
    "duration": 3257,
    "start_time": "2023-05-05T17:52:29.265Z"
   },
   {
    "duration": 12,
    "start_time": "2023-05-05T17:52:32.524Z"
   },
   {
    "duration": 57,
    "start_time": "2023-05-05T17:52:32.537Z"
   },
   {
    "duration": 2445,
    "start_time": "2023-05-05T17:52:32.596Z"
   },
   {
    "duration": 53,
    "start_time": "2023-05-05T17:52:35.043Z"
   },
   {
    "duration": 2815,
    "start_time": "2023-05-05T17:52:35.098Z"
   },
   {
    "duration": 2377,
    "start_time": "2023-05-05T17:52:37.915Z"
   },
   {
    "duration": 2639,
    "start_time": "2023-05-05T17:52:40.294Z"
   },
   {
    "duration": 2572,
    "start_time": "2023-05-05T17:52:42.935Z"
   },
   {
    "duration": 2495,
    "start_time": "2023-05-05T17:52:45.508Z"
   },
   {
    "duration": 5,
    "start_time": "2023-05-05T17:52:48.005Z"
   },
   {
    "duration": 11,
    "start_time": "2023-05-05T17:52:48.011Z"
   },
   {
    "duration": 296,
    "start_time": "2023-05-05T17:52:48.023Z"
   },
   {
    "duration": 2494,
    "start_time": "2023-05-05T17:52:48.321Z"
   },
   {
    "duration": 192,
    "start_time": "2023-05-05T17:52:50.817Z"
   },
   {
    "duration": 120,
    "start_time": "2023-05-05T17:52:51.012Z"
   },
   {
    "duration": 2935,
    "start_time": "2023-05-05T17:52:51.134Z"
   },
   {
    "duration": 83,
    "start_time": "2023-05-05T17:52:54.075Z"
   },
   {
    "duration": 1398,
    "start_time": "2023-05-05T17:52:54.160Z"
   },
   {
    "duration": 7,
    "start_time": "2023-05-05T17:52:55.560Z"
   },
   {
    "duration": 67,
    "start_time": "2023-05-05T17:52:55.569Z"
   },
   {
    "duration": 35,
    "start_time": "2023-05-05T17:52:55.638Z"
   },
   {
    "duration": 495,
    "start_time": "2023-05-05T17:52:55.674Z"
   },
   {
    "duration": 252,
    "start_time": "2023-05-05T17:52:56.171Z"
   },
   {
    "duration": 10,
    "start_time": "2023-05-05T17:52:56.425Z"
   },
   {
    "duration": 0,
    "start_time": "2023-05-05T17:52:56.436Z"
   },
   {
    "duration": 0,
    "start_time": "2023-05-05T17:52:56.438Z"
   },
   {
    "duration": 0,
    "start_time": "2023-05-05T17:52:56.439Z"
   },
   {
    "duration": 0,
    "start_time": "2023-05-05T17:52:56.440Z"
   },
   {
    "duration": 0,
    "start_time": "2023-05-05T17:52:56.442Z"
   },
   {
    "duration": 0,
    "start_time": "2023-05-05T17:52:56.443Z"
   },
   {
    "duration": 0,
    "start_time": "2023-05-05T17:52:56.444Z"
   },
   {
    "duration": 0,
    "start_time": "2023-05-05T17:52:56.446Z"
   },
   {
    "duration": 0,
    "start_time": "2023-05-05T17:52:56.447Z"
   },
   {
    "duration": 0,
    "start_time": "2023-05-05T17:52:56.448Z"
   },
   {
    "duration": 0,
    "start_time": "2023-05-05T17:52:56.449Z"
   },
   {
    "duration": 0,
    "start_time": "2023-05-05T17:52:56.450Z"
   },
   {
    "duration": 0,
    "start_time": "2023-05-05T17:52:56.451Z"
   },
   {
    "duration": 0,
    "start_time": "2023-05-05T17:52:56.455Z"
   },
   {
    "duration": 0,
    "start_time": "2023-05-05T17:52:56.456Z"
   },
   {
    "duration": 0,
    "start_time": "2023-05-05T17:52:56.457Z"
   },
   {
    "duration": 0,
    "start_time": "2023-05-05T17:52:56.458Z"
   },
   {
    "duration": 11,
    "start_time": "2023-05-05T17:55:44.375Z"
   },
   {
    "duration": 1460,
    "start_time": "2023-05-05T17:56:35.673Z"
   },
   {
    "duration": 766,
    "start_time": "2023-05-05T17:56:37.135Z"
   },
   {
    "duration": 113,
    "start_time": "2023-05-05T17:56:37.903Z"
   },
   {
    "duration": 15,
    "start_time": "2023-05-05T17:56:38.018Z"
   },
   {
    "duration": 103,
    "start_time": "2023-05-05T17:56:38.034Z"
   },
   {
    "duration": 460,
    "start_time": "2023-05-05T17:56:38.139Z"
   },
   {
    "duration": 218,
    "start_time": "2023-05-05T17:56:38.601Z"
   },
   {
    "duration": 5,
    "start_time": "2023-05-05T17:56:38.821Z"
   },
   {
    "duration": 61,
    "start_time": "2023-05-05T17:56:38.827Z"
   },
   {
    "duration": 18,
    "start_time": "2023-05-05T17:56:38.891Z"
   },
   {
    "duration": 125,
    "start_time": "2023-05-05T17:56:38.912Z"
   },
   {
    "duration": 99,
    "start_time": "2023-05-05T17:56:39.038Z"
   },
   {
    "duration": 625,
    "start_time": "2023-05-05T17:56:39.139Z"
   },
   {
    "duration": 76,
    "start_time": "2023-05-05T17:56:39.766Z"
   },
   {
    "duration": 599,
    "start_time": "2023-05-05T17:56:39.844Z"
   },
   {
    "duration": 76,
    "start_time": "2023-05-05T17:56:40.444Z"
   },
   {
    "duration": 45,
    "start_time": "2023-05-05T17:56:40.522Z"
   },
   {
    "duration": 32,
    "start_time": "2023-05-05T17:56:40.569Z"
   },
   {
    "duration": 634,
    "start_time": "2023-05-05T17:56:40.603Z"
   },
   {
    "duration": 622,
    "start_time": "2023-05-05T17:56:41.239Z"
   },
   {
    "duration": 3,
    "start_time": "2023-05-05T17:56:41.863Z"
   },
   {
    "duration": 2606,
    "start_time": "2023-05-05T17:56:41.868Z"
   },
   {
    "duration": 99,
    "start_time": "2023-05-05T17:56:44.475Z"
   },
   {
    "duration": 2905,
    "start_time": "2023-05-05T17:56:44.576Z"
   },
   {
    "duration": 13,
    "start_time": "2023-05-05T17:56:47.483Z"
   },
   {
    "duration": 35,
    "start_time": "2023-05-05T17:56:47.497Z"
   },
   {
    "duration": 2472,
    "start_time": "2023-05-05T17:56:47.533Z"
   },
   {
    "duration": 36,
    "start_time": "2023-05-05T17:56:50.008Z"
   },
   {
    "duration": 2844,
    "start_time": "2023-05-05T17:56:50.056Z"
   },
   {
    "duration": 2414,
    "start_time": "2023-05-05T17:56:52.902Z"
   },
   {
    "duration": 2711,
    "start_time": "2023-05-05T17:56:55.318Z"
   },
   {
    "duration": 2502,
    "start_time": "2023-05-05T17:56:58.030Z"
   },
   {
    "duration": 2580,
    "start_time": "2023-05-05T17:57:00.534Z"
   },
   {
    "duration": 4,
    "start_time": "2023-05-05T17:57:03.116Z"
   },
   {
    "duration": 19,
    "start_time": "2023-05-05T17:57:03.122Z"
   },
   {
    "duration": 286,
    "start_time": "2023-05-05T17:57:03.142Z"
   },
   {
    "duration": 2609,
    "start_time": "2023-05-05T17:57:03.430Z"
   },
   {
    "duration": 162,
    "start_time": "2023-05-05T17:57:06.041Z"
   },
   {
    "duration": 117,
    "start_time": "2023-05-05T17:57:06.205Z"
   },
   {
    "duration": 2209,
    "start_time": "2023-05-05T17:57:06.324Z"
   },
   {
    "duration": 64,
    "start_time": "2023-05-05T17:57:08.536Z"
   },
   {
    "duration": 1913,
    "start_time": "2023-05-05T17:57:08.602Z"
   },
   {
    "duration": 3,
    "start_time": "2023-05-05T17:57:10.517Z"
   },
   {
    "duration": 86,
    "start_time": "2023-05-05T17:57:10.521Z"
   },
   {
    "duration": 31,
    "start_time": "2023-05-05T17:57:10.609Z"
   },
   {
    "duration": 519,
    "start_time": "2023-05-05T17:57:10.641Z"
   },
   {
    "duration": 101,
    "start_time": "2023-05-05T17:57:11.162Z"
   },
   {
    "duration": 93,
    "start_time": "2023-05-05T17:57:11.265Z"
   },
   {
    "duration": 114413,
    "start_time": "2023-05-05T17:57:11.360Z"
   },
   {
    "duration": 111023,
    "start_time": "2023-05-05T17:59:05.774Z"
   },
   {
    "duration": 355173,
    "start_time": "2023-05-05T18:00:56.798Z"
   },
   {
    "duration": 189585,
    "start_time": "2023-05-05T18:06:51.972Z"
   },
   {
    "duration": 44804,
    "start_time": "2023-05-05T18:10:01.559Z"
   },
   {
    "duration": 59990,
    "start_time": "2023-05-05T18:10:46.366Z"
   },
   {
    "duration": 259716,
    "start_time": "2023-05-05T18:11:46.358Z"
   },
   {
    "duration": 47082,
    "start_time": "2023-05-05T18:16:06.077Z"
   },
   {
    "duration": 733909,
    "start_time": "2023-05-05T18:16:53.161Z"
   },
   {
    "duration": 490,
    "start_time": "2023-05-05T18:29:07.072Z"
   },
   {
    "duration": 7319,
    "start_time": "2023-05-05T18:29:07.564Z"
   },
   {
    "duration": 337280,
    "start_time": "2023-05-05T18:29:14.885Z"
   },
   {
    "duration": 189,
    "start_time": "2023-05-05T18:34:52.167Z"
   },
   {
    "duration": 104,
    "start_time": "2023-05-05T18:34:52.358Z"
   },
   {
    "duration": 305,
    "start_time": "2023-05-05T18:34:52.464Z"
   },
   {
    "duration": 8,
    "start_time": "2023-05-05T18:34:52.771Z"
   },
   {
    "duration": 97,
    "start_time": "2023-05-05T18:34:52.780Z"
   },
   {
    "duration": 260239,
    "start_time": "2023-05-05T18:35:51.279Z"
   },
   {
    "duration": 76772,
    "start_time": "2023-05-05T18:42:54.822Z"
   },
   {
    "duration": 1518,
    "start_time": "2023-05-05T18:45:52.905Z"
   },
   {
    "duration": 9,
    "start_time": "2023-05-05T18:46:39.925Z"
   },
   {
    "duration": 1478,
    "start_time": "2023-05-05T18:47:12.951Z"
   }
  ],
  "kernelspec": {
   "display_name": "Python 3 (ipykernel)",
   "language": "python",
   "name": "python3"
  },
  "language_info": {
   "codemirror_mode": {
    "name": "ipython",
    "version": 3
   },
   "file_extension": ".py",
   "mimetype": "text/x-python",
   "name": "python",
   "nbconvert_exporter": "python",
   "pygments_lexer": "ipython3",
   "version": "3.9.7"
  },
  "toc": {
   "base_numbering": 1,
   "nav_menu": {},
   "number_sections": true,
   "sideBar": true,
   "skip_h1_title": true,
   "title_cell": "Table of Contents",
   "title_sidebar": "Contents",
   "toc_cell": false,
   "toc_position": {},
   "toc_section_display": true,
   "toc_window_display": false
  }
 },
 "nbformat": 4,
 "nbformat_minor": 2
}
