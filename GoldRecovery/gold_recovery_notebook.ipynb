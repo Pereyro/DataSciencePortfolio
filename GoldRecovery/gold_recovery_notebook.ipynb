{
 "cells": [
  {
   "cell_type": "markdown",
   "id": "63cdbe0b",
   "metadata": {},
   "source": [
    "<a id=\"title\"></a>"
   ]
  },
  {
   "cell_type": "markdown",
   "id": "5eaebc23",
   "metadata": {},
   "source": [
    "# Предсказание коэффициента восстановление золота из руды"
   ]
  },
  {
   "cell_type": "markdown",
   "id": "014573a2",
   "metadata": {},
   "source": [
    "## СОДЕРЖАНИЕ\n",
    "<a id=\"title\"></a>\n",
    "* [План проекта](#plan)\n",
    "* [Загрузка библиотек](#import_libs)  \n",
    "* [Подготовка данных](#data_preparation)\n",
    "    * [x] [Загрузка данных](#)\n",
    "    * [x] [Первое впечатление](#first_impression)\n",
    "    * [x] [Формала расчета эффективности обогощения](#recovery_func)\n",
    "    * [x] [Признаки, недоступные в тестовой выборке](#not_in_test)\n",
    "    * [x] [Предобработка данных](#predobarbotka)\n",
    "* [Анализ данных](#analysis)\n",
    "    * [x] [Концентрации металлов на различных стадиях](#concentrate)\n",
    "    * [x] [Распределения размеров гранул сырья на обучающей и тестовой выборках](#train_vs_test_feeds)\n",
    "    * [x] [Суммарная концентрация всех веществ на разных стадиях](#common_concentration)\n",
    "* [Обучение модели](#fit_model)\n",
    "    * [x] [Функция для вычисления итоговой sMAPE](#smape)\n",
    "    * [x] [Обучение модели](#avg_rmse)\n",
    "    * [x] [Проверим на тестовой модели](#check_test)"
   ]
  },
  {
   "cell_type": "markdown",
   "id": "0710ec8a",
   "metadata": {},
   "source": [
    "## План проекта"
   ]
  },
  {
   "cell_type": "markdown",
   "id": "3642b451",
   "metadata": {},
   "source": [
    "### Восстановление золота из руды"
   ]
  },
  {
   "cell_type": "markdown",
   "id": "fea27719",
   "metadata": {},
   "source": [
    "Подготовьте прототип модели машинного обучения для «Цифры». Компания разрабатывает решения для эффективной работы промышленных предприятий.\n",
    "\n",
    "Модель должна предсказать коэффициент восстановления золота из золотосодержащей руды. Используйте данные с параметрами добычи и очистки. \n",
    "\n",
    "Модель поможет оптимизировать производство, чтобы не запускать предприятие с убыточными характеристиками.\n",
    "\n",
    "Вам нужно:\n",
    "\n",
    "1. Подготовить данные;\n",
    "2. Провести исследовательский анализ данных;\n",
    "3. Построить и обучить модель.\n",
    "\n",
    "Чтобы выполнить проект, обращайтесь к библиотекам *pandas*, *matplotlib* и *sklearn.* Вам поможет их документация."
   ]
  },
  {
   "cell_type": "markdown",
   "id": "e6f44384",
   "metadata": {},
   "source": [
    "## Загрузка библиотек\n",
    "<a id=\"import_lib\"></a>\n",
    "[go to the title](#title)"
   ]
  },
  {
   "cell_type": "code",
   "execution_count": 1,
   "id": "753156ed",
   "metadata": {},
   "outputs": [],
   "source": [
    "# импорт необходимых библиотек\n",
    "import numpy as np\n",
    "import scipy as sc\n",
    "import pandas as pd\n",
    "from numpy.random import RandomState\n",
    "\n",
    "from sklearn.linear_model import LinearRegression\n",
    "from sklearn.linear_model import Lasso\n",
    "from sklearn.ensemble import RandomForestRegressor\n",
    "\n",
    "from sklearn.model_selection import train_test_split\n",
    "from sklearn.model_selection import cross_val_score\n",
    "from sklearn.preprocessing import StandardScaler\n",
    "from sklearn.metrics import mean_squared_error\n",
    "from sklearn.metrics import mean_absolute_error\n",
    "from sklearn.metrics import make_scorer\n",
    "\n",
    "import matplotlib.pyplot as plt\n",
    "import seaborn as sb"
   ]
  },
  {
   "cell_type": "markdown",
   "id": "4d57957b",
   "metadata": {},
   "source": [
    "## Подготовка данных\n",
    "<a id=\"data_preparation\"></a>\n",
    "[go to the title](#title)\n",
    "\n",
    "- [1.1. Откройте файлы и изучите их](#import_data)\n",
    "\n",
    "     Путь к файлам:\n",
    "    - /datasets/gold_recovery_train_new.csv.\n",
    "    - /datasets/gold_recovery_test_new.csv.\n",
    "    - /datasets/gold_recovery_full_new.csv.\n",
    "\n",
    "\n",
    "- [1.2. Проверьте, что эффективность обогащения рассчитана правильно](#recovery_func)\n",
    "\n",
    "    Вычислите её на обучающей выборке для признака rougher.output.recovery. Найдите MAE между вашими расчётами и значением признака. Опишите выводы.\n",
    "   \n",
    "   \n",
    "- 1.3. Проанализируйте признаки, недоступные в тестовой выборке. Что это за параметры? К какому типу относятся?\n",
    "- 1.4. Проведите предобработку данных.\n"
   ]
  },
  {
   "cell_type": "markdown",
   "id": "23da202e",
   "metadata": {},
   "source": [
    "### Загрузка данных\n",
    "<a id=\"import_data\"></a>\n",
    "[go to the title](#title)"
   ]
  },
  {
   "cell_type": "code",
   "execution_count": 2,
   "id": "2dc8e9f1",
   "metadata": {},
   "outputs": [],
   "source": [
    "# Загрузим датасет\n",
    "try:\n",
    "    train_df = pd.read_csv('/datasets/gold_recovery_train_new.csv')\n",
    "    test_df = pd.read_csv('/datasets/gold_recovery_test_new.csv')\n",
    "    full_df = pd.read_csv('/datasets/gold_recovery_full_new.csv')\n",
    "except:\n",
    "    train_df = pd.read_csv('gold_recovery_train_new.csv')\n",
    "    test_df = pd.read_csv('gold_recovery_test_new.csv')\n",
    "    full_df = pd.read_csv('gold_recovery_full_new.csv')"
   ]
  },
  {
   "cell_type": "markdown",
   "id": "68c192bc",
   "metadata": {},
   "source": [
    "### Первое впечатление\n",
    "<a id=\"first_impression\"></a>\n",
    "[go to the title](#title)"
   ]
  },
  {
   "cell_type": "code",
   "execution_count": 3,
   "id": "e8f2b9e2",
   "metadata": {
    "scrolled": false
   },
   "outputs": [
    {
     "data": {
      "text/plain": [
       "(14149, 87)"
      ]
     },
     "metadata": {},
     "output_type": "display_data"
    },
    {
     "data": {
      "text/plain": [
       "(5290, 53)"
      ]
     },
     "metadata": {},
     "output_type": "display_data"
    },
    {
     "data": {
      "text/plain": [
       "(19439, 87)"
      ]
     },
     "metadata": {},
     "output_type": "display_data"
    }
   ],
   "source": [
    "display(train_df.shape)\n",
    "display(test_df.shape)\n",
    "display(full_df.shape)"
   ]
  },
  {
   "cell_type": "code",
   "execution_count": 4,
   "id": "719ae480",
   "metadata": {},
   "outputs": [
    {
     "name": "stdout",
     "output_type": "stream",
     "text": [
      "0\n",
      "0\n"
     ]
    }
   ],
   "source": [
    "print(train_df.duplicated().sum())\n",
    "print(train_df['date'].duplicated().sum())"
   ]
  },
  {
   "cell_type": "code",
   "execution_count": 5,
   "id": "5aac07fa",
   "metadata": {},
   "outputs": [
    {
     "name": "stdout",
     "output_type": "stream",
     "text": [
      "<class 'pandas.core.frame.DataFrame'>\n",
      "RangeIndex: 14149 entries, 0 to 14148\n",
      "Data columns (total 87 columns):\n",
      " #   Column                                              Non-Null Count  Dtype  \n",
      "---  ------                                              --------------  -----  \n",
      " 0   date                                                14149 non-null  object \n",
      " 1   final.output.concentrate_ag                         14148 non-null  float64\n",
      " 2   final.output.concentrate_pb                         14148 non-null  float64\n",
      " 3   final.output.concentrate_sol                        13938 non-null  float64\n",
      " 4   final.output.concentrate_au                         14149 non-null  float64\n",
      " 5   final.output.recovery                               14149 non-null  float64\n",
      " 6   final.output.tail_ag                                14149 non-null  float64\n",
      " 7   final.output.tail_pb                                14049 non-null  float64\n",
      " 8   final.output.tail_sol                               14144 non-null  float64\n",
      " 9   final.output.tail_au                                14149 non-null  float64\n",
      " 10  primary_cleaner.input.sulfate                       14129 non-null  float64\n",
      " 11  primary_cleaner.input.depressant                    14117 non-null  float64\n",
      " 12  primary_cleaner.input.feed_size                     14149 non-null  float64\n",
      " 13  primary_cleaner.input.xanthate                      14049 non-null  float64\n",
      " 14  primary_cleaner.output.concentrate_ag               14149 non-null  float64\n",
      " 15  primary_cleaner.output.concentrate_pb               14063 non-null  float64\n",
      " 16  primary_cleaner.output.concentrate_sol              13863 non-null  float64\n",
      " 17  primary_cleaner.output.concentrate_au               14149 non-null  float64\n",
      " 18  primary_cleaner.output.tail_ag                      14148 non-null  float64\n",
      " 19  primary_cleaner.output.tail_pb                      14134 non-null  float64\n",
      " 20  primary_cleaner.output.tail_sol                     14103 non-null  float64\n",
      " 21  primary_cleaner.output.tail_au                      14149 non-null  float64\n",
      " 22  primary_cleaner.state.floatbank8_a_air              14145 non-null  float64\n",
      " 23  primary_cleaner.state.floatbank8_a_level            14148 non-null  float64\n",
      " 24  primary_cleaner.state.floatbank8_b_air              14145 non-null  float64\n",
      " 25  primary_cleaner.state.floatbank8_b_level            14148 non-null  float64\n",
      " 26  primary_cleaner.state.floatbank8_c_air              14147 non-null  float64\n",
      " 27  primary_cleaner.state.floatbank8_c_level            14148 non-null  float64\n",
      " 28  primary_cleaner.state.floatbank8_d_air              14146 non-null  float64\n",
      " 29  primary_cleaner.state.floatbank8_d_level            14148 non-null  float64\n",
      " 30  rougher.calculation.sulfate_to_au_concentrate       14148 non-null  float64\n",
      " 31  rougher.calculation.floatbank10_sulfate_to_au_feed  14148 non-null  float64\n",
      " 32  rougher.calculation.floatbank11_sulfate_to_au_feed  14148 non-null  float64\n",
      " 33  rougher.calculation.au_pb_ratio                     14149 non-null  float64\n",
      " 34  rougher.input.feed_ag                               14149 non-null  float64\n",
      " 35  rougher.input.feed_pb                               14049 non-null  float64\n",
      " 36  rougher.input.feed_rate                             14141 non-null  float64\n",
      " 37  rougher.input.feed_size                             14005 non-null  float64\n",
      " 38  rougher.input.feed_sol                              14071 non-null  float64\n",
      " 39  rougher.input.feed_au                               14149 non-null  float64\n",
      " 40  rougher.input.floatbank10_sulfate                   14120 non-null  float64\n",
      " 41  rougher.input.floatbank10_xanthate                  14141 non-null  float64\n",
      " 42  rougher.input.floatbank11_sulfate                   14113 non-null  float64\n",
      " 43  rougher.input.floatbank11_xanthate                  13721 non-null  float64\n",
      " 44  rougher.output.concentrate_ag                       14149 non-null  float64\n",
      " 45  rougher.output.concentrate_pb                       14149 non-null  float64\n",
      " 46  rougher.output.concentrate_sol                      14127 non-null  float64\n",
      " 47  rougher.output.concentrate_au                       14149 non-null  float64\n",
      " 48  rougher.output.recovery                             14149 non-null  float64\n",
      " 49  rougher.output.tail_ag                              14148 non-null  float64\n",
      " 50  rougher.output.tail_pb                              14149 non-null  float64\n",
      " 51  rougher.output.tail_sol                             14149 non-null  float64\n",
      " 52  rougher.output.tail_au                              14149 non-null  float64\n",
      " 53  rougher.state.floatbank10_a_air                     14148 non-null  float64\n",
      " 54  rougher.state.floatbank10_a_level                   14148 non-null  float64\n",
      " 55  rougher.state.floatbank10_b_air                     14148 non-null  float64\n",
      " 56  rougher.state.floatbank10_b_level                   14148 non-null  float64\n",
      " 57  rougher.state.floatbank10_c_air                     14148 non-null  float64\n",
      " 58  rougher.state.floatbank10_c_level                   14148 non-null  float64\n",
      " 59  rougher.state.floatbank10_d_air                     14149 non-null  float64\n",
      " 60  rougher.state.floatbank10_d_level                   14149 non-null  float64\n",
      " 61  rougher.state.floatbank10_e_air                     13713 non-null  float64\n",
      " 62  rougher.state.floatbank10_e_level                   14149 non-null  float64\n",
      " 63  rougher.state.floatbank10_f_air                     14149 non-null  float64\n",
      " 64  rougher.state.floatbank10_f_level                   14149 non-null  float64\n",
      " 65  secondary_cleaner.output.tail_ag                    14147 non-null  float64\n",
      " 66  secondary_cleaner.output.tail_pb                    14139 non-null  float64\n",
      " 67  secondary_cleaner.output.tail_sol                   12544 non-null  float64\n",
      " 68  secondary_cleaner.output.tail_au                    14149 non-null  float64\n",
      " 69  secondary_cleaner.state.floatbank2_a_air            13932 non-null  float64\n",
      " 70  secondary_cleaner.state.floatbank2_a_level          14148 non-null  float64\n",
      " 71  secondary_cleaner.state.floatbank2_b_air            14128 non-null  float64\n",
      " 72  secondary_cleaner.state.floatbank2_b_level          14148 non-null  float64\n",
      " 73  secondary_cleaner.state.floatbank3_a_air            14145 non-null  float64\n",
      " 74  secondary_cleaner.state.floatbank3_a_level          14148 non-null  float64\n",
      " 75  secondary_cleaner.state.floatbank3_b_air            14148 non-null  float64\n",
      " 76  secondary_cleaner.state.floatbank3_b_level          14148 non-null  float64\n",
      " 77  secondary_cleaner.state.floatbank4_a_air            14143 non-null  float64\n",
      " 78  secondary_cleaner.state.floatbank4_a_level          14148 non-null  float64\n",
      " 79  secondary_cleaner.state.floatbank4_b_air            14148 non-null  float64\n",
      " 80  secondary_cleaner.state.floatbank4_b_level          14148 non-null  float64\n",
      " 81  secondary_cleaner.state.floatbank5_a_air            14148 non-null  float64\n",
      " 82  secondary_cleaner.state.floatbank5_a_level          14148 non-null  float64\n",
      " 83  secondary_cleaner.state.floatbank5_b_air            14148 non-null  float64\n",
      " 84  secondary_cleaner.state.floatbank5_b_level          14148 non-null  float64\n",
      " 85  secondary_cleaner.state.floatbank6_a_air            14147 non-null  float64\n",
      " 86  secondary_cleaner.state.floatbank6_a_level          14148 non-null  float64\n",
      "dtypes: float64(86), object(1)\n",
      "memory usage: 9.4+ MB\n",
      "None\n"
     ]
    }
   ],
   "source": [
    "# Посмотрим информацию по тренировочной выборке \n",
    "print(train_df.info())"
   ]
  },
  {
   "cell_type": "markdown",
   "id": "d3e898fe",
   "metadata": {},
   "source": [
    "### Формула расчета эффективности обогощения\n",
    "<a id=\"recovery_func\"></a>\n",
    "[go to the title](#title)"
   ]
  },
  {
   "cell_type": "code",
   "execution_count": 6,
   "id": "7acb2624",
   "metadata": {},
   "outputs": [],
   "source": [
    "# Напишем функцию для расчета эффективности обогощения\n",
    "# recovery = (c * (f - t) / f * (c - t)) * 100 \n",
    "# C — доля золота в концентрате после флотации/очистки;\n",
    "# F — доля золота в сырье/концентрате до флотации/очистки;\n",
    "# T — доля золота в отвальных хвостах после флотации/очистки.\n",
    "\n",
    "def recovery(df, columns_dict):\n",
    "    c_name = columns_dict.get('C')\n",
    "    f_name = columns_dict.get('F')\n",
    "    t_name = columns_dict.get('T')\n",
    "    \n",
    "    c = np.array(df[c_name])\n",
    "    f = np.array(df[f_name])\n",
    "    t = np.array(df[t_name])\n",
    "    \n",
    "    recovery = ((c * (f - t)) / (f * (c - t))) * 100\n",
    "    \n",
    "    recovery = pd.Series(recovery)\n",
    "    return recovery\n",
    "    \n",
    "    "
   ]
  },
  {
   "cell_type": "code",
   "execution_count": 7,
   "id": "4818ce69",
   "metadata": {
    "scrolled": true
   },
   "outputs": [
    {
     "name": "stdout",
     "output_type": "stream",
     "text": [
      "['rougher.output.concentrate_au', 'rougher.input.feed_au', 'rougher.output.tail_au']\n"
     ]
    },
    {
     "data": {
      "text/html": [
       "<div>\n",
       "<style scoped>\n",
       "    .dataframe tbody tr th:only-of-type {\n",
       "        vertical-align: middle;\n",
       "    }\n",
       "\n",
       "    .dataframe tbody tr th {\n",
       "        vertical-align: top;\n",
       "    }\n",
       "\n",
       "    .dataframe thead th {\n",
       "        text-align: right;\n",
       "    }\n",
       "</style>\n",
       "<table border=\"1\" class=\"dataframe\">\n",
       "  <thead>\n",
       "    <tr style=\"text-align: right;\">\n",
       "      <th></th>\n",
       "      <th>rougher.output.concentrate_au</th>\n",
       "      <th>rougher.input.feed_au</th>\n",
       "      <th>rougher.output.tail_au</th>\n",
       "    </tr>\n",
       "  </thead>\n",
       "  <tbody>\n",
       "    <tr>\n",
       "      <th>0</th>\n",
       "      <td>19.793808</td>\n",
       "      <td>6.486150</td>\n",
       "      <td>1.170244</td>\n",
       "    </tr>\n",
       "    <tr>\n",
       "      <th>1</th>\n",
       "      <td>20.050975</td>\n",
       "      <td>6.478583</td>\n",
       "      <td>1.184827</td>\n",
       "    </tr>\n",
       "    <tr>\n",
       "      <th>2</th>\n",
       "      <td>19.737170</td>\n",
       "      <td>6.362222</td>\n",
       "      <td>1.162562</td>\n",
       "    </tr>\n",
       "    <tr>\n",
       "      <th>3</th>\n",
       "      <td>19.320810</td>\n",
       "      <td>6.118189</td>\n",
       "      <td>1.079755</td>\n",
       "    </tr>\n",
       "    <tr>\n",
       "      <th>4</th>\n",
       "      <td>19.216101</td>\n",
       "      <td>5.663707</td>\n",
       "      <td>1.012642</td>\n",
       "    </tr>\n",
       "  </tbody>\n",
       "</table>\n",
       "</div>"
      ],
      "text/plain": [
       "   rougher.output.concentrate_au  rougher.input.feed_au  \\\n",
       "0                      19.793808               6.486150   \n",
       "1                      20.050975               6.478583   \n",
       "2                      19.737170               6.362222   \n",
       "3                      19.320810               6.118189   \n",
       "4                      19.216101               5.663707   \n",
       "\n",
       "   rougher.output.tail_au  \n",
       "0                1.170244  \n",
       "1                1.184827  \n",
       "2                1.162562  \n",
       "3                1.079755  \n",
       "4                1.012642  "
      ]
     },
     "metadata": {},
     "output_type": "display_data"
    }
   ],
   "source": [
    "# Зададим через словарь названия колонок в датасете, соответствующих C, F и T - долям золота до, после и в хвостах\n",
    "columns_dict = {}\n",
    "columns_dict['C'] = 'rougher.output.concentrate_au'\n",
    "columns_dict['F'] = 'rougher.input.feed_au'\n",
    "columns_dict['T'] = 'rougher.output.tail_au'\n",
    "\n",
    "# Посмотрим на в каком виде данные\n",
    "print(list(columns_dict.values()))\n",
    "display(train_df[list(columns_dict.values())].head())\n",
    "\n",
    "# Рассчитаем при помощи нашей функции массив recovery\n",
    "recovery_calc = recovery(train_df, columns_dict)\n",
    "\n"
   ]
  },
  {
   "cell_type": "code",
   "execution_count": 8,
   "id": "b6678f4a",
   "metadata": {
    "scrolled": true
   },
   "outputs": [
    {
     "name": "stdout",
     "output_type": "stream",
     "text": [
      "Первые 5 значений полученных по расчетам:\n"
     ]
    },
    {
     "data": {
      "text/plain": [
       "0    87.107763\n",
       "1    86.843261\n",
       "2    86.842308\n",
       "3    87.226430\n",
       "4    86.688794\n",
       "dtype: float64"
      ]
     },
     "metadata": {},
     "output_type": "display_data"
    },
    {
     "name": "stdout",
     "output_type": "stream",
     "text": [
      "Первые 5 значений из исходной выборки:\n"
     ]
    },
    {
     "data": {
      "text/plain": [
       "0    87.107763\n",
       "1    86.843261\n",
       "2    86.842308\n",
       "3    87.226430\n",
       "4    86.688794\n",
       "Name: rougher.output.recovery, dtype: float64"
      ]
     },
     "metadata": {},
     "output_type": "display_data"
    },
    {
     "name": "stdout",
     "output_type": "stream",
     "text": [
      "Значение средней абсолютной ошибки: 9.73512347450521e-15\n"
     ]
    }
   ],
   "source": [
    "# Посмотрим на получившиеся значения\n",
    "print('Первые 5 значений полученных по расчетам:')\n",
    "display(recovery_calc.head())\n",
    "# И на исходные\n",
    "print('Первые 5 значений из исходной выборки:')\n",
    "display(train_df['rougher.output.recovery'].head())\n",
    "\n",
    "# Рассчитаем абсолютную среднюю ошибку\n",
    "recovery_mae = mean_absolute_error(train_df['rougher.output.recovery'], recovery_calc)\n",
    "print('Значение средней абсолютной ошибки:', recovery_mae)"
   ]
  },
  {
   "cell_type": "markdown",
   "id": "fa521918",
   "metadata": {},
   "source": [
    "**Краткий вывод:** \n",
    "- По результатам расчетов можно сказать, что расхождения отсутствуют.\n",
    "- данные корректные\n",
    "\n"
   ]
  },
  {
   "cell_type": "markdown",
   "id": "044aff73",
   "metadata": {},
   "source": [
    "### Признаки, недоступные в тестовой выборке.\n",
    "Проанализируйте признаки, недоступные в тестовой выборке. Что это за параметры? К какому типу относятся?\n",
    "\n",
    "<a id=\"not_in_test\"></a>\n",
    "[go to the title](#title)"
   ]
  },
  {
   "cell_type": "code",
   "execution_count": 9,
   "id": "e16513fe",
   "metadata": {
    "scrolled": false
   },
   "outputs": [
    {
     "name": "stdout",
     "output_type": "stream",
     "text": [
      "Все ли колонки из тестовой выборки есть в тренировочной: True\n",
      "\n",
      "<class 'pandas.core.frame.DataFrame'>\n",
      "RangeIndex: 14149 entries, 0 to 14148\n",
      "Data columns (total 34 columns):\n",
      " #   Column                                              Non-Null Count  Dtype  \n",
      "---  ------                                              --------------  -----  \n",
      " 0   final.output.concentrate_ag                         14148 non-null  float64\n",
      " 1   final.output.concentrate_pb                         14148 non-null  float64\n",
      " 2   final.output.concentrate_sol                        13938 non-null  float64\n",
      " 3   final.output.concentrate_au                         14149 non-null  float64\n",
      " 4   final.output.recovery                               14149 non-null  float64\n",
      " 5   final.output.tail_ag                                14149 non-null  float64\n",
      " 6   final.output.tail_pb                                14049 non-null  float64\n",
      " 7   final.output.tail_sol                               14144 non-null  float64\n",
      " 8   final.output.tail_au                                14149 non-null  float64\n",
      " 9   primary_cleaner.output.concentrate_ag               14149 non-null  float64\n",
      " 10  primary_cleaner.output.concentrate_pb               14063 non-null  float64\n",
      " 11  primary_cleaner.output.concentrate_sol              13863 non-null  float64\n",
      " 12  primary_cleaner.output.concentrate_au               14149 non-null  float64\n",
      " 13  primary_cleaner.output.tail_ag                      14148 non-null  float64\n",
      " 14  primary_cleaner.output.tail_pb                      14134 non-null  float64\n",
      " 15  primary_cleaner.output.tail_sol                     14103 non-null  float64\n",
      " 16  primary_cleaner.output.tail_au                      14149 non-null  float64\n",
      " 17  rougher.calculation.sulfate_to_au_concentrate       14148 non-null  float64\n",
      " 18  rougher.calculation.floatbank10_sulfate_to_au_feed  14148 non-null  float64\n",
      " 19  rougher.calculation.floatbank11_sulfate_to_au_feed  14148 non-null  float64\n",
      " 20  rougher.calculation.au_pb_ratio                     14149 non-null  float64\n",
      " 21  rougher.output.concentrate_ag                       14149 non-null  float64\n",
      " 22  rougher.output.concentrate_pb                       14149 non-null  float64\n",
      " 23  rougher.output.concentrate_sol                      14127 non-null  float64\n",
      " 24  rougher.output.concentrate_au                       14149 non-null  float64\n",
      " 25  rougher.output.recovery                             14149 non-null  float64\n",
      " 26  rougher.output.tail_ag                              14148 non-null  float64\n",
      " 27  rougher.output.tail_pb                              14149 non-null  float64\n",
      " 28  rougher.output.tail_sol                             14149 non-null  float64\n",
      " 29  rougher.output.tail_au                              14149 non-null  float64\n",
      " 30  secondary_cleaner.output.tail_ag                    14147 non-null  float64\n",
      " 31  secondary_cleaner.output.tail_pb                    14139 non-null  float64\n",
      " 32  secondary_cleaner.output.tail_sol                   12544 non-null  float64\n",
      " 33  secondary_cleaner.output.tail_au                    14149 non-null  float64\n",
      "dtypes: float64(34)\n",
      "memory usage: 3.7 MB\n",
      "None\n"
     ]
    }
   ],
   "source": [
    "# Посмотрим какие признаки отсутствуют в тестовой выборке\n",
    "# Создадим массивы с названиями колонок\n",
    "train_columns_list = list(train_df.columns)\n",
    "test_columns_list = list(test_df.columns)\n",
    "\n",
    "# Найдем пересечение и проверим, все ли колонки из тестовой выборки есть в тренировочной\n",
    "common_list = [column for column in test_columns_list if column in train_columns_list]\n",
    "print('Все ли колонки из тестовой выборки есть в тренировочной:', common_list == test_columns_list, end='\\n\\n')\n",
    "\n",
    "# Выделим те столбцы, которых нет в тестовой\n",
    "only_train_columns_list = [column for column in train_columns_list if column not in test_columns_list]\n",
    "print(train_df[only_train_columns_list].info())"
   ]
  },
  {
   "cell_type": "markdown",
   "id": "b63789c1",
   "metadata": {},
   "source": [
    "Отсутствуют данные финальных значений, данные всех выходных значений после каждого этапа и все расчетные параметры\n"
   ]
  },
  {
   "cell_type": "code",
   "execution_count": 10,
   "id": "637688f5",
   "metadata": {},
   "outputs": [
    {
     "name": "stdout",
     "output_type": "stream",
     "text": [
      "<class 'pandas.core.frame.DataFrame'>\n",
      "Int64Index: 5290 entries, 0 to 5289\n",
      "Data columns (total 55 columns):\n",
      " #   Column                                      Non-Null Count  Dtype  \n",
      "---  ------                                      --------------  -----  \n",
      " 0   date                                        5290 non-null   object \n",
      " 1   primary_cleaner.input.sulfate               5286 non-null   float64\n",
      " 2   primary_cleaner.input.depressant            5285 non-null   float64\n",
      " 3   primary_cleaner.input.feed_size             5290 non-null   float64\n",
      " 4   primary_cleaner.input.xanthate              5286 non-null   float64\n",
      " 5   primary_cleaner.state.floatbank8_a_air      5290 non-null   float64\n",
      " 6   primary_cleaner.state.floatbank8_a_level    5290 non-null   float64\n",
      " 7   primary_cleaner.state.floatbank8_b_air      5290 non-null   float64\n",
      " 8   primary_cleaner.state.floatbank8_b_level    5290 non-null   float64\n",
      " 9   primary_cleaner.state.floatbank8_c_air      5290 non-null   float64\n",
      " 10  primary_cleaner.state.floatbank8_c_level    5290 non-null   float64\n",
      " 11  primary_cleaner.state.floatbank8_d_air      5290 non-null   float64\n",
      " 12  primary_cleaner.state.floatbank8_d_level    5290 non-null   float64\n",
      " 13  rougher.input.feed_ag                       5290 non-null   float64\n",
      " 14  rougher.input.feed_pb                       5290 non-null   float64\n",
      " 15  rougher.input.feed_rate                     5287 non-null   float64\n",
      " 16  rougher.input.feed_size                     5289 non-null   float64\n",
      " 17  rougher.input.feed_sol                      5269 non-null   float64\n",
      " 18  rougher.input.feed_au                       5290 non-null   float64\n",
      " 19  rougher.input.floatbank10_sulfate           5285 non-null   float64\n",
      " 20  rougher.input.floatbank10_xanthate          5290 non-null   float64\n",
      " 21  rougher.input.floatbank11_sulfate           5282 non-null   float64\n",
      " 22  rougher.input.floatbank11_xanthate          5265 non-null   float64\n",
      " 23  rougher.state.floatbank10_a_air             5290 non-null   float64\n",
      " 24  rougher.state.floatbank10_a_level           5290 non-null   float64\n",
      " 25  rougher.state.floatbank10_b_air             5290 non-null   float64\n",
      " 26  rougher.state.floatbank10_b_level           5290 non-null   float64\n",
      " 27  rougher.state.floatbank10_c_air             5290 non-null   float64\n",
      " 28  rougher.state.floatbank10_c_level           5290 non-null   float64\n",
      " 29  rougher.state.floatbank10_d_air             5290 non-null   float64\n",
      " 30  rougher.state.floatbank10_d_level           5290 non-null   float64\n",
      " 31  rougher.state.floatbank10_e_air             5290 non-null   float64\n",
      " 32  rougher.state.floatbank10_e_level           5290 non-null   float64\n",
      " 33  rougher.state.floatbank10_f_air             5290 non-null   float64\n",
      " 34  rougher.state.floatbank10_f_level           5290 non-null   float64\n",
      " 35  secondary_cleaner.state.floatbank2_a_air    5287 non-null   float64\n",
      " 36  secondary_cleaner.state.floatbank2_a_level  5290 non-null   float64\n",
      " 37  secondary_cleaner.state.floatbank2_b_air    5288 non-null   float64\n",
      " 38  secondary_cleaner.state.floatbank2_b_level  5290 non-null   float64\n",
      " 39  secondary_cleaner.state.floatbank3_a_air    5281 non-null   float64\n",
      " 40  secondary_cleaner.state.floatbank3_a_level  5290 non-null   float64\n",
      " 41  secondary_cleaner.state.floatbank3_b_air    5290 non-null   float64\n",
      " 42  secondary_cleaner.state.floatbank3_b_level  5290 non-null   float64\n",
      " 43  secondary_cleaner.state.floatbank4_a_air    5290 non-null   float64\n",
      " 44  secondary_cleaner.state.floatbank4_a_level  5290 non-null   float64\n",
      " 45  secondary_cleaner.state.floatbank4_b_air    5290 non-null   float64\n",
      " 46  secondary_cleaner.state.floatbank4_b_level  5290 non-null   float64\n",
      " 47  secondary_cleaner.state.floatbank5_a_air    5290 non-null   float64\n",
      " 48  secondary_cleaner.state.floatbank5_a_level  5290 non-null   float64\n",
      " 49  secondary_cleaner.state.floatbank5_b_air    5290 non-null   float64\n",
      " 50  secondary_cleaner.state.floatbank5_b_level  5290 non-null   float64\n",
      " 51  secondary_cleaner.state.floatbank6_a_air    5290 non-null   float64\n",
      " 52  secondary_cleaner.state.floatbank6_a_level  5290 non-null   float64\n",
      " 53  rougher.output.recovery                     5290 non-null   float64\n",
      " 54  final.output.recovery                       5290 non-null   float64\n",
      "dtypes: float64(54), object(1)\n",
      "memory usage: 2.3+ MB\n"
     ]
    }
   ],
   "source": [
    "# добавим в тестовую выборку столбцы с таргетом\n",
    "columns = ['rougher.output.recovery', 'final.output.recovery', 'date' ]\n",
    "test_df = test_df.merge(full_df[columns], how='left', on='date')\n",
    "test_df.info()"
   ]
  },
  {
   "cell_type": "markdown",
   "id": "802b21c3",
   "metadata": {},
   "source": [
    "### Предобработка данных\n",
    "<a id=\"predobarbotka\"></a>\n",
    "[go to the title](#title)"
   ]
  },
  {
   "cell_type": "code",
   "execution_count": 11,
   "id": "02a2ac7d",
   "metadata": {},
   "outputs": [
    {
     "name": "stdout",
     "output_type": "stream",
     "text": [
      "(11017, 87)\n",
      "(14149, 87)\n"
     ]
    }
   ],
   "source": [
    "# очистим данные от пустых значений\n",
    "tr_df_clear = train_df.dropna()\n",
    "print(tr_df_clear.shape)\n",
    "\n",
    "\n",
    "# или же сделаем заполнение\n",
    "tr_df_new = train_df.fillna(method='ffill', axis=0)\n",
    "print(tr_df_new.shape)\n",
    "\n"
   ]
  },
  {
   "cell_type": "markdown",
   "id": "d8dbd64d",
   "metadata": {},
   "source": [
    "## АНАЛИЗ ДАННЫХ\n",
    "<a id=\"analysis\"></a>\n",
    "[go to the title](#title)\n",
    "\n",
    "- 2.1. Посмотрите, как меняется концентрация металлов (Au, Ag, Pb) на различных этапах очистки. Опишите выводы.\n",
    "- 2.2.  Сравните распределения размеров гранул сырья на обучающей и тестовой выборках. Если распределения сильно отличаются друг от друга, оценка модели будет неправильной.\n",
    "- 2.3. Исследуйте суммарную концентрацию всех веществ на разных стадиях: в сырье, в черновом и финальном концентратах. "
   ]
  },
  {
   "cell_type": "markdown",
   "id": "0107f0d7",
   "metadata": {},
   "source": [
    "### Концентрации металлов на различных стадиях\n",
    "<a id=\"concentrate\"></a>\n",
    "[go to the title](#title)"
   ]
  },
  {
   "cell_type": "markdown",
   "id": "d94b96ff",
   "metadata": {},
   "source": [
    "#### Концентрации золота на различных стадиях"
   ]
  },
  {
   "cell_type": "code",
   "execution_count": 12,
   "id": "cc667fc7",
   "metadata": {
    "scrolled": true
   },
   "outputs": [
    {
     "data": {
      "image/png": "[encoded data removed]",
      "text/plain": [
       "<Figure size 864x432 with 1 Axes>"
      ]
     },
     "metadata": {
      "needs_background": "light"
     },
     "output_type": "display_data"
    }
   ],
   "source": [
    "columns = ['rougher.input.feed_au'\n",
    "           , 'rougher.output.concentrate_au'\n",
    "           , 'primary_cleaner.output.concentrate_au'\n",
    "           , 'final.output.concentrate_au']\n",
    "ax = tr_df_new[columns].plot.hist(bins=600, figsize=(12, 6), alpha=0.5, range=(0, 60), grid=True)\n"
   ]
  },
  {
   "cell_type": "code",
   "execution_count": 13,
   "id": "662a9b34",
   "metadata": {
    "scrolled": true
   },
   "outputs": [
    {
     "name": "stdout",
     "output_type": "stream",
     "text": [
      "Значения квантилей для параметра:rougher.input.feed_au\n",
      "Медиана = 7.65%\n",
      "Первая четверть = 6.6%\n",
      "Третья четверть = 9.07%\n",
      "\n",
      "Значения квантилей для параметра:rougher.output.concentrate_au\n",
      "Медиана = 19.95%\n",
      "Первая четверть = 18.43%\n",
      "Третья четверть = 21.39%\n",
      "\n",
      "Значения квантилей для параметра:primary_cleaner.output.concentrate_au\n",
      "Медиана = 33.23%\n",
      "Первая четверть = 30.86%\n",
      "Третья четверть = 35.33%\n",
      "\n",
      "Значения квантилей для параметра:final.output.concentrate_au\n",
      "Медиана = 44.87%\n",
      "Первая четверть = 43.28%\n",
      "Третья четверть = 46.17%\n",
      "\n"
     ]
    }
   ],
   "source": [
    "for column in columns:\n",
    "    print(f'Значения квантилей для параметра:{column}')\n",
    "    print(f'Медиана = {round(tr_df_new[column].quantile(0.5), 2)}%')\n",
    "    print(f'Первая четверть = {round(tr_df_new[column].quantile(0.25), 2)}%')\n",
    "    print(f'Третья четверть = {round(tr_df_new[column].quantile(0.75), 2)}%', end='\\n\\n') "
   ]
  },
  {
   "cell_type": "markdown",
   "id": "b0543924",
   "metadata": {},
   "source": [
    "#### Концентрация серебра на различных стадиях"
   ]
  },
  {
   "cell_type": "code",
   "execution_count": 14,
   "id": "2ae9b8f2",
   "metadata": {
    "scrolled": false
   },
   "outputs": [
    {
     "data": {
      "image/png": "[encoded data removed]",
      "text/plain": [
       "<Figure size 864x432 with 1 Axes>"
      ]
     },
     "metadata": {
      "needs_background": "light"
     },
     "output_type": "display_data"
    }
   ],
   "source": [
    "columns = ['rougher.input.feed_ag'\n",
    "           , 'rougher.output.concentrate_ag'\n",
    "           , 'primary_cleaner.output.concentrate_ag'\n",
    "           , 'final.output.concentrate_ag']\n",
    "ax = tr_df_new[columns].plot.hist(bins=600, figsize=(12, 6), alpha=0.5, grid=True, range=(0, 25))"
   ]
  },
  {
   "cell_type": "code",
   "execution_count": 15,
   "id": "8bf46ca8",
   "metadata": {},
   "outputs": [
    {
     "name": "stdout",
     "output_type": "stream",
     "text": [
      "Значения квантилей для параметра:rougher.input.feed_ag\n",
      "Медиана = 8.16%\n",
      "Первая четверть = 7.13%\n",
      "Третья четверть = 9.92%\n",
      "\n",
      "Значения квантилей для параметра:rougher.output.concentrate_ag\n",
      "Медиана = 11.75%\n",
      "Первая четверть = 10.49%\n",
      "Третья четверть = 13.43%\n",
      "\n",
      "Значения квантилей для параметра:primary_cleaner.output.concentrate_ag\n",
      "Медиана = 8.23%\n",
      "Первая четверть = 7.11%\n",
      "Третья четверть = 9.5%\n",
      "\n",
      "Значения квантилей для параметра:final.output.concentrate_ag\n",
      "Медиана = 4.99%\n",
      "Первая четверть = 4.21%\n",
      "Третья четверть = 5.86%\n",
      "\n"
     ]
    }
   ],
   "source": [
    "for column in columns:\n",
    "    print(f'Значения квантилей для параметра:{column}')\n",
    "    print(f'Медиана = {round(tr_df_new[column].quantile(0.5), 2)}%')\n",
    "    print(f'Первая четверть = {round(tr_df_new[column].quantile(0.25), 2)}%')\n",
    "    print(f'Третья четверть = {round(tr_df_new[column].quantile(0.75), 2)}%', end='\\n\\n') "
   ]
  },
  {
   "cell_type": "markdown",
   "id": "9e0cd3d9",
   "metadata": {},
   "source": [
    "#### Концентрация свинца на различных стадиях"
   ]
  },
  {
   "cell_type": "code",
   "execution_count": 16,
   "id": "f1259536",
   "metadata": {},
   "outputs": [
    {
     "data": {
      "image/png": "[encoded data removed]",
      "text/plain": [
       "<Figure size 864x432 with 1 Axes>"
      ]
     },
     "metadata": {
      "needs_background": "light"
     },
     "output_type": "display_data"
    }
   ],
   "source": [
    "columns = ['rougher.input.feed_pb'\n",
    "           , 'rougher.output.concentrate_pb'\n",
    "           , 'primary_cleaner.output.concentrate_pb'\n",
    "           , 'final.output.concentrate_pb']\n",
    "ax = tr_df_new[columns].plot.hist(bins=600, figsize=(12, 6), alpha=0.5, grid=True, range=(0, 25))"
   ]
  },
  {
   "cell_type": "code",
   "execution_count": 17,
   "id": "d6bc472a",
   "metadata": {},
   "outputs": [
    {
     "name": "stdout",
     "output_type": "stream",
     "text": [
      "Значения квантилей для параметра:rougher.input.feed_pb\n",
      "Медиана = 3.41%\n",
      "Первая четверть = 2.77%\n",
      "Третья четверть = 4.22%\n",
      "\n",
      "Значения квантилей для параметра:rougher.output.concentrate_pb\n",
      "Медиана = 7.76%\n",
      "Первая четверть = 6.85%\n",
      "Третья четверть = 8.6%\n",
      "\n",
      "Значения квантилей для параметра:primary_cleaner.output.concentrate_pb\n",
      "Медиана = 9.92%\n",
      "Первая четверть = 8.32%\n",
      "Третья четверть = 11.3%\n",
      "\n",
      "Значения квантилей для параметра:final.output.concentrate_pb\n",
      "Медиана = 10.3%\n",
      "Первая четверть = 9.3%\n",
      "Третья четверть = 11.17%\n",
      "\n"
     ]
    }
   ],
   "source": [
    "for column in columns:\n",
    "    print(f'Значения квантилей для параметра:{column}')\n",
    "    print(f'Медиана = {round(tr_df_new[column].quantile(0.5), 2)}%')\n",
    "    print(f'Первая четверть = {round(tr_df_new[column].quantile(0.25), 2)}%')\n",
    "    print(f'Третья четверть = {round(tr_df_new[column].quantile(0.75), 2)}%', end='\\n\\n') "
   ]
  },
  {
   "cell_type": "markdown",
   "id": "c28d0ac4",
   "metadata": {},
   "source": [
    "#### Краткие выводы:\n",
    "- Концентрация золота ожидаемо растет.\n",
    "- Разброс концентраций в рамках этапа небольшой\n",
    "- "
   ]
  },
  {
   "cell_type": "markdown",
   "id": "8a51dfe7",
   "metadata": {},
   "source": [
    "### Распределения размеров гранул сырья на обучающей и тестовой выборках\n",
    "<a id=\"train_vs_test_feeds\"></a>\n",
    "[go to the title](#title)"
   ]
  },
  {
   "cell_type": "code",
   "execution_count": 18,
   "id": "2a56eb83",
   "metadata": {},
   "outputs": [
    {
     "data": {
      "image/png": "[encoded data removed]",
      "text/plain": [
       "<Figure size 864x432 with 1 Axes>"
      ]
     },
     "metadata": {
      "needs_background": "light"
     },
     "output_type": "display_data"
    }
   ],
   "source": [
    "# Построим гистограммы распределения размеров гранул в исходном сырье для обучающей и тестовой выборки\n",
    "train_df['rougher.input.feed_size'].plot.hist(bins=600, figsize=(12, 6), alpha=0.5, grid=True, range=(25, 150))\n",
    "test_df['rougher.input.feed_size'].plot.hist(bins=600, figsize=(12, 6), alpha=0.5, grid=True, range=(25, 150))\n",
    "# plt.title('гистограмма')\n",
    "plt.show()"
   ]
  },
  {
   "cell_type": "markdown",
   "id": "51151c7f",
   "metadata": {},
   "source": [
    "По графикам видно, что медианы распределений отличаются, но нет большого количества значений, которые были бы характерны для тестовой выборки и не присутствовали бы в обучающей. Так что у модели не должно возникнуть проблем при прогнозировании результатов на тестовой выборке."
   ]
  },
  {
   "cell_type": "code",
   "execution_count": 19,
   "id": "fb1fae6b",
   "metadata": {
    "scrolled": true
   },
   "outputs": [
    {
     "data": {
      "image/png": "[encoded data removed]",
      "text/plain": [
       "<Figure size 864x432 with 1 Axes>"
      ]
     },
     "metadata": {
      "needs_background": "light"
     },
     "output_type": "display_data"
    }
   ],
   "source": [
    "f, ax = plt.subplots(figsize=(12, 6))\n",
    "sb.kdeplot(tr_df_new['rougher.input.feed_size']\n",
    "           , gridsize=500\n",
    "#            , legend=True\n",
    "           , bw_adjust=1\n",
    "           , common_grid=True\n",
    "           , fill=True\n",
    "           , alpha=0.5\n",
    "           , label='train')\n",
    "sb.kdeplot(test_df['rougher.input.feed_size']\n",
    "           , gridsize=500\n",
    "#            , legend=True\n",
    "           , bw_adjust=1\n",
    "           , common_grid=True\n",
    "           , fill=True\n",
    "           , alpha=0.5\n",
    "           , label='test')\n",
    "plt.legend(fontsize = 10)\n",
    "plt.show()"
   ]
  },
  {
   "cell_type": "markdown",
   "id": "ecaf1325",
   "metadata": {},
   "source": [
    "Видны выбросы это значения ниже 10 и более 120"
   ]
  },
  {
   "cell_type": "code",
   "execution_count": 20,
   "id": "fd12cad4",
   "metadata": {},
   "outputs": [],
   "source": [
    "column = 'rougher.input.feed_size'\n",
    "new_train = tr_df_new[(tr_df_new[column] > 20) & (tr_df_new[column] < 120)] \n",
    "new_test = test_df[(test_df[column] > 20) & (test_df[column] < 120)]"
   ]
  },
  {
   "cell_type": "code",
   "execution_count": 21,
   "id": "9b225392",
   "metadata": {
    "scrolled": true
   },
   "outputs": [
    {
     "data": {
      "image/png": "[encoded data removed]",
      "text/plain": [
       "<Figure size 864x432 with 1 Axes>"
      ]
     },
     "metadata": {
      "needs_background": "light"
     },
     "output_type": "display_data"
    }
   ],
   "source": [
    "f, ax = plt.subplots(figsize=(12, 6))\n",
    "sb.kdeplot(new_train['rougher.input.feed_size']\n",
    "           , gridsize=500\n",
    "#            , legend=True\n",
    "           , bw_adjust=1\n",
    "           , common_grid=True\n",
    "           , fill=True\n",
    "           , alpha=0.5\n",
    "           , label='train')\n",
    "sb.kdeplot(new_test['rougher.input.feed_size']\n",
    "           , gridsize=500\n",
    "#            , legend=True\n",
    "           , bw_adjust=1\n",
    "           , common_grid=True\n",
    "           , fill=True\n",
    "           , alpha=0.5\n",
    "           , label='test')\n",
    "plt.legend(fontsize = 10)\n",
    "plt.show()"
   ]
  },
  {
   "cell_type": "markdown",
   "id": "4628ddd2",
   "metadata": {},
   "source": [
    "Much better"
   ]
  },
  {
   "cell_type": "markdown",
   "id": "32fadc30",
   "metadata": {},
   "source": [
    "### Суммарная концентрация всех веществ на разных стадиях\n",
    "<a id=\"common_concentration\"></a>\n",
    "[go to the title](#title)"
   ]
  },
  {
   "cell_type": "code",
   "execution_count": 22,
   "id": "7332b984",
   "metadata": {
    "scrolled": true
   },
   "outputs": [],
   "source": [
    "# Просуммируем концентрации на различных стадиях\n",
    "rougher_in = (tr_df_new['rougher.input.feed_au'] \n",
    "            + tr_df_new['rougher.input.feed_ag'] \n",
    "            + tr_df_new['rougher.input.feed_pb'] \n",
    "            + tr_df_new['rougher.input.feed_sol'])\n",
    "\n",
    "rougher_out = (tr_df_new['rougher.output.concentrate_au'] \n",
    "            + tr_df_new['rougher.output.concentrate_ag'] \n",
    "            + tr_df_new['rougher.output.concentrate_pb'] \n",
    "            + tr_df_new['rougher.output.concentrate_sol'])\n",
    "\n",
    "prime_out = (tr_df_new['primary_cleaner.output.concentrate_au'] \n",
    "            + tr_df_new['primary_cleaner.output.concentrate_ag'] \n",
    "            + tr_df_new['primary_cleaner.output.concentrate_pb'] \n",
    "            + tr_df_new['primary_cleaner.output.concentrate_sol'])\n",
    "\n",
    "final_out = (tr_df_new['final.output.concentrate_au'] \n",
    "            + tr_df_new['final.output.concentrate_ag'] \n",
    "            + tr_df_new['final.output.concentrate_pb'] \n",
    "            + tr_df_new['final.output.concentrate_sol'])"
   ]
  },
  {
   "cell_type": "code",
   "execution_count": 23,
   "id": "332b3cf3",
   "metadata": {},
   "outputs": [],
   "source": [
    "# Сделаем общий датасет\n",
    "df_common_concentration = pd.DataFrame(data = {'rougher_in': rougher_in\n",
    "                                               , 'rougher_out': rougher_out\n",
    "                                               , 'prime_out': prime_out\n",
    "                                               , 'final_out': final_out})\n"
   ]
  },
  {
   "cell_type": "code",
   "execution_count": 24,
   "id": "5cba7cb5",
   "metadata": {
    "scrolled": true
   },
   "outputs": [
    {
     "data": {
      "image/png": "[encoded data removed]",
      "text/plain": [
       "<Figure size 864x432 with 1 Axes>"
      ]
     },
     "metadata": {
      "needs_background": "light"
     },
     "output_type": "display_data"
    }
   ],
   "source": [
    "# Построим гистограмму для суммарной концентрации на различных стадиях\n",
    "df_common_concentration.plot.hist(bins=600, figsize=(12, 6), alpha=0.5, grid=True, range=(0, 100))\n",
    "plt.show()"
   ]
  },
  {
   "cell_type": "code",
   "execution_count": 25,
   "id": "dd90634c",
   "metadata": {
    "scrolled": true
   },
   "outputs": [
    {
     "name": "stdout",
     "output_type": "stream",
     "text": [
      "Значения квантилей для параметра:rougher_in\n",
      "Медиана = 56.63%\n",
      "Первая четверть = 52.57%\n",
      "Третья четверть = 60.76%\n",
      "\n",
      "Значения квантилей для параметра:rougher_out\n",
      "Медиана = 69.18%\n",
      "Первая четверть = 64.91%\n",
      "Третья четверть = 73.43%\n",
      "\n",
      "Значения квантилей для параметра:prime_out\n",
      "Медиана = 61.79%\n",
      "Первая четверть = 58.05%\n",
      "Третья четверть = 65.36%\n",
      "\n",
      "Значения квантилей для параметра:final_out\n",
      "Медиана = 69.14%\n",
      "Первая четверть = 67.56%\n",
      "Третья четверть = 70.97%\n",
      "\n"
     ]
    }
   ],
   "source": [
    "for column in df_common_concentration:\n",
    "    print(f'Значения квантилей для параметра:{column}')\n",
    "    print(f'Медиана = {round(df_common_concentration[column].quantile(0.5), 2)}%')\n",
    "    print(f'Первая четверть = {round(df_common_concentration[column].quantile(0.25), 2)}%')\n",
    "    print(f'Третья четверть = {round(df_common_concentration[column].quantile(0.75), 2)}%', end='\\n\\n')"
   ]
  },
  {
   "cell_type": "code",
   "execution_count": 26,
   "id": "92c76f02",
   "metadata": {
    "scrolled": false
   },
   "outputs": [
    {
     "data": {
      "image/png": "[encoded data removed]",
      "text/plain": [
       "<Figure size 864x432 with 1 Axes>"
      ]
     },
     "metadata": {
      "needs_background": "light"
     },
     "output_type": "display_data"
    }
   ],
   "source": [
    "f, ax = plt.subplots(figsize=(12, 6))\n",
    "sb.kdeplot(rougher_in\n",
    "           , gridsize=500\n",
    "#            , legend=True\n",
    "           , bw_adjust=1\n",
    "           , common_grid=True\n",
    "           , fill=True\n",
    "           , alpha=0.5\n",
    "           , label='rougher_in')\n",
    "sb.kdeplot(rougher_out\n",
    "           , gridsize=500\n",
    "#            , legend=True\n",
    "           , bw_adjust=1\n",
    "           , common_grid=True\n",
    "           , fill=True\n",
    "           , alpha=0.5\n",
    "           , label='rougher_out')\n",
    "\n",
    "sb.kdeplot(prime_out\n",
    "           , gridsize=500\n",
    "#            , legend=True\n",
    "           , bw_adjust=1\n",
    "           , common_grid=True\n",
    "           , fill=True\n",
    "           , alpha=0.5\n",
    "           , label='prime_out')\n",
    "\n",
    "sb.kdeplot(final_out\n",
    "           , gridsize=500\n",
    "#            , legend=True\n",
    "           , bw_adjust=1\n",
    "           , common_grid=True\n",
    "           , fill=True\n",
    "           , alpha=0.5\n",
    "           , label='final_out')\n",
    "plt.legend(fontsize = 10)\n",
    "plt.show()"
   ]
  },
  {
   "cell_type": "code",
   "execution_count": 27,
   "id": "708db4b8",
   "metadata": {},
   "outputs": [],
   "source": [
    "tr_df_new['rougher_in'] = rougher_in\n",
    "tr_df_new['rougher_out'] = rougher_out\n",
    "tr_df_new['prime_out'] = prime_out\n",
    "tr_df_new['final_out'] = final_out\n",
    "\n",
    "new_train_df = tr_df_new[tr_df_new['rougher_in'] > 30]\n",
    "new_train_df = new_train_df[new_train_df['rougher_out'] > 30]\n",
    "new_train_df = new_train_df[new_train_df['prime_out'] > 30]\n",
    "new_train_df = new_train_df[new_train_df['final_out'] > 30]"
   ]
  },
  {
   "cell_type": "code",
   "execution_count": 28,
   "id": "54f3f4e1",
   "metadata": {
    "scrolled": true
   },
   "outputs": [
    {
     "data": {
      "image/png": "[encoded data removed]",
      "text/plain": [
       "<Figure size 864x432 with 1 Axes>"
      ]
     },
     "metadata": {
      "needs_background": "light"
     },
     "output_type": "display_data"
    }
   ],
   "source": [
    "f, ax = plt.subplots(figsize=(12, 6))\n",
    "sb.kdeplot(new_train_df['rougher_in']\n",
    "           , gridsize=500\n",
    "#            , legend=True\n",
    "           , bw_adjust=1\n",
    "           , common_grid=True\n",
    "           , fill=True\n",
    "           , alpha=0.5\n",
    "           , label='rougher_in')\n",
    "sb.kdeplot(new_train_df['rougher_out']\n",
    "           , gridsize=500\n",
    "#            , legend=True\n",
    "           , bw_adjust=1\n",
    "           , common_grid=True\n",
    "           , fill=True\n",
    "           , alpha=0.5\n",
    "           , label='rougher_out')\n",
    "sb.kdeplot(new_train_df['prime_out']\n",
    "           , gridsize=500\n",
    "#            , legend=True\n",
    "           , bw_adjust=1\n",
    "           , common_grid=True\n",
    "           , fill=True\n",
    "           , alpha=0.5\n",
    "           , label='prime_out')\n",
    "sb.kdeplot(new_train_df['final_out']\n",
    "           , gridsize=500\n",
    "#            , legend=True\n",
    "           , bw_adjust=1\n",
    "           , common_grid=True\n",
    "           , fill=True\n",
    "           , alpha=0.5\n",
    "           , label='final_out')\n",
    "plt.legend(fontsize = 10)\n",
    "plt.show()"
   ]
  },
  {
   "cell_type": "markdown",
   "id": "14e30fd3",
   "metadata": {},
   "source": [
    "Выбросы убрали. Можно удалить ненужные столбцы.\n"
   ]
  },
  {
   "cell_type": "code",
   "execution_count": 29,
   "id": "cee1facf",
   "metadata": {},
   "outputs": [],
   "source": [
    "new_train_df = new_train_df.drop(['rougher_in', 'rougher_out', 'prime_out', 'final_out'], axis=1)"
   ]
  },
  {
   "cell_type": "markdown",
   "id": "047a2ec4",
   "metadata": {},
   "source": [
    "## ОБУЧЕНИЕ МОДЕЛИ\n",
    "<a id=\"fit_model\"></a>\n",
    "[go to the title](#title)\n",
    "\n",
    "- 3.1. Напишите функцию для вычисления итоговой sMAPE.\n",
    "- 3.2. Обучите разные модели и оцените их качество кросс-валидацией. Выберите лучшую модель и проверьте её на тестовой выборке. Опишите выводы."
   ]
  },
  {
   "cell_type": "markdown",
   "id": "e0287381",
   "metadata": {},
   "source": [
    "### Функция для вычисления итоговой sMAPE\n",
    "<a id=\"smape\"></a>\n",
    "[go to the title](#title)"
   ]
  },
  {
   "cell_type": "code",
   "execution_count": 30,
   "id": "27d50509",
   "metadata": {},
   "outputs": [],
   "source": [
    "# напишем функцию по расчету метрики sMAPE\n",
    "def smape_calc(target, predict):\n",
    "    smape = 100 * ((abs(target - predict) / ((abs(target) + abs(predict))/2)).mean())\n",
    "    \n",
    "    return smape\n"
   ]
  },
  {
   "cell_type": "code",
   "execution_count": 31,
   "id": "489a0465",
   "metadata": {},
   "outputs": [],
   "source": [
    "def ttl_smape(smape1, smape2):\n",
    "    sMAPE = smape1 * 0.25 + smape2 * 0.75\n",
    "    return sMAPE"
   ]
  },
  {
   "cell_type": "markdown",
   "id": "0e04ca6c",
   "metadata": {},
   "source": [
    "### Обучаем первую модель"
   ]
  },
  {
   "cell_type": "code",
   "execution_count": 32,
   "id": "867e1a3f",
   "metadata": {},
   "outputs": [],
   "source": [
    "# зададим кастомную функцию оценки эффективности модели при кроссвалидации\n",
    "sMAPE_custome_score = make_scorer(smape_calc, greater_is_better=False)"
   ]
  },
  {
   "cell_type": "code",
   "execution_count": 33,
   "id": "2cab94e7",
   "metadata": {},
   "outputs": [],
   "source": [
    "# Создадим выборки с признаками и таргетом\n",
    "features_list = test_columns_list.copy()\n",
    "features_list.remove('date')\n",
    "features_train_df = new_train_df[features_list]\n",
    "first_target_df = new_train_df['rougher.output.recovery']\n",
    "\n",
    "features_train_df2 = tr_df_clear[features_list]\n",
    "first_target_df2 = tr_df_clear['rougher.output.recovery']\n",
    "\n"
   ]
  },
  {
   "cell_type": "code",
   "execution_count": 34,
   "id": "5024845f",
   "metadata": {
    "scrolled": false
   },
   "outputs": [
    {
     "name": "stdout",
     "output_type": "stream",
     "text": [
      "CPU times: user 3.15 s, sys: 353 ms, total: 3.5 s\n",
      "Wall time: 529 ms\n"
     ]
    }
   ],
   "source": [
    "%%time\n",
    "# \n",
    "model1 = LinearRegression()\n",
    "score1 = cross_val_score(model1, features_train_df, first_target_df, scoring=sMAPE_custome_score)\n",
    "\n",
    "model2 = LinearRegression()\n",
    "score2 = cross_val_score(model2, features_train_df2, first_target_df2, scoring=sMAPE_custome_score)\n",
    "\n",
    "model3 = Lasso()\n",
    "score3 = cross_val_score(model3, features_train_df, first_target_df, scoring=sMAPE_custome_score)"
   ]
  },
  {
   "cell_type": "code",
   "execution_count": 35,
   "id": "dfff2af0",
   "metadata": {},
   "outputs": [
    {
     "name": "stdout",
     "output_type": "stream",
     "text": [
      "sMAPE для линейной регрессии на очищенной от выбросов выборке -7.230317834254227\n",
      "sMAPE для линейной регрессии на усеченной выборке -11.925343594602728\n",
      "sMAPE для Lasso на очищенной от выбросов выборке -6.954687473692401\n"
     ]
    }
   ],
   "source": [
    "print('sMAPE для линейной регрессии на очищенной от выбросов выборке', score1.mean())\n",
    "print('sMAPE для линейной регрессии на усеченной выборке', score2.mean())\n",
    "print('sMAPE для Lasso на очищенной от выбросов выборке', score3.mean())"
   ]
  },
  {
   "cell_type": "code",
   "execution_count": 36,
   "id": "3ae546e9",
   "metadata": {},
   "outputs": [
    {
     "name": "stdout",
     "output_type": "stream",
     "text": [
      "Количество деревьев: 80 | глубина: 6 | sMAPE: -6.224066824980069\n",
      "Количество деревьев: 80 | глубина: 7 | sMAPE: -6.1936933822905305\n",
      "Количество деревьев: 80 | глубина: 8 | sMAPE: -6.275245455812651\n",
      "Количество деревьев: 80 | глубина: 9 | sMAPE: -6.31857238668466\n",
      "Количество деревьев: 80 | глубина: 10 | sMAPE: -6.3275368137529835\n",
      "Количество деревьев: 80 | глубина: 11 | sMAPE: -6.311048211291404\n",
      "CPU times: user 7min 18s, sys: 1.05 s, total: 7min 19s\n",
      "Wall time: 7min 18s\n"
     ]
    }
   ],
   "source": [
    "%%time\n",
    "# случайный лес на дополненной выборке\n",
    "random_state = 12345\n",
    "estimantors = 80\n",
    "for depth in range(6, 12, 1):\n",
    "    model = RandomForestRegressor(random_state=random_state, n_estimators=estimantors, max_depth=depth)\n",
    "    score = cross_val_score(model, features_train_df, first_target_df, scoring=sMAPE_custome_score)\n",
    "\n",
    "    print('Количество деревьев:', estimantors, '|', 'глубина:', depth, '|', 'sMAPE:',score.mean())"
   ]
  },
  {
   "cell_type": "code",
   "execution_count": 37,
   "id": "51634f53",
   "metadata": {},
   "outputs": [],
   "source": [
    "# %%time\n",
    "# # случайный лес на очищеной выборке\n",
    "# for depth in range(6, 12, 1):\n",
    "#     model = RandomForestRegressor(random_state=random_state, n_estimators=estimantors, max_depth=depth)\n",
    "#     score = cross_val_score(model, features_train_df2, first_target_df2, scoring=sMAPE_custome_score)\n",
    "\n",
    "#     print('Количество деревьев:', 80, '|', 'глубина:', depth, '|', 'sMAPE:',score.mean())"
   ]
  },
  {
   "cell_type": "code",
   "execution_count": 38,
   "id": "756f0608",
   "metadata": {
    "scrolled": false
   },
   "outputs": [
    {
     "name": "stdout",
     "output_type": "stream",
     "text": [
      "Количество деревьев: 80 | глубина: 7 | sMAPE: -6.1936933822905305\n",
      "Количество деревьев: 90 | глубина: 7 | sMAPE: -6.2156544625993835\n",
      "Количество деревьев: 100 | глубина: 7 | sMAPE: -6.197645993469254\n",
      "Количество деревьев: 110 | глубина: 7 | sMAPE: -6.170186323357092\n",
      "Количество деревьев: 120 | глубина: 7 | sMAPE: -6.188143577741138\n",
      "Количество деревьев: 130 | глубина: 7 | sMAPE: -6.179035780466416\n",
      "Количество деревьев: 140 | глубина: 7 | sMAPE: -6.169187415636273\n",
      "Количество деревьев: 150 | глубина: 7 | sMAPE: -6.161004761002997\n",
      "Количество деревьев: 160 | глубина: 7 | sMAPE: -6.144826982120529\n",
      "Количество деревьев: 170 | глубина: 7 | sMAPE: -6.150354690618531\n",
      "Количество деревьев: 180 | глубина: 7 | sMAPE: -6.154952782108016\n",
      "Количество деревьев: 190 | глубина: 7 | sMAPE: -6.147707575311711\n",
      "CPU times: user 21min 24s, sys: 1.81 s, total: 21min 25s\n",
      "Wall time: 21min 52s\n"
     ]
    }
   ],
   "source": [
    "%%time\n",
    "depth = 7\n",
    "for estimators in range(80, 200, 10):\n",
    "    model = RandomForestRegressor(random_state=random_state, n_estimators=estimators, max_depth=depth)\n",
    "    score = cross_val_score(model, features_train_df, first_target_df, scoring=sMAPE_custome_score)\n",
    "\n",
    "    print('Количество деревьев:', estimators, '|', 'глубина:', depth, '|', 'sMAPE:',score.mean())"
   ]
  },
  {
   "cell_type": "markdown",
   "id": "b3e54d8c",
   "metadata": {},
   "source": [
    "### Обучаем вторую модель"
   ]
  },
  {
   "cell_type": "code",
   "execution_count": 39,
   "id": "9e21e73d",
   "metadata": {},
   "outputs": [],
   "source": [
    "features_train_df = new_train_df[features_list]\n",
    "second_target_df = new_train_df['final.output.recovery']\n",
    "\n",
    "features_train_df2 = tr_df_clear[features_list]\n",
    "second_target_df2 = tr_df_clear['final.output.recovery']"
   ]
  },
  {
   "cell_type": "markdown",
   "id": "4b41aefe",
   "metadata": {},
   "source": [
    "#### Линейная регрессия"
   ]
  },
  {
   "cell_type": "code",
   "execution_count": 40,
   "id": "ef5401a4",
   "metadata": {},
   "outputs": [
    {
     "name": "stdout",
     "output_type": "stream",
     "text": [
      "CPU times: user 2min 36s, sys: 473 ms, total: 2min 37s\n",
      "Wall time: 2min 34s\n"
     ]
    }
   ],
   "source": [
    "%%time\n",
    "# \n",
    "model1 = LinearRegression()\n",
    "score1 = cross_val_score(model, features_train_df, second_target_df, scoring=sMAPE_custome_score)\n",
    "\n",
    "model2 = LinearRegression()\n",
    "score2 = cross_val_score(model2, features_train_df2, second_target_df2, scoring=sMAPE_custome_score)\n",
    "\n",
    "model3 = Lasso()\n",
    "score3 = cross_val_score(model3, features_train_df, second_target_df, scoring=sMAPE_custome_score)"
   ]
  },
  {
   "cell_type": "code",
   "execution_count": 41,
   "id": "1f96819c",
   "metadata": {},
   "outputs": [
    {
     "name": "stdout",
     "output_type": "stream",
     "text": [
      "sMAPE для линейной регрессии на дополненной выборке -8.965486636716353\n",
      "sMAPE для линейной регрессии на усеченной выборке -9.746081106190134\n",
      "sMAPE для Lasso на дополненной выборке -10.302111012903016\n"
     ]
    }
   ],
   "source": [
    "print('sMAPE для линейной регрессии на дополненной выборке', score1.mean())\n",
    "print('sMAPE для линейной регрессии на усеченной выборке', score2.mean())\n",
    "print('sMAPE для Lasso на дополненной выборке', score3.mean())"
   ]
  },
  {
   "cell_type": "code",
   "execution_count": 42,
   "id": "b94cc4f7",
   "metadata": {},
   "outputs": [
    {
     "name": "stdout",
     "output_type": "stream",
     "text": [
      "Количество деревьев: 80 | глубина: 6 | sMAPE: -8.898671872859275\n",
      "Количество деревьев: 80 | глубина: 7 | sMAPE: -9.001355565729714\n",
      "Количество деревьев: 80 | глубина: 8 | sMAPE: -9.09032241477036\n",
      "Количество деревьев: 80 | глубина: 9 | sMAPE: -9.085459811543226\n",
      "Количество деревьев: 80 | глубина: 10 | sMAPE: -9.197491899606012\n",
      "Количество деревьев: 80 | глубина: 11 | sMAPE: -9.226627631493315\n",
      "CPU times: user 7min 34s, sys: 921 ms, total: 7min 34s\n",
      "Wall time: 7min 34s\n"
     ]
    }
   ],
   "source": [
    "%%time\n",
    "# случайный лес на дополненной выборке\n",
    "random_state = 12345\n",
    "estimantors = 80\n",
    "for depth in range(6, 12, 1):\n",
    "    model = RandomForestRegressor(random_state=random_state, n_estimators=estimantors, max_depth=depth)\n",
    "    score = cross_val_score(model, features_train_df, second_target_df, scoring=sMAPE_custome_score)\n",
    "\n",
    "    print('Количество деревьев:', 80, '|', 'глубина:', depth, '|', 'sMAPE:', score.mean())"
   ]
  },
  {
   "cell_type": "code",
   "execution_count": 43,
   "id": "a05e90fd",
   "metadata": {},
   "outputs": [
    {
     "name": "stdout",
     "output_type": "stream",
     "text": [
      "Количество деревьев: 80 | глубина: 6 | sMAPE: -8.898671872859275\n",
      "Количество деревьев: 90 | глубина: 6 | sMAPE: -8.876345726165972\n",
      "Количество деревьев: 100 | глубина: 6 | sMAPE: -8.866945654902018\n",
      "Количество деревьев: 110 | глубина: 6 | sMAPE: -8.842330645474352\n",
      "Количество деревьев: 120 | глубина: 6 | sMAPE: -8.836097598979823\n",
      "Количество деревьев: 130 | глубина: 6 | sMAPE: -8.851587415242898\n",
      "Количество деревьев: 140 | глубина: 6 | sMAPE: -8.849440644834994\n",
      "Количество деревьев: 150 | глубина: 6 | sMAPE: -8.84304022230447\n",
      "Количество деревьев: 160 | глубина: 6 | sMAPE: -8.832897187424516\n",
      "Количество деревьев: 170 | глубина: 6 | sMAPE: -8.836870167440544\n",
      "Количество деревьев: 180 | глубина: 6 | sMAPE: -8.852080879195917\n",
      "Количество деревьев: 190 | глубина: 6 | sMAPE: -8.852200970534973\n",
      "CPU times: user 19min 4s, sys: 1.52 s, total: 19min 5s\n",
      "Wall time: 19min 5s\n"
     ]
    }
   ],
   "source": [
    "%%time\n",
    "depth = 6\n",
    "for estimators in range(80, 200, 10):\n",
    "    model = RandomForestRegressor(random_state=random_state, n_estimators=estimators, max_depth=depth)\n",
    "    score = cross_val_score(model, features_train_df, second_target_df, scoring=sMAPE_custome_score)\n",
    "\n",
    "    print('Количество деревьев:', estimators, '|', 'глубина:', depth, '|', 'sMAPE:',score.mean())"
   ]
  },
  {
   "cell_type": "markdown",
   "id": "d3d0579b",
   "metadata": {},
   "source": [
    "### Проверим модели на тестовой выборке:"
   ]
  },
  {
   "cell_type": "code",
   "execution_count": 44,
   "id": "cca341a4",
   "metadata": {},
   "outputs": [
    {
     "name": "stdout",
     "output_type": "stream",
     "text": [
      "CPU times: user 45.7 s, sys: 62.2 ms, total: 45.7 s\n",
      "Wall time: 45.7 s\n"
     ]
    },
    {
     "data": {
      "text/plain": [
       "RandomForestRegressor(max_depth=6, n_estimators=120, random_state=12345)"
      ]
     },
     "execution_count": 44,
     "metadata": {},
     "output_type": "execute_result"
    }
   ],
   "source": [
    "%%time\n",
    "# \n",
    "# features_train_df = new_train_df[features_list]\n",
    "# first_target_df = new_train_df['rougher.output.recovery']\n",
    "# second_target_df = new_train_df['final.output.recovery']\n",
    "\n",
    "model_1 = RandomForestRegressor(random_state=random_state, n_estimators=120, max_depth=7)\n",
    "model_2 = RandomForestRegressor(random_state=random_state, n_estimators=120, max_depth=6)\n",
    "\n",
    "model_1.fit(features_train_df, first_target_df)\n",
    "model_2.fit(features_train_df, second_target_df)"
   ]
  },
  {
   "cell_type": "code",
   "execution_count": 45,
   "id": "534f5b33",
   "metadata": {},
   "outputs": [],
   "source": [
    "features_test = test_df.dropna()[features_list]\n",
    "predicted_tests_1 = model_1.predict(features_test)\n",
    "predicted_tests_2 = model_2.predict(features_test)\n"
   ]
  },
  {
   "cell_type": "code",
   "execution_count": 46,
   "id": "cc391fcc",
   "metadata": {},
   "outputs": [],
   "source": [
    "first_target_test = test_df.dropna()['rougher.output.recovery']\n",
    "second_target_test = test_df.dropna()['final.output.recovery']\n",
    "sMAPE_1 = smape_calc(predicted_tests_1, first_target_test)\n",
    "sMAPE_2 = smape_calc(predicted_tests_2, second_target_test)\n",
    "\n",
    "# sMAPE = 0.25 * sMAPE_1 + 0.75 * sMAPE_2"
   ]
  },
  {
   "cell_type": "code",
   "execution_count": 47,
   "id": "c27a0bf7",
   "metadata": {
    "scrolled": true
   },
   "outputs": [
    {
     "name": "stdout",
     "output_type": "stream",
     "text": [
      "Итоговый sMAPE: 8.843709121066748\n"
     ]
    }
   ],
   "source": [
    "print('Итоговый sMAPE:', ttl_smape(sMAPE_1, sMAPE_2))"
   ]
  },
  {
   "cell_type": "code",
   "execution_count": 48,
   "id": "6e397afa",
   "metadata": {},
   "outputs": [
    {
     "data": {
      "text/plain": [
       "DummyRegressor(strategy='median')"
      ]
     },
     "execution_count": 48,
     "metadata": {},
     "output_type": "execute_result"
    }
   ],
   "source": [
    "from sklearn.dummy import DummyRegressor\n",
    "\n",
    "dummy_regr_1 = DummyRegressor(strategy=\"median\")\n",
    "dummy_regr_1.fit(features_train_df, first_target_df)\n",
    "\n",
    "\n",
    "dummy_regr_2 = DummyRegressor(strategy=\"median\")\n",
    "dummy_regr_2.fit(features_train_df, second_target_df)"
   ]
  },
  {
   "cell_type": "code",
   "execution_count": 49,
   "id": "4fe27046",
   "metadata": {},
   "outputs": [],
   "source": [
    "predicted_dummy_1 = dummy_regr_1.predict(features_test)\n",
    "predicted_dummy_2 = dummy_regr_2.predict(features_test)\n",
    "\n",
    "sMAPE_1_dummy = smape_calc(predicted_dummy_1, first_target_test)\n",
    "sMAPE_2_dummy = smape_calc(predicted_dummy_2, second_target_test)"
   ]
  },
  {
   "cell_type": "code",
   "execution_count": 50,
   "id": "5e49c64f",
   "metadata": {},
   "outputs": [
    {
     "name": "stdout",
     "output_type": "stream",
     "text": [
      "Итоговый sMAPE для Dummy модели: 9.023425169606455\n"
     ]
    }
   ],
   "source": [
    "print('Итоговый sMAPE для Dummy модели:', ttl_smape(sMAPE_1_dummy, sMAPE_2_dummy))"
   ]
  }
 ],
 "metadata": {
  "kernelspec": {
   "display_name": "Python 3 (ipykernel)",
   "language": "python",
   "name": "python3"
  },
  "language_info": {
   "codemirror_mode": {
    "name": "ipython",
    "version": 3
   },
   "file_extension": ".py",
   "mimetype": "text/x-python",
   "name": "python",
   "nbconvert_exporter": "python",
   "pygments_lexer": "ipython3",
   "version": "3.9.7"
  },
  "toc": {
   "base_numbering": 1,
   "nav_menu": {},
   "number_sections": true,
   "sideBar": true,
   "skip_h1_title": true,
   "title_cell": "Table of Contents",
   "title_sidebar": "Contents",
   "toc_cell": false,
   "toc_position": {},
   "toc_section_display": true,
   "toc_window_display": true
  }
 },
 "nbformat": 4,
 "nbformat_minor": 5
}
