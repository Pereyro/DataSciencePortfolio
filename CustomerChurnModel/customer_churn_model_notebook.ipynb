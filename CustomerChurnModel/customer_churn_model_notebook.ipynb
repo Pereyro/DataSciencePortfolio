{
 "cells": [
  {
   "cell_type": "markdown",
   "metadata": {},
   "source": [
    "# Прогнозирование оттока клиентов телеком компании"
   ]
  },
  {
   "cell_type": "markdown",
   "metadata": {},
   "source": [
    "## СОДЕРЖАНИЕ\n",
    "<a id=\"title\"></a>"
   ]
  },
  {
   "cell_type": "markdown",
   "metadata": {},
   "source": [
    "* [Загрузка библиотек](#import_libs)  \n",
    "* [Данные](#data)\n",
    "    * [Загрузка данных](#import_data)\n",
    "    * [Первое впечатление](#first_impression)\n",
    "    * [Первичный анализ данных](#first_analysis)\n",
    "    * [Предварительные выводы](#first_conclusions)\n",
    "* [План проекта](#plan)\n",
    "    * [Описание проекта](#task_description)\n",
    "    * [Описание данных](#data_description) \n",
    "* [Анализ данных](#data_analysis)\n",
    "    * [Объединение выборок](#merge)\n",
    "    * [Визуализация данных](#data_visual)\n",
    "    * [Преобразование данных](#data_enginiring)\n",
    "    * [Анализ на мультколениарность](#multicolleniar)\n",
    "    * [Дисбаланс классов](#disballance)\n",
    "    * [Выводы](#analis_concl)\n",
    "* [Модели](#models)\n",
    "    * [Разбиение на выборки](#split)\n",
    "    * [Кодирование признаков](#features_encode)\n",
    "    * [Обучение линейной модели](#fit_linear)\n",
    "    * [Обучение CatBoost](#fit_catboost)\n",
    "    * [Проверка на тестовой выборке](#test_check)\n",
    "    * [Анализ важности признаков](#analisis_of_importance)\n",
    "    * [Матрица ошибок](#error_matrix)\n",
    "* [Выводы](#resume)"
   ]
  },
  {
   "cell_type": "markdown",
   "metadata": {},
   "source": [
    "<a id=\"import_libs\"></a>\n",
    "## ЗАГРУЗКА БИБЛИОТЕК"
   ]
  },
  {
   "cell_type": "code",
   "execution_count": 1,
   "metadata": {},
   "outputs": [],
   "source": [
    "# pip install phik"
   ]
  },
  {
   "cell_type": "code",
   "execution_count": 77,
   "metadata": {},
   "outputs": [],
   "source": [
    "# импорт необходимых библиотек\n",
    "import numpy as np\n",
    "import scipy as sc\n",
    "import pandas as pd\n",
    "\n",
    "from catboost import CatBoostClassifier\n",
    "from sklearn.linear_model import LogisticRegression\n",
    "\n",
    "from sklearn.pipeline import Pipeline\n",
    "from sklearn.compose import ColumnTransformer\n",
    "from sklearn.preprocessing import OneHotEncoder\n",
    "from sklearn.preprocessing import StandardScaler\n",
    "\n",
    "from sklearn.model_selection import train_test_split\n",
    "from sklearn.model_selection import cross_val_score\n",
    "from sklearn.model_selection import GridSearchCV\n",
    "\n",
    "from sklearn.metrics import roc_curve \n",
    "from sklearn.metrics import roc_auc_score\n",
    "from sklearn.metrics import confusion_matrix\n",
    "\n",
    "from phik import phik_matrix\n",
    "from phik.report import plot_correlation_matrix\n",
    "\n",
    "import matplotlib.pyplot as plt\n",
    "import seaborn as sns"
   ]
  },
  {
   "cell_type": "markdown",
   "metadata": {},
   "source": [
    "<a id=\"data\"></a>\n",
    "## ДАННЫЕ"
   ]
  },
  {
   "cell_type": "markdown",
   "metadata": {},
   "source": [
    "[go to the title](#title)\n",
    "<a id=\"import_data\"></a>\n",
    "### Загрузка данных"
   ]
  },
  {
   "cell_type": "code",
   "execution_count": 3,
   "metadata": {},
   "outputs": [],
   "source": [
    "# \n",
    "try:\n",
    "    prsnl = pd.read_csv('/datasets/personal_new.csv')\n",
    "    phone = pd.read_csv('/datasets/phone_new.csv')\n",
    "    cntrt = pd.read_csv('/datasets/contract_new.csv')\n",
    "    intnt = pd.read_csv('/datasets/internet_new.csv')\n",
    "except:\n",
    "    prsnl = pd.read_csv('personal_new.csv')\n",
    "    phone = pd.read_csv('phone_new.csv')\n",
    "    cntrt = pd.read_csv('contract_new.csv')\n",
    "    intnt = pd.read_csv('internet_new.csv')"
   ]
  },
  {
   "cell_type": "markdown",
   "metadata": {},
   "source": [
    "[go to the title](#title)\n",
    "<a id=\"first_impression\"></a>\n",
    "### Первое впечатление"
   ]
  },
  {
   "cell_type": "markdown",
   "metadata": {},
   "source": [
    "#### Personal"
   ]
  },
  {
   "cell_type": "code",
   "execution_count": 4,
   "metadata": {},
   "outputs": [
    {
     "data": {
      "text/html": [
       "<div>\n",
       "<style scoped>\n",
       "    .dataframe tbody tr th:only-of-type {\n",
       "        vertical-align: middle;\n",
       "    }\n",
       "\n",
       "    .dataframe tbody tr th {\n",
       "        vertical-align: top;\n",
       "    }\n",
       "\n",
       "    .dataframe thead th {\n",
       "        text-align: right;\n",
       "    }\n",
       "</style>\n",
       "<table border=\"1\" class=\"dataframe\">\n",
       "  <thead>\n",
       "    <tr style=\"text-align: right;\">\n",
       "      <th></th>\n",
       "      <th>customerID</th>\n",
       "      <th>gender</th>\n",
       "      <th>SeniorCitizen</th>\n",
       "      <th>Partner</th>\n",
       "      <th>Dependents</th>\n",
       "    </tr>\n",
       "  </thead>\n",
       "  <tbody>\n",
       "    <tr>\n",
       "      <th>0</th>\n",
       "      <td>7590-VHVEG</td>\n",
       "      <td>Female</td>\n",
       "      <td>0</td>\n",
       "      <td>Yes</td>\n",
       "      <td>No</td>\n",
       "    </tr>\n",
       "    <tr>\n",
       "      <th>1</th>\n",
       "      <td>5575-GNVDE</td>\n",
       "      <td>Male</td>\n",
       "      <td>0</td>\n",
       "      <td>No</td>\n",
       "      <td>No</td>\n",
       "    </tr>\n",
       "    <tr>\n",
       "      <th>2</th>\n",
       "      <td>3668-QPYBK</td>\n",
       "      <td>Male</td>\n",
       "      <td>0</td>\n",
       "      <td>No</td>\n",
       "      <td>No</td>\n",
       "    </tr>\n",
       "    <tr>\n",
       "      <th>3</th>\n",
       "      <td>7795-CFOCW</td>\n",
       "      <td>Male</td>\n",
       "      <td>0</td>\n",
       "      <td>No</td>\n",
       "      <td>No</td>\n",
       "    </tr>\n",
       "    <tr>\n",
       "      <th>4</th>\n",
       "      <td>9237-HQITU</td>\n",
       "      <td>Female</td>\n",
       "      <td>0</td>\n",
       "      <td>No</td>\n",
       "      <td>No</td>\n",
       "    </tr>\n",
       "  </tbody>\n",
       "</table>\n",
       "</div>"
      ],
      "text/plain": [
       "   customerID  gender  SeniorCitizen Partner Dependents\n",
       "0  7590-VHVEG  Female              0     Yes         No\n",
       "1  5575-GNVDE    Male              0      No         No\n",
       "2  3668-QPYBK    Male              0      No         No\n",
       "3  7795-CFOCW    Male              0      No         No\n",
       "4  9237-HQITU  Female              0      No         No"
      ]
     },
     "execution_count": 4,
     "metadata": {},
     "output_type": "execute_result"
    }
   ],
   "source": [
    "prsnl.head()"
   ]
  },
  {
   "cell_type": "markdown",
   "metadata": {},
   "source": [
    "#### Phone"
   ]
  },
  {
   "cell_type": "code",
   "execution_count": 5,
   "metadata": {
    "scrolled": true
   },
   "outputs": [
    {
     "data": {
      "text/html": [
       "<div>\n",
       "<style scoped>\n",
       "    .dataframe tbody tr th:only-of-type {\n",
       "        vertical-align: middle;\n",
       "    }\n",
       "\n",
       "    .dataframe tbody tr th {\n",
       "        vertical-align: top;\n",
       "    }\n",
       "\n",
       "    .dataframe thead th {\n",
       "        text-align: right;\n",
       "    }\n",
       "</style>\n",
       "<table border=\"1\" class=\"dataframe\">\n",
       "  <thead>\n",
       "    <tr style=\"text-align: right;\">\n",
       "      <th></th>\n",
       "      <th>customerID</th>\n",
       "      <th>MultipleLines</th>\n",
       "    </tr>\n",
       "  </thead>\n",
       "  <tbody>\n",
       "    <tr>\n",
       "      <th>0</th>\n",
       "      <td>5575-GNVDE</td>\n",
       "      <td>No</td>\n",
       "    </tr>\n",
       "    <tr>\n",
       "      <th>1</th>\n",
       "      <td>3668-QPYBK</td>\n",
       "      <td>No</td>\n",
       "    </tr>\n",
       "    <tr>\n",
       "      <th>2</th>\n",
       "      <td>9237-HQITU</td>\n",
       "      <td>No</td>\n",
       "    </tr>\n",
       "    <tr>\n",
       "      <th>3</th>\n",
       "      <td>9305-CDSKC</td>\n",
       "      <td>Yes</td>\n",
       "    </tr>\n",
       "    <tr>\n",
       "      <th>4</th>\n",
       "      <td>1452-KIOVK</td>\n",
       "      <td>Yes</td>\n",
       "    </tr>\n",
       "  </tbody>\n",
       "</table>\n",
       "</div>"
      ],
      "text/plain": [
       "   customerID MultipleLines\n",
       "0  5575-GNVDE            No\n",
       "1  3668-QPYBK            No\n",
       "2  9237-HQITU            No\n",
       "3  9305-CDSKC           Yes\n",
       "4  1452-KIOVK           Yes"
      ]
     },
     "execution_count": 5,
     "metadata": {},
     "output_type": "execute_result"
    }
   ],
   "source": [
    "phone.head()"
   ]
  },
  {
   "cell_type": "markdown",
   "metadata": {},
   "source": [
    "#### Contract"
   ]
  },
  {
   "cell_type": "code",
   "execution_count": 6,
   "metadata": {
    "scrolled": true
   },
   "outputs": [
    {
     "data": {
      "text/html": [
       "<div>\n",
       "<style scoped>\n",
       "    .dataframe tbody tr th:only-of-type {\n",
       "        vertical-align: middle;\n",
       "    }\n",
       "\n",
       "    .dataframe tbody tr th {\n",
       "        vertical-align: top;\n",
       "    }\n",
       "\n",
       "    .dataframe thead th {\n",
       "        text-align: right;\n",
       "    }\n",
       "</style>\n",
       "<table border=\"1\" class=\"dataframe\">\n",
       "  <thead>\n",
       "    <tr style=\"text-align: right;\">\n",
       "      <th></th>\n",
       "      <th>customerID</th>\n",
       "      <th>BeginDate</th>\n",
       "      <th>EndDate</th>\n",
       "      <th>Type</th>\n",
       "      <th>PaperlessBilling</th>\n",
       "      <th>PaymentMethod</th>\n",
       "      <th>MonthlyCharges</th>\n",
       "      <th>TotalCharges</th>\n",
       "    </tr>\n",
       "  </thead>\n",
       "  <tbody>\n",
       "    <tr>\n",
       "      <th>0</th>\n",
       "      <td>7590-VHVEG</td>\n",
       "      <td>2020-01-01</td>\n",
       "      <td>No</td>\n",
       "      <td>Month-to-month</td>\n",
       "      <td>Yes</td>\n",
       "      <td>Electronic check</td>\n",
       "      <td>29.85</td>\n",
       "      <td>31.04</td>\n",
       "    </tr>\n",
       "    <tr>\n",
       "      <th>1</th>\n",
       "      <td>5575-GNVDE</td>\n",
       "      <td>2017-04-01</td>\n",
       "      <td>No</td>\n",
       "      <td>One year</td>\n",
       "      <td>No</td>\n",
       "      <td>Mailed check</td>\n",
       "      <td>56.95</td>\n",
       "      <td>2071.84</td>\n",
       "    </tr>\n",
       "    <tr>\n",
       "      <th>2</th>\n",
       "      <td>3668-QPYBK</td>\n",
       "      <td>2019-10-01</td>\n",
       "      <td>No</td>\n",
       "      <td>Month-to-month</td>\n",
       "      <td>Yes</td>\n",
       "      <td>Mailed check</td>\n",
       "      <td>53.85</td>\n",
       "      <td>226.17</td>\n",
       "    </tr>\n",
       "    <tr>\n",
       "      <th>3</th>\n",
       "      <td>7795-CFOCW</td>\n",
       "      <td>2016-05-01</td>\n",
       "      <td>No</td>\n",
       "      <td>One year</td>\n",
       "      <td>No</td>\n",
       "      <td>Bank transfer (automatic)</td>\n",
       "      <td>42.30</td>\n",
       "      <td>1960.6</td>\n",
       "    </tr>\n",
       "    <tr>\n",
       "      <th>4</th>\n",
       "      <td>9237-HQITU</td>\n",
       "      <td>2019-09-01</td>\n",
       "      <td>No</td>\n",
       "      <td>Month-to-month</td>\n",
       "      <td>Yes</td>\n",
       "      <td>Electronic check</td>\n",
       "      <td>70.70</td>\n",
       "      <td>353.5</td>\n",
       "    </tr>\n",
       "  </tbody>\n",
       "</table>\n",
       "</div>"
      ],
      "text/plain": [
       "   customerID   BeginDate EndDate            Type PaperlessBilling  \\\n",
       "0  7590-VHVEG  2020-01-01      No  Month-to-month              Yes   \n",
       "1  5575-GNVDE  2017-04-01      No        One year               No   \n",
       "2  3668-QPYBK  2019-10-01      No  Month-to-month              Yes   \n",
       "3  7795-CFOCW  2016-05-01      No        One year               No   \n",
       "4  9237-HQITU  2019-09-01      No  Month-to-month              Yes   \n",
       "\n",
       "               PaymentMethod  MonthlyCharges TotalCharges  \n",
       "0           Electronic check           29.85        31.04  \n",
       "1               Mailed check           56.95      2071.84  \n",
       "2               Mailed check           53.85       226.17  \n",
       "3  Bank transfer (automatic)           42.30       1960.6  \n",
       "4           Electronic check           70.70        353.5  "
      ]
     },
     "execution_count": 6,
     "metadata": {},
     "output_type": "execute_result"
    }
   ],
   "source": [
    "cntrt.head()"
   ]
  },
  {
   "cell_type": "markdown",
   "metadata": {},
   "source": [
    "#### Internet"
   ]
  },
  {
   "cell_type": "code",
   "execution_count": 7,
   "metadata": {
    "scrolled": true
   },
   "outputs": [
    {
     "data": {
      "text/html": [
       "<div>\n",
       "<style scoped>\n",
       "    .dataframe tbody tr th:only-of-type {\n",
       "        vertical-align: middle;\n",
       "    }\n",
       "\n",
       "    .dataframe tbody tr th {\n",
       "        vertical-align: top;\n",
       "    }\n",
       "\n",
       "    .dataframe thead th {\n",
       "        text-align: right;\n",
       "    }\n",
       "</style>\n",
       "<table border=\"1\" class=\"dataframe\">\n",
       "  <thead>\n",
       "    <tr style=\"text-align: right;\">\n",
       "      <th></th>\n",
       "      <th>customerID</th>\n",
       "      <th>InternetService</th>\n",
       "      <th>OnlineSecurity</th>\n",
       "      <th>OnlineBackup</th>\n",
       "      <th>DeviceProtection</th>\n",
       "      <th>TechSupport</th>\n",
       "      <th>StreamingTV</th>\n",
       "      <th>StreamingMovies</th>\n",
       "    </tr>\n",
       "  </thead>\n",
       "  <tbody>\n",
       "    <tr>\n",
       "      <th>0</th>\n",
       "      <td>7590-VHVEG</td>\n",
       "      <td>DSL</td>\n",
       "      <td>No</td>\n",
       "      <td>Yes</td>\n",
       "      <td>No</td>\n",
       "      <td>No</td>\n",
       "      <td>No</td>\n",
       "      <td>No</td>\n",
       "    </tr>\n",
       "    <tr>\n",
       "      <th>1</th>\n",
       "      <td>5575-GNVDE</td>\n",
       "      <td>DSL</td>\n",
       "      <td>Yes</td>\n",
       "      <td>No</td>\n",
       "      <td>Yes</td>\n",
       "      <td>No</td>\n",
       "      <td>No</td>\n",
       "      <td>No</td>\n",
       "    </tr>\n",
       "    <tr>\n",
       "      <th>2</th>\n",
       "      <td>3668-QPYBK</td>\n",
       "      <td>DSL</td>\n",
       "      <td>Yes</td>\n",
       "      <td>Yes</td>\n",
       "      <td>No</td>\n",
       "      <td>No</td>\n",
       "      <td>No</td>\n",
       "      <td>No</td>\n",
       "    </tr>\n",
       "    <tr>\n",
       "      <th>3</th>\n",
       "      <td>7795-CFOCW</td>\n",
       "      <td>DSL</td>\n",
       "      <td>Yes</td>\n",
       "      <td>No</td>\n",
       "      <td>Yes</td>\n",
       "      <td>Yes</td>\n",
       "      <td>No</td>\n",
       "      <td>No</td>\n",
       "    </tr>\n",
       "    <tr>\n",
       "      <th>4</th>\n",
       "      <td>9237-HQITU</td>\n",
       "      <td>Fiber optic</td>\n",
       "      <td>No</td>\n",
       "      <td>No</td>\n",
       "      <td>No</td>\n",
       "      <td>No</td>\n",
       "      <td>No</td>\n",
       "      <td>No</td>\n",
       "    </tr>\n",
       "  </tbody>\n",
       "</table>\n",
       "</div>"
      ],
      "text/plain": [
       "   customerID InternetService OnlineSecurity OnlineBackup DeviceProtection  \\\n",
       "0  7590-VHVEG             DSL             No          Yes               No   \n",
       "1  5575-GNVDE             DSL            Yes           No              Yes   \n",
       "2  3668-QPYBK             DSL            Yes          Yes               No   \n",
       "3  7795-CFOCW             DSL            Yes           No              Yes   \n",
       "4  9237-HQITU     Fiber optic             No           No               No   \n",
       "\n",
       "  TechSupport StreamingTV StreamingMovies  \n",
       "0          No          No              No  \n",
       "1          No          No              No  \n",
       "2          No          No              No  \n",
       "3         Yes          No              No  \n",
       "4          No          No              No  "
      ]
     },
     "execution_count": 7,
     "metadata": {},
     "output_type": "execute_result"
    }
   ],
   "source": [
    "intnt.head()"
   ]
  },
  {
   "cell_type": "markdown",
   "metadata": {},
   "source": [
    "Первичное знакомство с данными:\n",
    "- 4 таблички с данными\n",
    "- Большинство признаков категориальные\n",
    "- Ключ во всех табличках customerID"
   ]
  },
  {
   "cell_type": "markdown",
   "metadata": {},
   "source": [
    "[go to the title](#title)\n",
    "<a id=\"first_analysis\"></a>\n",
    "### Первичный анализ данных"
   ]
  },
  {
   "cell_type": "markdown",
   "metadata": {},
   "source": [
    "Ознакомимся с данными более подробно"
   ]
  },
  {
   "cell_type": "markdown",
   "metadata": {},
   "source": [
    "#### Personal"
   ]
  },
  {
   "cell_type": "code",
   "execution_count": 8,
   "metadata": {},
   "outputs": [
    {
     "name": "stdout",
     "output_type": "stream",
     "text": [
      "<class 'pandas.core.frame.DataFrame'>\n",
      "RangeIndex: 7043 entries, 0 to 7042\n",
      "Data columns (total 5 columns):\n",
      " #   Column         Non-Null Count  Dtype \n",
      "---  ------         --------------  ----- \n",
      " 0   customerID     7043 non-null   object\n",
      " 1   gender         7043 non-null   object\n",
      " 2   SeniorCitizen  7043 non-null   int64 \n",
      " 3   Partner        7043 non-null   object\n",
      " 4   Dependents     7043 non-null   object\n",
      "dtypes: int64(1), object(4)\n",
      "memory usage: 275.2+ KB\n"
     ]
    }
   ],
   "source": [
    "prsnl.info()"
   ]
  },
  {
   "cell_type": "code",
   "execution_count": 9,
   "metadata": {},
   "outputs": [
    {
     "data": {
      "text/plain": [
       "0"
      ]
     },
     "execution_count": 9,
     "metadata": {},
     "output_type": "execute_result"
    }
   ],
   "source": [
    "# Естьли дубликаты в ID клиента?\n",
    "prsnl['customerID'].duplicated().sum()"
   ]
  },
  {
   "cell_type": "code",
   "execution_count": 10,
   "metadata": {},
   "outputs": [
    {
     "data": {
      "text/plain": [
       "Male      3555\n",
       "Female    3488\n",
       "Name: gender, dtype: int64"
      ]
     },
     "execution_count": 10,
     "metadata": {},
     "output_type": "execute_result"
    }
   ],
   "source": [
    "# распределение по половому признаку\n",
    "prsnl['gender'].value_counts()"
   ]
  },
  {
   "cell_type": "code",
   "execution_count": 11,
   "metadata": {},
   "outputs": [
    {
     "data": {
      "text/plain": [
       "0    5901\n",
       "1    1142\n",
       "Name: SeniorCitizen, dtype: int64"
      ]
     },
     "execution_count": 11,
     "metadata": {},
     "output_type": "execute_result"
    }
   ],
   "source": [
    "# Количество пенсионеров\n",
    "prsnl['SeniorCitizen'].value_counts()"
   ]
  },
  {
   "cell_type": "code",
   "execution_count": 12,
   "metadata": {},
   "outputs": [
    {
     "data": {
      "text/plain": [
       "No     3641\n",
       "Yes    3402\n",
       "Name: Partner, dtype: int64"
      ]
     },
     "execution_count": 12,
     "metadata": {},
     "output_type": "execute_result"
    }
   ],
   "source": [
    "# Количество клиентов в браке\n",
    "prsnl['Partner'].value_counts()"
   ]
  },
  {
   "cell_type": "code",
   "execution_count": 13,
   "metadata": {},
   "outputs": [
    {
     "data": {
      "text/plain": [
       "No     4933\n",
       "Yes    2110\n",
       "Name: Dependents, dtype: int64"
      ]
     },
     "execution_count": 13,
     "metadata": {},
     "output_type": "execute_result"
    }
   ],
   "source": [
    "# Количество клиентов с иждивенцами\n",
    "prsnl['Dependents'].value_counts()"
   ]
  },
  {
   "cell_type": "markdown",
   "metadata": {},
   "source": [
    "- В табличке нет повторяющихся пользователей\n",
    "- Количество пользователей 7043\n",
    "- Пропусков в категориальных признаках нет\n",
    "- Признак пенсионного возраста выглядит как числовой, но на самом деле это категориальных признак. Надо переделать аналогично остальным признакам.\n",
    "- Все признаки категориальные"
   ]
  },
  {
   "cell_type": "markdown",
   "metadata": {},
   "source": [
    "#### Contract"
   ]
  },
  {
   "cell_type": "code",
   "execution_count": 14,
   "metadata": {
    "scrolled": true
   },
   "outputs": [
    {
     "name": "stdout",
     "output_type": "stream",
     "text": [
      "<class 'pandas.core.frame.DataFrame'>\n",
      "RangeIndex: 7043 entries, 0 to 7042\n",
      "Data columns (total 8 columns):\n",
      " #   Column            Non-Null Count  Dtype  \n",
      "---  ------            --------------  -----  \n",
      " 0   customerID        7043 non-null   object \n",
      " 1   BeginDate         7043 non-null   object \n",
      " 2   EndDate           7043 non-null   object \n",
      " 3   Type              7043 non-null   object \n",
      " 4   PaperlessBilling  7043 non-null   object \n",
      " 5   PaymentMethod     7043 non-null   object \n",
      " 6   MonthlyCharges    7043 non-null   float64\n",
      " 7   TotalCharges      7043 non-null   object \n",
      "dtypes: float64(1), object(7)\n",
      "memory usage: 440.3+ KB\n"
     ]
    }
   ],
   "source": [
    "# посмотрим на датасет с контрактами\n",
    "cntrt.info()"
   ]
  },
  {
   "cell_type": "code",
   "execution_count": 15,
   "metadata": {},
   "outputs": [
    {
     "data": {
      "text/plain": [
       "0"
      ]
     },
     "execution_count": 15,
     "metadata": {},
     "output_type": "execute_result"
    }
   ],
   "source": [
    "# Естьли дубликаты в ID клиента?\n",
    "cntrt['customerID'].duplicated().sum()"
   ]
  },
  {
   "cell_type": "code",
   "execution_count": 16,
   "metadata": {},
   "outputs": [
    {
     "data": {
      "text/plain": [
       "5942"
      ]
     },
     "execution_count": 16,
     "metadata": {},
     "output_type": "execute_result"
    }
   ],
   "source": [
    "# Количество действующих пользователей\n",
    "(cntrt['EndDate'] == 'No').sum()"
   ]
  },
  {
   "cell_type": "code",
   "execution_count": 17,
   "metadata": {},
   "outputs": [
    {
     "data": {
      "text/plain": [
       "Month-to-month    3875\n",
       "Two year          1695\n",
       "One year          1473\n",
       "Name: Type, dtype: int64"
      ]
     },
     "execution_count": 17,
     "metadata": {},
     "output_type": "execute_result"
    }
   ],
   "source": [
    "# Уникальные значения в поле с типом оплаты\n",
    "cntrt['Type'].value_counts()"
   ]
  },
  {
   "cell_type": "code",
   "execution_count": 18,
   "metadata": {},
   "outputs": [
    {
     "data": {
      "text/plain": [
       "Yes    4171\n",
       "No     2872\n",
       "Name: PaperlessBilling, dtype: int64"
      ]
     },
     "execution_count": 18,
     "metadata": {},
     "output_type": "execute_result"
    }
   ],
   "source": [
    "# Уникальные значения с \n",
    "cntrt['PaperlessBilling'].value_counts()"
   ]
  },
  {
   "cell_type": "code",
   "execution_count": 19,
   "metadata": {
    "scrolled": true
   },
   "outputs": [
    {
     "data": {
      "text/plain": [
       "Electronic check             2365\n",
       "Mailed check                 1612\n",
       "Bank transfer (automatic)    1544\n",
       "Credit card (automatic)      1522\n",
       "Name: PaymentMethod, dtype: int64"
      ]
     },
     "execution_count": 19,
     "metadata": {},
     "output_type": "execute_result"
    }
   ],
   "source": [
    "# Уникальные зеначения в поле со способом оплаты\n",
    "cntrt['PaymentMethod'].value_counts()"
   ]
  },
  {
   "cell_type": "code",
   "execution_count": 20,
   "metadata": {
    "scrolled": false
   },
   "outputs": [
    {
     "data": {
      "text/html": [
       "<div>\n",
       "<style scoped>\n",
       "    .dataframe tbody tr th:only-of-type {\n",
       "        vertical-align: middle;\n",
       "    }\n",
       "\n",
       "    .dataframe tbody tr th {\n",
       "        vertical-align: top;\n",
       "    }\n",
       "\n",
       "    .dataframe thead th {\n",
       "        text-align: right;\n",
       "    }\n",
       "</style>\n",
       "<table border=\"1\" class=\"dataframe\">\n",
       "  <thead>\n",
       "    <tr style=\"text-align: right;\">\n",
       "      <th></th>\n",
       "      <th>MonthlyCharges</th>\n",
       "    </tr>\n",
       "  </thead>\n",
       "  <tbody>\n",
       "    <tr>\n",
       "      <th>count</th>\n",
       "      <td>7043.000000</td>\n",
       "    </tr>\n",
       "    <tr>\n",
       "      <th>mean</th>\n",
       "      <td>64.761692</td>\n",
       "    </tr>\n",
       "    <tr>\n",
       "      <th>std</th>\n",
       "      <td>30.090047</td>\n",
       "    </tr>\n",
       "    <tr>\n",
       "      <th>min</th>\n",
       "      <td>18.250000</td>\n",
       "    </tr>\n",
       "    <tr>\n",
       "      <th>25%</th>\n",
       "      <td>35.500000</td>\n",
       "    </tr>\n",
       "    <tr>\n",
       "      <th>50%</th>\n",
       "      <td>70.350000</td>\n",
       "    </tr>\n",
       "    <tr>\n",
       "      <th>75%</th>\n",
       "      <td>89.850000</td>\n",
       "    </tr>\n",
       "    <tr>\n",
       "      <th>max</th>\n",
       "      <td>118.750000</td>\n",
       "    </tr>\n",
       "  </tbody>\n",
       "</table>\n",
       "</div>"
      ],
      "text/plain": [
       "       MonthlyCharges\n",
       "count     7043.000000\n",
       "mean        64.761692\n",
       "std         30.090047\n",
       "min         18.250000\n",
       "25%         35.500000\n",
       "50%         70.350000\n",
       "75%         89.850000\n",
       "max        118.750000"
      ]
     },
     "metadata": {},
     "output_type": "display_data"
    }
   ],
   "source": [
    "# Проанализируем численные признаки\n",
    "display(cntrt.describe())"
   ]
  },
  {
   "cell_type": "markdown",
   "metadata": {},
   "source": [
    "- В табличке нет повторяющихся пользователей\n",
    "- Количество действующих контрактов 5942 из 7043 (то есть закрытых - 1101)\n",
    "- Пропусков в категориальных признаках нет\n",
    "- Некорректный формат данных для поля с общей суммой за всё время. Необходимо перевести из обджект в числовой\n",
    "- Количество контрактов совпадает с количеством пользователей (возможно что ID полностью совпадут в двух табличках, но это не точно)"
   ]
  },
  {
   "cell_type": "markdown",
   "metadata": {},
   "source": [
    "#### Phone"
   ]
  },
  {
   "cell_type": "code",
   "execution_count": 21,
   "metadata": {
    "scrolled": false
   },
   "outputs": [
    {
     "name": "stdout",
     "output_type": "stream",
     "text": [
      "<class 'pandas.core.frame.DataFrame'>\n",
      "RangeIndex: 6361 entries, 0 to 6360\n",
      "Data columns (total 2 columns):\n",
      " #   Column         Non-Null Count  Dtype \n",
      "---  ------         --------------  ----- \n",
      " 0   customerID     6361 non-null   object\n",
      " 1   MultipleLines  6361 non-null   object\n",
      "dtypes: object(2)\n",
      "memory usage: 99.5+ KB\n"
     ]
    }
   ],
   "source": [
    "phone.info()"
   ]
  },
  {
   "cell_type": "code",
   "execution_count": 22,
   "metadata": {},
   "outputs": [
    {
     "data": {
      "text/plain": [
       "0"
      ]
     },
     "execution_count": 22,
     "metadata": {},
     "output_type": "execute_result"
    }
   ],
   "source": [
    "# Есть ли дубликаты в ID клиента?\n",
    "phone['customerID'].duplicated().sum()"
   ]
  },
  {
   "cell_type": "code",
   "execution_count": 23,
   "metadata": {},
   "outputs": [
    {
     "data": {
      "text/plain": [
       "No     3390\n",
       "Yes    2971\n",
       "Name: MultipleLines, dtype: int64"
      ]
     },
     "execution_count": 23,
     "metadata": {},
     "output_type": "execute_result"
    }
   ],
   "source": [
    "# Уникальные зеначения \n",
    "phone['MultipleLines'].value_counts()"
   ]
  },
  {
   "cell_type": "markdown",
   "metadata": {},
   "source": [
    "- Дубликаты отсутствуют\n",
    "- Количество строк меньше, чем в предыдущих табличках, значит при объедиениии датасетов необходимо будет заполнить получившиеся пустые значения в признаке MultipleLines"
   ]
  },
  {
   "cell_type": "markdown",
   "metadata": {},
   "source": [
    "#### Internet"
   ]
  },
  {
   "cell_type": "code",
   "execution_count": 24,
   "metadata": {
    "scrolled": true
   },
   "outputs": [
    {
     "name": "stdout",
     "output_type": "stream",
     "text": [
      "<class 'pandas.core.frame.DataFrame'>\n",
      "RangeIndex: 5517 entries, 0 to 5516\n",
      "Data columns (total 8 columns):\n",
      " #   Column            Non-Null Count  Dtype \n",
      "---  ------            --------------  ----- \n",
      " 0   customerID        5517 non-null   object\n",
      " 1   InternetService   5517 non-null   object\n",
      " 2   OnlineSecurity    5517 non-null   object\n",
      " 3   OnlineBackup      5517 non-null   object\n",
      " 4   DeviceProtection  5517 non-null   object\n",
      " 5   TechSupport       5517 non-null   object\n",
      " 6   StreamingTV       5517 non-null   object\n",
      " 7   StreamingMovies   5517 non-null   object\n",
      "dtypes: object(8)\n",
      "memory usage: 344.9+ KB\n"
     ]
    }
   ],
   "source": [
    "intnt.info()"
   ]
  },
  {
   "cell_type": "code",
   "execution_count": 26,
   "metadata": {},
   "outputs": [
    {
     "name": "stdout",
     "output_type": "stream",
     "text": [
      "Уникальные значения для поля InternetService:\n",
      "Fiber optic    3096\n",
      "DSL            2421\n",
      "Name: InternetService, dtype: int64\n",
      "\n",
      "Уникальные значения для поля OnlineSecurity:\n",
      "No     3498\n",
      "Yes    2019\n",
      "Name: OnlineSecurity, dtype: int64\n",
      "\n",
      "Уникальные значения для поля OnlineBackup:\n",
      "No     3088\n",
      "Yes    2429\n",
      "Name: OnlineBackup, dtype: int64\n",
      "\n",
      "Уникальные значения для поля DeviceProtection:\n",
      "No     3095\n",
      "Yes    2422\n",
      "Name: DeviceProtection, dtype: int64\n",
      "\n",
      "Уникальные значения для поля TechSupport:\n",
      "No     3473\n",
      "Yes    2044\n",
      "Name: TechSupport, dtype: int64\n",
      "\n",
      "Уникальные значения для поля StreamingTV:\n",
      "No     2810\n",
      "Yes    2707\n",
      "Name: StreamingTV, dtype: int64\n",
      "\n",
      "Уникальные значения для поля StreamingMovies:\n",
      "No     2785\n",
      "Yes    2732\n",
      "Name: StreamingMovies, dtype: int64\n",
      "\n"
     ]
    }
   ],
   "source": [
    "# \n",
    "clmn_list = list(intnt.columns)\n",
    "clmn_list.remove('customerID')\n",
    "for item in clmn_list:\n",
    "    print(f'Уникальные значения для поля {item}:')\n",
    "    print(intnt[item].value_counts(), end='\\n\\n')"
   ]
  },
  {
   "cell_type": "code",
   "execution_count": 27,
   "metadata": {},
   "outputs": [
    {
     "data": {
      "text/plain": [
       "0"
      ]
     },
     "execution_count": 27,
     "metadata": {},
     "output_type": "execute_result"
    }
   ],
   "source": [
    "# Есть ли дубликаты в ID клиента?\n",
    "intnt['customerID'].duplicated().sum()"
   ]
  },
  {
   "cell_type": "markdown",
   "metadata": {},
   "source": [
    "- Дубликатов в ID нет\n",
    "- Все признаки категориальные, однако строк сильно меньше, чем в таличках с пользователями и с контрактами. Необходимо будет заполнять пропуски при объединении датасетов"
   ]
  },
  {
   "cell_type": "markdown",
   "metadata": {},
   "source": [
    "[go to the title](#title)\n",
    "<a id=\"first_conclusions\"></a>\n",
    "### Предварительные выводы"
   ]
  },
  {
   "cell_type": "markdown",
   "metadata": {},
   "source": [
    "- Были загружены 4 датасета с данными\n",
    "- Количество пользоватлей и контрактов чуть более 7000\n",
    "- Надеюсь, что большая часть ID совпадет в обеих табличках (выясним при объединении)\n",
    "- Большая часть признаков категориальная. Однако при объединении всех 4 датасетов придется заполнять пропуски в некоторых признках, так как не все таблички одного размера.\n",
    "- Необходимо будет изменить формат данных для столбца с суммарными затратами клиента по контракту. Сейчас они в формате object, а надо перевести в числовой."
   ]
  },
  {
   "cell_type": "markdown",
   "metadata": {},
   "source": [
    "[go to the title](#title)\n",
    "<a id=\"plan\"></a>\n",
    "## ПЛАН ПРОЕКТА"
   ]
  },
  {
   "cell_type": "markdown",
   "metadata": {},
   "source": [
    "<a id=\"task_description\"></a>\n",
    "### Описание проекта"
   ]
  },
  {
   "cell_type": "markdown",
   "metadata": {},
   "source": [
    "Оператор связи «Ниединогоразрыва.ком» хочет научиться прогнозировать\n",
    "отток клиентов. Если выяснится, что пользователь планирует уйти, ему будут\n",
    "предложены промокоды и специальные условия. Команда оператора собрала\n",
    "персональные данные о некоторых клиентах, информацию об их тарифах и\n",
    "договорах.\n"
   ]
  },
  {
   "cell_type": "markdown",
   "metadata": {},
   "source": [
    "<a id=\"data_description\"></a>\n",
    "### Описание данных"
   ]
  },
  {
   "cell_type": "markdown",
   "metadata": {},
   "source": [
    "- Personal\n",
    "    - `customerID` - ID клиента\n",
    "    - `gender` - гендер\n",
    "    - `SeniorCitizen` - наличие пенсионного статуса по возрасту\n",
    "    - `Partner` - наличие супруга(и)\n",
    "    - `Dependents` - наличие иждивенцев\n",
    "\n",
    "- Contract\n",
    "    - `customerID` - ID клиента\n",
    "    - `BeginDate` - дата начала пользования услугами\n",
    "    - `EndDate` - дата окончания позльзования услугами\n",
    "    - `Type` - тип олаты (ежемсеячный, головой, итд)\n",
    "    - `PaperlessBilling` - электронный платежный документ\n",
    "    - `PaymentMethod` - способ оплаты\n",
    "    - `MonthlyCharges` - ежемесячные траты на услуги\n",
    "    - `TotalCharges` - всего потрачено денег на услуги\n",
    "\n",
    "- Internet\n",
    "    - `customerID` - ID клиента\n",
    "    - `InternetService` - тип интернет соединения\n",
    "    - `OnlineSecurity` - наличие услуги \"блокировка небезопасных сайтов\"\n",
    "    - `OnlineBackup` - наличие облачного хранилища данных\n",
    "    - `DeviceProtection` - наличие услуги \"антивирус\"\n",
    "    - `TechSupport` - наличие выделенной линии техподдержки\n",
    "    - `StreamingTV` - наличие ТВ\n",
    "    - `StreamingMovies` - наличие стриминга фильмов\n",
    "    \n",
    "- Phone\n",
    "    - `customerID` - ID клиента\n",
    "    - `MultipleLines` - наличие возможности ведения параллельных линий во время звонка"
   ]
  },
  {
   "cell_type": "markdown",
   "metadata": {},
   "source": [
    "[go to the title](#title)\n",
    "<a id=\"data_analysis\"></a>\n",
    "## АНАЛИЗ ДАННЫХ"
   ]
  },
  {
   "cell_type": "markdown",
   "metadata": {},
   "source": [
    " В данном блоке будет более подробный анализ данных и подготовка признаков"
   ]
  },
  {
   "cell_type": "markdown",
   "metadata": {},
   "source": [
    "[go to the title](#title)\n",
    "<a id=\"merge\"></a>\n",
    "### Объединение выборок"
   ]
  },
  {
   "cell_type": "code",
   "execution_count": 28,
   "metadata": {},
   "outputs": [
    {
     "name": "stdout",
     "output_type": "stream",
     "text": [
      "(7043, 20)\n"
     ]
    }
   ],
   "source": [
    "# Объединим датассеты в один\n",
    "# prsnl\n",
    "# phone\n",
    "# cntrt\n",
    "# intnt\n",
    "df = pd.merge(prsnl, cntrt, how='inner', on='customerID')\n",
    "\n",
    "df = df.merge(phone, how='left', on='customerID')\n",
    "\n",
    "df = df.merge(intnt, how='left', on='customerID')\n",
    "\n",
    "print(df.shape)"
   ]
  },
  {
   "cell_type": "code",
   "execution_count": 29,
   "metadata": {},
   "outputs": [
    {
     "name": "stdout",
     "output_type": "stream",
     "text": [
      "<class 'pandas.core.frame.DataFrame'>\n",
      "Int64Index: 7043 entries, 0 to 7042\n",
      "Data columns (total 20 columns):\n",
      " #   Column            Non-Null Count  Dtype  \n",
      "---  ------            --------------  -----  \n",
      " 0   customerID        7043 non-null   object \n",
      " 1   gender            7043 non-null   object \n",
      " 2   SeniorCitizen     7043 non-null   int64  \n",
      " 3   Partner           7043 non-null   object \n",
      " 4   Dependents        7043 non-null   object \n",
      " 5   BeginDate         7043 non-null   object \n",
      " 6   EndDate           7043 non-null   object \n",
      " 7   Type              7043 non-null   object \n",
      " 8   PaperlessBilling  7043 non-null   object \n",
      " 9   PaymentMethod     7043 non-null   object \n",
      " 10  MonthlyCharges    7043 non-null   float64\n",
      " 11  TotalCharges      7043 non-null   object \n",
      " 12  MultipleLines     6361 non-null   object \n",
      " 13  InternetService   5517 non-null   object \n",
      " 14  OnlineSecurity    5517 non-null   object \n",
      " 15  OnlineBackup      5517 non-null   object \n",
      " 16  DeviceProtection  5517 non-null   object \n",
      " 17  TechSupport       5517 non-null   object \n",
      " 18  StreamingTV       5517 non-null   object \n",
      " 19  StreamingMovies   5517 non-null   object \n",
      "dtypes: float64(1), int64(1), object(18)\n",
      "memory usage: 1.1+ MB\n"
     ]
    }
   ],
   "source": [
    "# df info\n",
    "df.info()"
   ]
  },
  {
   "cell_type": "markdown",
   "metadata": {},
   "source": [
    "### Преобразование данных"
   ]
  },
  {
   "cell_type": "markdown",
   "metadata": {},
   "source": [
    "<a id=\"data_enginiring\"></a>\n",
    "[go to the title](#title)"
   ]
  },
  {
   "cell_type": "code",
   "execution_count": 30,
   "metadata": {},
   "outputs": [
    {
     "data": {
      "text/plain": [
       "No     5901\n",
       "Yes    1142\n",
       "Name: SeniorCitizen, dtype: int64"
      ]
     },
     "execution_count": 30,
     "metadata": {},
     "output_type": "execute_result"
    }
   ],
   "source": [
    "# Чтобы категориальные признаки были едионнообразными преобразуем SeniorCitizen\n",
    "df['SeniorCitizen'] = np.where(df['SeniorCitizen'] == 1, 'Yes', 'No')\n",
    "df['SeniorCitizen'].value_counts()"
   ]
  },
  {
   "cell_type": "markdown",
   "metadata": {},
   "source": [
    "#### Заполним пропуски"
   ]
  },
  {
   "cell_type": "code",
   "execution_count": 31,
   "metadata": {},
   "outputs": [
    {
     "data": {
      "text/plain": [
       "No         3390\n",
       "Yes        2971\n",
       "unknown     682\n",
       "Name: MultipleLines, dtype: int64"
      ]
     },
     "execution_count": 31,
     "metadata": {},
     "output_type": "execute_result"
    }
   ],
   "source": [
    "df['MultipleLines'] = df['MultipleLines'].fillna('unknown')\n",
    "df['MultipleLines'].value_counts()"
   ]
  },
  {
   "cell_type": "code",
   "execution_count": 32,
   "metadata": {},
   "outputs": [],
   "source": [
    "df['InternetService'] = df['InternetService'].fillna('unknown')\n",
    "df['OnlineSecurity'] = df['OnlineSecurity'].fillna('unknown')\n",
    "df['OnlineBackup'] = df['OnlineBackup'].fillna('unknown')\n",
    "df['DeviceProtection'] = df['DeviceProtection'].fillna('unknown')\n",
    "df['TechSupport'] = df['TechSupport'].fillna('unknown')\n",
    "df['StreamingTV'] = df['StreamingTV'].fillna('unknown')\n",
    "df['StreamingMovies'] = df['StreamingMovies'].fillna('unknown')"
   ]
  },
  {
   "cell_type": "markdown",
   "metadata": {},
   "source": [
    "#### Посмотрим что не так с TotalCharges"
   ]
  },
  {
   "cell_type": "code",
   "execution_count": 33,
   "metadata": {
    "scrolled": true
   },
   "outputs": [
    {
     "data": {
      "text/plain": [
       "11"
      ]
     },
     "execution_count": 33,
     "metadata": {},
     "output_type": "execute_result"
    }
   ],
   "source": [
    "# Количество значений == ' '\n",
    "(df['TotalCharges'] == ' ').sum()"
   ]
  },
  {
   "cell_type": "code",
   "execution_count": 34,
   "metadata": {},
   "outputs": [],
   "source": [
    "# Удалим эти строки так как их очень мало\n",
    "df = df[df['TotalCharges'] != ' ']"
   ]
  },
  {
   "cell_type": "code",
   "execution_count": 35,
   "metadata": {},
   "outputs": [],
   "source": [
    "# Заменим тип данных на числовой\n",
    "df['TotalCharges'] = df['TotalCharges'].astype('float64')"
   ]
  },
  {
   "cell_type": "markdown",
   "metadata": {},
   "source": [
    "#### Сделаем новый признак, действующий контракт или нет"
   ]
  },
  {
   "cell_type": "code",
   "execution_count": 36,
   "metadata": {},
   "outputs": [
    {
     "data": {
      "text/plain": [
       "1    5931\n",
       "0    1101\n",
       "Name: isActive, dtype: int64"
      ]
     },
     "execution_count": 36,
     "metadata": {},
     "output_type": "execute_result"
    }
   ],
   "source": [
    "# если нет даты закрытия, считаем контракт действующим\n",
    "df['isActive'] = np.where(df['EndDate']=='No', 1, 0)\n",
    "df['isActive'].value_counts()"
   ]
  },
  {
   "cell_type": "markdown",
   "metadata": {},
   "source": [
    "#### Переведем дату в дату"
   ]
  },
  {
   "cell_type": "code",
   "execution_count": 37,
   "metadata": {},
   "outputs": [],
   "source": [
    "df['EndDate'] = df['EndDate'].replace({'No':'2020-02-01'})\n",
    "df['EndDate'] = df['EndDate'].astype('datetime64')\n",
    "df['BeginDate'] = df['BeginDate'].astype('datetime64')\n",
    "df['ContractTime'] = (df['EndDate'] - df['BeginDate']).astype('timedelta64[D]')"
   ]
  },
  {
   "cell_type": "code",
   "execution_count": 38,
   "metadata": {
    "scrolled": true
   },
   "outputs": [
    {
     "name": "stdout",
     "output_type": "stream",
     "text": [
      "<class 'pandas.core.frame.DataFrame'>\n",
      "Int64Index: 7032 entries, 0 to 7042\n",
      "Data columns (total 22 columns):\n",
      " #   Column            Non-Null Count  Dtype         \n",
      "---  ------            --------------  -----         \n",
      " 0   customerID        7032 non-null   object        \n",
      " 1   gender            7032 non-null   object        \n",
      " 2   SeniorCitizen     7032 non-null   object        \n",
      " 3   Partner           7032 non-null   object        \n",
      " 4   Dependents        7032 non-null   object        \n",
      " 5   BeginDate         7032 non-null   datetime64[ns]\n",
      " 6   EndDate           7032 non-null   datetime64[ns]\n",
      " 7   Type              7032 non-null   object        \n",
      " 8   PaperlessBilling  7032 non-null   object        \n",
      " 9   PaymentMethod     7032 non-null   object        \n",
      " 10  MonthlyCharges    7032 non-null   float64       \n",
      " 11  TotalCharges      7032 non-null   float64       \n",
      " 12  MultipleLines     7032 non-null   object        \n",
      " 13  InternetService   7032 non-null   object        \n",
      " 14  OnlineSecurity    7032 non-null   object        \n",
      " 15  OnlineBackup      7032 non-null   object        \n",
      " 16  DeviceProtection  7032 non-null   object        \n",
      " 17  TechSupport       7032 non-null   object        \n",
      " 18  StreamingTV       7032 non-null   object        \n",
      " 19  StreamingMovies   7032 non-null   object        \n",
      " 20  isActive          7032 non-null   int64         \n",
      " 21  ContractTime      7032 non-null   float64       \n",
      "dtypes: datetime64[ns](2), float64(3), int64(1), object(16)\n",
      "memory usage: 1.2+ MB\n"
     ]
    }
   ],
   "source": [
    "df.info()"
   ]
  },
  {
   "cell_type": "markdown",
   "metadata": {},
   "source": [
    "<a id=\"data_visual\"></a>\n",
    "[go to the title](#title)"
   ]
  },
  {
   "cell_type": "markdown",
   "metadata": {},
   "source": [
    "### Визуализация данных"
   ]
  },
  {
   "cell_type": "markdown",
   "metadata": {},
   "source": [
    "#### Визуализируем соотношение классов в категориальных признках"
   ]
  },
  {
   "cell_type": "code",
   "execution_count": 39,
   "metadata": {
    "scrolled": true
   },
   "outputs": [
    {
     "data": {
      "image/png": "[encoded data removed]",
      "text/plain": [
       "<Figure size 864x1080 with 15 Axes>"
      ]
     },
     "metadata": {
      "needs_background": "light"
     },
     "output_type": "display_data"
    }
   ],
   "source": [
    "# посмотрим на соотношение все категориальных признаков\n",
    "fig, axes = plt.subplots(nrows=5, ncols=3, figsize=(12, 15))\n",
    "columns = ['gender', 'SeniorCitizen', 'Partner', \n",
    "           'Dependents', 'Type', 'PaperlessBilling', \n",
    "           'PaymentMethod', 'InternetService', 'OnlineSecurity', \n",
    "           'OnlineBackup', 'DeviceProtection', 'TechSupport', \n",
    "           'StreamingTV', 'StreamingMovies', 'isActive']\n",
    "\n",
    "for i, ax in enumerate(axes.flat):\n",
    "    column = columns[i]\n",
    "    class_frequency = df[column].value_counts(normalize=True)\n",
    "    ax.bar(class_frequency.index, class_frequency.values)\n",
    "    # добавление подписи оси x\n",
    "    ax.set_xlabel('Классы')\n",
    "    # добавление подписи оси y\n",
    "    ax.set_ylabel('Доля')\n",
    "    ax.set_title(column)\n",
    "\n",
    "# Зададим общий заголовок\n",
    "fig.suptitle('Соотношение классов в категориальных признаках', fontsize=23)\n",
    "plt.tight_layout()\n",
    "plt.show()\n"
   ]
  },
  {
   "cell_type": "markdown",
   "metadata": {},
   "source": [
    "#### Посмотрим на численные признаки"
   ]
  },
  {
   "cell_type": "code",
   "execution_count": 40,
   "metadata": {},
   "outputs": [
    {
     "data": {
      "image/png": "[encoded data removed]",
      "text/plain": [
       "<Figure size 720x360 with 3 Axes>"
      ]
     },
     "metadata": {
      "needs_background": "light"
     },
     "output_type": "display_data"
    }
   ],
   "source": [
    "# \n",
    "fig, axes = plt.subplots(nrows=1, ncols=3, figsize=(10, 5))\n",
    "\n",
    "sns.kdeplot(df['MonthlyCharges']\n",
    "            , gridsize=500\n",
    "            , bw_adjust=1\n",
    "            , common_grid=True\n",
    "            , fill=True\n",
    "            , alpha=0.5\n",
    "            , label='train'\n",
    "            , ax=axes[0])\n",
    "\n",
    "sns.kdeplot(df['TotalCharges']\n",
    "            , gridsize=500\n",
    "            , bw_adjust=1\n",
    "            , common_grid=True\n",
    "            , fill=True\n",
    "            , alpha=0.5\n",
    "            , label='train'\n",
    "            , ax=axes[1])\n",
    "\n",
    "sns.kdeplot(df['ContractTime']\n",
    "            , gridsize=500\n",
    "            , bw_adjust=1\n",
    "            , common_grid=True\n",
    "            , fill=True\n",
    "            , alpha=0.5\n",
    "            , label='train'\n",
    "            , ax=axes[2])\n",
    "\n",
    "# Настройка заголовков\n",
    "axes[0].set_title('MonthlyCharges')\n",
    "axes[1].set_title('TotalCharges')\n",
    "axes[2].set_title('ContractTime')\n",
    "\n",
    "# Показать графики\n",
    "plt.tight_layout()\n",
    "plt.show()\n"
   ]
  },
  {
   "cell_type": "markdown",
   "metadata": {},
   "source": [
    "<a id=\"multicolleniar\"></a>\n",
    "[go to the title](#title)"
   ]
  },
  {
   "cell_type": "markdown",
   "metadata": {},
   "source": [
    "### Анализ на мультколениарность"
   ]
  },
  {
   "cell_type": "code",
   "execution_count": 42,
   "metadata": {
    "scrolled": true
   },
   "outputs": [
    {
     "data": {
      "text/html": [
       "<div>\n",
       "<style scoped>\n",
       "    .dataframe tbody tr th:only-of-type {\n",
       "        vertical-align: middle;\n",
       "    }\n",
       "\n",
       "    .dataframe tbody tr th {\n",
       "        vertical-align: top;\n",
       "    }\n",
       "\n",
       "    .dataframe thead th {\n",
       "        text-align: right;\n",
       "    }\n",
       "</style>\n",
       "<table border=\"1\" class=\"dataframe\">\n",
       "  <thead>\n",
       "    <tr style=\"text-align: right;\">\n",
       "      <th></th>\n",
       "      <th>gender</th>\n",
       "      <th>SeniorCitizen</th>\n",
       "      <th>Partner</th>\n",
       "      <th>Dependents</th>\n",
       "      <th>BeginDate</th>\n",
       "      <th>EndDate</th>\n",
       "      <th>Type</th>\n",
       "      <th>PaperlessBilling</th>\n",
       "      <th>PaymentMethod</th>\n",
       "      <th>MonthlyCharges</th>\n",
       "      <th>...</th>\n",
       "      <th>MultipleLines</th>\n",
       "      <th>InternetService</th>\n",
       "      <th>OnlineSecurity</th>\n",
       "      <th>OnlineBackup</th>\n",
       "      <th>DeviceProtection</th>\n",
       "      <th>TechSupport</th>\n",
       "      <th>StreamingTV</th>\n",
       "      <th>StreamingMovies</th>\n",
       "      <th>isActive</th>\n",
       "      <th>ContractTime</th>\n",
       "    </tr>\n",
       "  </thead>\n",
       "  <tbody>\n",
       "    <tr>\n",
       "      <th>gender</th>\n",
       "      <td>1.000000</td>\n",
       "      <td>0.000000</td>\n",
       "      <td>0.000000</td>\n",
       "      <td>0.000000</td>\n",
       "      <td>0.018540</td>\n",
       "      <td>0.018351</td>\n",
       "      <td>0.000000</td>\n",
       "      <td>0.000000</td>\n",
       "      <td>0.000000</td>\n",
       "      <td>0.005522</td>\n",
       "      <td>...</td>\n",
       "      <td>0.000000</td>\n",
       "      <td>0.000000</td>\n",
       "      <td>0.000000</td>\n",
       "      <td>0.000000</td>\n",
       "      <td>0.000000</td>\n",
       "      <td>0.000000</td>\n",
       "      <td>0.000000</td>\n",
       "      <td>0.000000</td>\n",
       "      <td>0.008800</td>\n",
       "      <td>0.000000</td>\n",
       "    </tr>\n",
       "    <tr>\n",
       "      <th>SeniorCitizen</th>\n",
       "      <td>0.000000</td>\n",
       "      <td>1.000000</td>\n",
       "      <td>0.018075</td>\n",
       "      <td>0.323629</td>\n",
       "      <td>0.049516</td>\n",
       "      <td>0.090149</td>\n",
       "      <td>0.085800</td>\n",
       "      <td>0.241715</td>\n",
       "      <td>0.291989</td>\n",
       "      <td>0.304546</td>\n",
       "      <td>...</td>\n",
       "      <td>0.087978</td>\n",
       "      <td>0.160452</td>\n",
       "      <td>0.127108</td>\n",
       "      <td>0.109855</td>\n",
       "      <td>0.110029</td>\n",
       "      <td>0.135073</td>\n",
       "      <td>0.111610</td>\n",
       "      <td>0.113611</td>\n",
       "      <td>0.085708</td>\n",
       "      <td>0.065128</td>\n",
       "    </tr>\n",
       "    <tr>\n",
       "      <th>Partner</th>\n",
       "      <td>0.000000</td>\n",
       "      <td>0.018075</td>\n",
       "      <td>1.000000</td>\n",
       "      <td>0.651635</td>\n",
       "      <td>0.485513</td>\n",
       "      <td>0.178225</td>\n",
       "      <td>0.179294</td>\n",
       "      <td>0.010489</td>\n",
       "      <td>0.244661</td>\n",
       "      <td>0.204575</td>\n",
       "      <td>...</td>\n",
       "      <td>0.086495</td>\n",
       "      <td>0.000000</td>\n",
       "      <td>0.091140</td>\n",
       "      <td>0.091990</td>\n",
       "      <td>0.099685</td>\n",
       "      <td>0.076244</td>\n",
       "      <td>0.081850</td>\n",
       "      <td>0.077710</td>\n",
       "      <td>0.227597</td>\n",
       "      <td>0.450246</td>\n",
       "    </tr>\n",
       "    <tr>\n",
       "      <th>Dependents</th>\n",
       "      <td>0.000000</td>\n",
       "      <td>0.323629</td>\n",
       "      <td>0.651635</td>\n",
       "      <td>1.000000</td>\n",
       "      <td>0.201169</td>\n",
       "      <td>0.056795</td>\n",
       "      <td>0.146126</td>\n",
       "      <td>0.170650</td>\n",
       "      <td>0.222859</td>\n",
       "      <td>0.182283</td>\n",
       "      <td>...</td>\n",
       "      <td>0.011135</td>\n",
       "      <td>0.107328</td>\n",
       "      <td>0.116236</td>\n",
       "      <td>0.096785</td>\n",
       "      <td>0.093606</td>\n",
       "      <td>0.108747</td>\n",
       "      <td>0.087232</td>\n",
       "      <td>0.083895</td>\n",
       "      <td>0.048710</td>\n",
       "      <td>0.197317</td>\n",
       "    </tr>\n",
       "    <tr>\n",
       "      <th>BeginDate</th>\n",
       "      <td>0.018540</td>\n",
       "      <td>0.049516</td>\n",
       "      <td>0.485513</td>\n",
       "      <td>0.201169</td>\n",
       "      <td>1.000000</td>\n",
       "      <td>0.549761</td>\n",
       "      <td>0.765275</td>\n",
       "      <td>0.078664</td>\n",
       "      <td>0.467586</td>\n",
       "      <td>0.421848</td>\n",
       "      <td>...</td>\n",
       "      <td>0.468346</td>\n",
       "      <td>0.185601</td>\n",
       "      <td>0.459336</td>\n",
       "      <td>0.495096</td>\n",
       "      <td>0.501372</td>\n",
       "      <td>0.454019</td>\n",
       "      <td>0.418173</td>\n",
       "      <td>0.429770</td>\n",
       "      <td>0.461977</td>\n",
       "      <td>0.978241</td>\n",
       "    </tr>\n",
       "    <tr>\n",
       "      <th>EndDate</th>\n",
       "      <td>0.018351</td>\n",
       "      <td>0.090149</td>\n",
       "      <td>0.178225</td>\n",
       "      <td>0.056795</td>\n",
       "      <td>0.549761</td>\n",
       "      <td>1.000000</td>\n",
       "      <td>0.286678</td>\n",
       "      <td>0.062480</td>\n",
       "      <td>0.168837</td>\n",
       "      <td>0.172986</td>\n",
       "      <td>...</td>\n",
       "      <td>0.249694</td>\n",
       "      <td>0.116149</td>\n",
       "      <td>0.166274</td>\n",
       "      <td>0.236566</td>\n",
       "      <td>0.226005</td>\n",
       "      <td>0.150222</td>\n",
       "      <td>0.186040</td>\n",
       "      <td>0.198643</td>\n",
       "      <td>1.000000</td>\n",
       "      <td>0.399183</td>\n",
       "    </tr>\n",
       "    <tr>\n",
       "      <th>Type</th>\n",
       "      <td>0.000000</td>\n",
       "      <td>0.085800</td>\n",
       "      <td>0.179294</td>\n",
       "      <td>0.146126</td>\n",
       "      <td>0.765275</td>\n",
       "      <td>0.286678</td>\n",
       "      <td>1.000000</td>\n",
       "      <td>0.106151</td>\n",
       "      <td>0.277528</td>\n",
       "      <td>0.388557</td>\n",
       "      <td>...</td>\n",
       "      <td>0.244802</td>\n",
       "      <td>0.503776</td>\n",
       "      <td>0.636227</td>\n",
       "      <td>0.580887</td>\n",
       "      <td>0.630968</td>\n",
       "      <td>0.671126</td>\n",
       "      <td>0.548723</td>\n",
       "      <td>0.553780</td>\n",
       "      <td>0.094622</td>\n",
       "      <td>0.635623</td>\n",
       "    </tr>\n",
       "    <tr>\n",
       "      <th>PaperlessBilling</th>\n",
       "      <td>0.000000</td>\n",
       "      <td>0.241715</td>\n",
       "      <td>0.010489</td>\n",
       "      <td>0.170650</td>\n",
       "      <td>0.078664</td>\n",
       "      <td>0.062480</td>\n",
       "      <td>0.106151</td>\n",
       "      <td>1.000000</td>\n",
       "      <td>0.368945</td>\n",
       "      <td>0.467547</td>\n",
       "      <td>...</td>\n",
       "      <td>0.100063</td>\n",
       "      <td>0.231145</td>\n",
       "      <td>0.208084</td>\n",
       "      <td>0.195065</td>\n",
       "      <td>0.195398</td>\n",
       "      <td>0.200363</td>\n",
       "      <td>0.204617</td>\n",
       "      <td>0.202005</td>\n",
       "      <td>0.082789</td>\n",
       "      <td>0.018839</td>\n",
       "    </tr>\n",
       "    <tr>\n",
       "      <th>PaymentMethod</th>\n",
       "      <td>0.000000</td>\n",
       "      <td>0.291989</td>\n",
       "      <td>0.244661</td>\n",
       "      <td>0.222859</td>\n",
       "      <td>0.467586</td>\n",
       "      <td>0.168837</td>\n",
       "      <td>0.277528</td>\n",
       "      <td>0.368945</td>\n",
       "      <td>1.000000</td>\n",
       "      <td>0.398849</td>\n",
       "      <td>...</td>\n",
       "      <td>0.174953</td>\n",
       "      <td>0.323013</td>\n",
       "      <td>0.314888</td>\n",
       "      <td>0.292646</td>\n",
       "      <td>0.297187</td>\n",
       "      <td>0.316805</td>\n",
       "      <td>0.283902</td>\n",
       "      <td>0.284844</td>\n",
       "      <td>0.214300</td>\n",
       "      <td>0.348275</td>\n",
       "    </tr>\n",
       "    <tr>\n",
       "      <th>MonthlyCharges</th>\n",
       "      <td>0.005522</td>\n",
       "      <td>0.304546</td>\n",
       "      <td>0.204575</td>\n",
       "      <td>0.182283</td>\n",
       "      <td>0.421848</td>\n",
       "      <td>0.172986</td>\n",
       "      <td>0.388557</td>\n",
       "      <td>0.467547</td>\n",
       "      <td>0.398849</td>\n",
       "      <td>1.000000</td>\n",
       "      <td>...</td>\n",
       "      <td>0.710293</td>\n",
       "      <td>0.919005</td>\n",
       "      <td>0.812548</td>\n",
       "      <td>0.818861</td>\n",
       "      <td>0.827363</td>\n",
       "      <td>0.816645</td>\n",
       "      <td>0.864821</td>\n",
       "      <td>0.863544</td>\n",
       "      <td>0.225823</td>\n",
       "      <td>0.387649</td>\n",
       "    </tr>\n",
       "    <tr>\n",
       "      <th>TotalCharges</th>\n",
       "      <td>0.000000</td>\n",
       "      <td>0.136856</td>\n",
       "      <td>0.383135</td>\n",
       "      <td>0.085809</td>\n",
       "      <td>0.773731</td>\n",
       "      <td>0.215829</td>\n",
       "      <td>0.470700</td>\n",
       "      <td>0.202168</td>\n",
       "      <td>0.334563</td>\n",
       "      <td>0.711015</td>\n",
       "      <td>...</td>\n",
       "      <td>0.467826</td>\n",
       "      <td>0.489363</td>\n",
       "      <td>0.516500</td>\n",
       "      <td>0.550605</td>\n",
       "      <td>0.558748</td>\n",
       "      <td>0.527978</td>\n",
       "      <td>0.555663</td>\n",
       "      <td>0.554074</td>\n",
       "      <td>0.303758</td>\n",
       "      <td>0.847572</td>\n",
       "    </tr>\n",
       "    <tr>\n",
       "      <th>MultipleLines</th>\n",
       "      <td>0.000000</td>\n",
       "      <td>0.087978</td>\n",
       "      <td>0.086495</td>\n",
       "      <td>0.011135</td>\n",
       "      <td>0.468346</td>\n",
       "      <td>0.249694</td>\n",
       "      <td>0.244802</td>\n",
       "      <td>0.100063</td>\n",
       "      <td>0.174953</td>\n",
       "      <td>0.710293</td>\n",
       "      <td>...</td>\n",
       "      <td>1.000000</td>\n",
       "      <td>0.739821</td>\n",
       "      <td>0.540029</td>\n",
       "      <td>0.562805</td>\n",
       "      <td>0.564619</td>\n",
       "      <td>0.540744</td>\n",
       "      <td>0.586273</td>\n",
       "      <td>0.586923</td>\n",
       "      <td>0.105172</td>\n",
       "      <td>0.347224</td>\n",
       "    </tr>\n",
       "    <tr>\n",
       "      <th>InternetService</th>\n",
       "      <td>0.000000</td>\n",
       "      <td>0.160452</td>\n",
       "      <td>0.000000</td>\n",
       "      <td>0.107328</td>\n",
       "      <td>0.185601</td>\n",
       "      <td>0.116149</td>\n",
       "      <td>0.503776</td>\n",
       "      <td>0.231145</td>\n",
       "      <td>0.323013</td>\n",
       "      <td>0.919005</td>\n",
       "      <td>...</td>\n",
       "      <td>0.739821</td>\n",
       "      <td>1.000000</td>\n",
       "      <td>0.949461</td>\n",
       "      <td>0.942839</td>\n",
       "      <td>0.942811</td>\n",
       "      <td>0.948878</td>\n",
       "      <td>0.946750</td>\n",
       "      <td>0.946275</td>\n",
       "      <td>0.056279</td>\n",
       "      <td>0.058903</td>\n",
       "    </tr>\n",
       "    <tr>\n",
       "      <th>OnlineSecurity</th>\n",
       "      <td>0.000000</td>\n",
       "      <td>0.127108</td>\n",
       "      <td>0.091140</td>\n",
       "      <td>0.116236</td>\n",
       "      <td>0.459336</td>\n",
       "      <td>0.166274</td>\n",
       "      <td>0.636227</td>\n",
       "      <td>0.208084</td>\n",
       "      <td>0.314888</td>\n",
       "      <td>0.812548</td>\n",
       "      <td>...</td>\n",
       "      <td>0.540029</td>\n",
       "      <td>0.949461</td>\n",
       "      <td>1.000000</td>\n",
       "      <td>0.947213</td>\n",
       "      <td>0.946776</td>\n",
       "      <td>0.952637</td>\n",
       "      <td>0.943078</td>\n",
       "      <td>0.943254</td>\n",
       "      <td>0.058630</td>\n",
       "      <td>0.345964</td>\n",
       "    </tr>\n",
       "    <tr>\n",
       "      <th>OnlineBackup</th>\n",
       "      <td>0.000000</td>\n",
       "      <td>0.109855</td>\n",
       "      <td>0.091990</td>\n",
       "      <td>0.096785</td>\n",
       "      <td>0.495096</td>\n",
       "      <td>0.236566</td>\n",
       "      <td>0.580887</td>\n",
       "      <td>0.195065</td>\n",
       "      <td>0.292646</td>\n",
       "      <td>0.818861</td>\n",
       "      <td>...</td>\n",
       "      <td>0.562805</td>\n",
       "      <td>0.942839</td>\n",
       "      <td>0.947213</td>\n",
       "      <td>1.000000</td>\n",
       "      <td>0.947480</td>\n",
       "      <td>0.947746</td>\n",
       "      <td>0.945784</td>\n",
       "      <td>0.945409</td>\n",
       "      <td>0.089771</td>\n",
       "      <td>0.367533</td>\n",
       "    </tr>\n",
       "    <tr>\n",
       "      <th>DeviceProtection</th>\n",
       "      <td>0.000000</td>\n",
       "      <td>0.110029</td>\n",
       "      <td>0.099685</td>\n",
       "      <td>0.093606</td>\n",
       "      <td>0.501372</td>\n",
       "      <td>0.226005</td>\n",
       "      <td>0.630968</td>\n",
       "      <td>0.195398</td>\n",
       "      <td>0.297187</td>\n",
       "      <td>0.827363</td>\n",
       "      <td>...</td>\n",
       "      <td>0.564619</td>\n",
       "      <td>0.942811</td>\n",
       "      <td>0.946776</td>\n",
       "      <td>0.947480</td>\n",
       "      <td>1.000000</td>\n",
       "      <td>0.950238</td>\n",
       "      <td>0.952815</td>\n",
       "      <td>0.953754</td>\n",
       "      <td>0.085665</td>\n",
       "      <td>0.376886</td>\n",
       "    </tr>\n",
       "    <tr>\n",
       "      <th>TechSupport</th>\n",
       "      <td>0.000000</td>\n",
       "      <td>0.135073</td>\n",
       "      <td>0.076244</td>\n",
       "      <td>0.108747</td>\n",
       "      <td>0.454019</td>\n",
       "      <td>0.150222</td>\n",
       "      <td>0.671126</td>\n",
       "      <td>0.200363</td>\n",
       "      <td>0.316805</td>\n",
       "      <td>0.816645</td>\n",
       "      <td>...</td>\n",
       "      <td>0.540744</td>\n",
       "      <td>0.948878</td>\n",
       "      <td>0.952637</td>\n",
       "      <td>0.947746</td>\n",
       "      <td>0.950238</td>\n",
       "      <td>1.000000</td>\n",
       "      <td>0.946386</td>\n",
       "      <td>0.946471</td>\n",
       "      <td>0.051442</td>\n",
       "      <td>0.352799</td>\n",
       "    </tr>\n",
       "    <tr>\n",
       "      <th>StreamingTV</th>\n",
       "      <td>0.000000</td>\n",
       "      <td>0.111610</td>\n",
       "      <td>0.081850</td>\n",
       "      <td>0.087232</td>\n",
       "      <td>0.418173</td>\n",
       "      <td>0.186040</td>\n",
       "      <td>0.548723</td>\n",
       "      <td>0.204617</td>\n",
       "      <td>0.283902</td>\n",
       "      <td>0.864821</td>\n",
       "      <td>...</td>\n",
       "      <td>0.586273</td>\n",
       "      <td>0.946750</td>\n",
       "      <td>0.943078</td>\n",
       "      <td>0.945784</td>\n",
       "      <td>0.952815</td>\n",
       "      <td>0.946386</td>\n",
       "      <td>1.000000</td>\n",
       "      <td>0.965356</td>\n",
       "      <td>0.078554</td>\n",
       "      <td>0.308923</td>\n",
       "    </tr>\n",
       "    <tr>\n",
       "      <th>StreamingMovies</th>\n",
       "      <td>0.000000</td>\n",
       "      <td>0.113611</td>\n",
       "      <td>0.077710</td>\n",
       "      <td>0.083895</td>\n",
       "      <td>0.429770</td>\n",
       "      <td>0.198643</td>\n",
       "      <td>0.553780</td>\n",
       "      <td>0.202005</td>\n",
       "      <td>0.284844</td>\n",
       "      <td>0.863544</td>\n",
       "      <td>...</td>\n",
       "      <td>0.586923</td>\n",
       "      <td>0.946275</td>\n",
       "      <td>0.943254</td>\n",
       "      <td>0.945409</td>\n",
       "      <td>0.953754</td>\n",
       "      <td>0.946471</td>\n",
       "      <td>0.965356</td>\n",
       "      <td>1.000000</td>\n",
       "      <td>0.086371</td>\n",
       "      <td>0.307383</td>\n",
       "    </tr>\n",
       "    <tr>\n",
       "      <th>isActive</th>\n",
       "      <td>0.008800</td>\n",
       "      <td>0.085708</td>\n",
       "      <td>0.227597</td>\n",
       "      <td>0.048710</td>\n",
       "      <td>0.461977</td>\n",
       "      <td>1.000000</td>\n",
       "      <td>0.094622</td>\n",
       "      <td>0.082789</td>\n",
       "      <td>0.214300</td>\n",
       "      <td>0.225823</td>\n",
       "      <td>...</td>\n",
       "      <td>0.105172</td>\n",
       "      <td>0.056279</td>\n",
       "      <td>0.058630</td>\n",
       "      <td>0.089771</td>\n",
       "      <td>0.085665</td>\n",
       "      <td>0.051442</td>\n",
       "      <td>0.078554</td>\n",
       "      <td>0.086371</td>\n",
       "      <td>1.000000</td>\n",
       "      <td>0.374101</td>\n",
       "    </tr>\n",
       "    <tr>\n",
       "      <th>ContractTime</th>\n",
       "      <td>0.000000</td>\n",
       "      <td>0.065128</td>\n",
       "      <td>0.450246</td>\n",
       "      <td>0.197317</td>\n",
       "      <td>0.978241</td>\n",
       "      <td>0.399183</td>\n",
       "      <td>0.635623</td>\n",
       "      <td>0.018839</td>\n",
       "      <td>0.348275</td>\n",
       "      <td>0.387649</td>\n",
       "      <td>...</td>\n",
       "      <td>0.347224</td>\n",
       "      <td>0.058903</td>\n",
       "      <td>0.345964</td>\n",
       "      <td>0.367533</td>\n",
       "      <td>0.376886</td>\n",
       "      <td>0.352799</td>\n",
       "      <td>0.308923</td>\n",
       "      <td>0.307383</td>\n",
       "      <td>0.374101</td>\n",
       "      <td>1.000000</td>\n",
       "    </tr>\n",
       "  </tbody>\n",
       "</table>\n",
       "<p>21 rows × 21 columns</p>\n",
       "</div>"
      ],
      "text/plain": [
       "                    gender  SeniorCitizen   Partner  Dependents  BeginDate  \\\n",
       "gender            1.000000       0.000000  0.000000    0.000000   0.018540   \n",
       "SeniorCitizen     0.000000       1.000000  0.018075    0.323629   0.049516   \n",
       "Partner           0.000000       0.018075  1.000000    0.651635   0.485513   \n",
       "Dependents        0.000000       0.323629  0.651635    1.000000   0.201169   \n",
       "BeginDate         0.018540       0.049516  0.485513    0.201169   1.000000   \n",
       "EndDate           0.018351       0.090149  0.178225    0.056795   0.549761   \n",
       "Type              0.000000       0.085800  0.179294    0.146126   0.765275   \n",
       "PaperlessBilling  0.000000       0.241715  0.010489    0.170650   0.078664   \n",
       "PaymentMethod     0.000000       0.291989  0.244661    0.222859   0.467586   \n",
       "MonthlyCharges    0.005522       0.304546  0.204575    0.182283   0.421848   \n",
       "TotalCharges      0.000000       0.136856  0.383135    0.085809   0.773731   \n",
       "MultipleLines     0.000000       0.087978  0.086495    0.011135   0.468346   \n",
       "InternetService   0.000000       0.160452  0.000000    0.107328   0.185601   \n",
       "OnlineSecurity    0.000000       0.127108  0.091140    0.116236   0.459336   \n",
       "OnlineBackup      0.000000       0.109855  0.091990    0.096785   0.495096   \n",
       "DeviceProtection  0.000000       0.110029  0.099685    0.093606   0.501372   \n",
       "TechSupport       0.000000       0.135073  0.076244    0.108747   0.454019   \n",
       "StreamingTV       0.000000       0.111610  0.081850    0.087232   0.418173   \n",
       "StreamingMovies   0.000000       0.113611  0.077710    0.083895   0.429770   \n",
       "isActive          0.008800       0.085708  0.227597    0.048710   0.461977   \n",
       "ContractTime      0.000000       0.065128  0.450246    0.197317   0.978241   \n",
       "\n",
       "                   EndDate      Type  PaperlessBilling  PaymentMethod  \\\n",
       "gender            0.018351  0.000000          0.000000       0.000000   \n",
       "SeniorCitizen     0.090149  0.085800          0.241715       0.291989   \n",
       "Partner           0.178225  0.179294          0.010489       0.244661   \n",
       "Dependents        0.056795  0.146126          0.170650       0.222859   \n",
       "BeginDate         0.549761  0.765275          0.078664       0.467586   \n",
       "EndDate           1.000000  0.286678          0.062480       0.168837   \n",
       "Type              0.286678  1.000000          0.106151       0.277528   \n",
       "PaperlessBilling  0.062480  0.106151          1.000000       0.368945   \n",
       "PaymentMethod     0.168837  0.277528          0.368945       1.000000   \n",
       "MonthlyCharges    0.172986  0.388557          0.467547       0.398849   \n",
       "TotalCharges      0.215829  0.470700          0.202168       0.334563   \n",
       "MultipleLines     0.249694  0.244802          0.100063       0.174953   \n",
       "InternetService   0.116149  0.503776          0.231145       0.323013   \n",
       "OnlineSecurity    0.166274  0.636227          0.208084       0.314888   \n",
       "OnlineBackup      0.236566  0.580887          0.195065       0.292646   \n",
       "DeviceProtection  0.226005  0.630968          0.195398       0.297187   \n",
       "TechSupport       0.150222  0.671126          0.200363       0.316805   \n",
       "StreamingTV       0.186040  0.548723          0.204617       0.283902   \n",
       "StreamingMovies   0.198643  0.553780          0.202005       0.284844   \n",
       "isActive          1.000000  0.094622          0.082789       0.214300   \n",
       "ContractTime      0.399183  0.635623          0.018839       0.348275   \n",
       "\n",
       "                  MonthlyCharges  ...  MultipleLines  InternetService  \\\n",
       "gender                  0.005522  ...       0.000000         0.000000   \n",
       "SeniorCitizen           0.304546  ...       0.087978         0.160452   \n",
       "Partner                 0.204575  ...       0.086495         0.000000   \n",
       "Dependents              0.182283  ...       0.011135         0.107328   \n",
       "BeginDate               0.421848  ...       0.468346         0.185601   \n",
       "EndDate                 0.172986  ...       0.249694         0.116149   \n",
       "Type                    0.388557  ...       0.244802         0.503776   \n",
       "PaperlessBilling        0.467547  ...       0.100063         0.231145   \n",
       "PaymentMethod           0.398849  ...       0.174953         0.323013   \n",
       "MonthlyCharges          1.000000  ...       0.710293         0.919005   \n",
       "TotalCharges            0.711015  ...       0.467826         0.489363   \n",
       "MultipleLines           0.710293  ...       1.000000         0.739821   \n",
       "InternetService         0.919005  ...       0.739821         1.000000   \n",
       "OnlineSecurity          0.812548  ...       0.540029         0.949461   \n",
       "OnlineBackup            0.818861  ...       0.562805         0.942839   \n",
       "DeviceProtection        0.827363  ...       0.564619         0.942811   \n",
       "TechSupport             0.816645  ...       0.540744         0.948878   \n",
       "StreamingTV             0.864821  ...       0.586273         0.946750   \n",
       "StreamingMovies         0.863544  ...       0.586923         0.946275   \n",
       "isActive                0.225823  ...       0.105172         0.056279   \n",
       "ContractTime            0.387649  ...       0.347224         0.058903   \n",
       "\n",
       "                  OnlineSecurity  OnlineBackup  DeviceProtection  TechSupport  \\\n",
       "gender                  0.000000      0.000000          0.000000     0.000000   \n",
       "SeniorCitizen           0.127108      0.109855          0.110029     0.135073   \n",
       "Partner                 0.091140      0.091990          0.099685     0.076244   \n",
       "Dependents              0.116236      0.096785          0.093606     0.108747   \n",
       "BeginDate               0.459336      0.495096          0.501372     0.454019   \n",
       "EndDate                 0.166274      0.236566          0.226005     0.150222   \n",
       "Type                    0.636227      0.580887          0.630968     0.671126   \n",
       "PaperlessBilling        0.208084      0.195065          0.195398     0.200363   \n",
       "PaymentMethod           0.314888      0.292646          0.297187     0.316805   \n",
       "MonthlyCharges          0.812548      0.818861          0.827363     0.816645   \n",
       "TotalCharges            0.516500      0.550605          0.558748     0.527978   \n",
       "MultipleLines           0.540029      0.562805          0.564619     0.540744   \n",
       "InternetService         0.949461      0.942839          0.942811     0.948878   \n",
       "OnlineSecurity          1.000000      0.947213          0.946776     0.952637   \n",
       "OnlineBackup            0.947213      1.000000          0.947480     0.947746   \n",
       "DeviceProtection        0.946776      0.947480          1.000000     0.950238   \n",
       "TechSupport             0.952637      0.947746          0.950238     1.000000   \n",
       "StreamingTV             0.943078      0.945784          0.952815     0.946386   \n",
       "StreamingMovies         0.943254      0.945409          0.953754     0.946471   \n",
       "isActive                0.058630      0.089771          0.085665     0.051442   \n",
       "ContractTime            0.345964      0.367533          0.376886     0.352799   \n",
       "\n",
       "                  StreamingTV  StreamingMovies  isActive  ContractTime  \n",
       "gender               0.000000         0.000000  0.008800      0.000000  \n",
       "SeniorCitizen        0.111610         0.113611  0.085708      0.065128  \n",
       "Partner              0.081850         0.077710  0.227597      0.450246  \n",
       "Dependents           0.087232         0.083895  0.048710      0.197317  \n",
       "BeginDate            0.418173         0.429770  0.461977      0.978241  \n",
       "EndDate              0.186040         0.198643  1.000000      0.399183  \n",
       "Type                 0.548723         0.553780  0.094622      0.635623  \n",
       "PaperlessBilling     0.204617         0.202005  0.082789      0.018839  \n",
       "PaymentMethod        0.283902         0.284844  0.214300      0.348275  \n",
       "MonthlyCharges       0.864821         0.863544  0.225823      0.387649  \n",
       "TotalCharges         0.555663         0.554074  0.303758      0.847572  \n",
       "MultipleLines        0.586273         0.586923  0.105172      0.347224  \n",
       "InternetService      0.946750         0.946275  0.056279      0.058903  \n",
       "OnlineSecurity       0.943078         0.943254  0.058630      0.345964  \n",
       "OnlineBackup         0.945784         0.945409  0.089771      0.367533  \n",
       "DeviceProtection     0.952815         0.953754  0.085665      0.376886  \n",
       "TechSupport          0.946386         0.946471  0.051442      0.352799  \n",
       "StreamingTV          1.000000         0.965356  0.078554      0.308923  \n",
       "StreamingMovies      0.965356         1.000000  0.086371      0.307383  \n",
       "isActive             0.078554         0.086371  1.000000      0.374101  \n",
       "ContractTime         0.308923         0.307383  0.374101      1.000000  \n",
       "\n",
       "[21 rows x 21 columns]"
      ]
     },
     "metadata": {},
     "output_type": "display_data"
    }
   ],
   "source": [
    "# \n",
    "matrix = phik_matrix(df.drop('customerID', axis=1), interval_cols = ['ContractTime', 'MonthlyCharges', 'TotalCharges'])\n",
    "display(matrix)\n",
    "# sns.heatmap(matrix, annot=False, cmap='coolwarm')\n",
    "\n",
    "# # Настройка заголовка графика\n",
    "# plt.title('Матрица Фи')\n",
    "\n",
    "# # Отображение графика\n",
    "# plt.show()"
   ]
  },
  {
   "cell_type": "code",
   "execution_count": 55,
   "metadata": {},
   "outputs": [
    {
     "data": {
      "image/png": "[encoded data removed]",
      "text/plain": [
       "<Figure size 1440x1440 with 2 Axes>"
      ]
     },
     "metadata": {
      "needs_background": "light"
     },
     "output_type": "display_data"
    }
   ],
   "source": [
    "# Построим график:\n",
    "\n",
    "plot_correlation_matrix(np.array(matrix)\n",
    "                        , x_labels=matrix.columns\n",
    "                        , y_labels=matrix.index\n",
    "                        , vmin=0\n",
    "                        , vmax=1\n",
    "                        , color_map=\"Blues\"\n",
    "#                         , title=r\"correlation $\\phi_K$\"\n",
    "                        , fontsize_factor=1.5\n",
    "                        , figsize=(20, 20))\n",
    "plt.title(r\"correlation $\\phi_K$\", size=32)\n",
    "plt.tight_layout()"
   ]
  },
  {
   "cell_type": "markdown",
   "metadata": {},
   "source": [
    "<a id=\"disballance\"></a>\n",
    "[go to the title](#title)"
   ]
  },
  {
   "cell_type": "markdown",
   "metadata": {},
   "source": [
    "### Дисбаланс классов"
   ]
  },
  {
   "cell_type": "code",
   "execution_count": 43,
   "metadata": {},
   "outputs": [
    {
     "name": "stdout",
     "output_type": "stream",
     "text": [
      "Относительные размеры классов:\n",
      "1    0.84343\n",
      "0    0.15657\n",
      "Name: isActive, dtype: float64\n",
      "Соотношение классов: 5\n"
     ]
    }
   ],
   "source": [
    "# он есть\n",
    "class_frequency = df['isActive'].value_counts(normalize=True)\n",
    "print('Относительные размеры классов:', class_frequency, sep='\\n')\n",
    "print('Соотношение классов:', round(class_frequency[1] / class_frequency[0]))"
   ]
  },
  {
   "cell_type": "markdown",
   "metadata": {},
   "source": [
    "<a id=\"analis_concl\"></a>\n",
    "[go to the title](#title)"
   ]
  },
  {
   "cell_type": "markdown",
   "metadata": {},
   "source": [
    "### Выводы"
   ]
  },
  {
   "cell_type": "markdown",
   "metadata": {},
   "source": [
    "Был проведен подробный анализ даннных:\n",
    "- 4 исходных датасета были объеденины в один. Полностью совпали наборы ID в основных датасетах с клиентами и с контрактами. \n",
    "- Данных в табличке phone и internet было существенно меньше. Получившиеся пропущенные значения были заполнены значением `unknown`\n",
    "- Ради единообразия признак `SeniorCitizen` был преобразован в текстовый формат\n",
    "- В столбце с суммарными расходами по тарифу `TotalCharges` было обнаружено 11 строк с пробелом вместо суммы. Данные строки мешали преобразовать столбец из строкового типа в числовой, поэтому было принято решение их удалить. Так как их мало, должно быть не очень чувствительно для обучения модели.\n",
    "- Был добавлен признак 'isActive' - действующий контрат или нет на основе даты закрытия контракта\n",
    "- Также был добавлен признак продолжительности контракта в днях `ContractTime`\n",
    "- Построены диаграммы для категориальных признаков и графики частотности для численных признаков\n",
    "- Проведен анализ на мультиколлениарность: После заполения пустых значений в признаках из таблички `Internet` наблюдается высокая корреляция между всеми признаками. \n",
    "- Дисбаланс классов примерно 1 к 5 (отрицательный к положительному)"
   ]
  },
  {
   "cell_type": "markdown",
   "metadata": {},
   "source": [
    "<a id=\"models\"></a>\n",
    "[go to the title](#title)"
   ]
  },
  {
   "cell_type": "markdown",
   "metadata": {},
   "source": [
    "## МОДЕЛИ"
   ]
  },
  {
   "cell_type": "code",
   "execution_count": 56,
   "metadata": {},
   "outputs": [],
   "source": [
    "RANDOM_STATE = 190623"
   ]
  },
  {
   "cell_type": "markdown",
   "metadata": {},
   "source": [
    "<a id=\"split\"></a>\n",
    "[go to the title](#title)"
   ]
  },
  {
   "cell_type": "markdown",
   "metadata": {},
   "source": [
    "### Разбиение на выборки"
   ]
  },
  {
   "cell_type": "code",
   "execution_count": 57,
   "metadata": {},
   "outputs": [
    {
     "name": "stdout",
     "output_type": "stream",
     "text": [
      "(5274, 17)\n",
      "(5274,)\n",
      "(1758, 17)\n",
      "(1758,)\n"
     ]
    }
   ],
   "source": [
    "features = df.drop(['isActive', 'customerID', 'BeginDate', 'EndDate', 'TotalCharges'], axis=1)\n",
    "target = df['isActive']\n",
    "\n",
    "train_features, test_features, train_target, test_target = train_test_split(features\n",
    "                                                                            , target\n",
    "                                                                            , random_state=RANDOM_STATE\n",
    "                                                                            , test_size=0.25)\n",
    "\n",
    "\n",
    "print(train_features.shape)\n",
    "print(train_target.shape)\n",
    "print(test_features.shape)\n",
    "print(test_target.shape)"
   ]
  },
  {
   "cell_type": "markdown",
   "metadata": {},
   "source": [
    "<a id=\"features_encode\"></a>\n",
    "[go to the title](#title)"
   ]
  },
  {
   "cell_type": "markdown",
   "metadata": {},
   "source": [
    "### Кодирование признаков"
   ]
  },
  {
   "cell_type": "markdown",
   "metadata": {},
   "source": [
    "Отдельного кодирования тут не будет, так как кодирование либо происходит в пайплайне, либо отсутствует вовсе, так как модель этого не требует (CatBoost)"
   ]
  },
  {
   "cell_type": "markdown",
   "metadata": {},
   "source": [
    "<a id=\"fit_linear\"></a>\n",
    "[go to the title](#title)"
   ]
  },
  {
   "cell_type": "markdown",
   "metadata": {},
   "source": [
    "### Обучение линейной модели"
   ]
  },
  {
   "cell_type": "code",
   "execution_count": 59,
   "metadata": {},
   "outputs": [],
   "source": [
    "numeric_columns = ['MonthlyCharges', 'ContractTime']"
   ]
  },
  {
   "cell_type": "code",
   "execution_count": 61,
   "metadata": {
    "scrolled": true
   },
   "outputs": [
    {
     "name": "stdout",
     "output_type": "stream",
     "text": [
      "Numeric params:\n",
      "MonthlyCharges ContractTime\n",
      "\n",
      "\n",
      "Categorial params:\n",
      "gender SeniorCitizen Partner Dependents Type PaperlessBilling PaymentMethod MultipleLines InternetService OnlineSecurity OnlineBackup DeviceProtection TechSupport StreamingTV StreamingMovies\n"
     ]
    }
   ],
   "source": [
    "categ_columns = list(features.columns)\n",
    "for column in numeric_columns:\n",
    "    categ_columns.remove(column)\n",
    "\n",
    "print('Numeric params:')\n",
    "print(*numeric_columns)\n",
    "print('\\n')\n",
    "print('Categorial params:')\n",
    "print(*categ_columns)"
   ]
  },
  {
   "cell_type": "code",
   "execution_count": 71,
   "metadata": {},
   "outputs": [
    {
     "name": "stdout",
     "output_type": "stream",
     "text": [
      "Best parameters:  {'logreg__C': 1}\n",
      "Best AUC_ROC:  0.7676486378799001\n",
      "CPU times: user 2.89 s, sys: 6.59 s, total: 9.48 s\n",
      "Wall time: 9.46 s\n"
     ]
    }
   ],
   "source": [
    "%%time\n",
    "column_trans = ColumnTransformer([\n",
    "    ('numeric', StandardScaler(), numeric_columns),\n",
    "    ('categorial', OneHotEncoder(drop='first'), categ_columns)\n",
    "])\n",
    "\n",
    "\n",
    "# Создание пайплайна для последовательного выполнения препроцессора и модели\n",
    "pipeline = Pipeline([\n",
    "    ('column_trans', column_trans),\n",
    "    ('logreg', LogisticRegression(random_state = RANDOM_STATE))\n",
    "])\n",
    "\n",
    "# Определение сетки параметров для GridSearchCV\n",
    "param_grid = {\n",
    "    'logreg__C': [0.1, 1, 10]\n",
    "}\n",
    "\n",
    "# Создание объекта GridSearchCV\n",
    "gs_logreg = GridSearchCV(pipeline, param_grid, scoring='roc_auc', cv=5, n_jobs=-1, verbose=False)\n",
    "\n",
    "# Обучаем модель на тренировочных данных\n",
    "gs_logreg.fit(train_features, train_target)\n",
    "\n",
    "# # Лучшие параметры модели\n",
    "# best_params = gs_logreg.best_params_\n",
    "\n",
    "# # Лучшая модель\n",
    "# best_model = gs_logreg.best_estimator_\n",
    "\n",
    "\n",
    "# Выводим наилучшие параметры и оценку метрики \n",
    "print(\"Best parameters: \", gs_logreg.best_params_)\n",
    "print(\"Best AUC_ROC: \", gs_logreg.best_score_)"
   ]
  },
  {
   "cell_type": "markdown",
   "metadata": {},
   "source": [
    "<a id=\"fit_catboost\"></a>\n",
    "[go to the title](#title)"
   ]
  },
  {
   "cell_type": "markdown",
   "metadata": {},
   "source": [
    "### Обучение CatBoost"
   ]
  },
  {
   "cell_type": "code",
   "execution_count": 76,
   "metadata": {},
   "outputs": [
    {
     "name": "stdout",
     "output_type": "stream",
     "text": [
      "Best parameters:  {'cat__class_weights': [1, 5], 'cat__eval_metric': 'AUC', 'cat__learning_rate': 0.1, 'cat__n_estimators': 500}\n",
      "Best AUC_ROC:  0.8732489586807007\n",
      "CPU times: user 2min 7s, sys: 3.68 s, total: 2min 10s\n",
      "Wall time: 2min 38s\n"
     ]
    }
   ],
   "source": [
    "%%time\n",
    "\n",
    "pipeline = Pipeline([\n",
    "    ('cat', CatBoostClassifier(verbose=False, random_state=RANDOM_STATE, cat_features=categ_columns))\n",
    "])\n",
    "\n",
    "# # Определяем сетку гиперпараметров для перебора\n",
    "parameters = {\n",
    "    'cat__learning_rate': [0.1, 0.01, 0.001],\n",
    "#     'cat__depth': [4,6,8],\n",
    "    'cat__n_estimators': [200, 300, 500],\n",
    "    'cat__class_weights': [[1,5]],\n",
    "    'cat__eval_metric': ['AUC']   \n",
    "}\n",
    "\n",
    "# # Создаем объект GridSearchCV с параметрами\n",
    "gs_cat = GridSearchCV(pipeline, parameters, scoring='roc_auc', cv=5, n_jobs=-1, verbose=False)\n",
    "\n",
    "# # Обучаем модель на тренировочных данных\n",
    "gs_cat.fit(train_features, train_target)\n",
    "\n",
    "# # Выводим наилучшие параметры и оценку метрики f1\n",
    "print(\"Best parameters: \", gs_cat.best_params_)\n",
    "print(\"Best AUC_ROC: \", gs_cat.best_score_)"
   ]
  },
  {
   "cell_type": "markdown",
   "metadata": {},
   "source": [
    "<a id=\"test_check\"></a>\n",
    "[go to the title](#title)"
   ]
  },
  {
   "cell_type": "markdown",
   "metadata": {},
   "source": [
    "### Проверка на тестовой выборке"
   ]
  },
  {
   "cell_type": "code",
   "execution_count": 78,
   "metadata": {},
   "outputs": [
    {
     "name": "stdout",
     "output_type": "stream",
     "text": [
      "Метрика ROC_AUC на тестовой выборке: 0.8679037332190201\n"
     ]
    }
   ],
   "source": [
    "# посчитаем метрику AUC_ROC на тестовой выборке для лучшей модели: \n",
    "best_model = gs_cat.best_estimator_\n",
    "probabilities_valid = best_model.predict_proba(test_features)\n",
    "probabilities_one_valid = probabilities_valid[:, 1]\n",
    "\n",
    "# Вычисление метрики на тестовом наборе данных\n",
    "print('Метрика ROC_AUC на тестовой выборке:', roc_auc_score(test_target, probabilities_one_valid)) "
   ]
  },
  {
   "cell_type": "code",
   "execution_count": 88,
   "metadata": {},
   "outputs": [
    {
     "data": {
      "image/png": "[encoded data removed]",
      "text/plain": [
       "<Figure size 864x576 with 1 Axes>"
      ]
     },
     "metadata": {
      "needs_background": "light"
     },
     "output_type": "display_data"
    }
   ],
   "source": [
    "fpr, tpr, thresholds = roc_curve(test_target, probabilities_one_valid)\n",
    "\n",
    "plt.figure(figsize=(12, 8))\n",
    "plt.plot(fpr, tpr)\n",
    "plt.plot([0, 1], [0, 1], linestyle='--')\n",
    "plt.xlim([0.0, 1.0])\n",
    "plt.ylim([0.0, 1.0])\n",
    "plt.xlabel('False Positive Rate')\n",
    "plt.ylabel('True Positive Rate')\n",
    "plt.title('ROC-кривая', size=32)\n",
    "\n",
    "\n",
    "plt.show()"
   ]
  },
  {
   "cell_type": "code",
   "execution_count": 89,
   "metadata": {},
   "outputs": [
    {
     "data": {
      "text/plain": [
       "0.8679037332190201"
      ]
     },
     "execution_count": 89,
     "metadata": {},
     "output_type": "execute_result"
    }
   ],
   "source": [
    "#Код ревьюера\n",
    "roc_auc_score(test_target, best_model.predict_proba(test_features)[:, 1])"
   ]
  },
  {
   "cell_type": "markdown",
   "metadata": {},
   "source": [
    "<a id=\"analisis_of_importance\"></a>\n",
    "[go to the title](#title)"
   ]
  },
  {
   "cell_type": "markdown",
   "metadata": {},
   "source": [
    "### Анализ важности признаков"
   ]
  },
  {
   "cell_type": "code",
   "execution_count": 92,
   "metadata": {
    "scrolled": true
   },
   "outputs": [
    {
     "data": {
      "image/png": "[encoded data removed]",
      "text/plain": [
       "<Figure size 864x576 with 1 Axes>"
      ]
     },
     "metadata": {
      "needs_background": "light"
     },
     "output_type": "display_data"
    }
   ],
   "source": [
    "# отобразим на графике важность признаков:\n",
    "important = pd.Series(best_model['cat'].feature_importances_,\n",
    "                         features.columns)\n",
    "fig, ax = plt.subplots(figsize=(12,8))\n",
    "important.plot.bar(ax=ax)\n",
    "ax.set_title(\"Важность признаков\", size=32)\n",
    "fig.tight_layout()"
   ]
  },
  {
   "cell_type": "markdown",
   "metadata": {},
   "source": [
    "<a id=\"error_matrix\"></a>\n",
    "[go to the title](#title)"
   ]
  },
  {
   "cell_type": "markdown",
   "metadata": {},
   "source": [
    "### Матрица ошибок"
   ]
  },
  {
   "cell_type": "code",
   "execution_count": 103,
   "metadata": {},
   "outputs": [
    {
     "name": "stdout",
     "output_type": "stream",
     "text": [
      "[[  43  248]\n",
      " [   5 1462]]\n"
     ]
    }
   ],
   "source": [
    "# Построим матрицу ошибок\n",
    "matrix = confusion_matrix(test_target, best_model.predict(test_features))\n",
    "print(matrix)"
   ]
  },
  {
   "cell_type": "markdown",
   "metadata": {},
   "source": [
    "[go to the title](#title)\n",
    "<a id=\"resume\"></a>\n",
    "### Выводы"
   ]
  },
  {
   "cell_type": "markdown",
   "metadata": {},
   "source": [
    "- Исходный датасет был разделен на тестовую и обучающую выборки в соотношении 1:3\n",
    "- Были обучены два типа моделей: Логистическая Регрессия и CatBoost используя пайплайн.\n",
    "- Для регрессии исходный набор признаков преобразовывался. Численные признаки масштабировались, категориальные кодировались. Для CatBoost данных преобразований не делалось.\n",
    "- Порезультатам кроссвалидации была отобрана лучшая модель CatBoost с параметрами:\n",
    "    - `class_weights`: [1, 5]\n",
    "    - `eval_metric`: 'AUC' \n",
    "    - `learning_rate`: 0.1\n",
    "    - `n_estimators`: 500\n",
    "    - `random_state`: 190623\n",
    "- В результате на тестовой выборке удалось достич значения AUC-ROC = 0.867 (нормально)\n",
    "- Была построена ROC-кривая и матрица ошибок\n",
    "- Анализ важности признаков показал, что самый важный признак - это длительность контракта, на втором месте тип оплаты и на третьем - месячная плата."
   ]
  }
 ],
 "metadata": {
  "ExecuteTimeLog": [
   {
    "duration": 397,
    "start_time": "2023-06-28T15:45:13.322Z"
   },
   {
    "duration": 466,
    "start_time": "2023-06-28T15:45:21.110Z"
   },
   {
    "duration": 15,
    "start_time": "2023-06-28T15:45:43.934Z"
   },
   {
    "duration": 84,
    "start_time": "2023-06-28T15:46:25.290Z"
   },
   {
    "duration": 10,
    "start_time": "2023-06-28T15:46:32.820Z"
   },
   {
    "duration": 12,
    "start_time": "2023-06-28T15:47:24.437Z"
   },
   {
    "duration": 9,
    "start_time": "2023-06-28T15:54:03.037Z"
   },
   {
    "duration": 12,
    "start_time": "2023-06-28T16:03:38.608Z"
   },
   {
    "duration": 10,
    "start_time": "2023-06-28T16:06:39.324Z"
   },
   {
    "duration": 7,
    "start_time": "2023-06-28T16:06:51.708Z"
   },
   {
    "duration": 17,
    "start_time": "2023-06-28T16:08:03.721Z"
   },
   {
    "duration": 15,
    "start_time": "2023-06-28T16:08:12.216Z"
   },
   {
    "duration": 10,
    "start_time": "2023-06-28T16:08:22.941Z"
   },
   {
    "duration": 13,
    "start_time": "2023-06-28T16:08:39.049Z"
   },
   {
    "duration": 101,
    "start_time": "2023-06-28T16:13:16.099Z"
   },
   {
    "duration": 17,
    "start_time": "2023-06-28T16:13:18.049Z"
   },
   {
    "duration": 9,
    "start_time": "2023-06-28T16:13:18.819Z"
   },
   {
    "duration": 11,
    "start_time": "2023-06-28T16:13:19.730Z"
   },
   {
    "duration": 11,
    "start_time": "2023-06-28T16:13:21.174Z"
   },
   {
    "duration": 8,
    "start_time": "2023-06-28T16:13:21.901Z"
   },
   {
    "duration": 20,
    "start_time": "2023-06-28T16:13:23.548Z"
   },
   {
    "duration": 15,
    "start_time": "2023-06-28T16:13:24.308Z"
   },
   {
    "duration": 14,
    "start_time": "2023-06-28T16:13:25.107Z"
   },
   {
    "duration": 15,
    "start_time": "2023-06-28T16:13:26.829Z"
   },
   {
    "duration": 11,
    "start_time": "2023-06-28T16:13:27.929Z"
   },
   {
    "duration": 6,
    "start_time": "2023-06-28T18:56:10.961Z"
   },
   {
    "duration": 6,
    "start_time": "2023-06-28T18:58:03.415Z"
   },
   {
    "duration": 8,
    "start_time": "2023-06-28T19:04:38.108Z"
   },
   {
    "duration": 7,
    "start_time": "2023-06-28T19:04:47.035Z"
   },
   {
    "duration": 14,
    "start_time": "2023-06-28T19:04:47.200Z"
   },
   {
    "duration": 5,
    "start_time": "2023-06-28T19:04:52.792Z"
   },
   {
    "duration": 8,
    "start_time": "2023-06-28T19:04:59.105Z"
   },
   {
    "duration": 7,
    "start_time": "2023-06-28T19:05:28.756Z"
   },
   {
    "duration": 8,
    "start_time": "2023-06-28T19:05:31.691Z"
   },
   {
    "duration": 25,
    "start_time": "2023-06-28T19:10:36.832Z"
   },
   {
    "duration": 5,
    "start_time": "2023-06-28T19:37:30.921Z"
   },
   {
    "duration": 13,
    "start_time": "2023-06-28T19:37:37.859Z"
   },
   {
    "duration": 20,
    "start_time": "2023-06-28T20:22:06.423Z"
   },
   {
    "duration": 6,
    "start_time": "2023-06-28T20:22:32.871Z"
   },
   {
    "duration": 18,
    "start_time": "2023-06-28T20:29:10.726Z"
   },
   {
    "duration": 8,
    "start_time": "2023-06-28T20:39:05.293Z"
   },
   {
    "duration": 6,
    "start_time": "2023-06-28T20:39:40.899Z"
   },
   {
    "duration": 5,
    "start_time": "2023-06-28T20:40:39.804Z"
   },
   {
    "duration": 6,
    "start_time": "2023-06-28T20:40:58.063Z"
   },
   {
    "duration": 6,
    "start_time": "2023-06-28T20:41:00.156Z"
   },
   {
    "duration": 9,
    "start_time": "2023-06-28T20:41:22.388Z"
   },
   {
    "duration": 7,
    "start_time": "2023-06-28T20:42:13.068Z"
   },
   {
    "duration": 1837,
    "start_time": "2023-06-28T20:49:16.392Z"
   },
   {
    "duration": 6,
    "start_time": "2023-06-28T20:49:25.729Z"
   },
   {
    "duration": 5,
    "start_time": "2023-06-28T20:50:10.996Z"
   },
   {
    "duration": 3,
    "start_time": "2023-06-28T20:57:35.474Z"
   },
   {
    "duration": 4,
    "start_time": "2023-06-28T20:57:42.818Z"
   },
   {
    "duration": 9,
    "start_time": "2023-06-28T20:58:02.215Z"
   },
   {
    "duration": 8,
    "start_time": "2023-06-28T20:58:07.090Z"
   },
   {
    "duration": 2,
    "start_time": "2023-06-28T20:58:15.177Z"
   },
   {
    "duration": 6,
    "start_time": "2023-06-28T20:58:23.235Z"
   },
   {
    "duration": 4,
    "start_time": "2023-06-28T20:58:35.270Z"
   },
   {
    "duration": 4,
    "start_time": "2023-06-28T20:58:36.118Z"
   },
   {
    "duration": 17,
    "start_time": "2023-06-28T20:59:10.104Z"
   },
   {
    "duration": 25,
    "start_time": "2023-06-28T21:00:50.289Z"
   },
   {
    "duration": 27,
    "start_time": "2023-06-28T21:00:55.199Z"
   },
   {
    "duration": 27,
    "start_time": "2023-06-28T21:01:03.734Z"
   },
   {
    "duration": 23,
    "start_time": "2023-06-28T21:01:11.891Z"
   },
   {
    "duration": 30,
    "start_time": "2023-06-28T21:01:29.881Z"
   },
   {
    "duration": 13,
    "start_time": "2023-06-28T21:01:51.987Z"
   },
   {
    "duration": 15,
    "start_time": "2023-06-28T21:03:24.824Z"
   },
   {
    "duration": 5,
    "start_time": "2023-06-28T21:03:37.410Z"
   },
   {
    "duration": 456,
    "start_time": "2023-06-28T21:13:57.663Z"
   },
   {
    "duration": 96,
    "start_time": "2023-06-28T21:13:58.121Z"
   },
   {
    "duration": 15,
    "start_time": "2023-06-28T21:13:58.219Z"
   },
   {
    "duration": 13,
    "start_time": "2023-06-28T21:13:58.236Z"
   },
   {
    "duration": 15,
    "start_time": "2023-06-28T21:13:58.251Z"
   },
   {
    "duration": 18,
    "start_time": "2023-06-28T21:13:58.268Z"
   },
   {
    "duration": 19,
    "start_time": "2023-06-28T21:13:58.288Z"
   },
   {
    "duration": 13,
    "start_time": "2023-06-28T21:13:58.309Z"
   },
   {
    "duration": 11,
    "start_time": "2023-06-28T21:13:58.324Z"
   },
   {
    "duration": 16,
    "start_time": "2023-06-28T21:13:58.337Z"
   },
   {
    "duration": 10,
    "start_time": "2023-06-28T21:13:58.355Z"
   },
   {
    "duration": 14,
    "start_time": "2023-06-28T21:13:58.367Z"
   },
   {
    "duration": 22,
    "start_time": "2023-06-28T21:13:58.382Z"
   },
   {
    "duration": 6,
    "start_time": "2023-06-28T21:13:58.408Z"
   },
   {
    "duration": 20,
    "start_time": "2023-06-28T21:13:58.416Z"
   },
   {
    "duration": 24,
    "start_time": "2023-06-28T21:13:58.438Z"
   },
   {
    "duration": 26,
    "start_time": "2023-06-28T21:13:58.464Z"
   },
   {
    "duration": 24,
    "start_time": "2023-06-28T21:13:58.491Z"
   },
   {
    "duration": 22,
    "start_time": "2023-06-28T21:13:58.517Z"
   },
   {
    "duration": 14,
    "start_time": "2023-06-28T21:13:58.541Z"
   },
   {
    "duration": 12,
    "start_time": "2023-06-28T21:13:58.557Z"
   },
   {
    "duration": 12,
    "start_time": "2023-06-28T21:13:58.571Z"
   },
   {
    "duration": 39,
    "start_time": "2023-06-28T21:13:58.584Z"
   },
   {
    "duration": 36,
    "start_time": "2023-06-28T21:13:58.625Z"
   },
   {
    "duration": 6,
    "start_time": "2023-06-28T21:13:58.663Z"
   },
   {
    "duration": 4,
    "start_time": "2023-06-30T05:02:46.891Z"
   },
   {
    "duration": 1661,
    "start_time": "2023-06-30T05:02:46.897Z"
   },
   {
    "duration": 0,
    "start_time": "2023-06-30T05:02:48.561Z"
   },
   {
    "duration": 0,
    "start_time": "2023-06-30T05:02:48.563Z"
   },
   {
    "duration": 0,
    "start_time": "2023-06-30T05:02:48.564Z"
   },
   {
    "duration": 0,
    "start_time": "2023-06-30T05:02:48.565Z"
   },
   {
    "duration": 0,
    "start_time": "2023-06-30T05:02:48.566Z"
   },
   {
    "duration": 0,
    "start_time": "2023-06-30T05:02:48.567Z"
   },
   {
    "duration": 0,
    "start_time": "2023-06-30T05:02:48.568Z"
   },
   {
    "duration": 0,
    "start_time": "2023-06-30T05:02:48.569Z"
   },
   {
    "duration": 0,
    "start_time": "2023-06-30T05:02:48.571Z"
   },
   {
    "duration": 0,
    "start_time": "2023-06-30T05:02:48.572Z"
   },
   {
    "duration": 0,
    "start_time": "2023-06-30T05:02:48.573Z"
   },
   {
    "duration": 0,
    "start_time": "2023-06-30T05:02:48.574Z"
   },
   {
    "duration": 0,
    "start_time": "2023-06-30T05:02:48.575Z"
   },
   {
    "duration": 0,
    "start_time": "2023-06-30T05:02:48.576Z"
   },
   {
    "duration": 0,
    "start_time": "2023-06-30T05:02:48.577Z"
   },
   {
    "duration": 0,
    "start_time": "2023-06-30T05:02:48.600Z"
   },
   {
    "duration": 0,
    "start_time": "2023-06-30T05:02:48.601Z"
   },
   {
    "duration": 0,
    "start_time": "2023-06-30T05:02:48.603Z"
   },
   {
    "duration": 0,
    "start_time": "2023-06-30T05:02:48.604Z"
   },
   {
    "duration": 0,
    "start_time": "2023-06-30T05:02:48.604Z"
   },
   {
    "duration": 0,
    "start_time": "2023-06-30T05:02:48.606Z"
   },
   {
    "duration": 0,
    "start_time": "2023-06-30T05:02:48.606Z"
   },
   {
    "duration": 0,
    "start_time": "2023-06-30T05:02:48.607Z"
   },
   {
    "duration": 0,
    "start_time": "2023-06-30T05:02:48.608Z"
   },
   {
    "duration": 0,
    "start_time": "2023-06-30T05:02:48.609Z"
   },
   {
    "duration": 0,
    "start_time": "2023-06-30T05:02:48.610Z"
   },
   {
    "duration": 0,
    "start_time": "2023-06-30T05:02:48.611Z"
   },
   {
    "duration": 0,
    "start_time": "2023-06-30T05:02:48.612Z"
   },
   {
    "duration": 0,
    "start_time": "2023-06-30T05:02:48.613Z"
   },
   {
    "duration": 0,
    "start_time": "2023-06-30T05:02:48.614Z"
   },
   {
    "duration": 0,
    "start_time": "2023-06-30T05:02:48.614Z"
   },
   {
    "duration": 0,
    "start_time": "2023-06-30T05:02:48.615Z"
   },
   {
    "duration": 0,
    "start_time": "2023-06-30T05:02:48.616Z"
   },
   {
    "duration": 0,
    "start_time": "2023-06-30T05:02:48.617Z"
   },
   {
    "duration": 0,
    "start_time": "2023-06-30T05:02:48.618Z"
   },
   {
    "duration": 0,
    "start_time": "2023-06-30T05:02:48.619Z"
   },
   {
    "duration": 0,
    "start_time": "2023-06-30T05:02:48.620Z"
   },
   {
    "duration": 0,
    "start_time": "2023-06-30T05:02:48.621Z"
   },
   {
    "duration": 0,
    "start_time": "2023-06-30T05:02:48.622Z"
   },
   {
    "duration": 0,
    "start_time": "2023-06-30T05:02:48.623Z"
   },
   {
    "duration": 0,
    "start_time": "2023-06-30T05:02:48.624Z"
   },
   {
    "duration": 0,
    "start_time": "2023-06-30T05:02:48.625Z"
   },
   {
    "duration": 0,
    "start_time": "2023-06-30T05:02:48.625Z"
   },
   {
    "duration": 0,
    "start_time": "2023-06-30T05:02:48.627Z"
   },
   {
    "duration": 0,
    "start_time": "2023-06-30T05:02:48.628Z"
   },
   {
    "duration": 0,
    "start_time": "2023-06-30T05:02:48.628Z"
   },
   {
    "duration": 0,
    "start_time": "2023-06-30T05:02:48.629Z"
   },
   {
    "duration": 0,
    "start_time": "2023-06-30T05:02:48.630Z"
   },
   {
    "duration": 3217,
    "start_time": "2023-06-30T05:05:14.133Z"
   },
   {
    "duration": 2182,
    "start_time": "2023-06-30T05:05:17.352Z"
   },
   {
    "duration": 388,
    "start_time": "2023-06-30T05:05:19.537Z"
   },
   {
    "duration": 16,
    "start_time": "2023-06-30T05:05:19.928Z"
   },
   {
    "duration": 33,
    "start_time": "2023-06-30T05:05:19.946Z"
   },
   {
    "duration": 24,
    "start_time": "2023-06-30T05:05:19.980Z"
   },
   {
    "duration": 28,
    "start_time": "2023-06-30T05:05:20.006Z"
   },
   {
    "duration": 17,
    "start_time": "2023-06-30T05:05:20.035Z"
   },
   {
    "duration": 20,
    "start_time": "2023-06-30T05:05:20.054Z"
   },
   {
    "duration": 17,
    "start_time": "2023-06-30T05:05:20.077Z"
   },
   {
    "duration": 10,
    "start_time": "2023-06-30T05:05:20.096Z"
   },
   {
    "duration": 14,
    "start_time": "2023-06-30T05:05:20.108Z"
   },
   {
    "duration": 19,
    "start_time": "2023-06-30T05:05:20.123Z"
   },
   {
    "duration": 17,
    "start_time": "2023-06-30T05:05:20.144Z"
   },
   {
    "duration": 5,
    "start_time": "2023-06-30T05:05:20.163Z"
   },
   {
    "duration": 19,
    "start_time": "2023-06-30T05:05:20.170Z"
   },
   {
    "duration": 13,
    "start_time": "2023-06-30T05:05:20.190Z"
   },
   {
    "duration": 10,
    "start_time": "2023-06-30T05:05:20.205Z"
   },
   {
    "duration": 15,
    "start_time": "2023-06-30T05:05:20.216Z"
   },
   {
    "duration": 12,
    "start_time": "2023-06-30T05:05:20.232Z"
   },
   {
    "duration": 11,
    "start_time": "2023-06-30T05:05:20.246Z"
   },
   {
    "duration": 11,
    "start_time": "2023-06-30T05:05:20.259Z"
   },
   {
    "duration": 30,
    "start_time": "2023-06-30T05:05:20.272Z"
   },
   {
    "duration": 29,
    "start_time": "2023-06-30T05:05:20.303Z"
   },
   {
    "duration": 28,
    "start_time": "2023-06-30T05:05:20.334Z"
   },
   {
    "duration": 10,
    "start_time": "2023-06-30T05:05:20.363Z"
   },
   {
    "duration": 28,
    "start_time": "2023-06-30T05:05:20.374Z"
   },
   {
    "duration": 15,
    "start_time": "2023-06-30T05:05:20.405Z"
   },
   {
    "duration": 9,
    "start_time": "2023-06-30T05:05:20.422Z"
   },
   {
    "duration": 6,
    "start_time": "2023-06-30T05:05:20.433Z"
   },
   {
    "duration": 29,
    "start_time": "2023-06-30T05:05:20.440Z"
   },
   {
    "duration": 11,
    "start_time": "2023-06-30T05:05:20.470Z"
   },
   {
    "duration": 17,
    "start_time": "2023-06-30T05:05:20.483Z"
   },
   {
    "duration": 19,
    "start_time": "2023-06-30T05:05:20.502Z"
   },
   {
    "duration": 13,
    "start_time": "2023-06-30T05:05:20.523Z"
   },
   {
    "duration": 36,
    "start_time": "2023-06-30T05:05:20.538Z"
   },
   {
    "duration": 21,
    "start_time": "2023-06-30T05:05:20.576Z"
   },
   {
    "duration": 1515,
    "start_time": "2023-06-30T05:05:20.599Z"
   },
   {
    "duration": 601,
    "start_time": "2023-06-30T05:05:22.116Z"
   },
   {
    "duration": 1081,
    "start_time": "2023-06-30T05:05:22.719Z"
   },
   {
    "duration": 6,
    "start_time": "2023-06-30T05:05:23.802Z"
   },
   {
    "duration": 31,
    "start_time": "2023-06-30T05:05:23.810Z"
   },
   {
    "duration": 15,
    "start_time": "2023-06-30T05:05:23.843Z"
   },
   {
    "duration": 10,
    "start_time": "2023-06-30T05:05:23.859Z"
   },
   {
    "duration": 819,
    "start_time": "2023-06-30T05:05:23.871Z"
   },
   {
    "duration": 150983,
    "start_time": "2023-06-30T05:05:24.692Z"
   },
   {
    "duration": 13,
    "start_time": "2023-06-30T05:07:55.677Z"
   },
   {
    "duration": 17,
    "start_time": "2023-06-30T05:07:55.691Z"
   },
   {
    "duration": 17,
    "start_time": "2023-06-30T05:07:55.710Z"
   },
   {
    "duration": 16,
    "start_time": "2023-06-30T05:07:55.729Z"
   },
   {
    "duration": 2031,
    "start_time": "2023-06-30T05:40:58.557Z"
   },
   {
    "duration": 1645,
    "start_time": "2023-06-30T05:41:00.590Z"
   },
   {
    "duration": 99,
    "start_time": "2023-06-30T05:41:02.237Z"
   },
   {
    "duration": 11,
    "start_time": "2023-06-30T05:41:02.338Z"
   },
   {
    "duration": 22,
    "start_time": "2023-06-30T05:41:02.351Z"
   },
   {
    "duration": 34,
    "start_time": "2023-06-30T05:41:02.375Z"
   },
   {
    "duration": 34,
    "start_time": "2023-06-30T05:41:02.411Z"
   },
   {
    "duration": 29,
    "start_time": "2023-06-30T05:41:02.447Z"
   },
   {
    "duration": 24,
    "start_time": "2023-06-30T05:41:02.477Z"
   },
   {
    "duration": 22,
    "start_time": "2023-06-30T05:41:02.503Z"
   },
   {
    "duration": 23,
    "start_time": "2023-06-30T05:41:02.526Z"
   },
   {
    "duration": 20,
    "start_time": "2023-06-30T05:41:02.551Z"
   },
   {
    "duration": 26,
    "start_time": "2023-06-30T05:41:02.572Z"
   },
   {
    "duration": 32,
    "start_time": "2023-06-30T05:41:02.599Z"
   },
   {
    "duration": 11,
    "start_time": "2023-06-30T05:41:02.632Z"
   },
   {
    "duration": 18,
    "start_time": "2023-06-30T05:41:02.644Z"
   },
   {
    "duration": 18,
    "start_time": "2023-06-30T05:41:02.663Z"
   },
   {
    "duration": 19,
    "start_time": "2023-06-30T05:41:02.683Z"
   },
   {
    "duration": 14,
    "start_time": "2023-06-30T05:41:02.704Z"
   },
   {
    "duration": 23,
    "start_time": "2023-06-30T05:41:02.719Z"
   },
   {
    "duration": 17,
    "start_time": "2023-06-30T05:41:02.743Z"
   },
   {
    "duration": 16,
    "start_time": "2023-06-30T05:41:02.762Z"
   },
   {
    "duration": 29,
    "start_time": "2023-06-30T05:41:02.779Z"
   },
   {
    "duration": 32,
    "start_time": "2023-06-30T05:41:02.810Z"
   },
   {
    "duration": 41,
    "start_time": "2023-06-30T05:41:02.843Z"
   },
   {
    "duration": 23,
    "start_time": "2023-06-30T05:41:02.885Z"
   },
   {
    "duration": 44,
    "start_time": "2023-06-30T05:41:02.909Z"
   },
   {
    "duration": 15,
    "start_time": "2023-06-30T05:41:02.956Z"
   },
   {
    "duration": 8,
    "start_time": "2023-06-30T05:41:02.972Z"
   },
   {
    "duration": 7,
    "start_time": "2023-06-30T05:41:02.981Z"
   },
   {
    "duration": 10,
    "start_time": "2023-06-30T05:41:02.989Z"
   },
   {
    "duration": 6,
    "start_time": "2023-06-30T05:41:03.001Z"
   },
   {
    "duration": 22,
    "start_time": "2023-06-30T05:41:03.021Z"
   },
   {
    "duration": 30,
    "start_time": "2023-06-30T05:41:03.044Z"
   },
   {
    "duration": 18,
    "start_time": "2023-06-30T05:41:03.075Z"
   },
   {
    "duration": 19,
    "start_time": "2023-06-30T05:41:03.094Z"
   },
   {
    "duration": 19,
    "start_time": "2023-06-30T05:41:03.115Z"
   },
   {
    "duration": 1303,
    "start_time": "2023-06-30T05:41:03.135Z"
   },
   {
    "duration": 573,
    "start_time": "2023-06-30T05:41:04.440Z"
   },
   {
    "duration": 1023,
    "start_time": "2023-06-30T05:41:05.014Z"
   },
   {
    "duration": 30367,
    "start_time": "2023-06-30T05:41:06.038Z"
   },
   {
    "duration": 6,
    "start_time": "2023-06-30T05:41:36.406Z"
   },
   {
    "duration": 12,
    "start_time": "2023-06-30T05:41:36.414Z"
   },
   {
    "duration": 14,
    "start_time": "2023-06-30T05:41:36.427Z"
   },
   {
    "duration": 18,
    "start_time": "2023-06-30T05:41:36.442Z"
   },
   {
    "duration": 695,
    "start_time": "2023-06-30T05:41:36.461Z"
   },
   {
    "duration": 2102,
    "start_time": "2023-06-30T05:41:58.873Z"
   },
   {
    "duration": 1836,
    "start_time": "2023-06-30T05:42:00.977Z"
   },
   {
    "duration": 105,
    "start_time": "2023-06-30T05:42:02.815Z"
   },
   {
    "duration": 16,
    "start_time": "2023-06-30T05:42:02.922Z"
   },
   {
    "duration": 6,
    "start_time": "2023-06-30T05:42:02.940Z"
   },
   {
    "duration": 21,
    "start_time": "2023-06-30T05:42:02.948Z"
   },
   {
    "duration": 25,
    "start_time": "2023-06-30T05:42:02.971Z"
   },
   {
    "duration": 18,
    "start_time": "2023-06-30T05:42:02.998Z"
   },
   {
    "duration": 17,
    "start_time": "2023-06-30T05:42:03.018Z"
   },
   {
    "duration": 13,
    "start_time": "2023-06-30T05:42:03.038Z"
   },
   {
    "duration": 16,
    "start_time": "2023-06-30T05:42:03.052Z"
   },
   {
    "duration": 16,
    "start_time": "2023-06-30T05:42:03.070Z"
   },
   {
    "duration": 14,
    "start_time": "2023-06-30T05:42:03.088Z"
   },
   {
    "duration": 23,
    "start_time": "2023-06-30T05:42:03.104Z"
   },
   {
    "duration": 22,
    "start_time": "2023-06-30T05:42:03.129Z"
   },
   {
    "duration": 12,
    "start_time": "2023-06-30T05:42:03.153Z"
   },
   {
    "duration": 8,
    "start_time": "2023-06-30T05:42:03.166Z"
   },
   {
    "duration": 12,
    "start_time": "2023-06-30T05:42:03.176Z"
   },
   {
    "duration": 35,
    "start_time": "2023-06-30T05:42:03.189Z"
   },
   {
    "duration": 15,
    "start_time": "2023-06-30T05:42:03.226Z"
   },
   {
    "duration": 13,
    "start_time": "2023-06-30T05:42:03.243Z"
   },
   {
    "duration": 11,
    "start_time": "2023-06-30T05:42:03.258Z"
   },
   {
    "duration": 13,
    "start_time": "2023-06-30T05:42:03.271Z"
   },
   {
    "duration": 27,
    "start_time": "2023-06-30T05:42:03.286Z"
   },
   {
    "duration": 33,
    "start_time": "2023-06-30T05:42:03.315Z"
   },
   {
    "duration": 12,
    "start_time": "2023-06-30T05:42:03.350Z"
   },
   {
    "duration": 27,
    "start_time": "2023-06-30T05:42:03.364Z"
   },
   {
    "duration": 25,
    "start_time": "2023-06-30T05:42:03.395Z"
   },
   {
    "duration": 23,
    "start_time": "2023-06-30T05:42:03.424Z"
   },
   {
    "duration": 28,
    "start_time": "2023-06-30T05:42:03.450Z"
   },
   {
    "duration": 42,
    "start_time": "2023-06-30T05:42:03.479Z"
   },
   {
    "duration": 36,
    "start_time": "2023-06-30T05:42:03.524Z"
   },
   {
    "duration": 66,
    "start_time": "2023-06-30T05:42:03.561Z"
   },
   {
    "duration": 11,
    "start_time": "2023-06-30T05:42:03.630Z"
   },
   {
    "duration": 24,
    "start_time": "2023-06-30T05:42:03.643Z"
   },
   {
    "duration": 20,
    "start_time": "2023-06-30T05:42:03.670Z"
   },
   {
    "duration": 43,
    "start_time": "2023-06-30T05:42:03.692Z"
   },
   {
    "duration": 1610,
    "start_time": "2023-06-30T05:42:03.737Z"
   },
   {
    "duration": 859,
    "start_time": "2023-06-30T05:42:05.350Z"
   },
   {
    "duration": 1019,
    "start_time": "2023-06-30T05:42:06.211Z"
   },
   {
    "duration": 32509,
    "start_time": "2023-06-30T05:42:07.231Z"
   },
   {
    "duration": 6,
    "start_time": "2023-06-30T05:42:39.741Z"
   },
   {
    "duration": 15,
    "start_time": "2023-06-30T05:42:39.748Z"
   },
   {
    "duration": 15,
    "start_time": "2023-06-30T05:42:39.764Z"
   },
   {
    "duration": 7,
    "start_time": "2023-06-30T05:42:39.780Z"
   },
   {
    "duration": 733,
    "start_time": "2023-06-30T05:42:39.800Z"
   },
   {
    "duration": 2137,
    "start_time": "2023-06-30T05:43:59.311Z"
   },
   {
    "duration": 1702,
    "start_time": "2023-06-30T05:44:01.451Z"
   },
   {
    "duration": 94,
    "start_time": "2023-06-30T05:44:03.154Z"
   },
   {
    "duration": 12,
    "start_time": "2023-06-30T05:44:03.250Z"
   },
   {
    "duration": 9,
    "start_time": "2023-06-30T05:44:03.263Z"
   },
   {
    "duration": 17,
    "start_time": "2023-06-30T05:44:03.274Z"
   },
   {
    "duration": 8,
    "start_time": "2023-06-30T05:44:03.293Z"
   },
   {
    "duration": 11,
    "start_time": "2023-06-30T05:44:03.303Z"
   },
   {
    "duration": 5,
    "start_time": "2023-06-30T05:44:03.316Z"
   },
   {
    "duration": 5,
    "start_time": "2023-06-30T05:44:03.323Z"
   },
   {
    "duration": 22,
    "start_time": "2023-06-30T05:44:03.329Z"
   },
   {
    "duration": 8,
    "start_time": "2023-06-30T05:44:03.353Z"
   },
   {
    "duration": 15,
    "start_time": "2023-06-30T05:44:03.363Z"
   },
   {
    "duration": 11,
    "start_time": "2023-06-30T05:44:03.380Z"
   },
   {
    "duration": 8,
    "start_time": "2023-06-30T05:44:03.392Z"
   },
   {
    "duration": 5,
    "start_time": "2023-06-30T05:44:03.402Z"
   },
   {
    "duration": 6,
    "start_time": "2023-06-30T05:44:03.408Z"
   },
   {
    "duration": 6,
    "start_time": "2023-06-30T05:44:03.416Z"
   },
   {
    "duration": 6,
    "start_time": "2023-06-30T05:44:03.424Z"
   },
   {
    "duration": 11,
    "start_time": "2023-06-30T05:44:03.431Z"
   },
   {
    "duration": 8,
    "start_time": "2023-06-30T05:44:03.444Z"
   },
   {
    "duration": 7,
    "start_time": "2023-06-30T05:44:03.454Z"
   },
   {
    "duration": 39,
    "start_time": "2023-06-30T05:44:03.462Z"
   },
   {
    "duration": 11,
    "start_time": "2023-06-30T05:44:03.502Z"
   },
   {
    "duration": 15,
    "start_time": "2023-06-30T05:44:03.514Z"
   },
   {
    "duration": 7,
    "start_time": "2023-06-30T05:44:03.530Z"
   },
   {
    "duration": 29,
    "start_time": "2023-06-30T05:44:03.538Z"
   },
   {
    "duration": 33,
    "start_time": "2023-06-30T05:44:03.570Z"
   },
   {
    "duration": 11,
    "start_time": "2023-06-30T05:44:03.605Z"
   },
   {
    "duration": 8,
    "start_time": "2023-06-30T05:44:03.617Z"
   },
   {
    "duration": 12,
    "start_time": "2023-06-30T05:44:03.626Z"
   },
   {
    "duration": 5,
    "start_time": "2023-06-30T05:44:03.639Z"
   },
   {
    "duration": 15,
    "start_time": "2023-06-30T05:44:03.646Z"
   },
   {
    "duration": 37,
    "start_time": "2023-06-30T05:44:03.662Z"
   },
   {
    "duration": 8,
    "start_time": "2023-06-30T05:44:03.701Z"
   },
   {
    "duration": 13,
    "start_time": "2023-06-30T05:44:03.711Z"
   },
   {
    "duration": 14,
    "start_time": "2023-06-30T05:44:03.726Z"
   },
   {
    "duration": 1336,
    "start_time": "2023-06-30T05:44:03.742Z"
   },
   {
    "duration": 634,
    "start_time": "2023-06-30T05:44:05.080Z"
   },
   {
    "duration": 1023,
    "start_time": "2023-06-30T05:44:05.715Z"
   },
   {
    "duration": 95,
    "start_time": "2023-06-30T05:44:06.739Z"
   },
   {
    "duration": 0,
    "start_time": "2023-06-30T05:44:06.835Z"
   },
   {
    "duration": 0,
    "start_time": "2023-06-30T05:44:06.836Z"
   },
   {
    "duration": 0,
    "start_time": "2023-06-30T05:44:06.837Z"
   },
   {
    "duration": 0,
    "start_time": "2023-06-30T05:44:06.839Z"
   },
   {
    "duration": 0,
    "start_time": "2023-06-30T05:44:06.840Z"
   },
   {
    "duration": 0,
    "start_time": "2023-06-30T05:44:06.841Z"
   },
   {
    "duration": 0,
    "start_time": "2023-06-30T05:44:06.841Z"
   },
   {
    "duration": 0,
    "start_time": "2023-06-30T05:44:06.842Z"
   },
   {
    "duration": 0,
    "start_time": "2023-06-30T05:44:06.843Z"
   },
   {
    "duration": 0,
    "start_time": "2023-06-30T05:44:06.844Z"
   },
   {
    "duration": 4964,
    "start_time": "2023-06-30T05:44:19.047Z"
   },
   {
    "duration": 5,
    "start_time": "2023-06-30T05:44:30.692Z"
   },
   {
    "duration": 3,
    "start_time": "2023-06-30T05:44:35.523Z"
   },
   {
    "duration": 9,
    "start_time": "2023-06-30T05:44:37.606Z"
   },
   {
    "duration": 3,
    "start_time": "2023-06-30T05:44:46.947Z"
   },
   {
    "duration": 720,
    "start_time": "2023-06-30T05:48:12.228Z"
   },
   {
    "duration": 154110,
    "start_time": "2023-06-30T05:49:25.853Z"
   },
   {
    "duration": 19,
    "start_time": "2023-06-30T05:51:59.987Z"
   },
   {
    "duration": 20,
    "start_time": "2023-06-30T05:52:00.008Z"
   },
   {
    "duration": 14,
    "start_time": "2023-06-30T05:52:00.030Z"
   },
   {
    "duration": 123,
    "start_time": "2023-06-30T05:52:59.071Z"
   },
   {
    "duration": 9,
    "start_time": "2023-06-30T05:53:01.181Z"
   },
   {
    "duration": 5,
    "start_time": "2023-06-30T05:53:15.709Z"
   },
   {
    "duration": 5,
    "start_time": "2023-06-30T05:53:42.796Z"
   },
   {
    "duration": 14,
    "start_time": "2023-06-30T05:53:54.062Z"
   },
   {
    "duration": 523,
    "start_time": "2023-06-30T05:54:13.410Z"
   },
   {
    "duration": 3,
    "start_time": "2023-06-30T05:54:42.710Z"
   },
   {
    "duration": 2,
    "start_time": "2023-06-30T05:54:44.013Z"
   },
   {
    "duration": 4,
    "start_time": "2023-06-30T09:32:26.204Z"
   },
   {
    "duration": 1540,
    "start_time": "2023-06-30T09:32:28.622Z"
   },
   {
    "duration": 3717,
    "start_time": "2023-06-30T09:34:22.894Z"
   },
   {
    "duration": 5,
    "start_time": "2023-06-30T09:34:47.788Z"
   },
   {
    "duration": 1921,
    "start_time": "2023-06-30T09:34:50.228Z"
   },
   {
    "duration": 370,
    "start_time": "2023-06-30T09:35:07.022Z"
   },
   {
    "duration": 15,
    "start_time": "2023-06-30T09:35:20.536Z"
   },
   {
    "duration": 11,
    "start_time": "2023-06-30T09:35:22.845Z"
   },
   {
    "duration": 19,
    "start_time": "2023-06-30T09:35:25.779Z"
   },
   {
    "duration": 12,
    "start_time": "2023-06-30T09:35:27.391Z"
   },
   {
    "duration": 18,
    "start_time": "2023-06-30T09:35:32.573Z"
   },
   {
    "duration": 8,
    "start_time": "2023-06-30T09:35:34.537Z"
   },
   {
    "duration": 8,
    "start_time": "2023-06-30T09:35:35.327Z"
   },
   {
    "duration": 10,
    "start_time": "2023-06-30T09:35:36.040Z"
   },
   {
    "duration": 7,
    "start_time": "2023-06-30T09:35:38.058Z"
   },
   {
    "duration": 7,
    "start_time": "2023-06-30T09:35:39.012Z"
   },
   {
    "duration": 14,
    "start_time": "2023-06-30T09:35:42.455Z"
   },
   {
    "duration": 9,
    "start_time": "2023-06-30T09:35:44.672Z"
   },
   {
    "duration": 7,
    "start_time": "2023-06-30T09:35:46.164Z"
   },
   {
    "duration": 9,
    "start_time": "2023-06-30T09:35:47.141Z"
   },
   {
    "duration": 8,
    "start_time": "2023-06-30T09:35:49.392Z"
   },
   {
    "duration": 7,
    "start_time": "2023-06-30T09:35:50.317Z"
   },
   {
    "duration": 20,
    "start_time": "2023-06-30T09:35:51.105Z"
   },
   {
    "duration": 12,
    "start_time": "2023-06-30T09:35:58.753Z"
   },
   {
    "duration": 6,
    "start_time": "2023-06-30T09:35:59.616Z"
   },
   {
    "duration": 8,
    "start_time": "2023-06-30T09:36:01.205Z"
   },
   {
    "duration": 13,
    "start_time": "2023-06-30T09:36:04.323Z"
   },
   {
    "duration": 22,
    "start_time": "2023-06-30T09:36:04.883Z"
   },
   {
    "duration": 16,
    "start_time": "2023-06-30T09:36:22.185Z"
   },
   {
    "duration": 6,
    "start_time": "2023-06-30T09:36:25.808Z"
   },
   {
    "duration": 34,
    "start_time": "2023-06-30T09:36:49.199Z"
   },
   {
    "duration": 17,
    "start_time": "2023-06-30T09:36:51.441Z"
   },
   {
    "duration": 12,
    "start_time": "2023-06-30T09:36:59.635Z"
   },
   {
    "duration": 13,
    "start_time": "2023-06-30T09:37:02.605Z"
   },
   {
    "duration": 15,
    "start_time": "2023-06-30T09:37:05.232Z"
   },
   {
    "duration": 9,
    "start_time": "2023-06-30T09:37:15.505Z"
   },
   {
    "duration": 10,
    "start_time": "2023-06-30T09:37:17.378Z"
   },
   {
    "duration": 6,
    "start_time": "2023-06-30T09:37:20.775Z"
   },
   {
    "duration": 8,
    "start_time": "2023-06-30T09:37:24.660Z"
   },
   {
    "duration": 15,
    "start_time": "2023-06-30T09:37:27.727Z"
   },
   {
    "duration": 18,
    "start_time": "2023-06-30T09:37:33.320Z"
   },
   {
    "duration": 1850,
    "start_time": "2023-06-30T09:37:43.519Z"
   },
   {
    "duration": 715,
    "start_time": "2023-06-30T09:37:57.341Z"
   },
   {
    "duration": 3437,
    "start_time": "2023-06-30T09:43:34.212Z"
   },
   {
    "duration": 2608,
    "start_time": "2023-06-30T09:45:59.492Z"
   },
   {
    "duration": 176,
    "start_time": "2023-06-30T09:48:28.379Z"
   },
   {
    "duration": 16,
    "start_time": "2023-06-30T09:48:40.504Z"
   },
   {
    "duration": 22,
    "start_time": "2023-06-30T09:48:52.698Z"
   },
   {
    "duration": 4888,
    "start_time": "2023-06-30T09:49:08.527Z"
   },
   {
    "duration": 4951,
    "start_time": "2023-06-30T09:49:27.430Z"
   },
   {
    "duration": 4,
    "start_time": "2023-06-30T09:49:51.313Z"
   },
   {
    "duration": 91,
    "start_time": "2023-06-30T09:50:54.923Z"
   },
   {
    "duration": 5178,
    "start_time": "2023-06-30T09:51:22.746Z"
   },
   {
    "duration": 4814,
    "start_time": "2023-06-30T09:51:42.399Z"
   },
   {
    "duration": 5231,
    "start_time": "2023-06-30T09:51:56.404Z"
   },
   {
    "duration": 5535,
    "start_time": "2023-06-30T09:52:20.245Z"
   },
   {
    "duration": 5818,
    "start_time": "2023-06-30T09:52:35.554Z"
   },
   {
    "duration": 3,
    "start_time": "2023-06-30T19:51:18.629Z"
   },
   {
    "duration": 11,
    "start_time": "2023-06-30T19:51:21.220Z"
   },
   {
    "duration": 3,
    "start_time": "2023-06-30T19:53:21.933Z"
   },
   {
    "duration": 3,
    "start_time": "2023-06-30T20:01:58.688Z"
   },
   {
    "duration": 6,
    "start_time": "2023-06-30T20:01:59.425Z"
   },
   {
    "duration": 7,
    "start_time": "2023-06-30T20:02:17.443Z"
   },
   {
    "duration": 5,
    "start_time": "2023-06-30T20:43:40.076Z"
   },
   {
    "duration": 13,
    "start_time": "2023-06-30T20:46:29.946Z"
   },
   {
    "duration": 37,
    "start_time": "2023-06-30T20:46:40.807Z"
   },
   {
    "duration": 12,
    "start_time": "2023-06-30T20:46:56.587Z"
   },
   {
    "duration": 11,
    "start_time": "2023-06-30T20:47:13.202Z"
   },
   {
    "duration": 10,
    "start_time": "2023-06-30T20:48:04.931Z"
   },
   {
    "duration": 11,
    "start_time": "2023-06-30T20:48:17.479Z"
   },
   {
    "duration": 9,
    "start_time": "2023-06-30T20:48:28.878Z"
   },
   {
    "duration": 71,
    "start_time": "2023-06-30T20:56:11.119Z"
   },
   {
    "duration": 9465,
    "start_time": "2023-06-30T20:56:27.206Z"
   },
   {
    "duration": 39,
    "start_time": "2023-06-30T21:04:14.529Z"
   },
   {
    "duration": 63,
    "start_time": "2023-06-30T21:04:45.256Z"
   },
   {
    "duration": 85,
    "start_time": "2023-06-30T21:04:54.191Z"
   },
   {
    "duration": 4229,
    "start_time": "2023-06-30T21:08:05.533Z"
   },
   {
    "duration": 158244,
    "start_time": "2023-06-30T21:10:59.021Z"
   },
   {
    "duration": 5,
    "start_time": "2023-06-30T21:22:59.183Z"
   },
   {
    "duration": 19,
    "start_time": "2023-06-30T21:25:40.493Z"
   },
   {
    "duration": 11,
    "start_time": "2023-06-30T21:25:45.342Z"
   },
   {
    "duration": 125,
    "start_time": "2023-06-30T21:25:59.601Z"
   },
   {
    "duration": 332,
    "start_time": "2023-06-30T21:26:23.947Z"
   },
   {
    "duration": 315,
    "start_time": "2023-06-30T21:26:41.964Z"
   },
   {
    "duration": 252,
    "start_time": "2023-06-30T21:26:47.528Z"
   },
   {
    "duration": 8,
    "start_time": "2023-06-30T21:27:02.310Z"
   },
   {
    "duration": 331,
    "start_time": "2023-06-30T21:27:54.236Z"
   },
   {
    "duration": 274,
    "start_time": "2023-06-30T21:28:03.307Z"
   },
   {
    "duration": 254,
    "start_time": "2023-06-30T21:28:08.327Z"
   },
   {
    "duration": 312,
    "start_time": "2023-06-30T21:29:30.709Z"
   },
   {
    "duration": 31,
    "start_time": "2023-06-30T21:32:13.992Z"
   },
   {
    "duration": 450,
    "start_time": "2023-06-30T21:33:45.684Z"
   },
   {
    "duration": 6,
    "start_time": "2023-06-30T21:34:03.854Z"
   },
   {
    "duration": 772,
    "start_time": "2023-06-30T21:36:01.467Z"
   },
   {
    "duration": 3,
    "start_time": "2023-06-30T21:36:14.647Z"
   },
   {
    "duration": 12,
    "start_time": "2023-06-30T21:38:11.809Z"
   },
   {
    "duration": 19,
    "start_time": "2023-06-30T21:38:36.723Z"
   },
   {
    "duration": 14,
    "start_time": "2023-06-30T21:38:53.195Z"
   },
   {
    "duration": 18,
    "start_time": "2023-06-30T21:39:39.713Z"
   },
   {
    "duration": 3,
    "start_time": "2023-06-30T21:39:54.480Z"
   },
   {
    "duration": 11,
    "start_time": "2023-06-30T21:40:03.735Z"
   },
   {
    "duration": 4,
    "start_time": "2023-06-30T21:40:13.064Z"
   },
   {
    "duration": 3,
    "start_time": "2023-06-30T21:40:23.136Z"
   },
   {
    "duration": 14,
    "start_time": "2023-06-30T21:41:07.818Z"
   },
   {
    "duration": 15,
    "start_time": "2023-06-30T21:41:15.866Z"
   }
  ],
  "kernelspec": {
   "display_name": "Python 3 (ipykernel)",
   "language": "python",
   "name": "python3"
  },
  "language_info": {
   "codemirror_mode": {
    "name": "ipython",
    "version": 3
   },
   "file_extension": ".py",
   "mimetype": "text/x-python",
   "name": "python",
   "nbconvert_exporter": "python",
   "pygments_lexer": "ipython3",
   "version": "3.9.7"
  },
  "toc": {
   "base_numbering": 1,
   "nav_menu": {},
   "number_sections": true,
   "sideBar": true,
   "skip_h1_title": true,
   "title_cell": "Table of Contents",
   "title_sidebar": "Contents",
   "toc_cell": false,
   "toc_position": {},
   "toc_section_display": true,
   "toc_window_display": false
  }
 },
 "nbformat": 4,
 "nbformat_minor": 2
}
